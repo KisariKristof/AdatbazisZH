{
    "metadata": {
        "kernelspec": {
            "name": "SQL",
            "display_name": "SQL",
            "language": "sql"
        },
        "language_info": {
            "name": "sql",
            "version": ""
        }
    },
    "nbformat_minor": 2,
    "nbformat": 4,
    "cells": [
        {
            "cell_type": "markdown",
            "source": [
                "1\\. feldat"
            ],
            "metadata": {
                "azdata_cell_guid": "9e5fa275-47a9-44b0-9642-fd2653e03b66"
            },
            "attachments": {}
        },
        {
            "cell_type": "code",
            "source": [
                "SELECT V.NEV\r\n",
                "FROM VENDEG V\r\n",
                "LEFT JOIN FOGLALAS F ON V.USERNEV = F.UGYFEL_FK\r\n",
                "GROUP BY V.NEV\r\n",
                "HAVING COUNT(F.FOGLALAS_PK) = 0 OR MAX(DATEDIFF(DAY, F.MEDDIG, F.METTOL)) <= 2;"
            ],
            "metadata": {
                "azdata_cell_guid": "a89a19a6-33ef-4888-a621-995d99a0dbaf",
                "language": "sql"
            },
            "outputs": [
                {
                    "output_type": "display_data",
                    "data": {
                        "text/html": "Warning: Null value is eliminated by an aggregate or other SET operation."
                    },
                    "metadata": {}
                },
                {
                    "output_type": "display_data",
                    "data": {
                        "text/html": "(196 rows affected)"
                    },
                    "metadata": {}
                },
                {
                    "output_type": "display_data",
                    "data": {
                        "text/html": "Total execution time: 00:00:00.107"
                    },
                    "metadata": {}
                },
                {
                    "output_type": "execute_result",
                    "metadata": {},
                    "execution_count": 3,
                    "data": {
                        "application/vnd.dataresource+json": {
                            "schema": {
                                "fields": [
                                    {
                                        "name": "NEV"
                                    }
                                ]
                            },
                            "data": [
                                {
                                    "NEV": "Ambrus Dávid"
                                },
                                {
                                    "NEV": "Andor Ibolya"
                                },
                                {
                                    "NEV": "Antal László"
                                },
                                {
                                    "NEV": "Antal Tamás"
                                },
                                {
                                    "NEV": "Back András"
                                },
                                {
                                    "NEV": "Bagi Beáta"
                                },
                                {
                                    "NEV": "Bagóczki Alexandra"
                                },
                                {
                                    "NEV": "Bajusz Bence"
                                },
                                {
                                    "NEV": "Bakó Klaudia"
                                },
                                {
                                    "NEV": "Bakódy Balázs"
                                },
                                {
                                    "NEV": "Balla Miklós"
                                },
                                {
                                    "NEV": "Balogh Eszter"
                                },
                                {
                                    "NEV": "Barabás Pál"
                                },
                                {
                                    "NEV": "Baráth Mária"
                                },
                                {
                                    "NEV": "Bárci Gusztáv"
                                },
                                {
                                    "NEV": "Barkóci Ádám"
                                },
                                {
                                    "NEV": "Barna Debóra"
                                },
                                {
                                    "NEV": "Barna Zoltán"
                                },
                                {
                                    "NEV": "Baróti Attila"
                                },
                                {
                                    "NEV": "Barta Zsuzsanna"
                                },
                                {
                                    "NEV": "Berendi Péter"
                                },
                                {
                                    "NEV": "Béres Norbert"
                                },
                                {
                                    "NEV": "Berta Dávid"
                                },
                                {
                                    "NEV": "Bieniek Ádám"
                                },
                                {
                                    "NEV": "Bíró Ákos"
                                },
                                {
                                    "NEV": "Bíró Péter"
                                },
                                {
                                    "NEV": "Bittmann Edit"
                                },
                                {
                                    "NEV": "Bodor Szabolcs"
                                },
                                {
                                    "NEV": "Bori Krisztina"
                                },
                                {
                                    "NEV": "Boros Vivien"
                                },
                                {
                                    "NEV": "Bosnyák Ilona"
                                },
                                {
                                    "NEV": "Botka Mátyás"
                                },
                                {
                                    "NEV": "Bozsik Balázs"
                                },
                                {
                                    "NEV": "Bozsó Péter"
                                },
                                {
                                    "NEV": "Böröcz Anikó"
                                },
                                {
                                    "NEV": "Bucskó Róza"
                                },
                                {
                                    "NEV": "Búza Imre"
                                },
                                {
                                    "NEV": "Czérna Krisztián"
                                },
                                {
                                    "NEV": "Csiger Bertalan"
                                },
                                {
                                    "NEV": "Csóti Attila"
                                },
                                {
                                    "NEV": "Dániel Tibor"
                                },
                                {
                                    "NEV": "Dunai Aladár"
                                },
                                {
                                    "NEV": "Dusha Tímea"
                                },
                                {
                                    "NEV": "Endresz Bálint"
                                },
                                {
                                    "NEV": "Enyedi Éva"
                                },
                                {
                                    "NEV": "Erdei András"
                                },
                                {
                                    "NEV": "Érsek Eszter"
                                },
                                {
                                    "NEV": "Farkas Béla"
                                },
                                {
                                    "NEV": "Farkas László"
                                },
                                {
                                    "NEV": "Farkas Sándor"
                                },
                                {
                                    "NEV": "Farkas Sára"
                                },
                                {
                                    "NEV": "Fényes Tamás"
                                },
                                {
                                    "NEV": "Ferencz Roland"
                                },
                                {
                                    "NEV": "Feró Valentin"
                                },
                                {
                                    "NEV": "Fodor Zoltán"
                                },
                                {
                                    "NEV": "Foltényi Sebastián"
                                },
                                {
                                    "NEV": "Fő Nándor"
                                },
                                {
                                    "NEV": "Frank Fruzsina"
                                },
                                {
                                    "NEV": "Fülöp Eszter"
                                },
                                {
                                    "NEV": "Gergely József"
                                },
                                {
                                    "NEV": "Giliga János"
                                },
                                {
                                    "NEV": "Gombos Tibor"
                                },
                                {
                                    "NEV": "Gondos Katalin"
                                },
                                {
                                    "NEV": "Gondos Miklós"
                                },
                                {
                                    "NEV": "Gulyás Attila"
                                },
                                {
                                    "NEV": "Gyárfás Krisztina"
                                },
                                {
                                    "NEV": "Győrffy Bence"
                                },
                                {
                                    "NEV": "Gyuris József"
                                },
                                {
                                    "NEV": "Hamvay-Kovács Anita"
                                },
                                {
                                    "NEV": "Harangozó János"
                                },
                                {
                                    "NEV": "Hartyánszky Ágnes"
                                },
                                {
                                    "NEV": "Hegedűs Norbert"
                                },
                                {
                                    "NEV": "Hídasi Judit"
                                },
                                {
                                    "NEV": "Horváth Ágnes"
                                },
                                {
                                    "NEV": "Horváth Árpád"
                                },
                                {
                                    "NEV": "Horváth Bálint"
                                },
                                {
                                    "NEV": "Horváth Katalin"
                                },
                                {
                                    "NEV": "Horváth Krisztina"
                                },
                                {
                                    "NEV": "Horváth Márk"
                                },
                                {
                                    "NEV": "Horváth Nikolett"
                                },
                                {
                                    "NEV": "Iván Róbert"
                                },
                                {
                                    "NEV": "Jakab Áron"
                                },
                                {
                                    "NEV": "Józsa Zsolt"
                                },
                                {
                                    "NEV": "Juhász Mihály"
                                },
                                {
                                    "NEV": "Kalacsi Márton"
                                },
                                {
                                    "NEV": "Karasz Sándor"
                                },
                                {
                                    "NEV": "Kardos Renáta"
                                },
                                {
                                    "NEV": "Kazy Tihamér"
                                },
                                {
                                    "NEV": "Kelemen Áron"
                                },
                                {
                                    "NEV": "Kerényi Beatrix"
                                },
                                {
                                    "NEV": "Keresztúri Viktor"
                                },
                                {
                                    "NEV": "Kertész Katalin"
                                },
                                {
                                    "NEV": "Keszler Dániel"
                                },
                                {
                                    "NEV": "Kispál Márk"
                                },
                                {
                                    "NEV": "Kiss Ádám"
                                },
                                {
                                    "NEV": "Kiss Andrea"
                                },
                                {
                                    "NEV": "Kiss Lajos"
                                },
                                {
                                    "NEV": "Komjáti András"
                                },
                                {
                                    "NEV": "Kornseé Gyöngyi"
                                },
                                {
                                    "NEV": "Kovács Ágnes"
                                },
                                {
                                    "NEV": "Kovács Bernadett"
                                },
                                {
                                    "NEV": "Kovács Katalin"
                                },
                                {
                                    "NEV": "Koza Máté"
                                },
                                {
                                    "NEV": "Kozma Péter"
                                },
                                {
                                    "NEV": "Kő Nikoletta"
                                },
                                {
                                    "NEV": "Köves Gábor"
                                },
                                {
                                    "NEV": "Kuruc Emese"
                                },
                                {
                                    "NEV": "Lengyel Ágnes"
                                },
                                {
                                    "NEV": "Lukács Kornél"
                                },
                                {
                                    "NEV": "Maródi Andrea"
                                },
                                {
                                    "NEV": "Miklós Szabolcs"
                                },
                                {
                                    "NEV": "Miklós Tamara"
                                },
                                {
                                    "NEV": "Mile Norbert"
                                },
                                {
                                    "NEV": "Mogyródi Krisztián"
                                },
                                {
                                    "NEV": "Mohos Mónika"
                                },
                                {
                                    "NEV": "Molnár András"
                                },
                                {
                                    "NEV": "Molnár Bálint"
                                },
                                {
                                    "NEV": "Molnár Eszter"
                                },
                                {
                                    "NEV": "Molnár Zsófi"
                                },
                                {
                                    "NEV": "Móra László"
                                },
                                {
                                    "NEV": "Móricz Árpád"
                                },
                                {
                                    "NEV": "Nádudvari Henrik"
                                },
                                {
                                    "NEV": "Nagy András"
                                },
                                {
                                    "NEV": "Nagy Gabriella"
                                },
                                {
                                    "NEV": "Nagy Júlia"
                                },
                                {
                                    "NEV": "Nagy László"
                                },
                                {
                                    "NEV": "Nagy Sándor"
                                },
                                {
                                    "NEV": "Nagymihály Csongor"
                                },
                                {
                                    "NEV": "Nagymihály Lajos"
                                },
                                {
                                    "NEV": "Neizer Andrea"
                                },
                                {
                                    "NEV": "Nyíri Georgij"
                                },
                                {
                                    "NEV": "Opra Attila"
                                },
                                {
                                    "NEV": "Orbán Bernadett"
                                },
                                {
                                    "NEV": "Orosz Ferenc"
                                },
                                {
                                    "NEV": "Oroszi György"
                                },
                                {
                                    "NEV": "Ötvös Árpád"
                                },
                                {
                                    "NEV": "Palágyi Polla"
                                },
                                {
                                    "NEV": "Pálinkás János"
                                },
                                {
                                    "NEV": "Papós Tímea"
                                },
                                {
                                    "NEV": "Papp Imre"
                                },
                                {
                                    "NEV": "Pásztor Róbert"
                                },
                                {
                                    "NEV": "Pataki Brigitta"
                                },
                                {
                                    "NEV": "Patay Róbert"
                                },
                                {
                                    "NEV": "Perlinger Éva"
                                },
                                {
                                    "NEV": "Pintér Zoltán"
                                },
                                {
                                    "NEV": "Pivarcsi Anett"
                                },
                                {
                                    "NEV": "Poprádi Kristóf"
                                },
                                {
                                    "NEV": "Pulai Zsolt"
                                },
                                {
                                    "NEV": "Pusztai Zsuzsanna"
                                },
                                {
                                    "NEV": "Rab Sebestyén"
                                },
                                {
                                    "NEV": "Rácz Dániel"
                                },
                                {
                                    "NEV": "Rácz Rajmond"
                                },
                                {
                                    "NEV": "Regős Annamária"
                                },
                                {
                                    "NEV": "Sarodi Dóra"
                                },
                                {
                                    "NEV": "Simon Anikó"
                                },
                                {
                                    "NEV": "Simon Bernadett"
                                },
                                {
                                    "NEV": "Sobják Dávid"
                                },
                                {
                                    "NEV": "Soós István"
                                },
                                {
                                    "NEV": "Szabó Julianna"
                                },
                                {
                                    "NEV": "Szalai Péter"
                                },
                                {
                                    "NEV": "Szalai Szilárd"
                                },
                                {
                                    "NEV": "Szedlár Krisztina"
                                },
                                {
                                    "NEV": "Székely Brigitta"
                                },
                                {
                                    "NEV": "Szekendi Beatrix"
                                },
                                {
                                    "NEV": "Szikszai Réka"
                                },
                                {
                                    "NEV": "Szilágyi Mátyás"
                                },
                                {
                                    "NEV": "Szirmai Renáta"
                                },
                                {
                                    "NEV": "Szomor Andrea"
                                },
                                {
                                    "NEV": "Szöllősi Gábor"
                                },
                                {
                                    "NEV": "Szűcs Annamária"
                                },
                                {
                                    "NEV": "Szűcs Balázs"
                                },
                                {
                                    "NEV": "Szűcs Norbert"
                                },
                                {
                                    "NEV": "Tankó Veronika"
                                },
                                {
                                    "NEV": "Tari Szilvia"
                                },
                                {
                                    "NEV": "Tatár Nikoletta"
                                },
                                {
                                    "NEV": "Telek Gábor"
                                },
                                {
                                    "NEV": "Tornyos Andrea"
                                },
                                {
                                    "NEV": "Tóth András"
                                },
                                {
                                    "NEV": "Tóth Anikó"
                                },
                                {
                                    "NEV": "Tóth Júlia"
                                },
                                {
                                    "NEV": "Tóth Roland"
                                },
                                {
                                    "NEV": "Tóth Zoltán"
                                },
                                {
                                    "NEV": "Tömböly Dénes"
                                },
                                {
                                    "NEV": "Turcsik Tünde"
                                },
                                {
                                    "NEV": "Urbán Viktoria"
                                },
                                {
                                    "NEV": "Vajda József"
                                },
                                {
                                    "NEV": "Vajda Zsuzsa"
                                },
                                {
                                    "NEV": "Varga István"
                                },
                                {
                                    "NEV": "Varsányi Zsuzsa"
                                },
                                {
                                    "NEV": "Vida Gabriella"
                                },
                                {
                                    "NEV": "Vígh András"
                                },
                                {
                                    "NEV": "Viktor Éva"
                                },
                                {
                                    "NEV": "Vizi István"
                                },
                                {
                                    "NEV": "Vörös Dániel"
                                },
                                {
                                    "NEV": "Vukasinovity Bálint"
                                },
                                {
                                    "NEV": "Zatykó Katalin"
                                }
                            ]
                        },
                        "text/html": [
                            "<table>",
                            "<tr><th>NEV</th></tr>",
                            "<tr><td>Ambrus Dávid</td></tr>",
                            "<tr><td>Andor Ibolya</td></tr>",
                            "<tr><td>Antal László</td></tr>",
                            "<tr><td>Antal Tamás</td></tr>",
                            "<tr><td>Back András</td></tr>",
                            "<tr><td>Bagi Beáta</td></tr>",
                            "<tr><td>Bagóczki Alexandra</td></tr>",
                            "<tr><td>Bajusz Bence</td></tr>",
                            "<tr><td>Bakó Klaudia</td></tr>",
                            "<tr><td>Bakódy Balázs</td></tr>",
                            "<tr><td>Balla Miklós</td></tr>",
                            "<tr><td>Balogh Eszter</td></tr>",
                            "<tr><td>Barabás Pál</td></tr>",
                            "<tr><td>Baráth Mária</td></tr>",
                            "<tr><td>Bárci Gusztáv</td></tr>",
                            "<tr><td>Barkóci Ádám</td></tr>",
                            "<tr><td>Barna Debóra</td></tr>",
                            "<tr><td>Barna Zoltán</td></tr>",
                            "<tr><td>Baróti Attila</td></tr>",
                            "<tr><td>Barta Zsuzsanna</td></tr>",
                            "<tr><td>Berendi Péter</td></tr>",
                            "<tr><td>Béres Norbert</td></tr>",
                            "<tr><td>Berta Dávid</td></tr>",
                            "<tr><td>Bieniek Ádám</td></tr>",
                            "<tr><td>Bíró Ákos</td></tr>",
                            "<tr><td>Bíró Péter</td></tr>",
                            "<tr><td>Bittmann Edit</td></tr>",
                            "<tr><td>Bodor Szabolcs</td></tr>",
                            "<tr><td>Bori Krisztina</td></tr>",
                            "<tr><td>Boros Vivien</td></tr>",
                            "<tr><td>Bosnyák Ilona</td></tr>",
                            "<tr><td>Botka Mátyás</td></tr>",
                            "<tr><td>Bozsik Balázs</td></tr>",
                            "<tr><td>Bozsó Péter</td></tr>",
                            "<tr><td>Böröcz Anikó</td></tr>",
                            "<tr><td>Bucskó Róza</td></tr>",
                            "<tr><td>Búza Imre</td></tr>",
                            "<tr><td>Czérna Krisztián</td></tr>",
                            "<tr><td>Csiger Bertalan</td></tr>",
                            "<tr><td>Csóti Attila</td></tr>",
                            "<tr><td>Dániel Tibor</td></tr>",
                            "<tr><td>Dunai Aladár</td></tr>",
                            "<tr><td>Dusha Tímea</td></tr>",
                            "<tr><td>Endresz Bálint</td></tr>",
                            "<tr><td>Enyedi Éva</td></tr>",
                            "<tr><td>Erdei András</td></tr>",
                            "<tr><td>Érsek Eszter</td></tr>",
                            "<tr><td>Farkas Béla</td></tr>",
                            "<tr><td>Farkas László</td></tr>",
                            "<tr><td>Farkas Sándor</td></tr>",
                            "<tr><td>Farkas Sára</td></tr>",
                            "<tr><td>Fényes Tamás</td></tr>",
                            "<tr><td>Ferencz Roland</td></tr>",
                            "<tr><td>Feró Valentin</td></tr>",
                            "<tr><td>Fodor Zoltán</td></tr>",
                            "<tr><td>Foltényi Sebastián</td></tr>",
                            "<tr><td>Fő Nándor</td></tr>",
                            "<tr><td>Frank Fruzsina</td></tr>",
                            "<tr><td>Fülöp Eszter</td></tr>",
                            "<tr><td>Gergely József</td></tr>",
                            "<tr><td>Giliga János</td></tr>",
                            "<tr><td>Gombos Tibor</td></tr>",
                            "<tr><td>Gondos Katalin</td></tr>",
                            "<tr><td>Gondos Miklós</td></tr>",
                            "<tr><td>Gulyás Attila</td></tr>",
                            "<tr><td>Gyárfás Krisztina</td></tr>",
                            "<tr><td>Győrffy Bence</td></tr>",
                            "<tr><td>Gyuris József</td></tr>",
                            "<tr><td>Hamvay-Kovács Anita</td></tr>",
                            "<tr><td>Harangozó János</td></tr>",
                            "<tr><td>Hartyánszky Ágnes</td></tr>",
                            "<tr><td>Hegedűs Norbert</td></tr>",
                            "<tr><td>Hídasi Judit</td></tr>",
                            "<tr><td>Horváth Ágnes</td></tr>",
                            "<tr><td>Horváth Árpád</td></tr>",
                            "<tr><td>Horváth Bálint</td></tr>",
                            "<tr><td>Horváth Katalin</td></tr>",
                            "<tr><td>Horváth Krisztina</td></tr>",
                            "<tr><td>Horváth Márk</td></tr>",
                            "<tr><td>Horváth Nikolett</td></tr>",
                            "<tr><td>Iván Róbert</td></tr>",
                            "<tr><td>Jakab Áron</td></tr>",
                            "<tr><td>Józsa Zsolt</td></tr>",
                            "<tr><td>Juhász Mihály</td></tr>",
                            "<tr><td>Kalacsi Márton</td></tr>",
                            "<tr><td>Karasz Sándor</td></tr>",
                            "<tr><td>Kardos Renáta</td></tr>",
                            "<tr><td>Kazy Tihamér</td></tr>",
                            "<tr><td>Kelemen Áron</td></tr>",
                            "<tr><td>Kerényi Beatrix</td></tr>",
                            "<tr><td>Keresztúri Viktor</td></tr>",
                            "<tr><td>Kertész Katalin</td></tr>",
                            "<tr><td>Keszler Dániel</td></tr>",
                            "<tr><td>Kispál Márk</td></tr>",
                            "<tr><td>Kiss Ádám</td></tr>",
                            "<tr><td>Kiss Andrea</td></tr>",
                            "<tr><td>Kiss Lajos</td></tr>",
                            "<tr><td>Komjáti András</td></tr>",
                            "<tr><td>Kornseé Gyöngyi</td></tr>",
                            "<tr><td>Kovács Ágnes</td></tr>",
                            "<tr><td>Kovács Bernadett</td></tr>",
                            "<tr><td>Kovács Katalin</td></tr>",
                            "<tr><td>Koza Máté</td></tr>",
                            "<tr><td>Kozma Péter</td></tr>",
                            "<tr><td>Kő Nikoletta</td></tr>",
                            "<tr><td>Köves Gábor</td></tr>",
                            "<tr><td>Kuruc Emese</td></tr>",
                            "<tr><td>Lengyel Ágnes</td></tr>",
                            "<tr><td>Lukács Kornél</td></tr>",
                            "<tr><td>Maródi Andrea</td></tr>",
                            "<tr><td>Miklós Szabolcs</td></tr>",
                            "<tr><td>Miklós Tamara</td></tr>",
                            "<tr><td>Mile Norbert</td></tr>",
                            "<tr><td>Mogyródi Krisztián</td></tr>",
                            "<tr><td>Mohos Mónika</td></tr>",
                            "<tr><td>Molnár András</td></tr>",
                            "<tr><td>Molnár Bálint</td></tr>",
                            "<tr><td>Molnár Eszter</td></tr>",
                            "<tr><td>Molnár Zsófi</td></tr>",
                            "<tr><td>Móra László</td></tr>",
                            "<tr><td>Móricz Árpád</td></tr>",
                            "<tr><td>Nádudvari Henrik</td></tr>",
                            "<tr><td>Nagy András</td></tr>",
                            "<tr><td>Nagy Gabriella</td></tr>",
                            "<tr><td>Nagy Júlia</td></tr>",
                            "<tr><td>Nagy László</td></tr>",
                            "<tr><td>Nagy Sándor</td></tr>",
                            "<tr><td>Nagymihály Csongor</td></tr>",
                            "<tr><td>Nagymihály Lajos</td></tr>",
                            "<tr><td>Neizer Andrea</td></tr>",
                            "<tr><td>Nyíri Georgij</td></tr>",
                            "<tr><td>Opra Attila</td></tr>",
                            "<tr><td>Orbán Bernadett</td></tr>",
                            "<tr><td>Orosz Ferenc</td></tr>",
                            "<tr><td>Oroszi György</td></tr>",
                            "<tr><td>Ötvös Árpád</td></tr>",
                            "<tr><td>Palágyi Polla</td></tr>",
                            "<tr><td>Pálinkás János</td></tr>",
                            "<tr><td>Papós Tímea</td></tr>",
                            "<tr><td>Papp Imre</td></tr>",
                            "<tr><td>Pásztor Róbert</td></tr>",
                            "<tr><td>Pataki Brigitta</td></tr>",
                            "<tr><td>Patay Róbert</td></tr>",
                            "<tr><td>Perlinger Éva</td></tr>",
                            "<tr><td>Pintér Zoltán</td></tr>",
                            "<tr><td>Pivarcsi Anett</td></tr>",
                            "<tr><td>Poprádi Kristóf</td></tr>",
                            "<tr><td>Pulai Zsolt</td></tr>",
                            "<tr><td>Pusztai Zsuzsanna</td></tr>",
                            "<tr><td>Rab Sebestyén</td></tr>",
                            "<tr><td>Rácz Dániel</td></tr>",
                            "<tr><td>Rácz Rajmond</td></tr>",
                            "<tr><td>Regős Annamária</td></tr>",
                            "<tr><td>Sarodi Dóra</td></tr>",
                            "<tr><td>Simon Anikó</td></tr>",
                            "<tr><td>Simon Bernadett</td></tr>",
                            "<tr><td>Sobják Dávid</td></tr>",
                            "<tr><td>Soós István</td></tr>",
                            "<tr><td>Szabó Julianna</td></tr>",
                            "<tr><td>Szalai Péter</td></tr>",
                            "<tr><td>Szalai Szilárd</td></tr>",
                            "<tr><td>Szedlár Krisztina</td></tr>",
                            "<tr><td>Székely Brigitta</td></tr>",
                            "<tr><td>Szekendi Beatrix</td></tr>",
                            "<tr><td>Szikszai Réka</td></tr>",
                            "<tr><td>Szilágyi Mátyás</td></tr>",
                            "<tr><td>Szirmai Renáta</td></tr>",
                            "<tr><td>Szomor Andrea</td></tr>",
                            "<tr><td>Szöllősi Gábor</td></tr>",
                            "<tr><td>Szűcs Annamária</td></tr>",
                            "<tr><td>Szűcs Balázs</td></tr>",
                            "<tr><td>Szűcs Norbert</td></tr>",
                            "<tr><td>Tankó Veronika</td></tr>",
                            "<tr><td>Tari Szilvia</td></tr>",
                            "<tr><td>Tatár Nikoletta</td></tr>",
                            "<tr><td>Telek Gábor</td></tr>",
                            "<tr><td>Tornyos Andrea</td></tr>",
                            "<tr><td>Tóth András</td></tr>",
                            "<tr><td>Tóth Anikó</td></tr>",
                            "<tr><td>Tóth Júlia</td></tr>",
                            "<tr><td>Tóth Roland</td></tr>",
                            "<tr><td>Tóth Zoltán</td></tr>",
                            "<tr><td>Tömböly Dénes</td></tr>",
                            "<tr><td>Turcsik Tünde</td></tr>",
                            "<tr><td>Urbán Viktoria</td></tr>",
                            "<tr><td>Vajda József</td></tr>",
                            "<tr><td>Vajda Zsuzsa</td></tr>",
                            "<tr><td>Varga István</td></tr>",
                            "<tr><td>Varsányi Zsuzsa</td></tr>",
                            "<tr><td>Vida Gabriella</td></tr>",
                            "<tr><td>Vígh András</td></tr>",
                            "<tr><td>Viktor Éva</td></tr>",
                            "<tr><td>Vizi István</td></tr>",
                            "<tr><td>Vörös Dániel</td></tr>",
                            "<tr><td>Vukasinovity Bálint</td></tr>",
                            "<tr><td>Zatykó Katalin</td></tr>",
                            "</table>"
                        ]
                    }
                }
            ],
            "execution_count": 3
        },
        {
            "cell_type": "markdown",
            "source": [
                "2\\. feladat"
            ],
            "metadata": {
                "azdata_cell_guid": "888b2ed4-e0db-4aaf-9f25-fe3a5b3aed1f"
            },
            "attachments": {}
        },
        {
            "cell_type": "code",
            "source": [
                "WITH Foglalasok AS (\r\n",
                "    SELECT \r\n",
                "        SZOBA_FK,\r\n",
                "        FOGLALAS_PK,\r\n",
                "        DATEDIFF(DAY, METTOL, MEDDIG) AS FOGLALAS_IDOTARTAM,\r\n",
                "        LAG(DATEDIFF(DAY, METTOL, MEDDIG), 1, 0) OVER (\r\n",
                "            PARTITION BY SZOBA_FK ORDER BY METTOL\r\n",
                "        ) AS ELOZO_FOGLALAS_IDOTARTAM\r\n",
                "    FROM FOGLALAS\r\n",
                ")\r\n",
                "SELECT * FROM Foglalasok;"
            ],
            "metadata": {
                "azdata_cell_guid": "207ff376-10cb-4fff-a668-58322a70d414",
                "language": "sql"
            },
            "outputs": [
                {
                    "output_type": "display_data",
                    "data": {
                        "text/html": "(1027 rows affected)"
                    },
                    "metadata": {}
                },
                {
                    "output_type": "display_data",
                    "data": {
                        "text/html": "Total execution time: 00:00:00.040"
                    },
                    "metadata": {}
                },
                {
                    "output_type": "execute_result",
                    "metadata": {},
                    "execution_count": 4,
                    "data": {
                        "application/vnd.dataresource+json": {
                            "schema": {
                                "fields": [
                                    {
                                        "name": "SZOBA_FK"
                                    },
                                    {
                                        "name": "FOGLALAS_PK"
                                    },
                                    {
                                        "name": "FOGLALAS_IDOTARTAM"
                                    },
                                    {
                                        "name": "ELOZO_FOGLALAS_IDOTARTAM"
                                    }
                                ]
                            },
                            "data": [
                                {
                                    "SZOBA_FK": "1",
                                    "FOGLALAS_PK": "620",
                                    "FOGLALAS_IDOTARTAM": "5",
                                    "ELOZO_FOGLALAS_IDOTARTAM": "0"
                                },
                                {
                                    "SZOBA_FK": "1",
                                    "FOGLALAS_PK": "949",
                                    "FOGLALAS_IDOTARTAM": "1",
                                    "ELOZO_FOGLALAS_IDOTARTAM": "5"
                                },
                                {
                                    "SZOBA_FK": "1",
                                    "FOGLALAS_PK": "738",
                                    "FOGLALAS_IDOTARTAM": "7",
                                    "ELOZO_FOGLALAS_IDOTARTAM": "1"
                                },
                                {
                                    "SZOBA_FK": "1",
                                    "FOGLALAS_PK": "803",
                                    "FOGLALAS_IDOTARTAM": "4",
                                    "ELOZO_FOGLALAS_IDOTARTAM": "7"
                                },
                                {
                                    "SZOBA_FK": "1",
                                    "FOGLALAS_PK": "1137",
                                    "FOGLALAS_IDOTARTAM": "2",
                                    "ELOZO_FOGLALAS_IDOTARTAM": "4"
                                },
                                {
                                    "SZOBA_FK": "1",
                                    "FOGLALAS_PK": "1152",
                                    "FOGLALAS_IDOTARTAM": "1",
                                    "ELOZO_FOGLALAS_IDOTARTAM": "2"
                                },
                                {
                                    "SZOBA_FK": "1",
                                    "FOGLALAS_PK": "1274",
                                    "FOGLALAS_IDOTARTAM": "1",
                                    "ELOZO_FOGLALAS_IDOTARTAM": "1"
                                },
                                {
                                    "SZOBA_FK": "1",
                                    "FOGLALAS_PK": "1334",
                                    "FOGLALAS_IDOTARTAM": "4",
                                    "ELOZO_FOGLALAS_IDOTARTAM": "1"
                                },
                                {
                                    "SZOBA_FK": "2",
                                    "FOGLALAS_PK": "828",
                                    "FOGLALAS_IDOTARTAM": "3",
                                    "ELOZO_FOGLALAS_IDOTARTAM": "0"
                                },
                                {
                                    "SZOBA_FK": "2",
                                    "FOGLALAS_PK": "1051",
                                    "FOGLALAS_IDOTARTAM": "1",
                                    "ELOZO_FOGLALAS_IDOTARTAM": "3"
                                },
                                {
                                    "SZOBA_FK": "2",
                                    "FOGLALAS_PK": "1069",
                                    "FOGLALAS_IDOTARTAM": "7",
                                    "ELOZO_FOGLALAS_IDOTARTAM": "1"
                                },
                                {
                                    "SZOBA_FK": "2",
                                    "FOGLALAS_PK": "1311",
                                    "FOGLALAS_IDOTARTAM": "7",
                                    "ELOZO_FOGLALAS_IDOTARTAM": "7"
                                },
                                {
                                    "SZOBA_FK": "3",
                                    "FOGLALAS_PK": "629",
                                    "FOGLALAS_IDOTARTAM": "4",
                                    "ELOZO_FOGLALAS_IDOTARTAM": "0"
                                },
                                {
                                    "SZOBA_FK": "3",
                                    "FOGLALAS_PK": "666",
                                    "FOGLALAS_IDOTARTAM": "6",
                                    "ELOZO_FOGLALAS_IDOTARTAM": "4"
                                },
                                {
                                    "SZOBA_FK": "3",
                                    "FOGLALAS_PK": "788",
                                    "FOGLALAS_IDOTARTAM": "6",
                                    "ELOZO_FOGLALAS_IDOTARTAM": "6"
                                },
                                {
                                    "SZOBA_FK": "3",
                                    "FOGLALAS_PK": "1038",
                                    "FOGLALAS_IDOTARTAM": "3",
                                    "ELOZO_FOGLALAS_IDOTARTAM": "6"
                                },
                                {
                                    "SZOBA_FK": "3",
                                    "FOGLALAS_PK": "1110",
                                    "FOGLALAS_IDOTARTAM": "7",
                                    "ELOZO_FOGLALAS_IDOTARTAM": "3"
                                },
                                {
                                    "SZOBA_FK": "3",
                                    "FOGLALAS_PK": "1151",
                                    "FOGLALAS_IDOTARTAM": "1",
                                    "ELOZO_FOGLALAS_IDOTARTAM": "7"
                                },
                                {
                                    "SZOBA_FK": "3",
                                    "FOGLALAS_PK": "1434",
                                    "FOGLALAS_IDOTARTAM": "5",
                                    "ELOZO_FOGLALAS_IDOTARTAM": "1"
                                },
                                {
                                    "SZOBA_FK": "3",
                                    "FOGLALAS_PK": "1544",
                                    "FOGLALAS_IDOTARTAM": "5",
                                    "ELOZO_FOGLALAS_IDOTARTAM": "5"
                                },
                                {
                                    "SZOBA_FK": "4",
                                    "FOGLALAS_PK": "651",
                                    "FOGLALAS_IDOTARTAM": "7",
                                    "ELOZO_FOGLALAS_IDOTARTAM": "0"
                                },
                                {
                                    "SZOBA_FK": "4",
                                    "FOGLALAS_PK": "946",
                                    "FOGLALAS_IDOTARTAM": "5",
                                    "ELOZO_FOGLALAS_IDOTARTAM": "7"
                                },
                                {
                                    "SZOBA_FK": "4",
                                    "FOGLALAS_PK": "1001",
                                    "FOGLALAS_IDOTARTAM": "7",
                                    "ELOZO_FOGLALAS_IDOTARTAM": "5"
                                },
                                {
                                    "SZOBA_FK": "4",
                                    "FOGLALAS_PK": "1127",
                                    "FOGLALAS_IDOTARTAM": "3",
                                    "ELOZO_FOGLALAS_IDOTARTAM": "7"
                                },
                                {
                                    "SZOBA_FK": "4",
                                    "FOGLALAS_PK": "1132",
                                    "FOGLALAS_IDOTARTAM": "6",
                                    "ELOZO_FOGLALAS_IDOTARTAM": "3"
                                },
                                {
                                    "SZOBA_FK": "4",
                                    "FOGLALAS_PK": "1492",
                                    "FOGLALAS_IDOTARTAM": "6",
                                    "ELOZO_FOGLALAS_IDOTARTAM": "6"
                                },
                                {
                                    "SZOBA_FK": "5",
                                    "FOGLALAS_PK": "564",
                                    "FOGLALAS_IDOTARTAM": "2",
                                    "ELOZO_FOGLALAS_IDOTARTAM": "0"
                                },
                                {
                                    "SZOBA_FK": "5",
                                    "FOGLALAS_PK": "965",
                                    "FOGLALAS_IDOTARTAM": "7",
                                    "ELOZO_FOGLALAS_IDOTARTAM": "2"
                                },
                                {
                                    "SZOBA_FK": "5",
                                    "FOGLALAS_PK": "1073",
                                    "FOGLALAS_IDOTARTAM": "5",
                                    "ELOZO_FOGLALAS_IDOTARTAM": "7"
                                },
                                {
                                    "SZOBA_FK": "5",
                                    "FOGLALAS_PK": "1257",
                                    "FOGLALAS_IDOTARTAM": "3",
                                    "ELOZO_FOGLALAS_IDOTARTAM": "5"
                                },
                                {
                                    "SZOBA_FK": "6",
                                    "FOGLALAS_PK": "560",
                                    "FOGLALAS_IDOTARTAM": "6",
                                    "ELOZO_FOGLALAS_IDOTARTAM": "0"
                                },
                                {
                                    "SZOBA_FK": "6",
                                    "FOGLALAS_PK": "873",
                                    "FOGLALAS_IDOTARTAM": "3",
                                    "ELOZO_FOGLALAS_IDOTARTAM": "6"
                                },
                                {
                                    "SZOBA_FK": "6",
                                    "FOGLALAS_PK": "990",
                                    "FOGLALAS_IDOTARTAM": "4",
                                    "ELOZO_FOGLALAS_IDOTARTAM": "3"
                                },
                                {
                                    "SZOBA_FK": "6",
                                    "FOGLALAS_PK": "772",
                                    "FOGLALAS_IDOTARTAM": "6",
                                    "ELOZO_FOGLALAS_IDOTARTAM": "4"
                                },
                                {
                                    "SZOBA_FK": "6",
                                    "FOGLALAS_PK": "850",
                                    "FOGLALAS_IDOTARTAM": "2",
                                    "ELOZO_FOGLALAS_IDOTARTAM": "6"
                                },
                                {
                                    "SZOBA_FK": "6",
                                    "FOGLALAS_PK": "1099",
                                    "FOGLALAS_IDOTARTAM": "4",
                                    "ELOZO_FOGLALAS_IDOTARTAM": "2"
                                },
                                {
                                    "SZOBA_FK": "7",
                                    "FOGLALAS_PK": "562",
                                    "FOGLALAS_IDOTARTAM": "4",
                                    "ELOZO_FOGLALAS_IDOTARTAM": "0"
                                },
                                {
                                    "SZOBA_FK": "7",
                                    "FOGLALAS_PK": "759",
                                    "FOGLALAS_IDOTARTAM": "7",
                                    "ELOZO_FOGLALAS_IDOTARTAM": "4"
                                },
                                {
                                    "SZOBA_FK": "7",
                                    "FOGLALAS_PK": "1131",
                                    "FOGLALAS_IDOTARTAM": "1",
                                    "ELOZO_FOGLALAS_IDOTARTAM": "7"
                                },
                                {
                                    "SZOBA_FK": "7",
                                    "FOGLALAS_PK": "1175",
                                    "FOGLALAS_IDOTARTAM": "4",
                                    "ELOZO_FOGLALAS_IDOTARTAM": "1"
                                },
                                {
                                    "SZOBA_FK": "7",
                                    "FOGLALAS_PK": "1182",
                                    "FOGLALAS_IDOTARTAM": "4",
                                    "ELOZO_FOGLALAS_IDOTARTAM": "4"
                                },
                                {
                                    "SZOBA_FK": "7",
                                    "FOGLALAS_PK": "1252",
                                    "FOGLALAS_IDOTARTAM": "2",
                                    "ELOZO_FOGLALAS_IDOTARTAM": "4"
                                },
                                {
                                    "SZOBA_FK": "8",
                                    "FOGLALAS_PK": "882",
                                    "FOGLALAS_IDOTARTAM": "1",
                                    "ELOZO_FOGLALAS_IDOTARTAM": "0"
                                },
                                {
                                    "SZOBA_FK": "8",
                                    "FOGLALAS_PK": "947",
                                    "FOGLALAS_IDOTARTAM": "3",
                                    "ELOZO_FOGLALAS_IDOTARTAM": "1"
                                },
                                {
                                    "SZOBA_FK": "8",
                                    "FOGLALAS_PK": "694",
                                    "FOGLALAS_IDOTARTAM": "4",
                                    "ELOZO_FOGLALAS_IDOTARTAM": "3"
                                },
                                {
                                    "SZOBA_FK": "8",
                                    "FOGLALAS_PK": "818",
                                    "FOGLALAS_IDOTARTAM": "4",
                                    "ELOZO_FOGLALAS_IDOTARTAM": "4"
                                },
                                {
                                    "SZOBA_FK": "8",
                                    "FOGLALAS_PK": "832",
                                    "FOGLALAS_IDOTARTAM": "4",
                                    "ELOZO_FOGLALAS_IDOTARTAM": "4"
                                },
                                {
                                    "SZOBA_FK": "9",
                                    "FOGLALAS_PK": "609",
                                    "FOGLALAS_IDOTARTAM": "2",
                                    "ELOZO_FOGLALAS_IDOTARTAM": "0"
                                },
                                {
                                    "SZOBA_FK": "9",
                                    "FOGLALAS_PK": "1157",
                                    "FOGLALAS_IDOTARTAM": "6",
                                    "ELOZO_FOGLALAS_IDOTARTAM": "2"
                                },
                                {
                                    "SZOBA_FK": "9",
                                    "FOGLALAS_PK": "1220",
                                    "FOGLALAS_IDOTARTAM": "3",
                                    "ELOZO_FOGLALAS_IDOTARTAM": "6"
                                },
                                {
                                    "SZOBA_FK": "9",
                                    "FOGLALAS_PK": "1260",
                                    "FOGLALAS_IDOTARTAM": "6",
                                    "ELOZO_FOGLALAS_IDOTARTAM": "3"
                                },
                                {
                                    "SZOBA_FK": "9",
                                    "FOGLALAS_PK": "1423",
                                    "FOGLALAS_IDOTARTAM": "3",
                                    "ELOZO_FOGLALAS_IDOTARTAM": "6"
                                },
                                {
                                    "SZOBA_FK": "9",
                                    "FOGLALAS_PK": "1537",
                                    "FOGLALAS_IDOTARTAM": "3",
                                    "ELOZO_FOGLALAS_IDOTARTAM": "3"
                                },
                                {
                                    "SZOBA_FK": "10",
                                    "FOGLALAS_PK": "569",
                                    "FOGLALAS_IDOTARTAM": "3",
                                    "ELOZO_FOGLALAS_IDOTARTAM": "0"
                                },
                                {
                                    "SZOBA_FK": "10",
                                    "FOGLALAS_PK": "790",
                                    "FOGLALAS_IDOTARTAM": "5",
                                    "ELOZO_FOGLALAS_IDOTARTAM": "3"
                                },
                                {
                                    "SZOBA_FK": "10",
                                    "FOGLALAS_PK": "795",
                                    "FOGLALAS_IDOTARTAM": "4",
                                    "ELOZO_FOGLALAS_IDOTARTAM": "5"
                                },
                                {
                                    "SZOBA_FK": "10",
                                    "FOGLALAS_PK": "1319",
                                    "FOGLALAS_IDOTARTAM": "6",
                                    "ELOZO_FOGLALAS_IDOTARTAM": "4"
                                },
                                {
                                    "SZOBA_FK": "11",
                                    "FOGLALAS_PK": "918",
                                    "FOGLALAS_IDOTARTAM": "6",
                                    "ELOZO_FOGLALAS_IDOTARTAM": "0"
                                },
                                {
                                    "SZOBA_FK": "11",
                                    "FOGLALAS_PK": "1123",
                                    "FOGLALAS_IDOTARTAM": "5",
                                    "ELOZO_FOGLALAS_IDOTARTAM": "6"
                                },
                                {
                                    "SZOBA_FK": "11",
                                    "FOGLALAS_PK": "1236",
                                    "FOGLALAS_IDOTARTAM": "1",
                                    "ELOZO_FOGLALAS_IDOTARTAM": "5"
                                },
                                {
                                    "SZOBA_FK": "11",
                                    "FOGLALAS_PK": "1523",
                                    "FOGLALAS_IDOTARTAM": "1",
                                    "ELOZO_FOGLALAS_IDOTARTAM": "1"
                                },
                                {
                                    "SZOBA_FK": "12",
                                    "FOGLALAS_PK": "876",
                                    "FOGLALAS_IDOTARTAM": "7",
                                    "ELOZO_FOGLALAS_IDOTARTAM": "0"
                                },
                                {
                                    "SZOBA_FK": "12",
                                    "FOGLALAS_PK": "951",
                                    "FOGLALAS_IDOTARTAM": "3",
                                    "ELOZO_FOGLALAS_IDOTARTAM": "7"
                                },
                                {
                                    "SZOBA_FK": "12",
                                    "FOGLALAS_PK": "970",
                                    "FOGLALAS_IDOTARTAM": "2",
                                    "ELOZO_FOGLALAS_IDOTARTAM": "3"
                                },
                                {
                                    "SZOBA_FK": "12",
                                    "FOGLALAS_PK": "1020",
                                    "FOGLALAS_IDOTARTAM": "5",
                                    "ELOZO_FOGLALAS_IDOTARTAM": "2"
                                },
                                {
                                    "SZOBA_FK": "12",
                                    "FOGLALAS_PK": "697",
                                    "FOGLALAS_IDOTARTAM": "2",
                                    "ELOZO_FOGLALAS_IDOTARTAM": "5"
                                },
                                {
                                    "SZOBA_FK": "12",
                                    "FOGLALAS_PK": "775",
                                    "FOGLALAS_IDOTARTAM": "4",
                                    "ELOZO_FOGLALAS_IDOTARTAM": "2"
                                },
                                {
                                    "SZOBA_FK": "12",
                                    "FOGLALAS_PK": "1140",
                                    "FOGLALAS_IDOTARTAM": "3",
                                    "ELOZO_FOGLALAS_IDOTARTAM": "4"
                                },
                                {
                                    "SZOBA_FK": "12",
                                    "FOGLALAS_PK": "1164",
                                    "FOGLALAS_IDOTARTAM": "5",
                                    "ELOZO_FOGLALAS_IDOTARTAM": "3"
                                },
                                {
                                    "SZOBA_FK": "12",
                                    "FOGLALAS_PK": "1430",
                                    "FOGLALAS_IDOTARTAM": "2",
                                    "ELOZO_FOGLALAS_IDOTARTAM": "5"
                                },
                                {
                                    "SZOBA_FK": "13",
                                    "FOGLALAS_PK": "763",
                                    "FOGLALAS_IDOTARTAM": "4",
                                    "ELOZO_FOGLALAS_IDOTARTAM": "0"
                                },
                                {
                                    "SZOBA_FK": "13",
                                    "FOGLALAS_PK": "1044",
                                    "FOGLALAS_IDOTARTAM": "6",
                                    "ELOZO_FOGLALAS_IDOTARTAM": "4"
                                },
                                {
                                    "SZOBA_FK": "13",
                                    "FOGLALAS_PK": "1347",
                                    "FOGLALAS_IDOTARTAM": "3",
                                    "ELOZO_FOGLALAS_IDOTARTAM": "6"
                                },
                                {
                                    "SZOBA_FK": "13",
                                    "FOGLALAS_PK": "1469",
                                    "FOGLALAS_IDOTARTAM": "2",
                                    "ELOZO_FOGLALAS_IDOTARTAM": "3"
                                },
                                {
                                    "SZOBA_FK": "14",
                                    "FOGLALAS_PK": "663",
                                    "FOGLALAS_IDOTARTAM": "1",
                                    "ELOZO_FOGLALAS_IDOTARTAM": "0"
                                },
                                {
                                    "SZOBA_FK": "14",
                                    "FOGLALAS_PK": "813",
                                    "FOGLALAS_IDOTARTAM": "3",
                                    "ELOZO_FOGLALAS_IDOTARTAM": "1"
                                },
                                {
                                    "SZOBA_FK": "14",
                                    "FOGLALAS_PK": "1542",
                                    "FOGLALAS_IDOTARTAM": "4",
                                    "ELOZO_FOGLALAS_IDOTARTAM": "3"
                                },
                                {
                                    "SZOBA_FK": "15",
                                    "FOGLALAS_PK": "1028",
                                    "FOGLALAS_IDOTARTAM": "2",
                                    "ELOZO_FOGLALAS_IDOTARTAM": "0"
                                },
                                {
                                    "SZOBA_FK": "15",
                                    "FOGLALAS_PK": "791",
                                    "FOGLALAS_IDOTARTAM": "5",
                                    "ELOZO_FOGLALAS_IDOTARTAM": "2"
                                },
                                {
                                    "SZOBA_FK": "15",
                                    "FOGLALAS_PK": "1129",
                                    "FOGLALAS_IDOTARTAM": "4",
                                    "ELOZO_FOGLALAS_IDOTARTAM": "5"
                                },
                                {
                                    "SZOBA_FK": "15",
                                    "FOGLALAS_PK": "1244",
                                    "FOGLALAS_IDOTARTAM": "1",
                                    "ELOZO_FOGLALAS_IDOTARTAM": "4"
                                },
                                {
                                    "SZOBA_FK": "15",
                                    "FOGLALAS_PK": "1418",
                                    "FOGLALAS_IDOTARTAM": "4",
                                    "ELOZO_FOGLALAS_IDOTARTAM": "1"
                                },
                                {
                                    "SZOBA_FK": "15",
                                    "FOGLALAS_PK": "1442",
                                    "FOGLALAS_IDOTARTAM": "3",
                                    "ELOZO_FOGLALAS_IDOTARTAM": "4"
                                },
                                {
                                    "SZOBA_FK": "16",
                                    "FOGLALAS_PK": "856",
                                    "FOGLALAS_IDOTARTAM": "6",
                                    "ELOZO_FOGLALAS_IDOTARTAM": "0"
                                },
                                {
                                    "SZOBA_FK": "16",
                                    "FOGLALAS_PK": "896",
                                    "FOGLALAS_IDOTARTAM": "1",
                                    "ELOZO_FOGLALAS_IDOTARTAM": "6"
                                },
                                {
                                    "SZOBA_FK": "16",
                                    "FOGLALAS_PK": "973",
                                    "FOGLALAS_IDOTARTAM": "1",
                                    "ELOZO_FOGLALAS_IDOTARTAM": "1"
                                },
                                {
                                    "SZOBA_FK": "16",
                                    "FOGLALAS_PK": "687",
                                    "FOGLALAS_IDOTARTAM": "3",
                                    "ELOZO_FOGLALAS_IDOTARTAM": "1"
                                },
                                {
                                    "SZOBA_FK": "16",
                                    "FOGLALAS_PK": "1498",
                                    "FOGLALAS_IDOTARTAM": "7",
                                    "ELOZO_FOGLALAS_IDOTARTAM": "3"
                                },
                                {
                                    "SZOBA_FK": "17",
                                    "FOGLALAS_PK": "602",
                                    "FOGLALAS_IDOTARTAM": "6",
                                    "ELOZO_FOGLALAS_IDOTARTAM": "0"
                                },
                                {
                                    "SZOBA_FK": "17",
                                    "FOGLALAS_PK": "916",
                                    "FOGLALAS_IDOTARTAM": "2",
                                    "ELOZO_FOGLALAS_IDOTARTAM": "6"
                                },
                                {
                                    "SZOBA_FK": "17",
                                    "FOGLALAS_PK": "713",
                                    "FOGLALAS_IDOTARTAM": "6",
                                    "ELOZO_FOGLALAS_IDOTARTAM": "2"
                                },
                                {
                                    "SZOBA_FK": "17",
                                    "FOGLALAS_PK": "744",
                                    "FOGLALAS_IDOTARTAM": "1",
                                    "ELOZO_FOGLALAS_IDOTARTAM": "6"
                                },
                                {
                                    "SZOBA_FK": "17",
                                    "FOGLALAS_PK": "1316",
                                    "FOGLALAS_IDOTARTAM": "5",
                                    "ELOZO_FOGLALAS_IDOTARTAM": "1"
                                },
                                {
                                    "SZOBA_FK": "17",
                                    "FOGLALAS_PK": "1549",
                                    "FOGLALAS_IDOTARTAM": "3",
                                    "ELOZO_FOGLALAS_IDOTARTAM": "5"
                                },
                                {
                                    "SZOBA_FK": "18",
                                    "FOGLALAS_PK": "626",
                                    "FOGLALAS_IDOTARTAM": "3",
                                    "ELOZO_FOGLALAS_IDOTARTAM": "0"
                                },
                                {
                                    "SZOBA_FK": "18",
                                    "FOGLALAS_PK": "767",
                                    "FOGLALAS_IDOTARTAM": "3",
                                    "ELOZO_FOGLALAS_IDOTARTAM": "3"
                                },
                                {
                                    "SZOBA_FK": "18",
                                    "FOGLALAS_PK": "1035",
                                    "FOGLALAS_IDOTARTAM": "6",
                                    "ELOZO_FOGLALAS_IDOTARTAM": "3"
                                },
                                {
                                    "SZOBA_FK": "18",
                                    "FOGLALAS_PK": "1173",
                                    "FOGLALAS_IDOTARTAM": "6",
                                    "ELOZO_FOGLALAS_IDOTARTAM": "6"
                                },
                                {
                                    "SZOBA_FK": "18",
                                    "FOGLALAS_PK": "1198",
                                    "FOGLALAS_IDOTARTAM": "4",
                                    "ELOZO_FOGLALAS_IDOTARTAM": "6"
                                },
                                {
                                    "SZOBA_FK": "18",
                                    "FOGLALAS_PK": "1505",
                                    "FOGLALAS_IDOTARTAM": "6",
                                    "ELOZO_FOGLALAS_IDOTARTAM": "4"
                                },
                                {
                                    "SZOBA_FK": "19",
                                    "FOGLALAS_PK": "948",
                                    "FOGLALAS_IDOTARTAM": "2",
                                    "ELOZO_FOGLALAS_IDOTARTAM": "0"
                                },
                                {
                                    "SZOBA_FK": "19",
                                    "FOGLALAS_PK": "696",
                                    "FOGLALAS_IDOTARTAM": "1",
                                    "ELOZO_FOGLALAS_IDOTARTAM": "2"
                                },
                                {
                                    "SZOBA_FK": "19",
                                    "FOGLALAS_PK": "778",
                                    "FOGLALAS_IDOTARTAM": "1",
                                    "ELOZO_FOGLALAS_IDOTARTAM": "1"
                                },
                                {
                                    "SZOBA_FK": "19",
                                    "FOGLALAS_PK": "1139",
                                    "FOGLALAS_IDOTARTAM": "7",
                                    "ELOZO_FOGLALAS_IDOTARTAM": "1"
                                },
                                {
                                    "SZOBA_FK": "19",
                                    "FOGLALAS_PK": "1237",
                                    "FOGLALAS_IDOTARTAM": "1",
                                    "ELOZO_FOGLALAS_IDOTARTAM": "7"
                                },
                                {
                                    "SZOBA_FK": "19",
                                    "FOGLALAS_PK": "1533",
                                    "FOGLALAS_IDOTARTAM": "1",
                                    "ELOZO_FOGLALAS_IDOTARTAM": "1"
                                },
                                {
                                    "SZOBA_FK": "20",
                                    "FOGLALAS_PK": "755",
                                    "FOGLALAS_IDOTARTAM": "6",
                                    "ELOZO_FOGLALAS_IDOTARTAM": "0"
                                },
                                {
                                    "SZOBA_FK": "20",
                                    "FOGLALAS_PK": "820",
                                    "FOGLALAS_IDOTARTAM": "1",
                                    "ELOZO_FOGLALAS_IDOTARTAM": "6"
                                },
                                {
                                    "SZOBA_FK": "20",
                                    "FOGLALAS_PK": "1070",
                                    "FOGLALAS_IDOTARTAM": "1",
                                    "ELOZO_FOGLALAS_IDOTARTAM": "1"
                                },
                                {
                                    "SZOBA_FK": "20",
                                    "FOGLALAS_PK": "1114",
                                    "FOGLALAS_IDOTARTAM": "5",
                                    "ELOZO_FOGLALAS_IDOTARTAM": "1"
                                },
                                {
                                    "SZOBA_FK": "20",
                                    "FOGLALAS_PK": "1106",
                                    "FOGLALAS_IDOTARTAM": "2",
                                    "ELOZO_FOGLALAS_IDOTARTAM": "5"
                                },
                                {
                                    "SZOBA_FK": "21",
                                    "FOGLALAS_PK": "566",
                                    "FOGLALAS_IDOTARTAM": "6",
                                    "ELOZO_FOGLALAS_IDOTARTAM": "0"
                                },
                                {
                                    "SZOBA_FK": "21",
                                    "FOGLALAS_PK": "660",
                                    "FOGLALAS_IDOTARTAM": "5",
                                    "ELOZO_FOGLALAS_IDOTARTAM": "6"
                                },
                                {
                                    "SZOBA_FK": "21",
                                    "FOGLALAS_PK": "805",
                                    "FOGLALAS_IDOTARTAM": "1",
                                    "ELOZO_FOGLALAS_IDOTARTAM": "5"
                                },
                                {
                                    "SZOBA_FK": "21",
                                    "FOGLALAS_PK": "1212",
                                    "FOGLALAS_IDOTARTAM": "6",
                                    "ELOZO_FOGLALAS_IDOTARTAM": "1"
                                },
                                {
                                    "SZOBA_FK": "22",
                                    "FOGLALAS_PK": "906",
                                    "FOGLALAS_IDOTARTAM": "1",
                                    "ELOZO_FOGLALAS_IDOTARTAM": "0"
                                },
                                {
                                    "SZOBA_FK": "22",
                                    "FOGLALAS_PK": "1005",
                                    "FOGLALAS_IDOTARTAM": "3",
                                    "ELOZO_FOGLALAS_IDOTARTAM": "1"
                                },
                                {
                                    "SZOBA_FK": "22",
                                    "FOGLALAS_PK": "1130",
                                    "FOGLALAS_IDOTARTAM": "1",
                                    "ELOZO_FOGLALAS_IDOTARTAM": "3"
                                },
                                {
                                    "SZOBA_FK": "22",
                                    "FOGLALAS_PK": "1195",
                                    "FOGLALAS_IDOTARTAM": "6",
                                    "ELOZO_FOGLALAS_IDOTARTAM": "1"
                                },
                                {
                                    "SZOBA_FK": "22",
                                    "FOGLALAS_PK": "1206",
                                    "FOGLALAS_IDOTARTAM": "7",
                                    "ELOZO_FOGLALAS_IDOTARTAM": "6"
                                },
                                {
                                    "SZOBA_FK": "22",
                                    "FOGLALAS_PK": "1287",
                                    "FOGLALAS_IDOTARTAM": "3",
                                    "ELOZO_FOGLALAS_IDOTARTAM": "7"
                                },
                                {
                                    "SZOBA_FK": "23",
                                    "FOGLALAS_PK": "934",
                                    "FOGLALAS_IDOTARTAM": "1",
                                    "ELOZO_FOGLALAS_IDOTARTAM": "0"
                                },
                                {
                                    "SZOBA_FK": "23",
                                    "FOGLALAS_PK": "945",
                                    "FOGLALAS_IDOTARTAM": "7",
                                    "ELOZO_FOGLALAS_IDOTARTAM": "1"
                                },
                                {
                                    "SZOBA_FK": "23",
                                    "FOGLALAS_PK": "848",
                                    "FOGLALAS_IDOTARTAM": "1",
                                    "ELOZO_FOGLALAS_IDOTARTAM": "7"
                                },
                                {
                                    "SZOBA_FK": "24",
                                    "FOGLALAS_PK": "852",
                                    "FOGLALAS_IDOTARTAM": "2",
                                    "ELOZO_FOGLALAS_IDOTARTAM": "0"
                                },
                                {
                                    "SZOBA_FK": "24",
                                    "FOGLALAS_PK": "1167",
                                    "FOGLALAS_IDOTARTAM": "1",
                                    "ELOZO_FOGLALAS_IDOTARTAM": "2"
                                },
                                {
                                    "SZOBA_FK": "24",
                                    "FOGLALAS_PK": "1415",
                                    "FOGLALAS_IDOTARTAM": "3",
                                    "ELOZO_FOGLALAS_IDOTARTAM": "1"
                                },
                                {
                                    "SZOBA_FK": "25",
                                    "FOGLALAS_PK": "1052",
                                    "FOGLALAS_IDOTARTAM": "3",
                                    "ELOZO_FOGLALAS_IDOTARTAM": "0"
                                },
                                {
                                    "SZOBA_FK": "25",
                                    "FOGLALAS_PK": "1362",
                                    "FOGLALAS_IDOTARTAM": "2",
                                    "ELOZO_FOGLALAS_IDOTARTAM": "3"
                                },
                                {
                                    "SZOBA_FK": "26",
                                    "FOGLALAS_PK": "1158",
                                    "FOGLALAS_IDOTARTAM": "2",
                                    "ELOZO_FOGLALAS_IDOTARTAM": "0"
                                },
                                {
                                    "SZOBA_FK": "26",
                                    "FOGLALAS_PK": "1388",
                                    "FOGLALAS_IDOTARTAM": "3",
                                    "ELOZO_FOGLALAS_IDOTARTAM": "2"
                                },
                                {
                                    "SZOBA_FK": "27",
                                    "FOGLALAS_PK": "758",
                                    "FOGLALAS_IDOTARTAM": "3",
                                    "ELOZO_FOGLALAS_IDOTARTAM": "0"
                                },
                                {
                                    "SZOBA_FK": "27",
                                    "FOGLALAS_PK": "807",
                                    "FOGLALAS_IDOTARTAM": "2",
                                    "ELOZO_FOGLALAS_IDOTARTAM": "3"
                                },
                                {
                                    "SZOBA_FK": "27",
                                    "FOGLALAS_PK": "1031",
                                    "FOGLALAS_IDOTARTAM": "2",
                                    "ELOZO_FOGLALAS_IDOTARTAM": "2"
                                },
                                {
                                    "SZOBA_FK": "27",
                                    "FOGLALAS_PK": "1082",
                                    "FOGLALAS_IDOTARTAM": "5",
                                    "ELOZO_FOGLALAS_IDOTARTAM": "2"
                                },
                                {
                                    "SZOBA_FK": "27",
                                    "FOGLALAS_PK": "1275",
                                    "FOGLALAS_IDOTARTAM": "6",
                                    "ELOZO_FOGLALAS_IDOTARTAM": "5"
                                },
                                {
                                    "SZOBA_FK": "27",
                                    "FOGLALAS_PK": "1377",
                                    "FOGLALAS_IDOTARTAM": "1",
                                    "ELOZO_FOGLALAS_IDOTARTAM": "6"
                                },
                                {
                                    "SZOBA_FK": "27",
                                    "FOGLALAS_PK": "1476",
                                    "FOGLALAS_IDOTARTAM": "1",
                                    "ELOZO_FOGLALAS_IDOTARTAM": "1"
                                },
                                {
                                    "SZOBA_FK": "28",
                                    "FOGLALAS_PK": "872",
                                    "FOGLALAS_IDOTARTAM": "5",
                                    "ELOZO_FOGLALAS_IDOTARTAM": "0"
                                },
                                {
                                    "SZOBA_FK": "28",
                                    "FOGLALAS_PK": "886",
                                    "FOGLALAS_IDOTARTAM": "4",
                                    "ELOZO_FOGLALAS_IDOTARTAM": "5"
                                },
                                {
                                    "SZOBA_FK": "28",
                                    "FOGLALAS_PK": "901",
                                    "FOGLALAS_IDOTARTAM": "4",
                                    "ELOZO_FOGLALAS_IDOTARTAM": "4"
                                },
                                {
                                    "SZOBA_FK": "28",
                                    "FOGLALAS_PK": "725",
                                    "FOGLALAS_IDOTARTAM": "5",
                                    "ELOZO_FOGLALAS_IDOTARTAM": "4"
                                },
                                {
                                    "SZOBA_FK": "28",
                                    "FOGLALAS_PK": "1150",
                                    "FOGLALAS_IDOTARTAM": "6",
                                    "ELOZO_FOGLALAS_IDOTARTAM": "5"
                                },
                                {
                                    "SZOBA_FK": "28",
                                    "FOGLALAS_PK": "1459",
                                    "FOGLALAS_IDOTARTAM": "2",
                                    "ELOZO_FOGLALAS_IDOTARTAM": "6"
                                },
                                {
                                    "SZOBA_FK": "29",
                                    "FOGLALAS_PK": "611",
                                    "FOGLALAS_IDOTARTAM": "5",
                                    "ELOZO_FOGLALAS_IDOTARTAM": "0"
                                },
                                {
                                    "SZOBA_FK": "29",
                                    "FOGLALAS_PK": "894",
                                    "FOGLALAS_IDOTARTAM": "1",
                                    "ELOZO_FOGLALAS_IDOTARTAM": "5"
                                },
                                {
                                    "SZOBA_FK": "29",
                                    "FOGLALAS_PK": "1076",
                                    "FOGLALAS_IDOTARTAM": "7",
                                    "ELOZO_FOGLALAS_IDOTARTAM": "1"
                                },
                                {
                                    "SZOBA_FK": "29",
                                    "FOGLALAS_PK": "1185",
                                    "FOGLALAS_IDOTARTAM": "5",
                                    "ELOZO_FOGLALAS_IDOTARTAM": "7"
                                },
                                {
                                    "SZOBA_FK": "29",
                                    "FOGLALAS_PK": "1235",
                                    "FOGLALAS_IDOTARTAM": "7",
                                    "ELOZO_FOGLALAS_IDOTARTAM": "5"
                                },
                                {
                                    "SZOBA_FK": "29",
                                    "FOGLALAS_PK": "1568",
                                    "FOGLALAS_IDOTARTAM": "7",
                                    "ELOZO_FOGLALAS_IDOTARTAM": "7"
                                },
                                {
                                    "SZOBA_FK": "30",
                                    "FOGLALAS_PK": "604",
                                    "FOGLALAS_IDOTARTAM": "2",
                                    "ELOZO_FOGLALAS_IDOTARTAM": "0"
                                },
                                {
                                    "SZOBA_FK": "30",
                                    "FOGLALAS_PK": "1023",
                                    "FOGLALAS_IDOTARTAM": "7",
                                    "ELOZO_FOGLALAS_IDOTARTAM": "2"
                                },
                                {
                                    "SZOBA_FK": "30",
                                    "FOGLALAS_PK": "1136",
                                    "FOGLALAS_IDOTARTAM": "5",
                                    "ELOZO_FOGLALAS_IDOTARTAM": "7"
                                },
                                {
                                    "SZOBA_FK": "31",
                                    "FOGLALAS_PK": "598",
                                    "FOGLALAS_IDOTARTAM": "2",
                                    "ELOZO_FOGLALAS_IDOTARTAM": "0"
                                },
                                {
                                    "SZOBA_FK": "31",
                                    "FOGLALAS_PK": "606",
                                    "FOGLALAS_IDOTARTAM": "1",
                                    "ELOZO_FOGLALAS_IDOTARTAM": "2"
                                },
                                {
                                    "SZOBA_FK": "31",
                                    "FOGLALAS_PK": "728",
                                    "FOGLALAS_IDOTARTAM": "4",
                                    "ELOZO_FOGLALAS_IDOTARTAM": "1"
                                },
                                {
                                    "SZOBA_FK": "32",
                                    "FOGLALAS_PK": "920",
                                    "FOGLALAS_IDOTARTAM": "4",
                                    "ELOZO_FOGLALAS_IDOTARTAM": "0"
                                },
                                {
                                    "SZOBA_FK": "33",
                                    "FOGLALAS_PK": "624",
                                    "FOGLALAS_IDOTARTAM": "6",
                                    "ELOZO_FOGLALAS_IDOTARTAM": "0"
                                },
                                {
                                    "SZOBA_FK": "33",
                                    "FOGLALAS_PK": "1012",
                                    "FOGLALAS_IDOTARTAM": "7",
                                    "ELOZO_FOGLALAS_IDOTARTAM": "6"
                                },
                                {
                                    "SZOBA_FK": "33",
                                    "FOGLALAS_PK": "1053",
                                    "FOGLALAS_IDOTARTAM": "1",
                                    "ELOZO_FOGLALAS_IDOTARTAM": "7"
                                },
                                {
                                    "SZOBA_FK": "33",
                                    "FOGLALAS_PK": "1321",
                                    "FOGLALAS_IDOTARTAM": "4",
                                    "ELOZO_FOGLALAS_IDOTARTAM": "1"
                                },
                                {
                                    "SZOBA_FK": "33",
                                    "FOGLALAS_PK": "1344",
                                    "FOGLALAS_IDOTARTAM": "5",
                                    "ELOZO_FOGLALAS_IDOTARTAM": "4"
                                },
                                {
                                    "SZOBA_FK": "33",
                                    "FOGLALAS_PK": "1381",
                                    "FOGLALAS_IDOTARTAM": "6",
                                    "ELOZO_FOGLALAS_IDOTARTAM": "5"
                                },
                                {
                                    "SZOBA_FK": "34",
                                    "FOGLALAS_PK": "870",
                                    "FOGLALAS_IDOTARTAM": "6",
                                    "ELOZO_FOGLALAS_IDOTARTAM": "0"
                                },
                                {
                                    "SZOBA_FK": "34",
                                    "FOGLALAS_PK": "904",
                                    "FOGLALAS_IDOTARTAM": "2",
                                    "ELOZO_FOGLALAS_IDOTARTAM": "6"
                                },
                                {
                                    "SZOBA_FK": "34",
                                    "FOGLALAS_PK": "777",
                                    "FOGLALAS_IDOTARTAM": "3",
                                    "ELOZO_FOGLALAS_IDOTARTAM": "2"
                                },
                                {
                                    "SZOBA_FK": "34",
                                    "FOGLALAS_PK": "821",
                                    "FOGLALAS_IDOTARTAM": "1",
                                    "ELOZO_FOGLALAS_IDOTARTAM": "3"
                                },
                                {
                                    "SZOBA_FK": "35",
                                    "FOGLALAS_PK": "971",
                                    "FOGLALAS_IDOTARTAM": "3",
                                    "ELOZO_FOGLALAS_IDOTARTAM": "0"
                                },
                                {
                                    "SZOBA_FK": "35",
                                    "FOGLALAS_PK": "979",
                                    "FOGLALAS_IDOTARTAM": "7",
                                    "ELOZO_FOGLALAS_IDOTARTAM": "3"
                                },
                                {
                                    "SZOBA_FK": "35",
                                    "FOGLALAS_PK": "686",
                                    "FOGLALAS_IDOTARTAM": "6",
                                    "ELOZO_FOGLALAS_IDOTARTAM": "7"
                                },
                                {
                                    "SZOBA_FK": "35",
                                    "FOGLALAS_PK": "707",
                                    "FOGLALAS_IDOTARTAM": "2",
                                    "ELOZO_FOGLALAS_IDOTARTAM": "6"
                                },
                                {
                                    "SZOBA_FK": "35",
                                    "FOGLALAS_PK": "829",
                                    "FOGLALAS_IDOTARTAM": "2",
                                    "ELOZO_FOGLALAS_IDOTARTAM": "2"
                                },
                                {
                                    "SZOBA_FK": "35",
                                    "FOGLALAS_PK": "1480",
                                    "FOGLALAS_IDOTARTAM": "37",
                                    "ELOZO_FOGLALAS_IDOTARTAM": "2"
                                },
                                {
                                    "SZOBA_FK": "35",
                                    "FOGLALAS_PK": "1411",
                                    "FOGLALAS_IDOTARTAM": "1",
                                    "ELOZO_FOGLALAS_IDOTARTAM": "37"
                                },
                                {
                                    "SZOBA_FK": "35",
                                    "FOGLALAS_PK": "1436",
                                    "FOGLALAS_IDOTARTAM": "1",
                                    "ELOZO_FOGLALAS_IDOTARTAM": "1"
                                },
                                {
                                    "SZOBA_FK": "35",
                                    "FOGLALAS_PK": "1529",
                                    "FOGLALAS_IDOTARTAM": "4",
                                    "ELOZO_FOGLALAS_IDOTARTAM": "1"
                                },
                                {
                                    "SZOBA_FK": "36",
                                    "FOGLALAS_PK": "895",
                                    "FOGLALAS_IDOTARTAM": "5",
                                    "ELOZO_FOGLALAS_IDOTARTAM": "0"
                                },
                                {
                                    "SZOBA_FK": "36",
                                    "FOGLALAS_PK": "919",
                                    "FOGLALAS_IDOTARTAM": "1",
                                    "ELOZO_FOGLALAS_IDOTARTAM": "5"
                                },
                                {
                                    "SZOBA_FK": "36",
                                    "FOGLALAS_PK": "985",
                                    "FOGLALAS_IDOTARTAM": "6",
                                    "ELOZO_FOGLALAS_IDOTARTAM": "1"
                                },
                                {
                                    "SZOBA_FK": "36",
                                    "FOGLALAS_PK": "1003",
                                    "FOGLALAS_IDOTARTAM": "4",
                                    "ELOZO_FOGLALAS_IDOTARTAM": "6"
                                },
                                {
                                    "SZOBA_FK": "36",
                                    "FOGLALAS_PK": "748",
                                    "FOGLALAS_IDOTARTAM": "2",
                                    "ELOZO_FOGLALAS_IDOTARTAM": "4"
                                },
                                {
                                    "SZOBA_FK": "36",
                                    "FOGLALAS_PK": "750",
                                    "FOGLALAS_IDOTARTAM": "6",
                                    "ELOZO_FOGLALAS_IDOTARTAM": "2"
                                },
                                {
                                    "SZOBA_FK": "37",
                                    "FOGLALAS_PK": "688",
                                    "FOGLALAS_IDOTARTAM": "2",
                                    "ELOZO_FOGLALAS_IDOTARTAM": "0"
                                },
                                {
                                    "SZOBA_FK": "37",
                                    "FOGLALAS_PK": "705",
                                    "FOGLALAS_IDOTARTAM": "4",
                                    "ELOZO_FOGLALAS_IDOTARTAM": "2"
                                },
                                {
                                    "SZOBA_FK": "37",
                                    "FOGLALAS_PK": "1335",
                                    "FOGLALAS_IDOTARTAM": "7",
                                    "ELOZO_FOGLALAS_IDOTARTAM": "4"
                                },
                                {
                                    "SZOBA_FK": "38",
                                    "FOGLALAS_PK": "627",
                                    "FOGLALAS_IDOTARTAM": "6",
                                    "ELOZO_FOGLALAS_IDOTARTAM": "0"
                                },
                                {
                                    "SZOBA_FK": "38",
                                    "FOGLALAS_PK": "1033",
                                    "FOGLALAS_IDOTARTAM": "2",
                                    "ELOZO_FOGLALAS_IDOTARTAM": "6"
                                },
                                {
                                    "SZOBA_FK": "38",
                                    "FOGLALAS_PK": "1060",
                                    "FOGLALAS_IDOTARTAM": "2",
                                    "ELOZO_FOGLALAS_IDOTARTAM": "2"
                                },
                                {
                                    "SZOBA_FK": "38",
                                    "FOGLALAS_PK": "1078",
                                    "FOGLALAS_IDOTARTAM": "7",
                                    "ELOZO_FOGLALAS_IDOTARTAM": "2"
                                },
                                {
                                    "SZOBA_FK": "38",
                                    "FOGLALAS_PK": "1351",
                                    "FOGLALAS_IDOTARTAM": "4",
                                    "ELOZO_FOGLALAS_IDOTARTAM": "7"
                                },
                                {
                                    "SZOBA_FK": "38",
                                    "FOGLALAS_PK": "1416",
                                    "FOGLALAS_IDOTARTAM": "5",
                                    "ELOZO_FOGLALAS_IDOTARTAM": "4"
                                },
                                {
                                    "SZOBA_FK": "38",
                                    "FOGLALAS_PK": "1478",
                                    "FOGLALAS_IDOTARTAM": "4",
                                    "ELOZO_FOGLALAS_IDOTARTAM": "5"
                                },
                                {
                                    "SZOBA_FK": "38",
                                    "FOGLALAS_PK": "1556",
                                    "FOGLALAS_IDOTARTAM": "6",
                                    "ELOZO_FOGLALAS_IDOTARTAM": "4"
                                },
                                {
                                    "SZOBA_FK": "39",
                                    "FOGLALAS_PK": "601",
                                    "FOGLALAS_IDOTARTAM": "6",
                                    "ELOZO_FOGLALAS_IDOTARTAM": "0"
                                },
                                {
                                    "SZOBA_FK": "39",
                                    "FOGLALAS_PK": "899",
                                    "FOGLALAS_IDOTARTAM": "6",
                                    "ELOZO_FOGLALAS_IDOTARTAM": "6"
                                },
                                {
                                    "SZOBA_FK": "39",
                                    "FOGLALAS_PK": "1214",
                                    "FOGLALAS_IDOTARTAM": "5",
                                    "ELOZO_FOGLALAS_IDOTARTAM": "6"
                                },
                                {
                                    "SZOBA_FK": "39",
                                    "FOGLALAS_PK": "1380",
                                    "FOGLALAS_IDOTARTAM": "5",
                                    "ELOZO_FOGLALAS_IDOTARTAM": "5"
                                },
                                {
                                    "SZOBA_FK": "39",
                                    "FOGLALAS_PK": "1435",
                                    "FOGLALAS_IDOTARTAM": "7",
                                    "ELOZO_FOGLALAS_IDOTARTAM": "5"
                                },
                                {
                                    "SZOBA_FK": "39",
                                    "FOGLALAS_PK": "1454",
                                    "FOGLALAS_IDOTARTAM": "1",
                                    "ELOZO_FOGLALAS_IDOTARTAM": "7"
                                },
                                {
                                    "SZOBA_FK": "39",
                                    "FOGLALAS_PK": "1538",
                                    "FOGLALAS_IDOTARTAM": "2",
                                    "ELOZO_FOGLALAS_IDOTARTAM": "1"
                                },
                                {
                                    "SZOBA_FK": "40",
                                    "FOGLALAS_PK": "924",
                                    "FOGLALAS_IDOTARTAM": "5",
                                    "ELOZO_FOGLALAS_IDOTARTAM": "0"
                                },
                                {
                                    "SZOBA_FK": "40",
                                    "FOGLALAS_PK": "932",
                                    "FOGLALAS_IDOTARTAM": "6",
                                    "ELOZO_FOGLALAS_IDOTARTAM": "5"
                                },
                                {
                                    "SZOBA_FK": "40",
                                    "FOGLALAS_PK": "1018",
                                    "FOGLALAS_IDOTARTAM": "5",
                                    "ELOZO_FOGLALAS_IDOTARTAM": "6"
                                },
                                {
                                    "SZOBA_FK": "40",
                                    "FOGLALAS_PK": "1118",
                                    "FOGLALAS_IDOTARTAM": "5",
                                    "ELOZO_FOGLALAS_IDOTARTAM": "5"
                                },
                                {
                                    "SZOBA_FK": "41",
                                    "FOGLALAS_PK": "960",
                                    "FOGLALAS_IDOTARTAM": "6",
                                    "ELOZO_FOGLALAS_IDOTARTAM": "0"
                                },
                                {
                                    "SZOBA_FK": "41",
                                    "FOGLALAS_PK": "1144",
                                    "FOGLALAS_IDOTARTAM": "1",
                                    "ELOZO_FOGLALAS_IDOTARTAM": "6"
                                },
                                {
                                    "SZOBA_FK": "42",
                                    "FOGLALAS_PK": "561",
                                    "FOGLALAS_IDOTARTAM": "4",
                                    "ELOZO_FOGLALAS_IDOTARTAM": "0"
                                },
                                {
                                    "SZOBA_FK": "42",
                                    "FOGLALAS_PK": "590",
                                    "FOGLALAS_IDOTARTAM": "5",
                                    "ELOZO_FOGLALAS_IDOTARTAM": "4"
                                },
                                {
                                    "SZOBA_FK": "42",
                                    "FOGLALAS_PK": "851",
                                    "FOGLALAS_IDOTARTAM": "7",
                                    "ELOZO_FOGLALAS_IDOTARTAM": "5"
                                },
                                {
                                    "SZOBA_FK": "42",
                                    "FOGLALAS_PK": "770",
                                    "FOGLALAS_IDOTARTAM": "3",
                                    "ELOZO_FOGLALAS_IDOTARTAM": "7"
                                },
                                {
                                    "SZOBA_FK": "42",
                                    "FOGLALAS_PK": "1309",
                                    "FOGLALAS_IDOTARTAM": "2",
                                    "ELOZO_FOGLALAS_IDOTARTAM": "3"
                                },
                                {
                                    "SZOBA_FK": "42",
                                    "FOGLALAS_PK": "1444",
                                    "FOGLALAS_IDOTARTAM": "6",
                                    "ELOZO_FOGLALAS_IDOTARTAM": "2"
                                },
                                {
                                    "SZOBA_FK": "43",
                                    "FOGLALAS_PK": "1019",
                                    "FOGLALAS_IDOTARTAM": "4",
                                    "ELOZO_FOGLALAS_IDOTARTAM": "0"
                                },
                                {
                                    "SZOBA_FK": "43",
                                    "FOGLALAS_PK": "670",
                                    "FOGLALAS_IDOTARTAM": "4",
                                    "ELOZO_FOGLALAS_IDOTARTAM": "4"
                                },
                                {
                                    "SZOBA_FK": "43",
                                    "FOGLALAS_PK": "1088",
                                    "FOGLALAS_IDOTARTAM": "2",
                                    "ELOZO_FOGLALAS_IDOTARTAM": "4"
                                },
                                {
                                    "SZOBA_FK": "43",
                                    "FOGLALAS_PK": "1207",
                                    "FOGLALAS_IDOTARTAM": "1",
                                    "ELOZO_FOGLALAS_IDOTARTAM": "2"
                                },
                                {
                                    "SZOBA_FK": "43",
                                    "FOGLALAS_PK": "1227",
                                    "FOGLALAS_IDOTARTAM": "5",
                                    "ELOZO_FOGLALAS_IDOTARTAM": "1"
                                },
                                {
                                    "SZOBA_FK": "43",
                                    "FOGLALAS_PK": "1270",
                                    "FOGLALAS_IDOTARTAM": "4",
                                    "ELOZO_FOGLALAS_IDOTARTAM": "5"
                                },
                                {
                                    "SZOBA_FK": "43",
                                    "FOGLALAS_PK": "1524",
                                    "FOGLALAS_IDOTARTAM": "1",
                                    "ELOZO_FOGLALAS_IDOTARTAM": "4"
                                },
                                {
                                    "SZOBA_FK": "43",
                                    "FOGLALAS_PK": "1553",
                                    "FOGLALAS_IDOTARTAM": "5",
                                    "ELOZO_FOGLALAS_IDOTARTAM": "1"
                                },
                                {
                                    "SZOBA_FK": "44",
                                    "FOGLALAS_PK": "589",
                                    "FOGLALAS_IDOTARTAM": "2",
                                    "ELOZO_FOGLALAS_IDOTARTAM": "0"
                                },
                                {
                                    "SZOBA_FK": "44",
                                    "FOGLALAS_PK": "658",
                                    "FOGLALAS_IDOTARTAM": "6",
                                    "ELOZO_FOGLALAS_IDOTARTAM": "2"
                                },
                                {
                                    "SZOBA_FK": "44",
                                    "FOGLALAS_PK": "823",
                                    "FOGLALAS_IDOTARTAM": "2",
                                    "ELOZO_FOGLALAS_IDOTARTAM": "6"
                                },
                                {
                                    "SZOBA_FK": "44",
                                    "FOGLALAS_PK": "1295",
                                    "FOGLALAS_IDOTARTAM": "2",
                                    "ELOZO_FOGLALAS_IDOTARTAM": "2"
                                },
                                {
                                    "SZOBA_FK": "44",
                                    "FOGLALAS_PK": "1425",
                                    "FOGLALAS_IDOTARTAM": "2",
                                    "ELOZO_FOGLALAS_IDOTARTAM": "2"
                                },
                                {
                                    "SZOBA_FK": "44",
                                    "FOGLALAS_PK": "1552",
                                    "FOGLALAS_IDOTARTAM": "2",
                                    "ELOZO_FOGLALAS_IDOTARTAM": "2"
                                },
                                {
                                    "SZOBA_FK": "45",
                                    "FOGLALAS_PK": "802",
                                    "FOGLALAS_IDOTARTAM": "7",
                                    "ELOZO_FOGLALAS_IDOTARTAM": "0"
                                },
                                {
                                    "SZOBA_FK": "45",
                                    "FOGLALAS_PK": "800",
                                    "FOGLALAS_IDOTARTAM": "5",
                                    "ELOZO_FOGLALAS_IDOTARTAM": "7"
                                },
                                {
                                    "SZOBA_FK": "45",
                                    "FOGLALAS_PK": "846",
                                    "FOGLALAS_IDOTARTAM": "3",
                                    "ELOZO_FOGLALAS_IDOTARTAM": "5"
                                },
                                {
                                    "SZOBA_FK": "45",
                                    "FOGLALAS_PK": "1135",
                                    "FOGLALAS_IDOTARTAM": "3",
                                    "ELOZO_FOGLALAS_IDOTARTAM": "3"
                                },
                                {
                                    "SZOBA_FK": "45",
                                    "FOGLALAS_PK": "1303",
                                    "FOGLALAS_IDOTARTAM": "2",
                                    "ELOZO_FOGLALAS_IDOTARTAM": "3"
                                },
                                {
                                    "SZOBA_FK": "46",
                                    "FOGLALAS_PK": "752",
                                    "FOGLALAS_IDOTARTAM": "5",
                                    "ELOZO_FOGLALAS_IDOTARTAM": "0"
                                },
                                {
                                    "SZOBA_FK": "46",
                                    "FOGLALAS_PK": "1187",
                                    "FOGLALAS_IDOTARTAM": "7",
                                    "ELOZO_FOGLALAS_IDOTARTAM": "5"
                                },
                                {
                                    "SZOBA_FK": "46",
                                    "FOGLALAS_PK": "1291",
                                    "FOGLALAS_IDOTARTAM": "3",
                                    "ELOZO_FOGLALAS_IDOTARTAM": "7"
                                },
                                {
                                    "SZOBA_FK": "46",
                                    "FOGLALAS_PK": "1515",
                                    "FOGLALAS_IDOTARTAM": "4",
                                    "ELOZO_FOGLALAS_IDOTARTAM": "3"
                                },
                                {
                                    "SZOBA_FK": "47",
                                    "FOGLALAS_PK": "955",
                                    "FOGLALAS_IDOTARTAM": "1",
                                    "ELOZO_FOGLALAS_IDOTARTAM": "0"
                                },
                                {
                                    "SZOBA_FK": "47",
                                    "FOGLALAS_PK": "1056",
                                    "FOGLALAS_IDOTARTAM": "7",
                                    "ELOZO_FOGLALAS_IDOTARTAM": "1"
                                },
                                {
                                    "SZOBA_FK": "48",
                                    "FOGLALAS_PK": "603",
                                    "FOGLALAS_IDOTARTAM": "3",
                                    "ELOZO_FOGLALAS_IDOTARTAM": "0"
                                },
                                {
                                    "SZOBA_FK": "48",
                                    "FOGLALAS_PK": "628",
                                    "FOGLALAS_IDOTARTAM": "2",
                                    "ELOZO_FOGLALAS_IDOTARTAM": "3"
                                },
                                {
                                    "SZOBA_FK": "48",
                                    "FOGLALAS_PK": "914",
                                    "FOGLALAS_IDOTARTAM": "5",
                                    "ELOZO_FOGLALAS_IDOTARTAM": "2"
                                },
                                {
                                    "SZOBA_FK": "48",
                                    "FOGLALAS_PK": "986",
                                    "FOGLALAS_IDOTARTAM": "5",
                                    "ELOZO_FOGLALAS_IDOTARTAM": "5"
                                },
                                {
                                    "SZOBA_FK": "48",
                                    "FOGLALAS_PK": "824",
                                    "FOGLALAS_IDOTARTAM": "2",
                                    "ELOZO_FOGLALAS_IDOTARTAM": "5"
                                },
                                {
                                    "SZOBA_FK": "48",
                                    "FOGLALAS_PK": "1243",
                                    "FOGLALAS_IDOTARTAM": "6",
                                    "ELOZO_FOGLALAS_IDOTARTAM": "2"
                                },
                                {
                                    "SZOBA_FK": "48",
                                    "FOGLALAS_PK": "1546",
                                    "FOGLALAS_IDOTARTAM": "3",
                                    "ELOZO_FOGLALAS_IDOTARTAM": "6"
                                },
                                {
                                    "SZOBA_FK": "48",
                                    "FOGLALAS_PK": "1547",
                                    "FOGLALAS_IDOTARTAM": "1",
                                    "ELOZO_FOGLALAS_IDOTARTAM": "3"
                                },
                                {
                                    "SZOBA_FK": "48",
                                    "FOGLALAS_PK": "1581",
                                    "FOGLALAS_IDOTARTAM": "5",
                                    "ELOZO_FOGLALAS_IDOTARTAM": "1"
                                },
                                {
                                    "SZOBA_FK": "49",
                                    "FOGLALAS_PK": "888",
                                    "FOGLALAS_IDOTARTAM": "7",
                                    "ELOZO_FOGLALAS_IDOTARTAM": "0"
                                },
                                {
                                    "SZOBA_FK": "49",
                                    "FOGLALAS_PK": "793",
                                    "FOGLALAS_IDOTARTAM": "6",
                                    "ELOZO_FOGLALAS_IDOTARTAM": "7"
                                },
                                {
                                    "SZOBA_FK": "49",
                                    "FOGLALAS_PK": "826",
                                    "FOGLALAS_IDOTARTAM": "4",
                                    "ELOZO_FOGLALAS_IDOTARTAM": "6"
                                },
                                {
                                    "SZOBA_FK": "49",
                                    "FOGLALAS_PK": "1066",
                                    "FOGLALAS_IDOTARTAM": "7",
                                    "ELOZO_FOGLALAS_IDOTARTAM": "4"
                                },
                                {
                                    "SZOBA_FK": "49",
                                    "FOGLALAS_PK": "1200",
                                    "FOGLALAS_IDOTARTAM": "7",
                                    "ELOZO_FOGLALAS_IDOTARTAM": "7"
                                },
                                {
                                    "SZOBA_FK": "49",
                                    "FOGLALAS_PK": "1221",
                                    "FOGLALAS_IDOTARTAM": "2",
                                    "ELOZO_FOGLALAS_IDOTARTAM": "7"
                                },
                                {
                                    "SZOBA_FK": "49",
                                    "FOGLALAS_PK": "1536",
                                    "FOGLALAS_IDOTARTAM": "6",
                                    "ELOZO_FOGLALAS_IDOTARTAM": "2"
                                },
                                {
                                    "SZOBA_FK": "50",
                                    "FOGLALAS_PK": "787",
                                    "FOGLALAS_IDOTARTAM": "3",
                                    "ELOZO_FOGLALAS_IDOTARTAM": "0"
                                },
                                {
                                    "SZOBA_FK": "50",
                                    "FOGLALAS_PK": "1063",
                                    "FOGLALAS_IDOTARTAM": "2",
                                    "ELOZO_FOGLALAS_IDOTARTAM": "3"
                                },
                                {
                                    "SZOBA_FK": "50",
                                    "FOGLALAS_PK": "1224",
                                    "FOGLALAS_IDOTARTAM": "1",
                                    "ELOZO_FOGLALAS_IDOTARTAM": "2"
                                },
                                {
                                    "SZOBA_FK": "50",
                                    "FOGLALAS_PK": "1272",
                                    "FOGLALAS_IDOTARTAM": "1",
                                    "ELOZO_FOGLALAS_IDOTARTAM": "1"
                                },
                                {
                                    "SZOBA_FK": "51",
                                    "FOGLALAS_PK": "865",
                                    "FOGLALAS_IDOTARTAM": "7",
                                    "ELOZO_FOGLALAS_IDOTARTAM": "0"
                                },
                                {
                                    "SZOBA_FK": "51",
                                    "FOGLALAS_PK": "811",
                                    "FOGLALAS_IDOTARTAM": "2",
                                    "ELOZO_FOGLALAS_IDOTARTAM": "7"
                                },
                                {
                                    "SZOBA_FK": "51",
                                    "FOGLALAS_PK": "1165",
                                    "FOGLALAS_IDOTARTAM": "5",
                                    "ELOZO_FOGLALAS_IDOTARTAM": "2"
                                },
                                {
                                    "SZOBA_FK": "51",
                                    "FOGLALAS_PK": "1477",
                                    "FOGLALAS_IDOTARTAM": "6",
                                    "ELOZO_FOGLALAS_IDOTARTAM": "5"
                                },
                                {
                                    "SZOBA_FK": "51",
                                    "FOGLALAS_PK": "1550",
                                    "FOGLALAS_IDOTARTAM": "1",
                                    "ELOZO_FOGLALAS_IDOTARTAM": "6"
                                },
                                {
                                    "SZOBA_FK": "52",
                                    "FOGLALAS_PK": "822",
                                    "FOGLALAS_IDOTARTAM": "7",
                                    "ELOZO_FOGLALAS_IDOTARTAM": "0"
                                },
                                {
                                    "SZOBA_FK": "52",
                                    "FOGLALAS_PK": "1202",
                                    "FOGLALAS_IDOTARTAM": "2",
                                    "ELOZO_FOGLALAS_IDOTARTAM": "7"
                                },
                                {
                                    "SZOBA_FK": "52",
                                    "FOGLALAS_PK": "1258",
                                    "FOGLALAS_IDOTARTAM": "5",
                                    "ELOZO_FOGLALAS_IDOTARTAM": "2"
                                },
                                {
                                    "SZOBA_FK": "52",
                                    "FOGLALAS_PK": "1431",
                                    "FOGLALAS_IDOTARTAM": "5",
                                    "ELOZO_FOGLALAS_IDOTARTAM": "5"
                                },
                                {
                                    "SZOBA_FK": "52",
                                    "FOGLALAS_PK": "1534",
                                    "FOGLALAS_IDOTARTAM": "5",
                                    "ELOZO_FOGLALAS_IDOTARTAM": "5"
                                },
                                {
                                    "SZOBA_FK": "53",
                                    "FOGLALAS_PK": "855",
                                    "FOGLALAS_IDOTARTAM": "1",
                                    "ELOZO_FOGLALAS_IDOTARTAM": "0"
                                },
                                {
                                    "SZOBA_FK": "53",
                                    "FOGLALAS_PK": "987",
                                    "FOGLALAS_IDOTARTAM": "4",
                                    "ELOZO_FOGLALAS_IDOTARTAM": "1"
                                },
                                {
                                    "SZOBA_FK": "54",
                                    "FOGLALAS_PK": "622",
                                    "FOGLALAS_IDOTARTAM": "7",
                                    "ELOZO_FOGLALAS_IDOTARTAM": "0"
                                },
                                {
                                    "SZOBA_FK": "54",
                                    "FOGLALAS_PK": "642",
                                    "FOGLALAS_IDOTARTAM": "5",
                                    "ELOZO_FOGLALAS_IDOTARTAM": "7"
                                },
                                {
                                    "SZOBA_FK": "54",
                                    "FOGLALAS_PK": "889",
                                    "FOGLALAS_IDOTARTAM": "2",
                                    "ELOZO_FOGLALAS_IDOTARTAM": "5"
                                },
                                {
                                    "SZOBA_FK": "54",
                                    "FOGLALAS_PK": "668",
                                    "FOGLALAS_IDOTARTAM": "1",
                                    "ELOZO_FOGLALAS_IDOTARTAM": "2"
                                },
                                {
                                    "SZOBA_FK": "54",
                                    "FOGLALAS_PK": "1096",
                                    "FOGLALAS_IDOTARTAM": "4",
                                    "ELOZO_FOGLALAS_IDOTARTAM": "1"
                                },
                                {
                                    "SZOBA_FK": "54",
                                    "FOGLALAS_PK": "1328",
                                    "FOGLALAS_IDOTARTAM": "4",
                                    "ELOZO_FOGLALAS_IDOTARTAM": "4"
                                },
                                {
                                    "SZOBA_FK": "55",
                                    "FOGLALAS_PK": "734",
                                    "FOGLALAS_IDOTARTAM": "6",
                                    "ELOZO_FOGLALAS_IDOTARTAM": "0"
                                },
                                {
                                    "SZOBA_FK": "55",
                                    "FOGLALAS_PK": "1086",
                                    "FOGLALAS_IDOTARTAM": "5",
                                    "ELOZO_FOGLALAS_IDOTARTAM": "6"
                                },
                                {
                                    "SZOBA_FK": "55",
                                    "FOGLALAS_PK": "1163",
                                    "FOGLALAS_IDOTARTAM": "2",
                                    "ELOZO_FOGLALAS_IDOTARTAM": "5"
                                },
                                {
                                    "SZOBA_FK": "55",
                                    "FOGLALAS_PK": "1232",
                                    "FOGLALAS_IDOTARTAM": "7",
                                    "ELOZO_FOGLALAS_IDOTARTAM": "2"
                                },
                                {
                                    "SZOBA_FK": "55",
                                    "FOGLALAS_PK": "1327",
                                    "FOGLALAS_IDOTARTAM": "6",
                                    "ELOZO_FOGLALAS_IDOTARTAM": "7"
                                },
                                {
                                    "SZOBA_FK": "55",
                                    "FOGLALAS_PK": "1386",
                                    "FOGLALAS_IDOTARTAM": "2",
                                    "ELOZO_FOGLALAS_IDOTARTAM": "6"
                                },
                                {
                                    "SZOBA_FK": "55",
                                    "FOGLALAS_PK": "1512",
                                    "FOGLALAS_IDOTARTAM": "1",
                                    "ELOZO_FOGLALAS_IDOTARTAM": "2"
                                },
                                {
                                    "SZOBA_FK": "55",
                                    "FOGLALAS_PK": "1520",
                                    "FOGLALAS_IDOTARTAM": "1",
                                    "ELOZO_FOGLALAS_IDOTARTAM": "1"
                                },
                                {
                                    "SZOBA_FK": "56",
                                    "FOGLALAS_PK": "935",
                                    "FOGLALAS_IDOTARTAM": "4",
                                    "ELOZO_FOGLALAS_IDOTARTAM": "0"
                                },
                                {
                                    "SZOBA_FK": "56",
                                    "FOGLALAS_PK": "838",
                                    "FOGLALAS_IDOTARTAM": "2",
                                    "ELOZO_FOGLALAS_IDOTARTAM": "4"
                                },
                                {
                                    "SZOBA_FK": "57",
                                    "FOGLALAS_PK": "1348",
                                    "FOGLALAS_IDOTARTAM": "1",
                                    "ELOZO_FOGLALAS_IDOTARTAM": "0"
                                },
                                {
                                    "SZOBA_FK": "57",
                                    "FOGLALAS_PK": "1389",
                                    "FOGLALAS_IDOTARTAM": "1",
                                    "ELOZO_FOGLALAS_IDOTARTAM": "1"
                                },
                                {
                                    "SZOBA_FK": "57",
                                    "FOGLALAS_PK": "1466",
                                    "FOGLALAS_IDOTARTAM": "7",
                                    "ELOZO_FOGLALAS_IDOTARTAM": "1"
                                },
                                {
                                    "SZOBA_FK": "57",
                                    "FOGLALAS_PK": "1504",
                                    "FOGLALAS_IDOTARTAM": "4",
                                    "ELOZO_FOGLALAS_IDOTARTAM": "7"
                                },
                                {
                                    "SZOBA_FK": "58",
                                    "FOGLALAS_PK": "883",
                                    "FOGLALAS_IDOTARTAM": "5",
                                    "ELOZO_FOGLALAS_IDOTARTAM": "0"
                                },
                                {
                                    "SZOBA_FK": "58",
                                    "FOGLALAS_PK": "719",
                                    "FOGLALAS_IDOTARTAM": "3",
                                    "ELOZO_FOGLALAS_IDOTARTAM": "5"
                                },
                                {
                                    "SZOBA_FK": "58",
                                    "FOGLALAS_PK": "773",
                                    "FOGLALAS_IDOTARTAM": "2",
                                    "ELOZO_FOGLALAS_IDOTARTAM": "3"
                                },
                                {
                                    "SZOBA_FK": "58",
                                    "FOGLALAS_PK": "1113",
                                    "FOGLALAS_IDOTARTAM": "3",
                                    "ELOZO_FOGLALAS_IDOTARTAM": "2"
                                },
                                {
                                    "SZOBA_FK": "58",
                                    "FOGLALAS_PK": "1186",
                                    "FOGLALAS_IDOTARTAM": "6",
                                    "ELOZO_FOGLALAS_IDOTARTAM": "3"
                                },
                                {
                                    "SZOBA_FK": "58",
                                    "FOGLALAS_PK": "1208",
                                    "FOGLALAS_IDOTARTAM": "6",
                                    "ELOZO_FOGLALAS_IDOTARTAM": "6"
                                },
                                {
                                    "SZOBA_FK": "58",
                                    "FOGLALAS_PK": "1255",
                                    "FOGLALAS_IDOTARTAM": "7",
                                    "ELOZO_FOGLALAS_IDOTARTAM": "6"
                                },
                                {
                                    "SZOBA_FK": "58",
                                    "FOGLALAS_PK": "1261",
                                    "FOGLALAS_IDOTARTAM": "6",
                                    "ELOZO_FOGLALAS_IDOTARTAM": "7"
                                },
                                {
                                    "SZOBA_FK": "58",
                                    "FOGLALAS_PK": "1285",
                                    "FOGLALAS_IDOTARTAM": "7",
                                    "ELOZO_FOGLALAS_IDOTARTAM": "6"
                                },
                                {
                                    "SZOBA_FK": "58",
                                    "FOGLALAS_PK": "1293",
                                    "FOGLALAS_IDOTARTAM": "3",
                                    "ELOZO_FOGLALAS_IDOTARTAM": "7"
                                },
                                {
                                    "SZOBA_FK": "58",
                                    "FOGLALAS_PK": "1307",
                                    "FOGLALAS_IDOTARTAM": "6",
                                    "ELOZO_FOGLALAS_IDOTARTAM": "3"
                                },
                                {
                                    "SZOBA_FK": "58",
                                    "FOGLALAS_PK": "1322",
                                    "FOGLALAS_IDOTARTAM": "3",
                                    "ELOZO_FOGLALAS_IDOTARTAM": "6"
                                },
                                {
                                    "SZOBA_FK": "58",
                                    "FOGLALAS_PK": "1451",
                                    "FOGLALAS_IDOTARTAM": "6",
                                    "ELOZO_FOGLALAS_IDOTARTAM": "3"
                                },
                                {
                                    "SZOBA_FK": "59",
                                    "FOGLALAS_PK": "1080",
                                    "FOGLALAS_IDOTARTAM": "1",
                                    "ELOZO_FOGLALAS_IDOTARTAM": "0"
                                },
                                {
                                    "SZOBA_FK": "59",
                                    "FOGLALAS_PK": "1084",
                                    "FOGLALAS_IDOTARTAM": "2",
                                    "ELOZO_FOGLALAS_IDOTARTAM": "1"
                                },
                                {
                                    "SZOBA_FK": "59",
                                    "FOGLALAS_PK": "1170",
                                    "FOGLALAS_IDOTARTAM": "5",
                                    "ELOZO_FOGLALAS_IDOTARTAM": "2"
                                },
                                {
                                    "SZOBA_FK": "59",
                                    "FOGLALAS_PK": "1191",
                                    "FOGLALAS_IDOTARTAM": "6",
                                    "ELOZO_FOGLALAS_IDOTARTAM": "5"
                                },
                                {
                                    "SZOBA_FK": "59",
                                    "FOGLALAS_PK": "1239",
                                    "FOGLALAS_IDOTARTAM": "2",
                                    "ELOZO_FOGLALAS_IDOTARTAM": "6"
                                },
                                {
                                    "SZOBA_FK": "59",
                                    "FOGLALAS_PK": "1288",
                                    "FOGLALAS_IDOTARTAM": "3",
                                    "ELOZO_FOGLALAS_IDOTARTAM": "2"
                                },
                                {
                                    "SZOBA_FK": "59",
                                    "FOGLALAS_PK": "1573",
                                    "FOGLALAS_IDOTARTAM": "1",
                                    "ELOZO_FOGLALAS_IDOTARTAM": "3"
                                },
                                {
                                    "SZOBA_FK": "60",
                                    "FOGLALAS_PK": "676",
                                    "FOGLALAS_IDOTARTAM": "2",
                                    "ELOZO_FOGLALAS_IDOTARTAM": "0"
                                },
                                {
                                    "SZOBA_FK": "61",
                                    "FOGLALAS_PK": "701",
                                    "FOGLALAS_IDOTARTAM": "2",
                                    "ELOZO_FOGLALAS_IDOTARTAM": "0"
                                },
                                {
                                    "SZOBA_FK": "61",
                                    "FOGLALAS_PK": "756",
                                    "FOGLALAS_IDOTARTAM": "6",
                                    "ELOZO_FOGLALAS_IDOTARTAM": "2"
                                },
                                {
                                    "SZOBA_FK": "61",
                                    "FOGLALAS_PK": "1148",
                                    "FOGLALAS_IDOTARTAM": "3",
                                    "ELOZO_FOGLALAS_IDOTARTAM": "6"
                                },
                                {
                                    "SZOBA_FK": "61",
                                    "FOGLALAS_PK": "1218",
                                    "FOGLALAS_IDOTARTAM": "2",
                                    "ELOZO_FOGLALAS_IDOTARTAM": "3"
                                },
                                {
                                    "SZOBA_FK": "61",
                                    "FOGLALAS_PK": "1496",
                                    "FOGLALAS_IDOTARTAM": "7",
                                    "ELOZO_FOGLALAS_IDOTARTAM": "2"
                                },
                                {
                                    "SZOBA_FK": "62",
                                    "FOGLALAS_PK": "936",
                                    "FOGLALAS_IDOTARTAM": "3",
                                    "ELOZO_FOGLALAS_IDOTARTAM": "0"
                                },
                                {
                                    "SZOBA_FK": "62",
                                    "FOGLALAS_PK": "938",
                                    "FOGLALAS_IDOTARTAM": "1",
                                    "ELOZO_FOGLALAS_IDOTARTAM": "3"
                                },
                                {
                                    "SZOBA_FK": "62",
                                    "FOGLALAS_PK": "702",
                                    "FOGLALAS_IDOTARTAM": "5",
                                    "ELOZO_FOGLALAS_IDOTARTAM": "1"
                                },
                                {
                                    "SZOBA_FK": "62",
                                    "FOGLALAS_PK": "1081",
                                    "FOGLALAS_IDOTARTAM": "7",
                                    "ELOZO_FOGLALAS_IDOTARTAM": "5"
                                },
                                {
                                    "SZOBA_FK": "62",
                                    "FOGLALAS_PK": "1426",
                                    "FOGLALAS_IDOTARTAM": "4",
                                    "ELOZO_FOGLALAS_IDOTARTAM": "7"
                                },
                                {
                                    "SZOBA_FK": "63",
                                    "FOGLALAS_PK": "625",
                                    "FOGLALAS_IDOTARTAM": "3",
                                    "ELOZO_FOGLALAS_IDOTARTAM": "0"
                                },
                                {
                                    "SZOBA_FK": "63",
                                    "FOGLALAS_PK": "891",
                                    "FOGLALAS_IDOTARTAM": "6",
                                    "ELOZO_FOGLALAS_IDOTARTAM": "3"
                                },
                                {
                                    "SZOBA_FK": "63",
                                    "FOGLALAS_PK": "769",
                                    "FOGLALAS_IDOTARTAM": "5",
                                    "ELOZO_FOGLALAS_IDOTARTAM": "6"
                                },
                                {
                                    "SZOBA_FK": "63",
                                    "FOGLALAS_PK": "845",
                                    "FOGLALAS_IDOTARTAM": "1",
                                    "ELOZO_FOGLALAS_IDOTARTAM": "5"
                                },
                                {
                                    "SZOBA_FK": "64",
                                    "FOGLALAS_PK": "875",
                                    "FOGLALAS_IDOTARTAM": "2",
                                    "ELOZO_FOGLALAS_IDOTARTAM": "0"
                                },
                                {
                                    "SZOBA_FK": "64",
                                    "FOGLALAS_PK": "1122",
                                    "FOGLALAS_IDOTARTAM": "4",
                                    "ELOZO_FOGLALAS_IDOTARTAM": "2"
                                },
                                {
                                    "SZOBA_FK": "64",
                                    "FOGLALAS_PK": "1233",
                                    "FOGLALAS_IDOTARTAM": "7",
                                    "ELOZO_FOGLALAS_IDOTARTAM": "4"
                                },
                                {
                                    "SZOBA_FK": "64",
                                    "FOGLALAS_PK": "1446",
                                    "FOGLALAS_IDOTARTAM": "6",
                                    "ELOZO_FOGLALAS_IDOTARTAM": "7"
                                },
                                {
                                    "SZOBA_FK": "64",
                                    "FOGLALAS_PK": "1465",
                                    "FOGLALAS_IDOTARTAM": "4",
                                    "ELOZO_FOGLALAS_IDOTARTAM": "6"
                                },
                                {
                                    "SZOBA_FK": "64",
                                    "FOGLALAS_PK": "1582",
                                    "FOGLALAS_IDOTARTAM": "1",
                                    "ELOZO_FOGLALAS_IDOTARTAM": "4"
                                },
                                {
                                    "SZOBA_FK": "65",
                                    "FOGLALAS_PK": "650",
                                    "FOGLALAS_IDOTARTAM": "6",
                                    "ELOZO_FOGLALAS_IDOTARTAM": "0"
                                },
                                {
                                    "SZOBA_FK": "66",
                                    "FOGLALAS_PK": "950",
                                    "FOGLALAS_IDOTARTAM": "3",
                                    "ELOZO_FOGLALAS_IDOTARTAM": "0"
                                },
                                {
                                    "SZOBA_FK": "66",
                                    "FOGLALAS_PK": "736",
                                    "FOGLALAS_IDOTARTAM": "3",
                                    "ELOZO_FOGLALAS_IDOTARTAM": "3"
                                },
                                {
                                    "SZOBA_FK": "66",
                                    "FOGLALAS_PK": "1234",
                                    "FOGLALAS_IDOTARTAM": "3",
                                    "ELOZO_FOGLALAS_IDOTARTAM": "3"
                                },
                                {
                                    "SZOBA_FK": "66",
                                    "FOGLALAS_PK": "1264",
                                    "FOGLALAS_IDOTARTAM": "4",
                                    "ELOZO_FOGLALAS_IDOTARTAM": "3"
                                },
                                {
                                    "SZOBA_FK": "67",
                                    "FOGLALAS_PK": "638",
                                    "FOGLALAS_IDOTARTAM": "5",
                                    "ELOZO_FOGLALAS_IDOTARTAM": "0"
                                },
                                {
                                    "SZOBA_FK": "67",
                                    "FOGLALAS_PK": "645",
                                    "FOGLALAS_IDOTARTAM": "6",
                                    "ELOZO_FOGLALAS_IDOTARTAM": "5"
                                },
                                {
                                    "SZOBA_FK": "67",
                                    "FOGLALAS_PK": "874",
                                    "FOGLALAS_IDOTARTAM": "6",
                                    "ELOZO_FOGLALAS_IDOTARTAM": "6"
                                },
                                {
                                    "SZOBA_FK": "67",
                                    "FOGLALAS_PK": "1382",
                                    "FOGLALAS_IDOTARTAM": "1",
                                    "ELOZO_FOGLALAS_IDOTARTAM": "6"
                                },
                                {
                                    "SZOBA_FK": "67",
                                    "FOGLALAS_PK": "1580",
                                    "FOGLALAS_IDOTARTAM": "5",
                                    "ELOZO_FOGLALAS_IDOTARTAM": "1"
                                },
                                {
                                    "SZOBA_FK": "67",
                                    "FOGLALAS_PK": "1584",
                                    "FOGLALAS_IDOTARTAM": "1",
                                    "ELOZO_FOGLALAS_IDOTARTAM": "5"
                                },
                                {
                                    "SZOBA_FK": "68",
                                    "FOGLALAS_PK": "563",
                                    "FOGLALAS_IDOTARTAM": "5",
                                    "ELOZO_FOGLALAS_IDOTARTAM": "0"
                                },
                                {
                                    "SZOBA_FK": "68",
                                    "FOGLALAS_PK": "1027",
                                    "FOGLALAS_IDOTARTAM": "7",
                                    "ELOZO_FOGLALAS_IDOTARTAM": "5"
                                },
                                {
                                    "SZOBA_FK": "68",
                                    "FOGLALAS_PK": "1324",
                                    "FOGLALAS_IDOTARTAM": "4",
                                    "ELOZO_FOGLALAS_IDOTARTAM": "7"
                                },
                                {
                                    "SZOBA_FK": "69",
                                    "FOGLALAS_PK": "885",
                                    "FOGLALAS_IDOTARTAM": "1",
                                    "ELOZO_FOGLALAS_IDOTARTAM": "0"
                                },
                                {
                                    "SZOBA_FK": "69",
                                    "FOGLALAS_PK": "1055",
                                    "FOGLALAS_IDOTARTAM": "5",
                                    "ELOZO_FOGLALAS_IDOTARTAM": "1"
                                },
                                {
                                    "SZOBA_FK": "69",
                                    "FOGLALAS_PK": "1225",
                                    "FOGLALAS_IDOTARTAM": "5",
                                    "ELOZO_FOGLALAS_IDOTARTAM": "5"
                                },
                                {
                                    "SZOBA_FK": "69",
                                    "FOGLALAS_PK": "1246",
                                    "FOGLALAS_IDOTARTAM": "7",
                                    "ELOZO_FOGLALAS_IDOTARTAM": "5"
                                },
                                {
                                    "SZOBA_FK": "70",
                                    "FOGLALAS_PK": "585",
                                    "FOGLALAS_IDOTARTAM": "5",
                                    "ELOZO_FOGLALAS_IDOTARTAM": "0"
                                },
                                {
                                    "SZOBA_FK": "70",
                                    "FOGLALAS_PK": "860",
                                    "FOGLALAS_IDOTARTAM": "2",
                                    "ELOZO_FOGLALAS_IDOTARTAM": "5"
                                },
                                {
                                    "SZOBA_FK": "70",
                                    "FOGLALAS_PK": "1006",
                                    "FOGLALAS_IDOTARTAM": "3",
                                    "ELOZO_FOGLALAS_IDOTARTAM": "2"
                                },
                                {
                                    "SZOBA_FK": "70",
                                    "FOGLALAS_PK": "704",
                                    "FOGLALAS_IDOTARTAM": "3",
                                    "ELOZO_FOGLALAS_IDOTARTAM": "3"
                                },
                                {
                                    "SZOBA_FK": "70",
                                    "FOGLALAS_PK": "814",
                                    "FOGLALAS_IDOTARTAM": "3",
                                    "ELOZO_FOGLALAS_IDOTARTAM": "3"
                                },
                                {
                                    "SZOBA_FK": "70",
                                    "FOGLALAS_PK": "1092",
                                    "FOGLALAS_IDOTARTAM": "3",
                                    "ELOZO_FOGLALAS_IDOTARTAM": "3"
                                },
                                {
                                    "SZOBA_FK": "70",
                                    "FOGLALAS_PK": "1126",
                                    "FOGLALAS_IDOTARTAM": "3",
                                    "ELOZO_FOGLALAS_IDOTARTAM": "3"
                                },
                                {
                                    "SZOBA_FK": "70",
                                    "FOGLALAS_PK": "1325",
                                    "FOGLALAS_IDOTARTAM": "7",
                                    "ELOZO_FOGLALAS_IDOTARTAM": "3"
                                },
                                {
                                    "SZOBA_FK": "70",
                                    "FOGLALAS_PK": "1333",
                                    "FOGLALAS_IDOTARTAM": "6",
                                    "ELOZO_FOGLALAS_IDOTARTAM": "7"
                                },
                                {
                                    "SZOBA_FK": "70",
                                    "FOGLALAS_PK": "1365",
                                    "FOGLALAS_IDOTARTAM": "3",
                                    "ELOZO_FOGLALAS_IDOTARTAM": "6"
                                },
                                {
                                    "SZOBA_FK": "70",
                                    "FOGLALAS_PK": "1457",
                                    "FOGLALAS_IDOTARTAM": "7",
                                    "ELOZO_FOGLALAS_IDOTARTAM": "3"
                                },
                                {
                                    "SZOBA_FK": "71",
                                    "FOGLALAS_PK": "1009",
                                    "FOGLALAS_IDOTARTAM": "1",
                                    "ELOZO_FOGLALAS_IDOTARTAM": "0"
                                },
                                {
                                    "SZOBA_FK": "71",
                                    "FOGLALAS_PK": "681",
                                    "FOGLALAS_IDOTARTAM": "3",
                                    "ELOZO_FOGLALAS_IDOTARTAM": "1"
                                },
                                {
                                    "SZOBA_FK": "71",
                                    "FOGLALAS_PK": "712",
                                    "FOGLALAS_IDOTARTAM": "1",
                                    "ELOZO_FOGLALAS_IDOTARTAM": "3"
                                },
                                {
                                    "SZOBA_FK": "72",
                                    "FOGLALAS_PK": "902",
                                    "FOGLALAS_IDOTARTAM": "5",
                                    "ELOZO_FOGLALAS_IDOTARTAM": "0"
                                },
                                {
                                    "SZOBA_FK": "72",
                                    "FOGLALAS_PK": "961",
                                    "FOGLALAS_IDOTARTAM": "6",
                                    "ELOZO_FOGLALAS_IDOTARTAM": "5"
                                },
                                {
                                    "SZOBA_FK": "72",
                                    "FOGLALAS_PK": "1318",
                                    "FOGLALAS_IDOTARTAM": "2",
                                    "ELOZO_FOGLALAS_IDOTARTAM": "6"
                                },
                                {
                                    "SZOBA_FK": "72",
                                    "FOGLALAS_PK": "1396",
                                    "FOGLALAS_IDOTARTAM": "3",
                                    "ELOZO_FOGLALAS_IDOTARTAM": "2"
                                },
                                {
                                    "SZOBA_FK": "73",
                                    "FOGLALAS_PK": "1000",
                                    "FOGLALAS_IDOTARTAM": "4",
                                    "ELOZO_FOGLALAS_IDOTARTAM": "0"
                                },
                                {
                                    "SZOBA_FK": "73",
                                    "FOGLALAS_PK": "714",
                                    "FOGLALAS_IDOTARTAM": "7",
                                    "ELOZO_FOGLALAS_IDOTARTAM": "4"
                                },
                                {
                                    "SZOBA_FK": "73",
                                    "FOGLALAS_PK": "1159",
                                    "FOGLALAS_IDOTARTAM": "5",
                                    "ELOZO_FOGLALAS_IDOTARTAM": "7"
                                },
                                {
                                    "SZOBA_FK": "73",
                                    "FOGLALAS_PK": "1331",
                                    "FOGLALAS_IDOTARTAM": "4",
                                    "ELOZO_FOGLALAS_IDOTARTAM": "5"
                                },
                                {
                                    "SZOBA_FK": "74",
                                    "FOGLALAS_PK": "595",
                                    "FOGLALAS_IDOTARTAM": "7",
                                    "ELOZO_FOGLALAS_IDOTARTAM": "0"
                                },
                                {
                                    "SZOBA_FK": "74",
                                    "FOGLALAS_PK": "877",
                                    "FOGLALAS_IDOTARTAM": "4",
                                    "ELOZO_FOGLALAS_IDOTARTAM": "7"
                                },
                                {
                                    "SZOBA_FK": "74",
                                    "FOGLALAS_PK": "940",
                                    "FOGLALAS_IDOTARTAM": "5",
                                    "ELOZO_FOGLALAS_IDOTARTAM": "4"
                                },
                                {
                                    "SZOBA_FK": "74",
                                    "FOGLALAS_PK": "963",
                                    "FOGLALAS_IDOTARTAM": "1",
                                    "ELOZO_FOGLALAS_IDOTARTAM": "5"
                                },
                                {
                                    "SZOBA_FK": "74",
                                    "FOGLALAS_PK": "797",
                                    "FOGLALAS_IDOTARTAM": "5",
                                    "ELOZO_FOGLALAS_IDOTARTAM": "1"
                                },
                                {
                                    "SZOBA_FK": "74",
                                    "FOGLALAS_PK": "830",
                                    "FOGLALAS_IDOTARTAM": "1",
                                    "ELOZO_FOGLALAS_IDOTARTAM": "5"
                                },
                                {
                                    "SZOBA_FK": "74",
                                    "FOGLALAS_PK": "847",
                                    "FOGLALAS_IDOTARTAM": "3",
                                    "ELOZO_FOGLALAS_IDOTARTAM": "1"
                                },
                                {
                                    "SZOBA_FK": "74",
                                    "FOGLALAS_PK": "1093",
                                    "FOGLALAS_IDOTARTAM": "6",
                                    "ELOZO_FOGLALAS_IDOTARTAM": "3"
                                },
                                {
                                    "SZOBA_FK": "74",
                                    "FOGLALAS_PK": "1179",
                                    "FOGLALAS_IDOTARTAM": "7",
                                    "ELOZO_FOGLALAS_IDOTARTAM": "6"
                                },
                                {
                                    "SZOBA_FK": "75",
                                    "FOGLALAS_PK": "1013",
                                    "FOGLALAS_IDOTARTAM": "5",
                                    "ELOZO_FOGLALAS_IDOTARTAM": "0"
                                },
                                {
                                    "SZOBA_FK": "75",
                                    "FOGLALAS_PK": "1412",
                                    "FOGLALAS_IDOTARTAM": "2",
                                    "ELOZO_FOGLALAS_IDOTARTAM": "5"
                                },
                                {
                                    "SZOBA_FK": "75",
                                    "FOGLALAS_PK": "1458",
                                    "FOGLALAS_IDOTARTAM": "1",
                                    "ELOZO_FOGLALAS_IDOTARTAM": "2"
                                },
                                {
                                    "SZOBA_FK": "76",
                                    "FOGLALAS_PK": "976",
                                    "FOGLALAS_IDOTARTAM": "2",
                                    "ELOZO_FOGLALAS_IDOTARTAM": "0"
                                },
                                {
                                    "SZOBA_FK": "76",
                                    "FOGLALAS_PK": "683",
                                    "FOGLALAS_IDOTARTAM": "7",
                                    "ELOZO_FOGLALAS_IDOTARTAM": "2"
                                },
                                {
                                    "SZOBA_FK": "76",
                                    "FOGLALAS_PK": "1557",
                                    "FOGLALAS_IDOTARTAM": "3",
                                    "ELOZO_FOGLALAS_IDOTARTAM": "7"
                                },
                                {
                                    "SZOBA_FK": "77",
                                    "FOGLALAS_PK": "593",
                                    "FOGLALAS_IDOTARTAM": "3",
                                    "ELOZO_FOGLALAS_IDOTARTAM": "0"
                                },
                                {
                                    "SZOBA_FK": "77",
                                    "FOGLALAS_PK": "982",
                                    "FOGLALAS_IDOTARTAM": "3",
                                    "ELOZO_FOGLALAS_IDOTARTAM": "3"
                                },
                                {
                                    "SZOBA_FK": "77",
                                    "FOGLALAS_PK": "698",
                                    "FOGLALAS_IDOTARTAM": "4",
                                    "ELOZO_FOGLALAS_IDOTARTAM": "3"
                                },
                                {
                                    "SZOBA_FK": "77",
                                    "FOGLALAS_PK": "1104",
                                    "FOGLALAS_IDOTARTAM": "1",
                                    "ELOZO_FOGLALAS_IDOTARTAM": "4"
                                },
                                {
                                    "SZOBA_FK": "77",
                                    "FOGLALAS_PK": "1439",
                                    "FOGLALAS_IDOTARTAM": "6",
                                    "ELOZO_FOGLALAS_IDOTARTAM": "1"
                                },
                                {
                                    "SZOBA_FK": "77",
                                    "FOGLALAS_PK": "1461",
                                    "FOGLALAS_IDOTARTAM": "4",
                                    "ELOZO_FOGLALAS_IDOTARTAM": "6"
                                },
                                {
                                    "SZOBA_FK": "78",
                                    "FOGLALAS_PK": "568",
                                    "FOGLALAS_IDOTARTAM": "1",
                                    "ELOZO_FOGLALAS_IDOTARTAM": "0"
                                },
                                {
                                    "SZOBA_FK": "78",
                                    "FOGLALAS_PK": "646",
                                    "FOGLALAS_IDOTARTAM": "3",
                                    "ELOZO_FOGLALAS_IDOTARTAM": "1"
                                },
                                {
                                    "SZOBA_FK": "78",
                                    "FOGLALAS_PK": "700",
                                    "FOGLALAS_IDOTARTAM": "5",
                                    "ELOZO_FOGLALAS_IDOTARTAM": "3"
                                },
                                {
                                    "SZOBA_FK": "78",
                                    "FOGLALAS_PK": "1268",
                                    "FOGLALAS_IDOTARTAM": "2",
                                    "ELOZO_FOGLALAS_IDOTARTAM": "5"
                                },
                                {
                                    "SZOBA_FK": "78",
                                    "FOGLALAS_PK": "1281",
                                    "FOGLALAS_IDOTARTAM": "3",
                                    "ELOZO_FOGLALAS_IDOTARTAM": "2"
                                },
                                {
                                    "SZOBA_FK": "78",
                                    "FOGLALAS_PK": "1577",
                                    "FOGLALAS_IDOTARTAM": "7",
                                    "ELOZO_FOGLALAS_IDOTARTAM": "3"
                                },
                                {
                                    "SZOBA_FK": "79",
                                    "FOGLALAS_PK": "583",
                                    "FOGLALAS_IDOTARTAM": "6",
                                    "ELOZO_FOGLALAS_IDOTARTAM": "0"
                                },
                                {
                                    "SZOBA_FK": "79",
                                    "FOGLALAS_PK": "1054",
                                    "FOGLALAS_IDOTARTAM": "1",
                                    "ELOZO_FOGLALAS_IDOTARTAM": "6"
                                },
                                {
                                    "SZOBA_FK": "79",
                                    "FOGLALAS_PK": "1229",
                                    "FOGLALAS_IDOTARTAM": "7",
                                    "ELOZO_FOGLALAS_IDOTARTAM": "1"
                                },
                                {
                                    "SZOBA_FK": "79",
                                    "FOGLALAS_PK": "1345",
                                    "FOGLALAS_IDOTARTAM": "3",
                                    "ELOZO_FOGLALAS_IDOTARTAM": "7"
                                },
                                {
                                    "SZOBA_FK": "79",
                                    "FOGLALAS_PK": "1447",
                                    "FOGLALAS_IDOTARTAM": "4",
                                    "ELOZO_FOGLALAS_IDOTARTAM": "3"
                                },
                                {
                                    "SZOBA_FK": "80",
                                    "FOGLALAS_PK": "887",
                                    "FOGLALAS_IDOTARTAM": "6",
                                    "ELOZO_FOGLALAS_IDOTARTAM": "0"
                                },
                                {
                                    "SZOBA_FK": "80",
                                    "FOGLALAS_PK": "929",
                                    "FOGLALAS_IDOTARTAM": "2",
                                    "ELOZO_FOGLALAS_IDOTARTAM": "6"
                                },
                                {
                                    "SZOBA_FK": "80",
                                    "FOGLALAS_PK": "983",
                                    "FOGLALAS_IDOTARTAM": "6",
                                    "ELOZO_FOGLALAS_IDOTARTAM": "2"
                                },
                                {
                                    "SZOBA_FK": "80",
                                    "FOGLALAS_PK": "667",
                                    "FOGLALAS_IDOTARTAM": "6",
                                    "ELOZO_FOGLALAS_IDOTARTAM": "6"
                                },
                                {
                                    "SZOBA_FK": "80",
                                    "FOGLALAS_PK": "1071",
                                    "FOGLALAS_IDOTARTAM": "4",
                                    "ELOZO_FOGLALAS_IDOTARTAM": "6"
                                },
                                {
                                    "SZOBA_FK": "80",
                                    "FOGLALAS_PK": "1279",
                                    "FOGLALAS_IDOTARTAM": "5",
                                    "ELOZO_FOGLALAS_IDOTARTAM": "4"
                                },
                                {
                                    "SZOBA_FK": "80",
                                    "FOGLALAS_PK": "1367",
                                    "FOGLALAS_IDOTARTAM": "3",
                                    "ELOZO_FOGLALAS_IDOTARTAM": "5"
                                },
                                {
                                    "SZOBA_FK": "81",
                                    "FOGLALAS_PK": "1366",
                                    "FOGLALAS_IDOTARTAM": "5",
                                    "ELOZO_FOGLALAS_IDOTARTAM": "0"
                                },
                                {
                                    "SZOBA_FK": "81",
                                    "FOGLALAS_PK": "1443",
                                    "FOGLALAS_IDOTARTAM": "7",
                                    "ELOZO_FOGLALAS_IDOTARTAM": "5"
                                },
                                {
                                    "SZOBA_FK": "81",
                                    "FOGLALAS_PK": "1464",
                                    "FOGLALAS_IDOTARTAM": "7",
                                    "ELOZO_FOGLALAS_IDOTARTAM": "7"
                                },
                                {
                                    "SZOBA_FK": "81",
                                    "FOGLALAS_PK": "1506",
                                    "FOGLALAS_IDOTARTAM": "3",
                                    "ELOZO_FOGLALAS_IDOTARTAM": "7"
                                },
                                {
                                    "SZOBA_FK": "81",
                                    "FOGLALAS_PK": "1562",
                                    "FOGLALAS_IDOTARTAM": "3",
                                    "ELOZO_FOGLALAS_IDOTARTAM": "3"
                                },
                                {
                                    "SZOBA_FK": "82",
                                    "FOGLALAS_PK": "862",
                                    "FOGLALAS_IDOTARTAM": "4",
                                    "ELOZO_FOGLALAS_IDOTARTAM": "0"
                                },
                                {
                                    "SZOBA_FK": "82",
                                    "FOGLALAS_PK": "871",
                                    "FOGLALAS_IDOTARTAM": "5",
                                    "ELOZO_FOGLALAS_IDOTARTAM": "4"
                                },
                                {
                                    "SZOBA_FK": "82",
                                    "FOGLALAS_PK": "997",
                                    "FOGLALAS_IDOTARTAM": "6",
                                    "ELOZO_FOGLALAS_IDOTARTAM": "5"
                                },
                                {
                                    "SZOBA_FK": "82",
                                    "FOGLALAS_PK": "1277",
                                    "FOGLALAS_IDOTARTAM": "5",
                                    "ELOZO_FOGLALAS_IDOTARTAM": "6"
                                },
                                {
                                    "SZOBA_FK": "82",
                                    "FOGLALAS_PK": "1341",
                                    "FOGLALAS_IDOTARTAM": "2",
                                    "ELOZO_FOGLALAS_IDOTARTAM": "5"
                                },
                                {
                                    "SZOBA_FK": "82",
                                    "FOGLALAS_PK": "1406",
                                    "FOGLALAS_IDOTARTAM": "1",
                                    "ELOZO_FOGLALAS_IDOTARTAM": "2"
                                },
                                {
                                    "SZOBA_FK": "83",
                                    "FOGLALAS_PK": "572",
                                    "FOGLALAS_IDOTARTAM": "7",
                                    "ELOZO_FOGLALAS_IDOTARTAM": "0"
                                },
                                {
                                    "SZOBA_FK": "83",
                                    "FOGLALAS_PK": "869",
                                    "FOGLALAS_IDOTARTAM": "6",
                                    "ELOZO_FOGLALAS_IDOTARTAM": "7"
                                },
                                {
                                    "SZOBA_FK": "83",
                                    "FOGLALAS_PK": "878",
                                    "FOGLALAS_IDOTARTAM": "6",
                                    "ELOZO_FOGLALAS_IDOTARTAM": "6"
                                },
                                {
                                    "SZOBA_FK": "83",
                                    "FOGLALAS_PK": "995",
                                    "FOGLALAS_IDOTARTAM": "5",
                                    "ELOZO_FOGLALAS_IDOTARTAM": "6"
                                },
                                {
                                    "SZOBA_FK": "83",
                                    "FOGLALAS_PK": "674",
                                    "FOGLALAS_IDOTARTAM": "4",
                                    "ELOZO_FOGLALAS_IDOTARTAM": "5"
                                },
                                {
                                    "SZOBA_FK": "83",
                                    "FOGLALAS_PK": "798",
                                    "FOGLALAS_IDOTARTAM": "4",
                                    "ELOZO_FOGLALAS_IDOTARTAM": "4"
                                },
                                {
                                    "SZOBA_FK": "83",
                                    "FOGLALAS_PK": "1119",
                                    "FOGLALAS_IDOTARTAM": "6",
                                    "ELOZO_FOGLALAS_IDOTARTAM": "4"
                                },
                                {
                                    "SZOBA_FK": "83",
                                    "FOGLALAS_PK": "1379",
                                    "FOGLALAS_IDOTARTAM": "7",
                                    "ELOZO_FOGLALAS_IDOTARTAM": "6"
                                },
                                {
                                    "SZOBA_FK": "84",
                                    "FOGLALAS_PK": "954",
                                    "FOGLALAS_IDOTARTAM": "5",
                                    "ELOZO_FOGLALAS_IDOTARTAM": "0"
                                },
                                {
                                    "SZOBA_FK": "84",
                                    "FOGLALAS_PK": "819",
                                    "FOGLALAS_IDOTARTAM": "2",
                                    "ELOZO_FOGLALAS_IDOTARTAM": "5"
                                },
                                {
                                    "SZOBA_FK": "84",
                                    "FOGLALAS_PK": "1376",
                                    "FOGLALAS_IDOTARTAM": "5",
                                    "ELOZO_FOGLALAS_IDOTARTAM": "2"
                                },
                                {
                                    "SZOBA_FK": "84",
                                    "FOGLALAS_PK": "1384",
                                    "FOGLALAS_IDOTARTAM": "7",
                                    "ELOZO_FOGLALAS_IDOTARTAM": "5"
                                },
                                {
                                    "SZOBA_FK": "85",
                                    "FOGLALAS_PK": "647",
                                    "FOGLALAS_IDOTARTAM": "3",
                                    "ELOZO_FOGLALAS_IDOTARTAM": "0"
                                },
                                {
                                    "SZOBA_FK": "85",
                                    "FOGLALAS_PK": "1059",
                                    "FOGLALAS_IDOTARTAM": "3",
                                    "ELOZO_FOGLALAS_IDOTARTAM": "3"
                                },
                                {
                                    "SZOBA_FK": "85",
                                    "FOGLALAS_PK": "1320",
                                    "FOGLALAS_IDOTARTAM": "1",
                                    "ELOZO_FOGLALAS_IDOTARTAM": "3"
                                },
                                {
                                    "SZOBA_FK": "85",
                                    "FOGLALAS_PK": "1513",
                                    "FOGLALAS_IDOTARTAM": "7",
                                    "ELOZO_FOGLALAS_IDOTARTAM": "1"
                                },
                                {
                                    "SZOBA_FK": "86",
                                    "FOGLALAS_PK": "859",
                                    "FOGLALAS_IDOTARTAM": "1",
                                    "ELOZO_FOGLALAS_IDOTARTAM": "0"
                                },
                                {
                                    "SZOBA_FK": "86",
                                    "FOGLALAS_PK": "1057",
                                    "FOGLALAS_IDOTARTAM": "5",
                                    "ELOZO_FOGLALAS_IDOTARTAM": "1"
                                },
                                {
                                    "SZOBA_FK": "86",
                                    "FOGLALAS_PK": "1079",
                                    "FOGLALAS_IDOTARTAM": "4",
                                    "ELOZO_FOGLALAS_IDOTARTAM": "5"
                                },
                                {
                                    "SZOBA_FK": "86",
                                    "FOGLALAS_PK": "1108",
                                    "FOGLALAS_IDOTARTAM": "1",
                                    "ELOZO_FOGLALAS_IDOTARTAM": "4"
                                },
                                {
                                    "SZOBA_FK": "86",
                                    "FOGLALAS_PK": "1453",
                                    "FOGLALAS_IDOTARTAM": "1",
                                    "ELOZO_FOGLALAS_IDOTARTAM": "1"
                                },
                                {
                                    "SZOBA_FK": "87",
                                    "FOGLALAS_PK": "558",
                                    "FOGLALAS_IDOTARTAM": "4",
                                    "ELOZO_FOGLALAS_IDOTARTAM": "0"
                                },
                                {
                                    "SZOBA_FK": "87",
                                    "FOGLALAS_PK": "844",
                                    "FOGLALAS_IDOTARTAM": "1",
                                    "ELOZO_FOGLALAS_IDOTARTAM": "4"
                                },
                                {
                                    "SZOBA_FK": "87",
                                    "FOGLALAS_PK": "1103",
                                    "FOGLALAS_IDOTARTAM": "3",
                                    "ELOZO_FOGLALAS_IDOTARTAM": "1"
                                },
                                {
                                    "SZOBA_FK": "87",
                                    "FOGLALAS_PK": "1349",
                                    "FOGLALAS_IDOTARTAM": "5",
                                    "ELOZO_FOGLALAS_IDOTARTAM": "3"
                                },
                                {
                                    "SZOBA_FK": "87",
                                    "FOGLALAS_PK": "1456",
                                    "FOGLALAS_IDOTARTAM": "5",
                                    "ELOZO_FOGLALAS_IDOTARTAM": "5"
                                },
                                {
                                    "SZOBA_FK": "88",
                                    "FOGLALAS_PK": "866",
                                    "FOGLALAS_IDOTARTAM": "2",
                                    "ELOZO_FOGLALAS_IDOTARTAM": "0"
                                },
                                {
                                    "SZOBA_FK": "88",
                                    "FOGLALAS_PK": "757",
                                    "FOGLALAS_IDOTARTAM": "7",
                                    "ELOZO_FOGLALAS_IDOTARTAM": "2"
                                },
                                {
                                    "SZOBA_FK": "88",
                                    "FOGLALAS_PK": "1196",
                                    "FOGLALAS_IDOTARTAM": "3",
                                    "ELOZO_FOGLALAS_IDOTARTAM": "7"
                                },
                                {
                                    "SZOBA_FK": "88",
                                    "FOGLALAS_PK": "1273",
                                    "FOGLALAS_IDOTARTAM": "7",
                                    "ELOZO_FOGLALAS_IDOTARTAM": "3"
                                },
                                {
                                    "SZOBA_FK": "88",
                                    "FOGLALAS_PK": "1300",
                                    "FOGLALAS_IDOTARTAM": "3",
                                    "ELOZO_FOGLALAS_IDOTARTAM": "7"
                                },
                                {
                                    "SZOBA_FK": "88",
                                    "FOGLALAS_PK": "1359",
                                    "FOGLALAS_IDOTARTAM": "2",
                                    "ELOZO_FOGLALAS_IDOTARTAM": "3"
                                },
                                {
                                    "SZOBA_FK": "88",
                                    "FOGLALAS_PK": "1548",
                                    "FOGLALAS_IDOTARTAM": "7",
                                    "ELOZO_FOGLALAS_IDOTARTAM": "2"
                                },
                                {
                                    "SZOBA_FK": "88",
                                    "FOGLALAS_PK": "1575",
                                    "FOGLALAS_IDOTARTAM": "6",
                                    "ELOZO_FOGLALAS_IDOTARTAM": "7"
                                },
                                {
                                    "SZOBA_FK": "89",
                                    "FOGLALAS_PK": "817",
                                    "FOGLALAS_IDOTARTAM": "3",
                                    "ELOZO_FOGLALAS_IDOTARTAM": "0"
                                },
                                {
                                    "SZOBA_FK": "89",
                                    "FOGLALAS_PK": "1037",
                                    "FOGLALAS_IDOTARTAM": "7",
                                    "ELOZO_FOGLALAS_IDOTARTAM": "3"
                                },
                                {
                                    "SZOBA_FK": "89",
                                    "FOGLALAS_PK": "1101",
                                    "FOGLALAS_IDOTARTAM": "5",
                                    "ELOZO_FOGLALAS_IDOTARTAM": "7"
                                },
                                {
                                    "SZOBA_FK": "89",
                                    "FOGLALAS_PK": "1189",
                                    "FOGLALAS_IDOTARTAM": "6",
                                    "ELOZO_FOGLALAS_IDOTARTAM": "5"
                                },
                                {
                                    "SZOBA_FK": "89",
                                    "FOGLALAS_PK": "1253",
                                    "FOGLALAS_IDOTARTAM": "2",
                                    "ELOZO_FOGLALAS_IDOTARTAM": "6"
                                },
                                {
                                    "SZOBA_FK": "89",
                                    "FOGLALAS_PK": "1269",
                                    "FOGLALAS_IDOTARTAM": "2",
                                    "ELOZO_FOGLALAS_IDOTARTAM": "2"
                                },
                                {
                                    "SZOBA_FK": "89",
                                    "FOGLALAS_PK": "1399",
                                    "FOGLALAS_IDOTARTAM": "2",
                                    "ELOZO_FOGLALAS_IDOTARTAM": "2"
                                },
                                {
                                    "SZOBA_FK": "89",
                                    "FOGLALAS_PK": "1521",
                                    "FOGLALAS_IDOTARTAM": "7",
                                    "ELOZO_FOGLALAS_IDOTARTAM": "2"
                                },
                                {
                                    "SZOBA_FK": "90",
                                    "FOGLALAS_PK": "729",
                                    "FOGLALAS_IDOTARTAM": "2",
                                    "ELOZO_FOGLALAS_IDOTARTAM": "0"
                                },
                                {
                                    "SZOBA_FK": "90",
                                    "FOGLALAS_PK": "1174",
                                    "FOGLALAS_IDOTARTAM": "7",
                                    "ELOZO_FOGLALAS_IDOTARTAM": "2"
                                },
                                {
                                    "SZOBA_FK": "90",
                                    "FOGLALAS_PK": "1299",
                                    "FOGLALAS_IDOTARTAM": "6",
                                    "ELOZO_FOGLALAS_IDOTARTAM": "7"
                                },
                                {
                                    "SZOBA_FK": "90",
                                    "FOGLALAS_PK": "1405",
                                    "FOGLALAS_IDOTARTAM": "5",
                                    "ELOZO_FOGLALAS_IDOTARTAM": "6"
                                },
                                {
                                    "SZOBA_FK": "91",
                                    "FOGLALAS_PK": "636",
                                    "FOGLALAS_IDOTARTAM": "6",
                                    "ELOZO_FOGLALAS_IDOTARTAM": "0"
                                },
                                {
                                    "SZOBA_FK": "91",
                                    "FOGLALAS_PK": "732",
                                    "FOGLALAS_IDOTARTAM": "4",
                                    "ELOZO_FOGLALAS_IDOTARTAM": "6"
                                },
                                {
                                    "SZOBA_FK": "91",
                                    "FOGLALAS_PK": "1213",
                                    "FOGLALAS_IDOTARTAM": "3",
                                    "ELOZO_FOGLALAS_IDOTARTAM": "4"
                                },
                                {
                                    "SZOBA_FK": "91",
                                    "FOGLALAS_PK": "1397",
                                    "FOGLALAS_IDOTARTAM": "4",
                                    "ELOZO_FOGLALAS_IDOTARTAM": "3"
                                },
                                {
                                    "SZOBA_FK": "92",
                                    "FOGLALAS_PK": "942",
                                    "FOGLALAS_IDOTARTAM": "6",
                                    "ELOZO_FOGLALAS_IDOTARTAM": "0"
                                },
                                {
                                    "SZOBA_FK": "92",
                                    "FOGLALAS_PK": "1016",
                                    "FOGLALAS_IDOTARTAM": "2",
                                    "ELOZO_FOGLALAS_IDOTARTAM": "6"
                                },
                                {
                                    "SZOBA_FK": "92",
                                    "FOGLALAS_PK": "809",
                                    "FOGLALAS_IDOTARTAM": "3",
                                    "ELOZO_FOGLALAS_IDOTARTAM": "2"
                                },
                                {
                                    "SZOBA_FK": "92",
                                    "FOGLALAS_PK": "841",
                                    "FOGLALAS_IDOTARTAM": "6",
                                    "ELOZO_FOGLALAS_IDOTARTAM": "3"
                                },
                                {
                                    "SZOBA_FK": "92",
                                    "FOGLALAS_PK": "1527",
                                    "FOGLALAS_IDOTARTAM": "2",
                                    "ELOZO_FOGLALAS_IDOTARTAM": "6"
                                },
                                {
                                    "SZOBA_FK": "92",
                                    "FOGLALAS_PK": "1555",
                                    "FOGLALAS_IDOTARTAM": "4",
                                    "ELOZO_FOGLALAS_IDOTARTAM": "2"
                                },
                                {
                                    "SZOBA_FK": "93",
                                    "FOGLALAS_PK": "741",
                                    "FOGLALAS_IDOTARTAM": "7",
                                    "ELOZO_FOGLALAS_IDOTARTAM": "0"
                                },
                                {
                                    "SZOBA_FK": "93",
                                    "FOGLALAS_PK": "1169",
                                    "FOGLALAS_IDOTARTAM": "4",
                                    "ELOZO_FOGLALAS_IDOTARTAM": "7"
                                },
                                {
                                    "SZOBA_FK": "93",
                                    "FOGLALAS_PK": "1217",
                                    "FOGLALAS_IDOTARTAM": "1",
                                    "ELOZO_FOGLALAS_IDOTARTAM": "4"
                                },
                                {
                                    "SZOBA_FK": "93",
                                    "FOGLALAS_PK": "1355",
                                    "FOGLALAS_IDOTARTAM": "2",
                                    "ELOZO_FOGLALAS_IDOTARTAM": "1"
                                },
                                {
                                    "SZOBA_FK": "93",
                                    "FOGLALAS_PK": "1391",
                                    "FOGLALAS_IDOTARTAM": "4",
                                    "ELOZO_FOGLALAS_IDOTARTAM": "2"
                                },
                                {
                                    "SZOBA_FK": "94",
                                    "FOGLALAS_PK": "616",
                                    "FOGLALAS_IDOTARTAM": "4",
                                    "ELOZO_FOGLALAS_IDOTARTAM": "0"
                                },
                                {
                                    "SZOBA_FK": "94",
                                    "FOGLALAS_PK": "975",
                                    "FOGLALAS_IDOTARTAM": "5",
                                    "ELOZO_FOGLALAS_IDOTARTAM": "4"
                                },
                                {
                                    "SZOBA_FK": "94",
                                    "FOGLALAS_PK": "665",
                                    "FOGLALAS_IDOTARTAM": "7",
                                    "ELOZO_FOGLALAS_IDOTARTAM": "5"
                                },
                                {
                                    "SZOBA_FK": "94",
                                    "FOGLALAS_PK": "727",
                                    "FOGLALAS_IDOTARTAM": "3",
                                    "ELOZO_FOGLALAS_IDOTARTAM": "7"
                                },
                                {
                                    "SZOBA_FK": "94",
                                    "FOGLALAS_PK": "1241",
                                    "FOGLALAS_IDOTARTAM": "7",
                                    "ELOZO_FOGLALAS_IDOTARTAM": "3"
                                },
                                {
                                    "SZOBA_FK": "94",
                                    "FOGLALAS_PK": "1305",
                                    "FOGLALAS_IDOTARTAM": "2",
                                    "ELOZO_FOGLALAS_IDOTARTAM": "7"
                                },
                                {
                                    "SZOBA_FK": "94",
                                    "FOGLALAS_PK": "1312",
                                    "FOGLALAS_IDOTARTAM": "3",
                                    "ELOZO_FOGLALAS_IDOTARTAM": "2"
                                },
                                {
                                    "SZOBA_FK": "94",
                                    "FOGLALAS_PK": "1368",
                                    "FOGLALAS_IDOTARTAM": "1",
                                    "ELOZO_FOGLALAS_IDOTARTAM": "3"
                                },
                                {
                                    "SZOBA_FK": "94",
                                    "FOGLALAS_PK": "1518",
                                    "FOGLALAS_IDOTARTAM": "2",
                                    "ELOZO_FOGLALAS_IDOTARTAM": "1"
                                },
                                {
                                    "SZOBA_FK": "94",
                                    "FOGLALAS_PK": "1564",
                                    "FOGLALAS_IDOTARTAM": "7",
                                    "ELOZO_FOGLALAS_IDOTARTAM": "2"
                                },
                                {
                                    "SZOBA_FK": "95",
                                    "FOGLALAS_PK": "656",
                                    "FOGLALAS_IDOTARTAM": "7",
                                    "ELOZO_FOGLALAS_IDOTARTAM": "0"
                                },
                                {
                                    "SZOBA_FK": "95",
                                    "FOGLALAS_PK": "1048",
                                    "FOGLALAS_IDOTARTAM": "3",
                                    "ELOZO_FOGLALAS_IDOTARTAM": "7"
                                },
                                {
                                    "SZOBA_FK": "95",
                                    "FOGLALAS_PK": "1097",
                                    "FOGLALAS_IDOTARTAM": "4",
                                    "ELOZO_FOGLALAS_IDOTARTAM": "3"
                                },
                                {
                                    "SZOBA_FK": "95",
                                    "FOGLALAS_PK": "1543",
                                    "FOGLALAS_IDOTARTAM": "7",
                                    "ELOZO_FOGLALAS_IDOTARTAM": "4"
                                },
                                {
                                    "SZOBA_FK": "96",
                                    "FOGLALAS_PK": "607",
                                    "FOGLALAS_IDOTARTAM": "4",
                                    "ELOZO_FOGLALAS_IDOTARTAM": "0"
                                },
                                {
                                    "SZOBA_FK": "96",
                                    "FOGLALAS_PK": "623",
                                    "FOGLALAS_IDOTARTAM": "7",
                                    "ELOZO_FOGLALAS_IDOTARTAM": "4"
                                },
                                {
                                    "SZOBA_FK": "96",
                                    "FOGLALAS_PK": "671",
                                    "FOGLALAS_IDOTARTAM": "4",
                                    "ELOZO_FOGLALAS_IDOTARTAM": "7"
                                },
                                {
                                    "SZOBA_FK": "96",
                                    "FOGLALAS_PK": "780",
                                    "FOGLALAS_IDOTARTAM": "1",
                                    "ELOZO_FOGLALAS_IDOTARTAM": "4"
                                },
                                {
                                    "SZOBA_FK": "96",
                                    "FOGLALAS_PK": "1378",
                                    "FOGLALAS_IDOTARTAM": "3",
                                    "ELOZO_FOGLALAS_IDOTARTAM": "1"
                                },
                                {
                                    "SZOBA_FK": "96",
                                    "FOGLALAS_PK": "1438",
                                    "FOGLALAS_IDOTARTAM": "2",
                                    "ELOZO_FOGLALAS_IDOTARTAM": "3"
                                },
                                {
                                    "SZOBA_FK": "96",
                                    "FOGLALAS_PK": "1569",
                                    "FOGLALAS_IDOTARTAM": "7",
                                    "ELOZO_FOGLALAS_IDOTARTAM": "2"
                                },
                                {
                                    "SZOBA_FK": "97",
                                    "FOGLALAS_PK": "635",
                                    "FOGLALAS_IDOTARTAM": "3",
                                    "ELOZO_FOGLALAS_IDOTARTAM": "0"
                                },
                                {
                                    "SZOBA_FK": "97",
                                    "FOGLALAS_PK": "726",
                                    "FOGLALAS_IDOTARTAM": "4",
                                    "ELOZO_FOGLALAS_IDOTARTAM": "3"
                                },
                                {
                                    "SZOBA_FK": "97",
                                    "FOGLALAS_PK": "718",
                                    "FOGLALAS_IDOTARTAM": "7",
                                    "ELOZO_FOGLALAS_IDOTARTAM": "4"
                                },
                                {
                                    "SZOBA_FK": "97",
                                    "FOGLALAS_PK": "836",
                                    "FOGLALAS_IDOTARTAM": "2",
                                    "ELOZO_FOGLALAS_IDOTARTAM": "7"
                                },
                                {
                                    "SZOBA_FK": "97",
                                    "FOGLALAS_PK": "1395",
                                    "FOGLALAS_IDOTARTAM": "1",
                                    "ELOZO_FOGLALAS_IDOTARTAM": "2"
                                },
                                {
                                    "SZOBA_FK": "97",
                                    "FOGLALAS_PK": "1417",
                                    "FOGLALAS_IDOTARTAM": "7",
                                    "ELOZO_FOGLALAS_IDOTARTAM": "1"
                                },
                                {
                                    "SZOBA_FK": "97",
                                    "FOGLALAS_PK": "1528",
                                    "FOGLALAS_IDOTARTAM": "2",
                                    "ELOZO_FOGLALAS_IDOTARTAM": "7"
                                },
                                {
                                    "SZOBA_FK": "98",
                                    "FOGLALAS_PK": "631",
                                    "FOGLALAS_IDOTARTAM": "6",
                                    "ELOZO_FOGLALAS_IDOTARTAM": "0"
                                },
                                {
                                    "SZOBA_FK": "98",
                                    "FOGLALAS_PK": "884",
                                    "FOGLALAS_IDOTARTAM": "5",
                                    "ELOZO_FOGLALAS_IDOTARTAM": "6"
                                },
                                {
                                    "SZOBA_FK": "98",
                                    "FOGLALAS_PK": "1050",
                                    "FOGLALAS_IDOTARTAM": "6",
                                    "ELOZO_FOGLALAS_IDOTARTAM": "5"
                                },
                                {
                                    "SZOBA_FK": "98",
                                    "FOGLALAS_PK": "1402",
                                    "FOGLALAS_IDOTARTAM": "2",
                                    "ELOZO_FOGLALAS_IDOTARTAM": "6"
                                },
                                {
                                    "SZOBA_FK": "99",
                                    "FOGLALAS_PK": "632",
                                    "FOGLALAS_IDOTARTAM": "1",
                                    "ELOZO_FOGLALAS_IDOTARTAM": "0"
                                },
                                {
                                    "SZOBA_FK": "99",
                                    "FOGLALAS_PK": "691",
                                    "FOGLALAS_IDOTARTAM": "5",
                                    "ELOZO_FOGLALAS_IDOTARTAM": "1"
                                },
                                {
                                    "SZOBA_FK": "99",
                                    "FOGLALAS_PK": "1072",
                                    "FOGLALAS_IDOTARTAM": "1",
                                    "ELOZO_FOGLALAS_IDOTARTAM": "5"
                                },
                                {
                                    "SZOBA_FK": "99",
                                    "FOGLALAS_PK": "1408",
                                    "FOGLALAS_IDOTARTAM": "1",
                                    "ELOZO_FOGLALAS_IDOTARTAM": "1"
                                },
                                {
                                    "SZOBA_FK": "99",
                                    "FOGLALAS_PK": "1486",
                                    "FOGLALAS_IDOTARTAM": "5",
                                    "ELOZO_FOGLALAS_IDOTARTAM": "1"
                                },
                                {
                                    "SZOBA_FK": "100",
                                    "FOGLALAS_PK": "597",
                                    "FOGLALAS_IDOTARTAM": "1",
                                    "ELOZO_FOGLALAS_IDOTARTAM": "0"
                                },
                                {
                                    "SZOBA_FK": "100",
                                    "FOGLALAS_PK": "637",
                                    "FOGLALAS_IDOTARTAM": "5",
                                    "ELOZO_FOGLALAS_IDOTARTAM": "1"
                                },
                                {
                                    "SZOBA_FK": "100",
                                    "FOGLALAS_PK": "1315",
                                    "FOGLALAS_IDOTARTAM": "5",
                                    "ELOZO_FOGLALAS_IDOTARTAM": "5"
                                },
                                {
                                    "SZOBA_FK": "100",
                                    "FOGLALAS_PK": "1482",
                                    "FOGLALAS_IDOTARTAM": "7",
                                    "ELOZO_FOGLALAS_IDOTARTAM": "5"
                                },
                                {
                                    "SZOBA_FK": "101",
                                    "FOGLALAS_PK": "715",
                                    "FOGLALAS_IDOTARTAM": "3",
                                    "ELOZO_FOGLALAS_IDOTARTAM": "0"
                                },
                                {
                                    "SZOBA_FK": "101",
                                    "FOGLALAS_PK": "1332",
                                    "FOGLALAS_IDOTARTAM": "6",
                                    "ELOZO_FOGLALAS_IDOTARTAM": "3"
                                },
                                {
                                    "SZOBA_FK": "101",
                                    "FOGLALAS_PK": "1516",
                                    "FOGLALAS_IDOTARTAM": "4",
                                    "ELOZO_FOGLALAS_IDOTARTAM": "6"
                                },
                                {
                                    "SZOBA_FK": "102",
                                    "FOGLALAS_PK": "689",
                                    "FOGLALAS_IDOTARTAM": "5",
                                    "ELOZO_FOGLALAS_IDOTARTAM": "0"
                                },
                                {
                                    "SZOBA_FK": "102",
                                    "FOGLALAS_PK": "1343",
                                    "FOGLALAS_IDOTARTAM": "2",
                                    "ELOZO_FOGLALAS_IDOTARTAM": "5"
                                },
                                {
                                    "SZOBA_FK": "103",
                                    "FOGLALAS_PK": "972",
                                    "FOGLALAS_IDOTARTAM": "2",
                                    "ELOZO_FOGLALAS_IDOTARTAM": "0"
                                },
                                {
                                    "SZOBA_FK": "103",
                                    "FOGLALAS_PK": "992",
                                    "FOGLALAS_IDOTARTAM": "7",
                                    "ELOZO_FOGLALAS_IDOTARTAM": "2"
                                },
                                {
                                    "SZOBA_FK": "103",
                                    "FOGLALAS_PK": "1398",
                                    "FOGLALAS_IDOTARTAM": "1",
                                    "ELOZO_FOGLALAS_IDOTARTAM": "7"
                                },
                                {
                                    "SZOBA_FK": "103",
                                    "FOGLALAS_PK": "1485",
                                    "FOGLALAS_IDOTARTAM": "4",
                                    "ELOZO_FOGLALAS_IDOTARTAM": "1"
                                },
                                {
                                    "SZOBA_FK": "104",
                                    "FOGLALAS_PK": "837",
                                    "FOGLALAS_IDOTARTAM": "4",
                                    "ELOZO_FOGLALAS_IDOTARTAM": "0"
                                },
                                {
                                    "SZOBA_FK": "104",
                                    "FOGLALAS_PK": "1180",
                                    "FOGLALAS_IDOTARTAM": "1",
                                    "ELOZO_FOGLALAS_IDOTARTAM": "4"
                                },
                                {
                                    "SZOBA_FK": "104",
                                    "FOGLALAS_PK": "1522",
                                    "FOGLALAS_IDOTARTAM": "2",
                                    "ELOZO_FOGLALAS_IDOTARTAM": "1"
                                },
                                {
                                    "SZOBA_FK": "104",
                                    "FOGLALAS_PK": "1532",
                                    "FOGLALAS_IDOTARTAM": "3",
                                    "ELOZO_FOGLALAS_IDOTARTAM": "2"
                                },
                                {
                                    "SZOBA_FK": "105",
                                    "FOGLALAS_PK": "618",
                                    "FOGLALAS_IDOTARTAM": "1",
                                    "ELOZO_FOGLALAS_IDOTARTAM": "0"
                                },
                                {
                                    "SZOBA_FK": "105",
                                    "FOGLALAS_PK": "1525",
                                    "FOGLALAS_IDOTARTAM": "5",
                                    "ELOZO_FOGLALAS_IDOTARTAM": "1"
                                },
                                {
                                    "SZOBA_FK": "106",
                                    "FOGLALAS_PK": "610",
                                    "FOGLALAS_IDOTARTAM": "3",
                                    "ELOZO_FOGLALAS_IDOTARTAM": "0"
                                },
                                {
                                    "SZOBA_FK": "106",
                                    "FOGLALAS_PK": "708",
                                    "FOGLALAS_IDOTARTAM": "7",
                                    "ELOZO_FOGLALAS_IDOTARTAM": "3"
                                },
                                {
                                    "SZOBA_FK": "106",
                                    "FOGLALAS_PK": "1228",
                                    "FOGLALAS_IDOTARTAM": "7",
                                    "ELOZO_FOGLALAS_IDOTARTAM": "7"
                                },
                                {
                                    "SZOBA_FK": "106",
                                    "FOGLALAS_PK": "1271",
                                    "FOGLALAS_IDOTARTAM": "5",
                                    "ELOZO_FOGLALAS_IDOTARTAM": "7"
                                },
                                {
                                    "SZOBA_FK": "106",
                                    "FOGLALAS_PK": "1372",
                                    "FOGLALAS_IDOTARTAM": "7",
                                    "ELOZO_FOGLALAS_IDOTARTAM": "5"
                                },
                                {
                                    "SZOBA_FK": "106",
                                    "FOGLALAS_PK": "1510",
                                    "FOGLALAS_IDOTARTAM": "6",
                                    "ELOZO_FOGLALAS_IDOTARTAM": "7"
                                },
                                {
                                    "SZOBA_FK": "107",
                                    "FOGLALAS_PK": "586",
                                    "FOGLALAS_IDOTARTAM": "6",
                                    "ELOZO_FOGLALAS_IDOTARTAM": "0"
                                },
                                {
                                    "SZOBA_FK": "107",
                                    "FOGLALAS_PK": "1250",
                                    "FOGLALAS_IDOTARTAM": "4",
                                    "ELOZO_FOGLALAS_IDOTARTAM": "6"
                                },
                                {
                                    "SZOBA_FK": "107",
                                    "FOGLALAS_PK": "1354",
                                    "FOGLALAS_IDOTARTAM": "1",
                                    "ELOZO_FOGLALAS_IDOTARTAM": "4"
                                },
                                {
                                    "SZOBA_FK": "107",
                                    "FOGLALAS_PK": "1452",
                                    "FOGLALAS_IDOTARTAM": "6",
                                    "ELOZO_FOGLALAS_IDOTARTAM": "1"
                                },
                                {
                                    "SZOBA_FK": "107",
                                    "FOGLALAS_PK": "1494",
                                    "FOGLALAS_IDOTARTAM": "2",
                                    "ELOZO_FOGLALAS_IDOTARTAM": "6"
                                },
                                {
                                    "SZOBA_FK": "108",
                                    "FOGLALAS_PK": "1102",
                                    "FOGLALAS_IDOTARTAM": "1",
                                    "ELOZO_FOGLALAS_IDOTARTAM": "0"
                                },
                                {
                                    "SZOBA_FK": "108",
                                    "FOGLALAS_PK": "1392",
                                    "FOGLALAS_IDOTARTAM": "6",
                                    "ELOZO_FOGLALAS_IDOTARTAM": "1"
                                },
                                {
                                    "SZOBA_FK": "109",
                                    "FOGLALAS_PK": "614",
                                    "FOGLALAS_IDOTARTAM": "4",
                                    "ELOZO_FOGLALAS_IDOTARTAM": "0"
                                },
                                {
                                    "SZOBA_FK": "109",
                                    "FOGLALAS_PK": "621",
                                    "FOGLALAS_IDOTARTAM": "7",
                                    "ELOZO_FOGLALAS_IDOTARTAM": "4"
                                },
                                {
                                    "SZOBA_FK": "109",
                                    "FOGLALAS_PK": "654",
                                    "FOGLALAS_IDOTARTAM": "5",
                                    "ELOZO_FOGLALAS_IDOTARTAM": "7"
                                },
                                {
                                    "SZOBA_FK": "109",
                                    "FOGLALAS_PK": "810",
                                    "FOGLALAS_IDOTARTAM": "2",
                                    "ELOZO_FOGLALAS_IDOTARTAM": "5"
                                },
                                {
                                    "SZOBA_FK": "109",
                                    "FOGLALAS_PK": "1083",
                                    "FOGLALAS_IDOTARTAM": "1",
                                    "ELOZO_FOGLALAS_IDOTARTAM": "2"
                                },
                                {
                                    "SZOBA_FK": "109",
                                    "FOGLALAS_PK": "1298",
                                    "FOGLALAS_IDOTARTAM": "4",
                                    "ELOZO_FOGLALAS_IDOTARTAM": "1"
                                },
                                {
                                    "SZOBA_FK": "109",
                                    "FOGLALAS_PK": "1560",
                                    "FOGLALAS_IDOTARTAM": "1",
                                    "ELOZO_FOGLALAS_IDOTARTAM": "4"
                                },
                                {
                                    "SZOBA_FK": "110",
                                    "FOGLALAS_PK": "931",
                                    "FOGLALAS_IDOTARTAM": "5",
                                    "ELOZO_FOGLALAS_IDOTARTAM": "0"
                                },
                                {
                                    "SZOBA_FK": "110",
                                    "FOGLALAS_PK": "964",
                                    "FOGLALAS_IDOTARTAM": "6",
                                    "ELOZO_FOGLALAS_IDOTARTAM": "5"
                                },
                                {
                                    "SZOBA_FK": "110",
                                    "FOGLALAS_PK": "685",
                                    "FOGLALAS_IDOTARTAM": "1",
                                    "ELOZO_FOGLALAS_IDOTARTAM": "6"
                                },
                                {
                                    "SZOBA_FK": "110",
                                    "FOGLALAS_PK": "1041",
                                    "FOGLALAS_IDOTARTAM": "3",
                                    "ELOZO_FOGLALAS_IDOTARTAM": "1"
                                },
                                {
                                    "SZOBA_FK": "110",
                                    "FOGLALAS_PK": "1109",
                                    "FOGLALAS_IDOTARTAM": "5",
                                    "ELOZO_FOGLALAS_IDOTARTAM": "3"
                                },
                                {
                                    "SZOBA_FK": "110",
                                    "FOGLALAS_PK": "1162",
                                    "FOGLALAS_IDOTARTAM": "2",
                                    "ELOZO_FOGLALAS_IDOTARTAM": "5"
                                },
                                {
                                    "SZOBA_FK": "110",
                                    "FOGLALAS_PK": "1424",
                                    "FOGLALAS_IDOTARTAM": "1",
                                    "ELOZO_FOGLALAS_IDOTARTAM": "2"
                                },
                                {
                                    "SZOBA_FK": "110",
                                    "FOGLALAS_PK": "1489",
                                    "FOGLALAS_IDOTARTAM": "6",
                                    "ELOZO_FOGLALAS_IDOTARTAM": "1"
                                },
                                {
                                    "SZOBA_FK": "111",
                                    "FOGLALAS_PK": "605",
                                    "FOGLALAS_IDOTARTAM": "7",
                                    "ELOZO_FOGLALAS_IDOTARTAM": "0"
                                },
                                {
                                    "SZOBA_FK": "111",
                                    "FOGLALAS_PK": "959",
                                    "FOGLALAS_IDOTARTAM": "7",
                                    "ELOZO_FOGLALAS_IDOTARTAM": "7"
                                },
                                {
                                    "SZOBA_FK": "111",
                                    "FOGLALAS_PK": "786",
                                    "FOGLALAS_IDOTARTAM": "4",
                                    "ELOZO_FOGLALAS_IDOTARTAM": "7"
                                },
                                {
                                    "SZOBA_FK": "111",
                                    "FOGLALAS_PK": "1296",
                                    "FOGLALAS_IDOTARTAM": "3",
                                    "ELOZO_FOGLALAS_IDOTARTAM": "4"
                                },
                                {
                                    "SZOBA_FK": "111",
                                    "FOGLALAS_PK": "1353",
                                    "FOGLALAS_IDOTARTAM": "5",
                                    "ELOZO_FOGLALAS_IDOTARTAM": "3"
                                },
                                {
                                    "SZOBA_FK": "112",
                                    "FOGLALAS_PK": "921",
                                    "FOGLALAS_IDOTARTAM": "1",
                                    "ELOZO_FOGLALAS_IDOTARTAM": "0"
                                },
                                {
                                    "SZOBA_FK": "112",
                                    "FOGLALAS_PK": "776",
                                    "FOGLALAS_IDOTARTAM": "4",
                                    "ELOZO_FOGLALAS_IDOTARTAM": "1"
                                },
                                {
                                    "SZOBA_FK": "112",
                                    "FOGLALAS_PK": "801",
                                    "FOGLALAS_IDOTARTAM": "5",
                                    "ELOZO_FOGLALAS_IDOTARTAM": "4"
                                },
                                {
                                    "SZOBA_FK": "112",
                                    "FOGLALAS_PK": "1124",
                                    "FOGLALAS_IDOTARTAM": "6",
                                    "ELOZO_FOGLALAS_IDOTARTAM": "5"
                                },
                                {
                                    "SZOBA_FK": "112",
                                    "FOGLALAS_PK": "1530",
                                    "FOGLALAS_IDOTARTAM": "6",
                                    "ELOZO_FOGLALAS_IDOTARTAM": "6"
                                },
                                {
                                    "SZOBA_FK": "113",
                                    "FOGLALAS_PK": "1029",
                                    "FOGLALAS_IDOTARTAM": "5",
                                    "ELOZO_FOGLALAS_IDOTARTAM": "0"
                                },
                                {
                                    "SZOBA_FK": "113",
                                    "FOGLALAS_PK": "1085",
                                    "FOGLALAS_IDOTARTAM": "4",
                                    "ELOZO_FOGLALAS_IDOTARTAM": "5"
                                },
                                {
                                    "SZOBA_FK": "113",
                                    "FOGLALAS_PK": "1263",
                                    "FOGLALAS_IDOTARTAM": "1",
                                    "ELOZO_FOGLALAS_IDOTARTAM": "4"
                                },
                                {
                                    "SZOBA_FK": "113",
                                    "FOGLALAS_PK": "1495",
                                    "FOGLALAS_IDOTARTAM": "7",
                                    "ELOZO_FOGLALAS_IDOTARTAM": "1"
                                },
                                {
                                    "SZOBA_FK": "113",
                                    "FOGLALAS_PK": "1499",
                                    "FOGLALAS_IDOTARTAM": "2",
                                    "ELOZO_FOGLALAS_IDOTARTAM": "7"
                                },
                                {
                                    "SZOBA_FK": "114",
                                    "FOGLALAS_PK": "966",
                                    "FOGLALAS_IDOTARTAM": "6",
                                    "ELOZO_FOGLALAS_IDOTARTAM": "0"
                                },
                                {
                                    "SZOBA_FK": "114",
                                    "FOGLALAS_PK": "737",
                                    "FOGLALAS_IDOTARTAM": "2",
                                    "ELOZO_FOGLALAS_IDOTARTAM": "6"
                                },
                                {
                                    "SZOBA_FK": "114",
                                    "FOGLALAS_PK": "827",
                                    "FOGLALAS_IDOTARTAM": "7",
                                    "ELOZO_FOGLALAS_IDOTARTAM": "2"
                                },
                                {
                                    "SZOBA_FK": "114",
                                    "FOGLALAS_PK": "1540",
                                    "FOGLALAS_IDOTARTAM": "3",
                                    "ELOZO_FOGLALAS_IDOTARTAM": "7"
                                },
                                {
                                    "SZOBA_FK": "115",
                                    "FOGLALAS_PK": "596",
                                    "FOGLALAS_IDOTARTAM": "7",
                                    "ELOZO_FOGLALAS_IDOTARTAM": "0"
                                },
                                {
                                    "SZOBA_FK": "115",
                                    "FOGLALAS_PK": "943",
                                    "FOGLALAS_IDOTARTAM": "7",
                                    "ELOZO_FOGLALAS_IDOTARTAM": "7"
                                },
                                {
                                    "SZOBA_FK": "115",
                                    "FOGLALAS_PK": "1121",
                                    "FOGLALAS_IDOTARTAM": "7",
                                    "ELOZO_FOGLALAS_IDOTARTAM": "7"
                                },
                                {
                                    "SZOBA_FK": "115",
                                    "FOGLALAS_PK": "1154",
                                    "FOGLALAS_IDOTARTAM": "4",
                                    "ELOZO_FOGLALAS_IDOTARTAM": "7"
                                },
                                {
                                    "SZOBA_FK": "115",
                                    "FOGLALAS_PK": "1352",
                                    "FOGLALAS_IDOTARTAM": "3",
                                    "ELOZO_FOGLALAS_IDOTARTAM": "4"
                                },
                                {
                                    "SZOBA_FK": "115",
                                    "FOGLALAS_PK": "1554",
                                    "FOGLALAS_IDOTARTAM": "3",
                                    "ELOZO_FOGLALAS_IDOTARTAM": "3"
                                },
                                {
                                    "SZOBA_FK": "115",
                                    "FOGLALAS_PK": "1566",
                                    "FOGLALAS_IDOTARTAM": "1",
                                    "ELOZO_FOGLALAS_IDOTARTAM": "3"
                                },
                                {
                                    "SZOBA_FK": "116",
                                    "FOGLALAS_PK": "1455",
                                    "FOGLALAS_IDOTARTAM": "2",
                                    "ELOZO_FOGLALAS_IDOTARTAM": "0"
                                },
                                {
                                    "SZOBA_FK": "116",
                                    "FOGLALAS_PK": "1501",
                                    "FOGLALAS_IDOTARTAM": "4",
                                    "ELOZO_FOGLALAS_IDOTARTAM": "2"
                                },
                                {
                                    "SZOBA_FK": "117",
                                    "FOGLALAS_PK": "612",
                                    "FOGLALAS_IDOTARTAM": "2",
                                    "ELOZO_FOGLALAS_IDOTARTAM": "0"
                                },
                                {
                                    "SZOBA_FK": "117",
                                    "FOGLALAS_PK": "617",
                                    "FOGLALAS_IDOTARTAM": "3",
                                    "ELOZO_FOGLALAS_IDOTARTAM": "2"
                                },
                                {
                                    "SZOBA_FK": "117",
                                    "FOGLALAS_PK": "953",
                                    "FOGLALAS_IDOTARTAM": "5",
                                    "ELOZO_FOGLALAS_IDOTARTAM": "3"
                                },
                                {
                                    "SZOBA_FK": "117",
                                    "FOGLALAS_PK": "962",
                                    "FOGLALAS_IDOTARTAM": "4",
                                    "ELOZO_FOGLALAS_IDOTARTAM": "5"
                                },
                                {
                                    "SZOBA_FK": "117",
                                    "FOGLALAS_PK": "1002",
                                    "FOGLALAS_IDOTARTAM": "1",
                                    "ELOZO_FOGLALAS_IDOTARTAM": "4"
                                },
                                {
                                    "SZOBA_FK": "117",
                                    "FOGLALAS_PK": "1192",
                                    "FOGLALAS_IDOTARTAM": "2",
                                    "ELOZO_FOGLALAS_IDOTARTAM": "1"
                                },
                                {
                                    "SZOBA_FK": "117",
                                    "FOGLALAS_PK": "1247",
                                    "FOGLALAS_IDOTARTAM": "3",
                                    "ELOZO_FOGLALAS_IDOTARTAM": "2"
                                },
                                {
                                    "SZOBA_FK": "117",
                                    "FOGLALAS_PK": "1468",
                                    "FOGLALAS_IDOTARTAM": "7",
                                    "ELOZO_FOGLALAS_IDOTARTAM": "3"
                                },
                                {
                                    "SZOBA_FK": "118",
                                    "FOGLALAS_PK": "864",
                                    "FOGLALAS_IDOTARTAM": "6",
                                    "ELOZO_FOGLALAS_IDOTARTAM": "0"
                                },
                                {
                                    "SZOBA_FK": "118",
                                    "FOGLALAS_PK": "994",
                                    "FOGLALAS_IDOTARTAM": "7",
                                    "ELOZO_FOGLALAS_IDOTARTAM": "6"
                                },
                                {
                                    "SZOBA_FK": "118",
                                    "FOGLALAS_PK": "996",
                                    "FOGLALAS_IDOTARTAM": "3",
                                    "ELOZO_FOGLALAS_IDOTARTAM": "7"
                                },
                                {
                                    "SZOBA_FK": "118",
                                    "FOGLALAS_PK": "716",
                                    "FOGLALAS_IDOTARTAM": "1",
                                    "ELOZO_FOGLALAS_IDOTARTAM": "3"
                                },
                                {
                                    "SZOBA_FK": "118",
                                    "FOGLALAS_PK": "1374",
                                    "FOGLALAS_IDOTARTAM": "5",
                                    "ELOZO_FOGLALAS_IDOTARTAM": "1"
                                },
                                {
                                    "SZOBA_FK": "118",
                                    "FOGLALAS_PK": "1472",
                                    "FOGLALAS_IDOTARTAM": "6",
                                    "ELOZO_FOGLALAS_IDOTARTAM": "5"
                                },
                                {
                                    "SZOBA_FK": "118",
                                    "FOGLALAS_PK": "1481",
                                    "FOGLALAS_IDOTARTAM": "3",
                                    "ELOZO_FOGLALAS_IDOTARTAM": "6"
                                },
                                {
                                    "SZOBA_FK": "119",
                                    "FOGLALAS_PK": "1026",
                                    "FOGLALAS_IDOTARTAM": "3",
                                    "ELOZO_FOGLALAS_IDOTARTAM": "0"
                                },
                                {
                                    "SZOBA_FK": "119",
                                    "FOGLALAS_PK": "706",
                                    "FOGLALAS_IDOTARTAM": "2",
                                    "ELOZO_FOGLALAS_IDOTARTAM": "3"
                                },
                                {
                                    "SZOBA_FK": "119",
                                    "FOGLALAS_PK": "722",
                                    "FOGLALAS_IDOTARTAM": "1",
                                    "ELOZO_FOGLALAS_IDOTARTAM": "2"
                                },
                                {
                                    "SZOBA_FK": "119",
                                    "FOGLALAS_PK": "1413",
                                    "FOGLALAS_IDOTARTAM": "3",
                                    "ELOZO_FOGLALAS_IDOTARTAM": "1"
                                },
                                {
                                    "SZOBA_FK": "119",
                                    "FOGLALAS_PK": "1488",
                                    "FOGLALAS_IDOTARTAM": "3",
                                    "ELOZO_FOGLALAS_IDOTARTAM": "3"
                                },
                                {
                                    "SZOBA_FK": "120",
                                    "FOGLALAS_PK": "998",
                                    "FOGLALAS_IDOTARTAM": "3",
                                    "ELOZO_FOGLALAS_IDOTARTAM": "0"
                                },
                                {
                                    "SZOBA_FK": "120",
                                    "FOGLALAS_PK": "762",
                                    "FOGLALAS_IDOTARTAM": "3",
                                    "ELOZO_FOGLALAS_IDOTARTAM": "3"
                                },
                                {
                                    "SZOBA_FK": "120",
                                    "FOGLALAS_PK": "1089",
                                    "FOGLALAS_IDOTARTAM": "6",
                                    "ELOZO_FOGLALAS_IDOTARTAM": "3"
                                },
                                {
                                    "SZOBA_FK": "120",
                                    "FOGLALAS_PK": "1339",
                                    "FOGLALAS_IDOTARTAM": "6",
                                    "ELOZO_FOGLALAS_IDOTARTAM": "6"
                                },
                                {
                                    "SZOBA_FK": "120",
                                    "FOGLALAS_PK": "1483",
                                    "FOGLALAS_IDOTARTAM": "1",
                                    "ELOZO_FOGLALAS_IDOTARTAM": "6"
                                },
                                {
                                    "SZOBA_FK": "120",
                                    "FOGLALAS_PK": "1493",
                                    "FOGLALAS_IDOTARTAM": "7",
                                    "ELOZO_FOGLALAS_IDOTARTAM": "1"
                                },
                                {
                                    "SZOBA_FK": "121",
                                    "FOGLALAS_PK": "858",
                                    "FOGLALAS_IDOTARTAM": "5",
                                    "ELOZO_FOGLALAS_IDOTARTAM": "0"
                                },
                                {
                                    "SZOBA_FK": "121",
                                    "FOGLALAS_PK": "735",
                                    "FOGLALAS_IDOTARTAM": "6",
                                    "ELOZO_FOGLALAS_IDOTARTAM": "5"
                                },
                                {
                                    "SZOBA_FK": "121",
                                    "FOGLALAS_PK": "739",
                                    "FOGLALAS_IDOTARTAM": "6",
                                    "ELOZO_FOGLALAS_IDOTARTAM": "6"
                                },
                                {
                                    "SZOBA_FK": "121",
                                    "FOGLALAS_PK": "1049",
                                    "FOGLALAS_IDOTARTAM": "3",
                                    "ELOZO_FOGLALAS_IDOTARTAM": "6"
                                },
                                {
                                    "SZOBA_FK": "121",
                                    "FOGLALAS_PK": "1128",
                                    "FOGLALAS_IDOTARTAM": "4",
                                    "ELOZO_FOGLALAS_IDOTARTAM": "3"
                                },
                                {
                                    "SZOBA_FK": "121",
                                    "FOGLALAS_PK": "1215",
                                    "FOGLALAS_IDOTARTAM": "4",
                                    "ELOZO_FOGLALAS_IDOTARTAM": "4"
                                },
                                {
                                    "SZOBA_FK": "121",
                                    "FOGLALAS_PK": "1373",
                                    "FOGLALAS_IDOTARTAM": "5",
                                    "ELOZO_FOGLALAS_IDOTARTAM": "4"
                                },
                                {
                                    "SZOBA_FK": "121",
                                    "FOGLALAS_PK": "1393",
                                    "FOGLALAS_IDOTARTAM": "6",
                                    "ELOZO_FOGLALAS_IDOTARTAM": "5"
                                },
                                {
                                    "SZOBA_FK": "122",
                                    "FOGLALAS_PK": "1007",
                                    "FOGLALAS_IDOTARTAM": "2",
                                    "ELOZO_FOGLALAS_IDOTARTAM": "0"
                                },
                                {
                                    "SZOBA_FK": "122",
                                    "FOGLALAS_PK": "1036",
                                    "FOGLALAS_IDOTARTAM": "2",
                                    "ELOZO_FOGLALAS_IDOTARTAM": "2"
                                },
                                {
                                    "SZOBA_FK": "122",
                                    "FOGLALAS_PK": "1062",
                                    "FOGLALAS_IDOTARTAM": "3",
                                    "ELOZO_FOGLALAS_IDOTARTAM": "2"
                                },
                                {
                                    "SZOBA_FK": "122",
                                    "FOGLALAS_PK": "1166",
                                    "FOGLALAS_IDOTARTAM": "4",
                                    "ELOZO_FOGLALAS_IDOTARTAM": "3"
                                },
                                {
                                    "SZOBA_FK": "122",
                                    "FOGLALAS_PK": "1209",
                                    "FOGLALAS_IDOTARTAM": "1",
                                    "ELOZO_FOGLALAS_IDOTARTAM": "4"
                                },
                                {
                                    "SZOBA_FK": "122",
                                    "FOGLALAS_PK": "1245",
                                    "FOGLALAS_IDOTARTAM": "2",
                                    "ELOZO_FOGLALAS_IDOTARTAM": "1"
                                },
                                {
                                    "SZOBA_FK": "122",
                                    "FOGLALAS_PK": "1337",
                                    "FOGLALAS_IDOTARTAM": "2",
                                    "ELOZO_FOGLALAS_IDOTARTAM": "2"
                                },
                                {
                                    "SZOBA_FK": "122",
                                    "FOGLALAS_PK": "1385",
                                    "FOGLALAS_IDOTARTAM": "5",
                                    "ELOZO_FOGLALAS_IDOTARTAM": "2"
                                },
                                {
                                    "SZOBA_FK": "122",
                                    "FOGLALAS_PK": "1440",
                                    "FOGLALAS_IDOTARTAM": "3",
                                    "ELOZO_FOGLALAS_IDOTARTAM": "5"
                                },
                                {
                                    "SZOBA_FK": "123",
                                    "FOGLALAS_PK": "587",
                                    "FOGLALAS_IDOTARTAM": "7",
                                    "ELOZO_FOGLALAS_IDOTARTAM": "0"
                                },
                                {
                                    "SZOBA_FK": "123",
                                    "FOGLALAS_PK": "923",
                                    "FOGLALAS_IDOTARTAM": "4",
                                    "ELOZO_FOGLALAS_IDOTARTAM": "7"
                                },
                                {
                                    "SZOBA_FK": "123",
                                    "FOGLALAS_PK": "967",
                                    "FOGLALAS_IDOTARTAM": "5",
                                    "ELOZO_FOGLALAS_IDOTARTAM": "4"
                                },
                                {
                                    "SZOBA_FK": "123",
                                    "FOGLALAS_PK": "1223",
                                    "FOGLALAS_IDOTARTAM": "1",
                                    "ELOZO_FOGLALAS_IDOTARTAM": "5"
                                },
                                {
                                    "SZOBA_FK": "123",
                                    "FOGLALAS_PK": "1282",
                                    "FOGLALAS_IDOTARTAM": "6",
                                    "ELOZO_FOGLALAS_IDOTARTAM": "1"
                                },
                                {
                                    "SZOBA_FK": "124",
                                    "FOGLALAS_PK": "861",
                                    "FOGLALAS_IDOTARTAM": "1",
                                    "ELOZO_FOGLALAS_IDOTARTAM": "0"
                                },
                                {
                                    "SZOBA_FK": "124",
                                    "FOGLALAS_PK": "1210",
                                    "FOGLALAS_IDOTARTAM": "4",
                                    "ELOZO_FOGLALAS_IDOTARTAM": "1"
                                },
                                {
                                    "SZOBA_FK": "124",
                                    "FOGLALAS_PK": "1330",
                                    "FOGLALAS_IDOTARTAM": "7",
                                    "ELOZO_FOGLALAS_IDOTARTAM": "4"
                                },
                                {
                                    "SZOBA_FK": "124",
                                    "FOGLALAS_PK": "1403",
                                    "FOGLALAS_IDOTARTAM": "6",
                                    "ELOZO_FOGLALAS_IDOTARTAM": "7"
                                },
                                {
                                    "SZOBA_FK": "124",
                                    "FOGLALAS_PK": "1419",
                                    "FOGLALAS_IDOTARTAM": "3",
                                    "ELOZO_FOGLALAS_IDOTARTAM": "6"
                                },
                                {
                                    "SZOBA_FK": "124",
                                    "FOGLALAS_PK": "1531",
                                    "FOGLALAS_IDOTARTAM": "6",
                                    "ELOZO_FOGLALAS_IDOTARTAM": "3"
                                },
                                {
                                    "SZOBA_FK": "125",
                                    "FOGLALAS_PK": "576",
                                    "FOGLALAS_IDOTARTAM": "1",
                                    "ELOZO_FOGLALAS_IDOTARTAM": "0"
                                },
                                {
                                    "SZOBA_FK": "126",
                                    "FOGLALAS_PK": "754",
                                    "FOGLALAS_IDOTARTAM": "4",
                                    "ELOZO_FOGLALAS_IDOTARTAM": "0"
                                },
                                {
                                    "SZOBA_FK": "126",
                                    "FOGLALAS_PK": "806",
                                    "FOGLALAS_IDOTARTAM": "6",
                                    "ELOZO_FOGLALAS_IDOTARTAM": "4"
                                },
                                {
                                    "SZOBA_FK": "126",
                                    "FOGLALAS_PK": "1134",
                                    "FOGLALAS_IDOTARTAM": "1",
                                    "ELOZO_FOGLALAS_IDOTARTAM": "6"
                                },
                                {
                                    "SZOBA_FK": "126",
                                    "FOGLALAS_PK": "1364",
                                    "FOGLALAS_IDOTARTAM": "6",
                                    "ELOZO_FOGLALAS_IDOTARTAM": "1"
                                },
                                {
                                    "SZOBA_FK": "126",
                                    "FOGLALAS_PK": "1428",
                                    "FOGLALAS_IDOTARTAM": "7",
                                    "ELOZO_FOGLALAS_IDOTARTAM": "6"
                                },
                                {
                                    "SZOBA_FK": "126",
                                    "FOGLALAS_PK": "1500",
                                    "FOGLALAS_IDOTARTAM": "4",
                                    "ELOZO_FOGLALAS_IDOTARTAM": "7"
                                },
                                {
                                    "SZOBA_FK": "127",
                                    "FOGLALAS_PK": "643",
                                    "FOGLALAS_IDOTARTAM": "2",
                                    "ELOZO_FOGLALAS_IDOTARTAM": "0"
                                },
                                {
                                    "SZOBA_FK": "127",
                                    "FOGLALAS_PK": "853",
                                    "FOGLALAS_IDOTARTAM": "5",
                                    "ELOZO_FOGLALAS_IDOTARTAM": "2"
                                },
                                {
                                    "SZOBA_FK": "127",
                                    "FOGLALAS_PK": "879",
                                    "FOGLALAS_IDOTARTAM": "2",
                                    "ELOZO_FOGLALAS_IDOTARTAM": "5"
                                },
                                {
                                    "SZOBA_FK": "127",
                                    "FOGLALAS_PK": "1034",
                                    "FOGLALAS_IDOTARTAM": "6",
                                    "ELOZO_FOGLALAS_IDOTARTAM": "2"
                                },
                                {
                                    "SZOBA_FK": "127",
                                    "FOGLALAS_PK": "1226",
                                    "FOGLALAS_IDOTARTAM": "5",
                                    "ELOZO_FOGLALAS_IDOTARTAM": "6"
                                },
                                {
                                    "SZOBA_FK": "127",
                                    "FOGLALAS_PK": "1286",
                                    "FOGLALAS_IDOTARTAM": "1",
                                    "ELOZO_FOGLALAS_IDOTARTAM": "5"
                                },
                                {
                                    "SZOBA_FK": "127",
                                    "FOGLALAS_PK": "1579",
                                    "FOGLALAS_IDOTARTAM": "5",
                                    "ELOZO_FOGLALAS_IDOTARTAM": "1"
                                },
                                {
                                    "SZOBA_FK": "128",
                                    "FOGLALAS_PK": "717",
                                    "FOGLALAS_IDOTARTAM": "2",
                                    "ELOZO_FOGLALAS_IDOTARTAM": "0"
                                },
                                {
                                    "SZOBA_FK": "128",
                                    "FOGLALAS_PK": "815",
                                    "FOGLALAS_IDOTARTAM": "1",
                                    "ELOZO_FOGLALAS_IDOTARTAM": "2"
                                },
                                {
                                    "SZOBA_FK": "128",
                                    "FOGLALAS_PK": "1290",
                                    "FOGLALAS_IDOTARTAM": "1",
                                    "ELOZO_FOGLALAS_IDOTARTAM": "1"
                                },
                                {
                                    "SZOBA_FK": "128",
                                    "FOGLALAS_PK": "1574",
                                    "FOGLALAS_IDOTARTAM": "1",
                                    "ELOZO_FOGLALAS_IDOTARTAM": "1"
                                },
                                {
                                    "SZOBA_FK": "128",
                                    "FOGLALAS_PK": "1583",
                                    "FOGLALAS_IDOTARTAM": "4",
                                    "ELOZO_FOGLALAS_IDOTARTAM": "1"
                                },
                                {
                                    "SZOBA_FK": "129",
                                    "FOGLALAS_PK": "723",
                                    "FOGLALAS_IDOTARTAM": "7",
                                    "ELOZO_FOGLALAS_IDOTARTAM": "0"
                                },
                                {
                                    "SZOBA_FK": "129",
                                    "FOGLALAS_PK": "1360",
                                    "FOGLALAS_IDOTARTAM": "6",
                                    "ELOZO_FOGLALAS_IDOTARTAM": "7"
                                },
                                {
                                    "SZOBA_FK": "129",
                                    "FOGLALAS_PK": "1445",
                                    "FOGLALAS_IDOTARTAM": "7",
                                    "ELOZO_FOGLALAS_IDOTARTAM": "6"
                                },
                                {
                                    "SZOBA_FK": "129",
                                    "FOGLALAS_PK": "1509",
                                    "FOGLALAS_IDOTARTAM": "6",
                                    "ELOZO_FOGLALAS_IDOTARTAM": "7"
                                },
                                {
                                    "SZOBA_FK": "130",
                                    "FOGLALAS_PK": "580",
                                    "FOGLALAS_IDOTARTAM": "3",
                                    "ELOZO_FOGLALAS_IDOTARTAM": "0"
                                },
                                {
                                    "SZOBA_FK": "130",
                                    "FOGLALAS_PK": "613",
                                    "FOGLALAS_IDOTARTAM": "3",
                                    "ELOZO_FOGLALAS_IDOTARTAM": "3"
                                },
                                {
                                    "SZOBA_FK": "130",
                                    "FOGLALAS_PK": "910",
                                    "FOGLALAS_IDOTARTAM": "2",
                                    "ELOZO_FOGLALAS_IDOTARTAM": "3"
                                },
                                {
                                    "SZOBA_FK": "130",
                                    "FOGLALAS_PK": "779",
                                    "FOGLALAS_IDOTARTAM": "6",
                                    "ELOZO_FOGLALAS_IDOTARTAM": "2"
                                },
                                {
                                    "SZOBA_FK": "130",
                                    "FOGLALAS_PK": "1040",
                                    "FOGLALAS_IDOTARTAM": "1",
                                    "ELOZO_FOGLALAS_IDOTARTAM": "6"
                                },
                                {
                                    "SZOBA_FK": "130",
                                    "FOGLALAS_PK": "1475",
                                    "FOGLALAS_IDOTARTAM": "7",
                                    "ELOZO_FOGLALAS_IDOTARTAM": "1"
                                },
                                {
                                    "SZOBA_FK": "131",
                                    "FOGLALAS_PK": "559",
                                    "FOGLALAS_IDOTARTAM": "2",
                                    "ELOZO_FOGLALAS_IDOTARTAM": "0"
                                },
                                {
                                    "SZOBA_FK": "131",
                                    "FOGLALAS_PK": "655",
                                    "FOGLALAS_IDOTARTAM": "1",
                                    "ELOZO_FOGLALAS_IDOTARTAM": "2"
                                },
                                {
                                    "SZOBA_FK": "131",
                                    "FOGLALAS_PK": "881",
                                    "FOGLALAS_IDOTARTAM": "6",
                                    "ELOZO_FOGLALAS_IDOTARTAM": "1"
                                },
                                {
                                    "SZOBA_FK": "131",
                                    "FOGLALAS_PK": "760",
                                    "FOGLALAS_IDOTARTAM": "4",
                                    "ELOZO_FOGLALAS_IDOTARTAM": "6"
                                },
                                {
                                    "SZOBA_FK": "131",
                                    "FOGLALAS_PK": "1474",
                                    "FOGLALAS_IDOTARTAM": "5",
                                    "ELOZO_FOGLALAS_IDOTARTAM": "4"
                                },
                                {
                                    "SZOBA_FK": "132",
                                    "FOGLALAS_PK": "619",
                                    "FOGLALAS_IDOTARTAM": "7",
                                    "ELOZO_FOGLALAS_IDOTARTAM": "0"
                                },
                                {
                                    "SZOBA_FK": "132",
                                    "FOGLALAS_PK": "999",
                                    "FOGLALAS_IDOTARTAM": "6",
                                    "ELOZO_FOGLALAS_IDOTARTAM": "7"
                                },
                                {
                                    "SZOBA_FK": "132",
                                    "FOGLALAS_PK": "1090",
                                    "FOGLALAS_IDOTARTAM": "7",
                                    "ELOZO_FOGLALAS_IDOTARTAM": "6"
                                },
                                {
                                    "SZOBA_FK": "132",
                                    "FOGLALAS_PK": "1111",
                                    "FOGLALAS_IDOTARTAM": "3",
                                    "ELOZO_FOGLALAS_IDOTARTAM": "7"
                                },
                                {
                                    "SZOBA_FK": "132",
                                    "FOGLALAS_PK": "1301",
                                    "FOGLALAS_IDOTARTAM": "2",
                                    "ELOZO_FOGLALAS_IDOTARTAM": "3"
                                },
                                {
                                    "SZOBA_FK": "132",
                                    "FOGLALAS_PK": "1519",
                                    "FOGLALAS_IDOTARTAM": "2",
                                    "ELOZO_FOGLALAS_IDOTARTAM": "2"
                                },
                                {
                                    "SZOBA_FK": "133",
                                    "FOGLALAS_PK": "909",
                                    "FOGLALAS_IDOTARTAM": "4",
                                    "ELOZO_FOGLALAS_IDOTARTAM": "0"
                                },
                                {
                                    "SZOBA_FK": "133",
                                    "FOGLALAS_PK": "988",
                                    "FOGLALAS_IDOTARTAM": "3",
                                    "ELOZO_FOGLALAS_IDOTARTAM": "4"
                                },
                                {
                                    "SZOBA_FK": "133",
                                    "FOGLALAS_PK": "1149",
                                    "FOGLALAS_IDOTARTAM": "7",
                                    "ELOZO_FOGLALAS_IDOTARTAM": "3"
                                },
                                {
                                    "SZOBA_FK": "133",
                                    "FOGLALAS_PK": "1306",
                                    "FOGLALAS_IDOTARTAM": "3",
                                    "ELOZO_FOGLALAS_IDOTARTAM": "7"
                                },
                                {
                                    "SZOBA_FK": "133",
                                    "FOGLALAS_PK": "1363",
                                    "FOGLALAS_IDOTARTAM": "5",
                                    "ELOZO_FOGLALAS_IDOTARTAM": "3"
                                },
                                {
                                    "SZOBA_FK": "133",
                                    "FOGLALAS_PK": "1409",
                                    "FOGLALAS_IDOTARTAM": "1",
                                    "ELOZO_FOGLALAS_IDOTARTAM": "5"
                                },
                                {
                                    "SZOBA_FK": "134",
                                    "FOGLALAS_PK": "1004",
                                    "FOGLALAS_IDOTARTAM": "5",
                                    "ELOZO_FOGLALAS_IDOTARTAM": "0"
                                },
                                {
                                    "SZOBA_FK": "134",
                                    "FOGLALAS_PK": "1024",
                                    "FOGLALAS_IDOTARTAM": "1",
                                    "ELOZO_FOGLALAS_IDOTARTAM": "5"
                                },
                                {
                                    "SZOBA_FK": "134",
                                    "FOGLALAS_PK": "1045",
                                    "FOGLALAS_IDOTARTAM": "2",
                                    "ELOZO_FOGLALAS_IDOTARTAM": "1"
                                },
                                {
                                    "SZOBA_FK": "134",
                                    "FOGLALAS_PK": "1178",
                                    "FOGLALAS_IDOTARTAM": "7",
                                    "ELOZO_FOGLALAS_IDOTARTAM": "2"
                                },
                                {
                                    "SZOBA_FK": "134",
                                    "FOGLALAS_PK": "1219",
                                    "FOGLALAS_IDOTARTAM": "6",
                                    "ELOZO_FOGLALAS_IDOTARTAM": "7"
                                },
                                {
                                    "SZOBA_FK": "134",
                                    "FOGLALAS_PK": "1535",
                                    "FOGLALAS_IDOTARTAM": "7",
                                    "ELOZO_FOGLALAS_IDOTARTAM": "6"
                                },
                                {
                                    "SZOBA_FK": "135",
                                    "FOGLALAS_PK": "724",
                                    "FOGLALAS_IDOTARTAM": "6",
                                    "ELOZO_FOGLALAS_IDOTARTAM": "0"
                                },
                                {
                                    "SZOBA_FK": "135",
                                    "FOGLALAS_PK": "849",
                                    "FOGLALAS_IDOTARTAM": "7",
                                    "ELOZO_FOGLALAS_IDOTARTAM": "6"
                                },
                                {
                                    "SZOBA_FK": "135",
                                    "FOGLALAS_PK": "1289",
                                    "FOGLALAS_IDOTARTAM": "3",
                                    "ELOZO_FOGLALAS_IDOTARTAM": "7"
                                },
                                {
                                    "SZOBA_FK": "136",
                                    "FOGLALAS_PK": "584",
                                    "FOGLALAS_IDOTARTAM": "2",
                                    "ELOZO_FOGLALAS_IDOTARTAM": "0"
                                },
                                {
                                    "SZOBA_FK": "136",
                                    "FOGLALAS_PK": "661",
                                    "FOGLALAS_IDOTARTAM": "5",
                                    "ELOZO_FOGLALAS_IDOTARTAM": "2"
                                },
                                {
                                    "SZOBA_FK": "136",
                                    "FOGLALAS_PK": "1046",
                                    "FOGLALAS_IDOTARTAM": "4",
                                    "ELOZO_FOGLALAS_IDOTARTAM": "5"
                                },
                                {
                                    "SZOBA_FK": "137",
                                    "FOGLALAS_PK": "582",
                                    "FOGLALAS_IDOTARTAM": "3",
                                    "ELOZO_FOGLALAS_IDOTARTAM": "0"
                                },
                                {
                                    "SZOBA_FK": "137",
                                    "FOGLALAS_PK": "649",
                                    "FOGLALAS_IDOTARTAM": "5",
                                    "ELOZO_FOGLALAS_IDOTARTAM": "3"
                                },
                                {
                                    "SZOBA_FK": "137",
                                    "FOGLALAS_PK": "657",
                                    "FOGLALAS_IDOTARTAM": "6",
                                    "ELOZO_FOGLALAS_IDOTARTAM": "5"
                                },
                                {
                                    "SZOBA_FK": "137",
                                    "FOGLALAS_PK": "1014",
                                    "FOGLALAS_IDOTARTAM": "1",
                                    "ELOZO_FOGLALAS_IDOTARTAM": "6"
                                },
                                {
                                    "SZOBA_FK": "137",
                                    "FOGLALAS_PK": "1201",
                                    "FOGLALAS_IDOTARTAM": "6",
                                    "ELOZO_FOGLALAS_IDOTARTAM": "1"
                                },
                                {
                                    "SZOBA_FK": "137",
                                    "FOGLALAS_PK": "1280",
                                    "FOGLALAS_IDOTARTAM": "3",
                                    "ELOZO_FOGLALAS_IDOTARTAM": "6"
                                },
                                {
                                    "SZOBA_FK": "138",
                                    "FOGLALAS_PK": "768",
                                    "FOGLALAS_IDOTARTAM": "6",
                                    "ELOZO_FOGLALAS_IDOTARTAM": "0"
                                },
                                {
                                    "SZOBA_FK": "138",
                                    "FOGLALAS_PK": "796",
                                    "FOGLALAS_IDOTARTAM": "4",
                                    "ELOZO_FOGLALAS_IDOTARTAM": "6"
                                },
                                {
                                    "SZOBA_FK": "138",
                                    "FOGLALAS_PK": "1256",
                                    "FOGLALAS_IDOTARTAM": "4",
                                    "ELOZO_FOGLALAS_IDOTARTAM": "4"
                                },
                                {
                                    "SZOBA_FK": "138",
                                    "FOGLALAS_PK": "1283",
                                    "FOGLALAS_IDOTARTAM": "2",
                                    "ELOZO_FOGLALAS_IDOTARTAM": "4"
                                },
                                {
                                    "SZOBA_FK": "138",
                                    "FOGLALAS_PK": "1294",
                                    "FOGLALAS_IDOTARTAM": "5",
                                    "ELOZO_FOGLALAS_IDOTARTAM": "2"
                                },
                                {
                                    "SZOBA_FK": "138",
                                    "FOGLALAS_PK": "1358",
                                    "FOGLALAS_IDOTARTAM": "7",
                                    "ELOZO_FOGLALAS_IDOTARTAM": "5"
                                },
                                {
                                    "SZOBA_FK": "138",
                                    "FOGLALAS_PK": "1370",
                                    "FOGLALAS_IDOTARTAM": "5",
                                    "ELOZO_FOGLALAS_IDOTARTAM": "7"
                                },
                                {
                                    "SZOBA_FK": "139",
                                    "FOGLALAS_PK": "579",
                                    "FOGLALAS_IDOTARTAM": "2",
                                    "ELOZO_FOGLALAS_IDOTARTAM": "0"
                                },
                                {
                                    "SZOBA_FK": "139",
                                    "FOGLALAS_PK": "745",
                                    "FOGLALAS_IDOTARTAM": "1",
                                    "ELOZO_FOGLALAS_IDOTARTAM": "2"
                                },
                                {
                                    "SZOBA_FK": "139",
                                    "FOGLALAS_PK": "751",
                                    "FOGLALAS_IDOTARTAM": "4",
                                    "ELOZO_FOGLALAS_IDOTARTAM": "1"
                                },
                                {
                                    "SZOBA_FK": "139",
                                    "FOGLALAS_PK": "1042",
                                    "FOGLALAS_IDOTARTAM": "2",
                                    "ELOZO_FOGLALAS_IDOTARTAM": "4"
                                },
                                {
                                    "SZOBA_FK": "139",
                                    "FOGLALAS_PK": "1064",
                                    "FOGLALAS_IDOTARTAM": "6",
                                    "ELOZO_FOGLALAS_IDOTARTAM": "2"
                                },
                                {
                                    "SZOBA_FK": "139",
                                    "FOGLALAS_PK": "1433",
                                    "FOGLALAS_IDOTARTAM": "6",
                                    "ELOZO_FOGLALAS_IDOTARTAM": "6"
                                },
                                {
                                    "SZOBA_FK": "139",
                                    "FOGLALAS_PK": "1450",
                                    "FOGLALAS_IDOTARTAM": "7",
                                    "ELOZO_FOGLALAS_IDOTARTAM": "6"
                                },
                                {
                                    "SZOBA_FK": "140",
                                    "FOGLALAS_PK": "915",
                                    "FOGLALAS_IDOTARTAM": "2",
                                    "ELOZO_FOGLALAS_IDOTARTAM": "0"
                                },
                                {
                                    "SZOBA_FK": "140",
                                    "FOGLALAS_PK": "733",
                                    "FOGLALAS_IDOTARTAM": "1",
                                    "ELOZO_FOGLALAS_IDOTARTAM": "2"
                                },
                                {
                                    "SZOBA_FK": "140",
                                    "FOGLALAS_PK": "1098",
                                    "FOGLALAS_IDOTARTAM": "2",
                                    "ELOZO_FOGLALAS_IDOTARTAM": "1"
                                },
                                {
                                    "SZOBA_FK": "140",
                                    "FOGLALAS_PK": "1156",
                                    "FOGLALAS_IDOTARTAM": "3",
                                    "ELOZO_FOGLALAS_IDOTARTAM": "2"
                                },
                                {
                                    "SZOBA_FK": "140",
                                    "FOGLALAS_PK": "1259",
                                    "FOGLALAS_IDOTARTAM": "7",
                                    "ELOZO_FOGLALAS_IDOTARTAM": "3"
                                },
                                {
                                    "SZOBA_FK": "140",
                                    "FOGLALAS_PK": "1357",
                                    "FOGLALAS_IDOTARTAM": "4",
                                    "ELOZO_FOGLALAS_IDOTARTAM": "7"
                                },
                                {
                                    "SZOBA_FK": "140",
                                    "FOGLALAS_PK": "1361",
                                    "FOGLALAS_IDOTARTAM": "3",
                                    "ELOZO_FOGLALAS_IDOTARTAM": "4"
                                },
                                {
                                    "SZOBA_FK": "140",
                                    "FOGLALAS_PK": "1371",
                                    "FOGLALAS_IDOTARTAM": "1",
                                    "ELOZO_FOGLALAS_IDOTARTAM": "3"
                                },
                                {
                                    "SZOBA_FK": "141",
                                    "FOGLALAS_PK": "565",
                                    "FOGLALAS_IDOTARTAM": "6",
                                    "ELOZO_FOGLALAS_IDOTARTAM": "0"
                                },
                                {
                                    "SZOBA_FK": "141",
                                    "FOGLALAS_PK": "908",
                                    "FOGLALAS_IDOTARTAM": "2",
                                    "ELOZO_FOGLALAS_IDOTARTAM": "6"
                                },
                                {
                                    "SZOBA_FK": "141",
                                    "FOGLALAS_PK": "761",
                                    "FOGLALAS_IDOTARTAM": "3",
                                    "ELOZO_FOGLALAS_IDOTARTAM": "2"
                                },
                                {
                                    "SZOBA_FK": "141",
                                    "FOGLALAS_PK": "784",
                                    "FOGLALAS_IDOTARTAM": "7",
                                    "ELOZO_FOGLALAS_IDOTARTAM": "3"
                                },
                                {
                                    "SZOBA_FK": "141",
                                    "FOGLALAS_PK": "1254",
                                    "FOGLALAS_IDOTARTAM": "4",
                                    "ELOZO_FOGLALAS_IDOTARTAM": "7"
                                },
                                {
                                    "SZOBA_FK": "141",
                                    "FOGLALAS_PK": "1401",
                                    "FOGLALAS_IDOTARTAM": "6",
                                    "ELOZO_FOGLALAS_IDOTARTAM": "4"
                                },
                                {
                                    "SZOBA_FK": "142",
                                    "FOGLALAS_PK": "1369",
                                    "FOGLALAS_IDOTARTAM": "6",
                                    "ELOZO_FOGLALAS_IDOTARTAM": "0"
                                },
                                {
                                    "SZOBA_FK": "142",
                                    "FOGLALAS_PK": "1545",
                                    "FOGLALAS_IDOTARTAM": "3",
                                    "ELOZO_FOGLALAS_IDOTARTAM": "6"
                                },
                                {
                                    "SZOBA_FK": "143",
                                    "FOGLALAS_PK": "980",
                                    "FOGLALAS_IDOTARTAM": "3",
                                    "ELOZO_FOGLALAS_IDOTARTAM": "0"
                                },
                                {
                                    "SZOBA_FK": "143",
                                    "FOGLALAS_PK": "1155",
                                    "FOGLALAS_IDOTARTAM": "7",
                                    "ELOZO_FOGLALAS_IDOTARTAM": "3"
                                },
                                {
                                    "SZOBA_FK": "143",
                                    "FOGLALAS_PK": "1193",
                                    "FOGLALAS_IDOTARTAM": "6",
                                    "ELOZO_FOGLALAS_IDOTARTAM": "7"
                                },
                                {
                                    "SZOBA_FK": "143",
                                    "FOGLALAS_PK": "1222",
                                    "FOGLALAS_IDOTARTAM": "2",
                                    "ELOZO_FOGLALAS_IDOTARTAM": "6"
                                },
                                {
                                    "SZOBA_FK": "143",
                                    "FOGLALAS_PK": "1313",
                                    "FOGLALAS_IDOTARTAM": "4",
                                    "ELOZO_FOGLALAS_IDOTARTAM": "2"
                                },
                                {
                                    "SZOBA_FK": "143",
                                    "FOGLALAS_PK": "1394",
                                    "FOGLALAS_IDOTARTAM": "3",
                                    "ELOZO_FOGLALAS_IDOTARTAM": "4"
                                },
                                {
                                    "SZOBA_FK": "143",
                                    "FOGLALAS_PK": "1448",
                                    "FOGLALAS_IDOTARTAM": "6",
                                    "ELOZO_FOGLALAS_IDOTARTAM": "3"
                                },
                                {
                                    "SZOBA_FK": "144",
                                    "FOGLALAS_PK": "581",
                                    "FOGLALAS_IDOTARTAM": "4",
                                    "ELOZO_FOGLALAS_IDOTARTAM": "0"
                                },
                                {
                                    "SZOBA_FK": "144",
                                    "FOGLALAS_PK": "1087",
                                    "FOGLALAS_IDOTARTAM": "2",
                                    "ELOZO_FOGLALAS_IDOTARTAM": "4"
                                },
                                {
                                    "SZOBA_FK": "144",
                                    "FOGLALAS_PK": "1199",
                                    "FOGLALAS_IDOTARTAM": "7",
                                    "ELOZO_FOGLALAS_IDOTARTAM": "2"
                                },
                                {
                                    "SZOBA_FK": "144",
                                    "FOGLALAS_PK": "1297",
                                    "FOGLALAS_IDOTARTAM": "1",
                                    "ELOZO_FOGLALAS_IDOTARTAM": "7"
                                },
                                {
                                    "SZOBA_FK": "144",
                                    "FOGLALAS_PK": "1572",
                                    "FOGLALAS_IDOTARTAM": "2",
                                    "ELOZO_FOGLALAS_IDOTARTAM": "1"
                                },
                                {
                                    "SZOBA_FK": "145",
                                    "FOGLALAS_PK": "703",
                                    "FOGLALAS_IDOTARTAM": "4",
                                    "ELOZO_FOGLALAS_IDOTARTAM": "0"
                                },
                                {
                                    "SZOBA_FK": "145",
                                    "FOGLALAS_PK": "1077",
                                    "FOGLALAS_IDOTARTAM": "1",
                                    "ELOZO_FOGLALAS_IDOTARTAM": "4"
                                },
                                {
                                    "SZOBA_FK": "145",
                                    "FOGLALAS_PK": "1120",
                                    "FOGLALAS_IDOTARTAM": "1",
                                    "ELOZO_FOGLALAS_IDOTARTAM": "1"
                                },
                                {
                                    "SZOBA_FK": "145",
                                    "FOGLALAS_PK": "1145",
                                    "FOGLALAS_IDOTARTAM": "4",
                                    "ELOZO_FOGLALAS_IDOTARTAM": "1"
                                },
                                {
                                    "SZOBA_FK": "145",
                                    "FOGLALAS_PK": "1338",
                                    "FOGLALAS_IDOTARTAM": "2",
                                    "ELOZO_FOGLALAS_IDOTARTAM": "4"
                                },
                                {
                                    "SZOBA_FK": "145",
                                    "FOGLALAS_PK": "1471",
                                    "FOGLALAS_IDOTARTAM": "1",
                                    "ELOZO_FOGLALAS_IDOTARTAM": "2"
                                },
                                {
                                    "SZOBA_FK": "146",
                                    "FOGLALAS_PK": "890",
                                    "FOGLALAS_IDOTARTAM": "3",
                                    "ELOZO_FOGLALAS_IDOTARTAM": "0"
                                },
                                {
                                    "SZOBA_FK": "146",
                                    "FOGLALAS_PK": "664",
                                    "FOGLALAS_IDOTARTAM": "3",
                                    "ELOZO_FOGLALAS_IDOTARTAM": "3"
                                },
                                {
                                    "SZOBA_FK": "146",
                                    "FOGLALAS_PK": "789",
                                    "FOGLALAS_IDOTARTAM": "7",
                                    "ELOZO_FOGLALAS_IDOTARTAM": "3"
                                },
                                {
                                    "SZOBA_FK": "146",
                                    "FOGLALAS_PK": "804",
                                    "FOGLALAS_IDOTARTAM": "7",
                                    "ELOZO_FOGLALAS_IDOTARTAM": "7"
                                },
                                {
                                    "SZOBA_FK": "146",
                                    "FOGLALAS_PK": "1032",
                                    "FOGLALAS_IDOTARTAM": "5",
                                    "ELOZO_FOGLALAS_IDOTARTAM": "7"
                                },
                                {
                                    "SZOBA_FK": "146",
                                    "FOGLALAS_PK": "1479",
                                    "FOGLALAS_IDOTARTAM": "6",
                                    "ELOZO_FOGLALAS_IDOTARTAM": "5"
                                },
                                {
                                    "SZOBA_FK": "147",
                                    "FOGLALAS_PK": "771",
                                    "FOGLALAS_IDOTARTAM": "4",
                                    "ELOZO_FOGLALAS_IDOTARTAM": "0"
                                },
                                {
                                    "SZOBA_FK": "148",
                                    "FOGLALAS_PK": "678",
                                    "FOGLALAS_IDOTARTAM": "4",
                                    "ELOZO_FOGLALAS_IDOTARTAM": "0"
                                },
                                {
                                    "SZOBA_FK": "148",
                                    "FOGLALAS_PK": "765",
                                    "FOGLALAS_IDOTARTAM": "3",
                                    "ELOZO_FOGLALAS_IDOTARTAM": "4"
                                },
                                {
                                    "SZOBA_FK": "148",
                                    "FOGLALAS_PK": "783",
                                    "FOGLALAS_IDOTARTAM": "7",
                                    "ELOZO_FOGLALAS_IDOTARTAM": "3"
                                },
                                {
                                    "SZOBA_FK": "148",
                                    "FOGLALAS_PK": "808",
                                    "FOGLALAS_IDOTARTAM": "2",
                                    "ELOZO_FOGLALAS_IDOTARTAM": "7"
                                },
                                {
                                    "SZOBA_FK": "148",
                                    "FOGLALAS_PK": "812",
                                    "FOGLALAS_IDOTARTAM": "6",
                                    "ELOZO_FOGLALAS_IDOTARTAM": "2"
                                },
                                {
                                    "SZOBA_FK": "148",
                                    "FOGLALAS_PK": "1578",
                                    "FOGLALAS_IDOTARTAM": "7",
                                    "ELOZO_FOGLALAS_IDOTARTAM": "6"
                                },
                                {
                                    "SZOBA_FK": "149",
                                    "FOGLALAS_PK": "591",
                                    "FOGLALAS_IDOTARTAM": "1",
                                    "ELOZO_FOGLALAS_IDOTARTAM": "0"
                                },
                                {
                                    "SZOBA_FK": "149",
                                    "FOGLALAS_PK": "652",
                                    "FOGLALAS_IDOTARTAM": "1",
                                    "ELOZO_FOGLALAS_IDOTARTAM": "1"
                                },
                                {
                                    "SZOBA_FK": "149",
                                    "FOGLALAS_PK": "833",
                                    "FOGLALAS_IDOTARTAM": "2",
                                    "ELOZO_FOGLALAS_IDOTARTAM": "1"
                                },
                                {
                                    "SZOBA_FK": "149",
                                    "FOGLALAS_PK": "834",
                                    "FOGLALAS_IDOTARTAM": "5",
                                    "ELOZO_FOGLALAS_IDOTARTAM": "2"
                                },
                                {
                                    "SZOBA_FK": "149",
                                    "FOGLALAS_PK": "843",
                                    "FOGLALAS_IDOTARTAM": "4",
                                    "ELOZO_FOGLALAS_IDOTARTAM": "5"
                                },
                                {
                                    "SZOBA_FK": "149",
                                    "FOGLALAS_PK": "1146",
                                    "FOGLALAS_IDOTARTAM": "6",
                                    "ELOZO_FOGLALAS_IDOTARTAM": "4"
                                },
                                {
                                    "SZOBA_FK": "149",
                                    "FOGLALAS_PK": "1514",
                                    "FOGLALAS_IDOTARTAM": "5",
                                    "ELOZO_FOGLALAS_IDOTARTAM": "6"
                                },
                                {
                                    "SZOBA_FK": "150",
                                    "FOGLALAS_PK": "641",
                                    "FOGLALAS_IDOTARTAM": "3",
                                    "ELOZO_FOGLALAS_IDOTARTAM": "0"
                                },
                                {
                                    "SZOBA_FK": "150",
                                    "FOGLALAS_PK": "1100",
                                    "FOGLALAS_IDOTARTAM": "5",
                                    "ELOZO_FOGLALAS_IDOTARTAM": "3"
                                },
                                {
                                    "SZOBA_FK": "150",
                                    "FOGLALAS_PK": "1105",
                                    "FOGLALAS_IDOTARTAM": "1",
                                    "ELOZO_FOGLALAS_IDOTARTAM": "5"
                                },
                                {
                                    "SZOBA_FK": "150",
                                    "FOGLALAS_PK": "1177",
                                    "FOGLALAS_IDOTARTAM": "1",
                                    "ELOZO_FOGLALAS_IDOTARTAM": "1"
                                },
                                {
                                    "SZOBA_FK": "150",
                                    "FOGLALAS_PK": "1203",
                                    "FOGLALAS_IDOTARTAM": "4",
                                    "ELOZO_FOGLALAS_IDOTARTAM": "1"
                                },
                                {
                                    "SZOBA_FK": "150",
                                    "FOGLALAS_PK": "1432",
                                    "FOGLALAS_IDOTARTAM": "3",
                                    "ELOZO_FOGLALAS_IDOTARTAM": "4"
                                },
                                {
                                    "SZOBA_FK": "151",
                                    "FOGLALAS_PK": "893",
                                    "FOGLALAS_IDOTARTAM": "3",
                                    "ELOZO_FOGLALAS_IDOTARTAM": "0"
                                },
                                {
                                    "SZOBA_FK": "151",
                                    "FOGLALAS_PK": "1058",
                                    "FOGLALAS_IDOTARTAM": "3",
                                    "ELOZO_FOGLALAS_IDOTARTAM": "3"
                                },
                                {
                                    "SZOBA_FK": "151",
                                    "FOGLALAS_PK": "1115",
                                    "FOGLALAS_IDOTARTAM": "3",
                                    "ELOZO_FOGLALAS_IDOTARTAM": "3"
                                },
                                {
                                    "SZOBA_FK": "152",
                                    "FOGLALAS_PK": "730",
                                    "FOGLALAS_IDOTARTAM": "2",
                                    "ELOZO_FOGLALAS_IDOTARTAM": "0"
                                },
                                {
                                    "SZOBA_FK": "152",
                                    "FOGLALAS_PK": "1160",
                                    "FOGLALAS_IDOTARTAM": "7",
                                    "ELOZO_FOGLALAS_IDOTARTAM": "2"
                                },
                                {
                                    "SZOBA_FK": "152",
                                    "FOGLALAS_PK": "1197",
                                    "FOGLALAS_IDOTARTAM": "6",
                                    "ELOZO_FOGLALAS_IDOTARTAM": "7"
                                },
                                {
                                    "SZOBA_FK": "152",
                                    "FOGLALAS_PK": "1558",
                                    "FOGLALAS_IDOTARTAM": "2",
                                    "ELOZO_FOGLALAS_IDOTARTAM": "6"
                                },
                                {
                                    "SZOBA_FK": "153",
                                    "FOGLALAS_PK": "594",
                                    "FOGLALAS_IDOTARTAM": "3",
                                    "ELOZO_FOGLALAS_IDOTARTAM": "0"
                                },
                                {
                                    "SZOBA_FK": "153",
                                    "FOGLALAS_PK": "969",
                                    "FOGLALAS_IDOTARTAM": "6",
                                    "ELOZO_FOGLALAS_IDOTARTAM": "3"
                                },
                                {
                                    "SZOBA_FK": "153",
                                    "FOGLALAS_PK": "1460",
                                    "FOGLALAS_IDOTARTAM": "3",
                                    "ELOZO_FOGLALAS_IDOTARTAM": "6"
                                },
                                {
                                    "SZOBA_FK": "153",
                                    "FOGLALAS_PK": "1470",
                                    "FOGLALAS_IDOTARTAM": "5",
                                    "ELOZO_FOGLALAS_IDOTARTAM": "3"
                                },
                                {
                                    "SZOBA_FK": "153",
                                    "FOGLALAS_PK": "1507",
                                    "FOGLALAS_IDOTARTAM": "3",
                                    "ELOZO_FOGLALAS_IDOTARTAM": "5"
                                },
                                {
                                    "SZOBA_FK": "154",
                                    "FOGLALAS_PK": "968",
                                    "FOGLALAS_IDOTARTAM": "1",
                                    "ELOZO_FOGLALAS_IDOTARTAM": "0"
                                },
                                {
                                    "SZOBA_FK": "154",
                                    "FOGLALAS_PK": "1061",
                                    "FOGLALAS_IDOTARTAM": "7",
                                    "ELOZO_FOGLALAS_IDOTARTAM": "1"
                                },
                                {
                                    "SZOBA_FK": "154",
                                    "FOGLALAS_PK": "1168",
                                    "FOGLALAS_IDOTARTAM": "6",
                                    "ELOZO_FOGLALAS_IDOTARTAM": "7"
                                },
                                {
                                    "SZOBA_FK": "154",
                                    "FOGLALAS_PK": "1262",
                                    "FOGLALAS_IDOTARTAM": "1",
                                    "ELOZO_FOGLALAS_IDOTARTAM": "6"
                                },
                                {
                                    "SZOBA_FK": "154",
                                    "FOGLALAS_PK": "1539",
                                    "FOGLALAS_IDOTARTAM": "2",
                                    "ELOZO_FOGLALAS_IDOTARTAM": "1"
                                },
                                {
                                    "SZOBA_FK": "155",
                                    "FOGLALAS_PK": "575",
                                    "FOGLALAS_IDOTARTAM": "1",
                                    "ELOZO_FOGLALAS_IDOTARTAM": "0"
                                },
                                {
                                    "SZOBA_FK": "155",
                                    "FOGLALAS_PK": "577",
                                    "FOGLALAS_IDOTARTAM": "3",
                                    "ELOZO_FOGLALAS_IDOTARTAM": "1"
                                },
                                {
                                    "SZOBA_FK": "155",
                                    "FOGLALAS_PK": "1112",
                                    "FOGLALAS_IDOTARTAM": "4",
                                    "ELOZO_FOGLALAS_IDOTARTAM": "3"
                                },
                                {
                                    "SZOBA_FK": "155",
                                    "FOGLALAS_PK": "1310",
                                    "FOGLALAS_IDOTARTAM": "1",
                                    "ELOZO_FOGLALAS_IDOTARTAM": "4"
                                },
                                {
                                    "SZOBA_FK": "155",
                                    "FOGLALAS_PK": "1541",
                                    "FOGLALAS_IDOTARTAM": "1",
                                    "ELOZO_FOGLALAS_IDOTARTAM": "1"
                                },
                                {
                                    "SZOBA_FK": "156",
                                    "FOGLALAS_PK": "588",
                                    "FOGLALAS_IDOTARTAM": "7",
                                    "ELOZO_FOGLALAS_IDOTARTAM": "0"
                                },
                                {
                                    "SZOBA_FK": "156",
                                    "FOGLALAS_PK": "907",
                                    "FOGLALAS_IDOTARTAM": "3",
                                    "ELOZO_FOGLALAS_IDOTARTAM": "7"
                                },
                                {
                                    "SZOBA_FK": "156",
                                    "FOGLALAS_PK": "956",
                                    "FOGLALAS_IDOTARTAM": "6",
                                    "ELOZO_FOGLALAS_IDOTARTAM": "3"
                                },
                                {
                                    "SZOBA_FK": "156",
                                    "FOGLALAS_PK": "692",
                                    "FOGLALAS_IDOTARTAM": "6",
                                    "ELOZO_FOGLALAS_IDOTARTAM": "6"
                                },
                                {
                                    "SZOBA_FK": "156",
                                    "FOGLALAS_PK": "1462",
                                    "FOGLALAS_IDOTARTAM": "7",
                                    "ELOZO_FOGLALAS_IDOTARTAM": "6"
                                },
                                {
                                    "SZOBA_FK": "156",
                                    "FOGLALAS_PK": "1490",
                                    "FOGLALAS_IDOTARTAM": "1",
                                    "ELOZO_FOGLALAS_IDOTARTAM": "7"
                                },
                                {
                                    "SZOBA_FK": "156",
                                    "FOGLALAS_PK": "1561",
                                    "FOGLALAS_IDOTARTAM": "4",
                                    "ELOZO_FOGLALAS_IDOTARTAM": "1"
                                },
                                {
                                    "SZOBA_FK": "157",
                                    "FOGLALAS_PK": "648",
                                    "FOGLALAS_IDOTARTAM": "4",
                                    "ELOZO_FOGLALAS_IDOTARTAM": "0"
                                },
                                {
                                    "SZOBA_FK": "157",
                                    "FOGLALAS_PK": "1025",
                                    "FOGLALAS_IDOTARTAM": "3",
                                    "ELOZO_FOGLALAS_IDOTARTAM": "4"
                                },
                                {
                                    "SZOBA_FK": "157",
                                    "FOGLALAS_PK": "1047",
                                    "FOGLALAS_IDOTARTAM": "4",
                                    "ELOZO_FOGLALAS_IDOTARTAM": "3"
                                },
                                {
                                    "SZOBA_FK": "157",
                                    "FOGLALAS_PK": "1240",
                                    "FOGLALAS_IDOTARTAM": "7",
                                    "ELOZO_FOGLALAS_IDOTARTAM": "4"
                                },
                                {
                                    "SZOBA_FK": "157",
                                    "FOGLALAS_PK": "1551",
                                    "FOGLALAS_IDOTARTAM": "3",
                                    "ELOZO_FOGLALAS_IDOTARTAM": "7"
                                },
                                {
                                    "SZOBA_FK": "158",
                                    "FOGLALAS_PK": "825",
                                    "FOGLALAS_IDOTARTAM": "4",
                                    "ELOZO_FOGLALAS_IDOTARTAM": "0"
                                },
                                {
                                    "SZOBA_FK": "158",
                                    "FOGLALAS_PK": "840",
                                    "FOGLALAS_IDOTARTAM": "4",
                                    "ELOZO_FOGLALAS_IDOTARTAM": "4"
                                },
                                {
                                    "SZOBA_FK": "158",
                                    "FOGLALAS_PK": "1117",
                                    "FOGLALAS_IDOTARTAM": "3",
                                    "ELOZO_FOGLALAS_IDOTARTAM": "4"
                                },
                                {
                                    "SZOBA_FK": "160",
                                    "FOGLALAS_PK": "922",
                                    "FOGLALAS_IDOTARTAM": "2",
                                    "ELOZO_FOGLALAS_IDOTARTAM": "0"
                                },
                                {
                                    "SZOBA_FK": "160",
                                    "FOGLALAS_PK": "927",
                                    "FOGLALAS_IDOTARTAM": "4",
                                    "ELOZO_FOGLALAS_IDOTARTAM": "2"
                                },
                                {
                                    "SZOBA_FK": "160",
                                    "FOGLALAS_PK": "933",
                                    "FOGLALAS_IDOTARTAM": "4",
                                    "ELOZO_FOGLALAS_IDOTARTAM": "4"
                                },
                                {
                                    "SZOBA_FK": "160",
                                    "FOGLALAS_PK": "720",
                                    "FOGLALAS_IDOTARTAM": "2",
                                    "ELOZO_FOGLALAS_IDOTARTAM": "4"
                                },
                                {
                                    "SZOBA_FK": "160",
                                    "FOGLALAS_PK": "1565",
                                    "FOGLALAS_IDOTARTAM": "3",
                                    "ELOZO_FOGLALAS_IDOTARTAM": "2"
                                },
                                {
                                    "SZOBA_FK": "161",
                                    "FOGLALAS_PK": "639",
                                    "FOGLALAS_IDOTARTAM": "4",
                                    "ELOZO_FOGLALAS_IDOTARTAM": "0"
                                },
                                {
                                    "SZOBA_FK": "161",
                                    "FOGLALAS_PK": "653",
                                    "FOGLALAS_IDOTARTAM": "7",
                                    "ELOZO_FOGLALAS_IDOTARTAM": "4"
                                },
                                {
                                    "SZOBA_FK": "161",
                                    "FOGLALAS_PK": "911",
                                    "FOGLALAS_IDOTARTAM": "4",
                                    "ELOZO_FOGLALAS_IDOTARTAM": "7"
                                },
                                {
                                    "SZOBA_FK": "161",
                                    "FOGLALAS_PK": "1068",
                                    "FOGLALAS_IDOTARTAM": "6",
                                    "ELOZO_FOGLALAS_IDOTARTAM": "4"
                                },
                                {
                                    "SZOBA_FK": "161",
                                    "FOGLALAS_PK": "1190",
                                    "FOGLALAS_IDOTARTAM": "7",
                                    "ELOZO_FOGLALAS_IDOTARTAM": "6"
                                },
                                {
                                    "SZOBA_FK": "161",
                                    "FOGLALAS_PK": "1571",
                                    "FOGLALAS_IDOTARTAM": "4",
                                    "ELOZO_FOGLALAS_IDOTARTAM": "7"
                                },
                                {
                                    "SZOBA_FK": "162",
                                    "FOGLALAS_PK": "599",
                                    "FOGLALAS_IDOTARTAM": "4",
                                    "ELOZO_FOGLALAS_IDOTARTAM": "0"
                                },
                                {
                                    "SZOBA_FK": "162",
                                    "FOGLALAS_PK": "1205",
                                    "FOGLALAS_IDOTARTAM": "6",
                                    "ELOZO_FOGLALAS_IDOTARTAM": "4"
                                },
                                {
                                    "SZOBA_FK": "162",
                                    "FOGLALAS_PK": "1400",
                                    "FOGLALAS_IDOTARTAM": "1",
                                    "ELOZO_FOGLALAS_IDOTARTAM": "6"
                                },
                                {
                                    "SZOBA_FK": "163",
                                    "FOGLALAS_PK": "630",
                                    "FOGLALAS_IDOTARTAM": "2",
                                    "ELOZO_FOGLALAS_IDOTARTAM": "0"
                                },
                                {
                                    "SZOBA_FK": "163",
                                    "FOGLALAS_PK": "941",
                                    "FOGLALAS_IDOTARTAM": "1",
                                    "ELOZO_FOGLALAS_IDOTARTAM": "2"
                                },
                                {
                                    "SZOBA_FK": "163",
                                    "FOGLALAS_PK": "782",
                                    "FOGLALAS_IDOTARTAM": "3",
                                    "ELOZO_FOGLALAS_IDOTARTAM": "1"
                                },
                                {
                                    "SZOBA_FK": "163",
                                    "FOGLALAS_PK": "1075",
                                    "FOGLALAS_IDOTARTAM": "4",
                                    "ELOZO_FOGLALAS_IDOTARTAM": "3"
                                },
                                {
                                    "SZOBA_FK": "163",
                                    "FOGLALAS_PK": "1107",
                                    "FOGLALAS_IDOTARTAM": "3",
                                    "ELOZO_FOGLALAS_IDOTARTAM": "4"
                                },
                                {
                                    "SZOBA_FK": "163",
                                    "FOGLALAS_PK": "1265",
                                    "FOGLALAS_IDOTARTAM": "5",
                                    "ELOZO_FOGLALAS_IDOTARTAM": "3"
                                },
                                {
                                    "SZOBA_FK": "163",
                                    "FOGLALAS_PK": "1487",
                                    "FOGLALAS_IDOTARTAM": "3",
                                    "ELOZO_FOGLALAS_IDOTARTAM": "5"
                                },
                                {
                                    "SZOBA_FK": "164",
                                    "FOGLALAS_PK": "570",
                                    "FOGLALAS_IDOTARTAM": "7",
                                    "ELOZO_FOGLALAS_IDOTARTAM": "0"
                                },
                                {
                                    "SZOBA_FK": "164",
                                    "FOGLALAS_PK": "1010",
                                    "FOGLALAS_IDOTARTAM": "2",
                                    "ELOZO_FOGLALAS_IDOTARTAM": "7"
                                },
                                {
                                    "SZOBA_FK": "164",
                                    "FOGLALAS_PK": "742",
                                    "FOGLALAS_IDOTARTAM": "6",
                                    "ELOZO_FOGLALAS_IDOTARTAM": "2"
                                },
                                {
                                    "SZOBA_FK": "164",
                                    "FOGLALAS_PK": "1284",
                                    "FOGLALAS_IDOTARTAM": "4",
                                    "ELOZO_FOGLALAS_IDOTARTAM": "6"
                                },
                                {
                                    "SZOBA_FK": "164",
                                    "FOGLALAS_PK": "1292",
                                    "FOGLALAS_IDOTARTAM": "2",
                                    "ELOZO_FOGLALAS_IDOTARTAM": "4"
                                },
                                {
                                    "SZOBA_FK": "165",
                                    "FOGLALAS_PK": "640",
                                    "FOGLALAS_IDOTARTAM": "3",
                                    "ELOZO_FOGLALAS_IDOTARTAM": "0"
                                },
                                {
                                    "SZOBA_FK": "165",
                                    "FOGLALAS_PK": "857",
                                    "FOGLALAS_IDOTARTAM": "5",
                                    "ELOZO_FOGLALAS_IDOTARTAM": "3"
                                },
                                {
                                    "SZOBA_FK": "165",
                                    "FOGLALAS_PK": "900",
                                    "FOGLALAS_IDOTARTAM": "6",
                                    "ELOZO_FOGLALAS_IDOTARTAM": "5"
                                },
                                {
                                    "SZOBA_FK": "165",
                                    "FOGLALAS_PK": "897",
                                    "FOGLALAS_IDOTARTAM": "6",
                                    "ELOZO_FOGLALAS_IDOTARTAM": "6"
                                },
                                {
                                    "SZOBA_FK": "165",
                                    "FOGLALAS_PK": "892",
                                    "FOGLALAS_IDOTARTAM": "3",
                                    "ELOZO_FOGLALAS_IDOTARTAM": "6"
                                },
                                {
                                    "SZOBA_FK": "165",
                                    "FOGLALAS_PK": "1141",
                                    "FOGLALAS_IDOTARTAM": "1",
                                    "ELOZO_FOGLALAS_IDOTARTAM": "3"
                                },
                                {
                                    "SZOBA_FK": "165",
                                    "FOGLALAS_PK": "1375",
                                    "FOGLALAS_IDOTARTAM": "4",
                                    "ELOZO_FOGLALAS_IDOTARTAM": "1"
                                },
                                {
                                    "SZOBA_FK": "166",
                                    "FOGLALAS_PK": "644",
                                    "FOGLALAS_IDOTARTAM": "7",
                                    "ELOZO_FOGLALAS_IDOTARTAM": "0"
                                },
                                {
                                    "SZOBA_FK": "166",
                                    "FOGLALAS_PK": "781",
                                    "FOGLALAS_IDOTARTAM": "7",
                                    "ELOZO_FOGLALAS_IDOTARTAM": "7"
                                },
                                {
                                    "SZOBA_FK": "166",
                                    "FOGLALAS_PK": "1526",
                                    "FOGLALAS_IDOTARTAM": "2",
                                    "ELOZO_FOGLALAS_IDOTARTAM": "7"
                                },
                                {
                                    "SZOBA_FK": "167",
                                    "FOGLALAS_PK": "854",
                                    "FOGLALAS_IDOTARTAM": "7",
                                    "ELOZO_FOGLALAS_IDOTARTAM": "0"
                                },
                                {
                                    "SZOBA_FK": "167",
                                    "FOGLALAS_PK": "1414",
                                    "FOGLALAS_IDOTARTAM": "3",
                                    "ELOZO_FOGLALAS_IDOTARTAM": "7"
                                },
                                {
                                    "SZOBA_FK": "168",
                                    "FOGLALAS_PK": "930",
                                    "FOGLALAS_IDOTARTAM": "3",
                                    "ELOZO_FOGLALAS_IDOTARTAM": "0"
                                },
                                {
                                    "SZOBA_FK": "168",
                                    "FOGLALAS_PK": "792",
                                    "FOGLALAS_IDOTARTAM": "3",
                                    "ELOZO_FOGLALAS_IDOTARTAM": "3"
                                },
                                {
                                    "SZOBA_FK": "168",
                                    "FOGLALAS_PK": "794",
                                    "FOGLALAS_IDOTARTAM": "4",
                                    "ELOZO_FOGLALAS_IDOTARTAM": "3"
                                },
                                {
                                    "SZOBA_FK": "168",
                                    "FOGLALAS_PK": "1249",
                                    "FOGLALAS_IDOTARTAM": "4",
                                    "ELOZO_FOGLALAS_IDOTARTAM": "4"
                                },
                                {
                                    "SZOBA_FK": "168",
                                    "FOGLALAS_PK": "1266",
                                    "FOGLALAS_IDOTARTAM": "4",
                                    "ELOZO_FOGLALAS_IDOTARTAM": "4"
                                },
                                {
                                    "SZOBA_FK": "169",
                                    "FOGLALAS_PK": "573",
                                    "FOGLALAS_IDOTARTAM": "5",
                                    "ELOZO_FOGLALAS_IDOTARTAM": "0"
                                },
                                {
                                    "SZOBA_FK": "169",
                                    "FOGLALAS_PK": "659",
                                    "FOGLALAS_IDOTARTAM": "6",
                                    "ELOZO_FOGLALAS_IDOTARTAM": "5"
                                },
                                {
                                    "SZOBA_FK": "169",
                                    "FOGLALAS_PK": "974",
                                    "FOGLALAS_IDOTARTAM": "1",
                                    "ELOZO_FOGLALAS_IDOTARTAM": "6"
                                },
                                {
                                    "SZOBA_FK": "169",
                                    "FOGLALAS_PK": "746",
                                    "FOGLALAS_IDOTARTAM": "7",
                                    "ELOZO_FOGLALAS_IDOTARTAM": "1"
                                },
                                {
                                    "SZOBA_FK": "169",
                                    "FOGLALAS_PK": "1356",
                                    "FOGLALAS_IDOTARTAM": "4",
                                    "ELOZO_FOGLALAS_IDOTARTAM": "7"
                                },
                                {
                                    "SZOBA_FK": "169",
                                    "FOGLALAS_PK": "1427",
                                    "FOGLALAS_IDOTARTAM": "1",
                                    "ELOZO_FOGLALAS_IDOTARTAM": "4"
                                },
                                {
                                    "SZOBA_FK": "170",
                                    "FOGLALAS_PK": "567",
                                    "FOGLALAS_IDOTARTAM": "7",
                                    "ELOZO_FOGLALAS_IDOTARTAM": "0"
                                },
                                {
                                    "SZOBA_FK": "170",
                                    "FOGLALAS_PK": "944",
                                    "FOGLALAS_IDOTARTAM": "4",
                                    "ELOZO_FOGLALAS_IDOTARTAM": "7"
                                },
                                {
                                    "SZOBA_FK": "170",
                                    "FOGLALAS_PK": "1194",
                                    "FOGLALAS_IDOTARTAM": "4",
                                    "ELOZO_FOGLALAS_IDOTARTAM": "4"
                                },
                                {
                                    "SZOBA_FK": "170",
                                    "FOGLALAS_PK": "1267",
                                    "FOGLALAS_IDOTARTAM": "7",
                                    "ELOZO_FOGLALAS_IDOTARTAM": "4"
                                },
                                {
                                    "SZOBA_FK": "170",
                                    "FOGLALAS_PK": "1342",
                                    "FOGLALAS_IDOTARTAM": "6",
                                    "ELOZO_FOGLALAS_IDOTARTAM": "7"
                                },
                                {
                                    "SZOBA_FK": "171",
                                    "FOGLALAS_PK": "574",
                                    "FOGLALAS_IDOTARTAM": "2",
                                    "ELOZO_FOGLALAS_IDOTARTAM": "0"
                                },
                                {
                                    "SZOBA_FK": "171",
                                    "FOGLALAS_PK": "981",
                                    "FOGLALAS_IDOTARTAM": "4",
                                    "ELOZO_FOGLALAS_IDOTARTAM": "2"
                                },
                                {
                                    "SZOBA_FK": "171",
                                    "FOGLALAS_PK": "1181",
                                    "FOGLALAS_IDOTARTAM": "6",
                                    "ELOZO_FOGLALAS_IDOTARTAM": "4"
                                },
                                {
                                    "SZOBA_FK": "171",
                                    "FOGLALAS_PK": "1329",
                                    "FOGLALAS_IDOTARTAM": "5",
                                    "ELOZO_FOGLALAS_IDOTARTAM": "6"
                                },
                                {
                                    "SZOBA_FK": "171",
                                    "FOGLALAS_PK": "1567",
                                    "FOGLALAS_IDOTARTAM": "6",
                                    "ELOZO_FOGLALAS_IDOTARTAM": "5"
                                },
                                {
                                    "SZOBA_FK": "172",
                                    "FOGLALAS_PK": "984",
                                    "FOGLALAS_IDOTARTAM": "4",
                                    "ELOZO_FOGLALAS_IDOTARTAM": "0"
                                },
                                {
                                    "SZOBA_FK": "172",
                                    "FOGLALAS_PK": "709",
                                    "FOGLALAS_IDOTARTAM": "5",
                                    "ELOZO_FOGLALAS_IDOTARTAM": "4"
                                },
                                {
                                    "SZOBA_FK": "172",
                                    "FOGLALAS_PK": "749",
                                    "FOGLALAS_IDOTARTAM": "6",
                                    "ELOZO_FOGLALAS_IDOTARTAM": "5"
                                },
                                {
                                    "SZOBA_FK": "172",
                                    "FOGLALAS_PK": "839",
                                    "FOGLALAS_IDOTARTAM": "5",
                                    "ELOZO_FOGLALAS_IDOTARTAM": "6"
                                },
                                {
                                    "SZOBA_FK": "172",
                                    "FOGLALAS_PK": "1142",
                                    "FOGLALAS_IDOTARTAM": "4",
                                    "ELOZO_FOGLALAS_IDOTARTAM": "5"
                                },
                                {
                                    "SZOBA_FK": "172",
                                    "FOGLALAS_PK": "1171",
                                    "FOGLALAS_IDOTARTAM": "5",
                                    "ELOZO_FOGLALAS_IDOTARTAM": "4"
                                },
                                {
                                    "SZOBA_FK": "172",
                                    "FOGLALAS_PK": "1336",
                                    "FOGLALAS_IDOTARTAM": "5",
                                    "ELOZO_FOGLALAS_IDOTARTAM": "5"
                                },
                                {
                                    "SZOBA_FK": "172",
                                    "FOGLALAS_PK": "1421",
                                    "FOGLALAS_IDOTARTAM": "5",
                                    "ELOZO_FOGLALAS_IDOTARTAM": "5"
                                },
                                {
                                    "SZOBA_FK": "172",
                                    "FOGLALAS_PK": "1491",
                                    "FOGLALAS_IDOTARTAM": "2",
                                    "ELOZO_FOGLALAS_IDOTARTAM": "5"
                                },
                                {
                                    "SZOBA_FK": "173",
                                    "FOGLALAS_PK": "913",
                                    "FOGLALAS_IDOTARTAM": "1",
                                    "ELOZO_FOGLALAS_IDOTARTAM": "0"
                                },
                                {
                                    "SZOBA_FK": "173",
                                    "FOGLALAS_PK": "669",
                                    "FOGLALAS_IDOTARTAM": "7",
                                    "ELOZO_FOGLALAS_IDOTARTAM": "1"
                                },
                                {
                                    "SZOBA_FK": "173",
                                    "FOGLALAS_PK": "1350",
                                    "FOGLALAS_IDOTARTAM": "3",
                                    "ELOZO_FOGLALAS_IDOTARTAM": "7"
                                },
                                {
                                    "SZOBA_FK": "173",
                                    "FOGLALAS_PK": "1429",
                                    "FOGLALAS_IDOTARTAM": "4",
                                    "ELOZO_FOGLALAS_IDOTARTAM": "3"
                                },
                                {
                                    "SZOBA_FK": "174",
                                    "FOGLALAS_PK": "917",
                                    "FOGLALAS_IDOTARTAM": "2",
                                    "ELOZO_FOGLALAS_IDOTARTAM": "0"
                                },
                                {
                                    "SZOBA_FK": "174",
                                    "FOGLALAS_PK": "1015",
                                    "FOGLALAS_IDOTARTAM": "5",
                                    "ELOZO_FOGLALAS_IDOTARTAM": "2"
                                },
                                {
                                    "SZOBA_FK": "174",
                                    "FOGLALAS_PK": "682",
                                    "FOGLALAS_IDOTARTAM": "3",
                                    "ELOZO_FOGLALAS_IDOTARTAM": "5"
                                },
                                {
                                    "SZOBA_FK": "174",
                                    "FOGLALAS_PK": "1276",
                                    "FOGLALAS_IDOTARTAM": "1",
                                    "ELOZO_FOGLALAS_IDOTARTAM": "3"
                                },
                                {
                                    "SZOBA_FK": "175",
                                    "FOGLALAS_PK": "867",
                                    "FOGLALAS_IDOTARTAM": "6",
                                    "ELOZO_FOGLALAS_IDOTARTAM": "0"
                                },
                                {
                                    "SZOBA_FK": "175",
                                    "FOGLALAS_PK": "799",
                                    "FOGLALAS_IDOTARTAM": "4",
                                    "ELOZO_FOGLALAS_IDOTARTAM": "6"
                                },
                                {
                                    "SZOBA_FK": "175",
                                    "FOGLALAS_PK": "1094",
                                    "FOGLALAS_IDOTARTAM": "5",
                                    "ELOZO_FOGLALAS_IDOTARTAM": "4"
                                },
                                {
                                    "SZOBA_FK": "175",
                                    "FOGLALAS_PK": "1133",
                                    "FOGLALAS_IDOTARTAM": "2",
                                    "ELOZO_FOGLALAS_IDOTARTAM": "5"
                                },
                                {
                                    "SZOBA_FK": "175",
                                    "FOGLALAS_PK": "1407",
                                    "FOGLALAS_IDOTARTAM": "7",
                                    "ELOZO_FOGLALAS_IDOTARTAM": "2"
                                },
                                {
                                    "SZOBA_FK": "176",
                                    "FOGLALAS_PK": "592",
                                    "FOGLALAS_IDOTARTAM": "5",
                                    "ELOZO_FOGLALAS_IDOTARTAM": "0"
                                },
                                {
                                    "SZOBA_FK": "176",
                                    "FOGLALAS_PK": "1143",
                                    "FOGLALAS_IDOTARTAM": "6",
                                    "ELOZO_FOGLALAS_IDOTARTAM": "5"
                                },
                                {
                                    "SZOBA_FK": "176",
                                    "FOGLALAS_PK": "1278",
                                    "FOGLALAS_IDOTARTAM": "6",
                                    "ELOZO_FOGLALAS_IDOTARTAM": "6"
                                },
                                {
                                    "SZOBA_FK": "176",
                                    "FOGLALAS_PK": "1383",
                                    "FOGLALAS_IDOTARTAM": "4",
                                    "ELOZO_FOGLALAS_IDOTARTAM": "6"
                                },
                                {
                                    "SZOBA_FK": "176",
                                    "FOGLALAS_PK": "1511",
                                    "FOGLALAS_IDOTARTAM": "2",
                                    "ELOZO_FOGLALAS_IDOTARTAM": "4"
                                },
                                {
                                    "SZOBA_FK": "176",
                                    "FOGLALAS_PK": "1570",
                                    "FOGLALAS_IDOTARTAM": "3",
                                    "ELOZO_FOGLALAS_IDOTARTAM": "2"
                                },
                                {
                                    "SZOBA_FK": "177",
                                    "FOGLALAS_PK": "785",
                                    "FOGLALAS_IDOTARTAM": "3",
                                    "ELOZO_FOGLALAS_IDOTARTAM": "0"
                                },
                                {
                                    "SZOBA_FK": "177",
                                    "FOGLALAS_PK": "831",
                                    "FOGLALAS_IDOTARTAM": "7",
                                    "ELOZO_FOGLALAS_IDOTARTAM": "3"
                                },
                                {
                                    "SZOBA_FK": "177",
                                    "FOGLALAS_PK": "1176",
                                    "FOGLALAS_IDOTARTAM": "3",
                                    "ELOZO_FOGLALAS_IDOTARTAM": "7"
                                },
                                {
                                    "SZOBA_FK": "177",
                                    "FOGLALAS_PK": "1503",
                                    "FOGLALAS_IDOTARTAM": "3",
                                    "ELOZO_FOGLALAS_IDOTARTAM": "3"
                                },
                                {
                                    "SZOBA_FK": "178",
                                    "FOGLALAS_PK": "991",
                                    "FOGLALAS_IDOTARTAM": "7",
                                    "ELOZO_FOGLALAS_IDOTARTAM": "0"
                                },
                                {
                                    "SZOBA_FK": "178",
                                    "FOGLALAS_PK": "816",
                                    "FOGLALAS_IDOTARTAM": "4",
                                    "ELOZO_FOGLALAS_IDOTARTAM": "7"
                                },
                                {
                                    "SZOBA_FK": "178",
                                    "FOGLALAS_PK": "1211",
                                    "FOGLALAS_IDOTARTAM": "3",
                                    "ELOZO_FOGLALAS_IDOTARTAM": "4"
                                },
                                {
                                    "SZOBA_FK": "178",
                                    "FOGLALAS_PK": "1242",
                                    "FOGLALAS_IDOTARTAM": "1",
                                    "ELOZO_FOGLALAS_IDOTARTAM": "3"
                                },
                                {
                                    "SZOBA_FK": "179",
                                    "FOGLALAS_PK": "662",
                                    "FOGLALAS_IDOTARTAM": "2",
                                    "ELOZO_FOGLALAS_IDOTARTAM": "0"
                                },
                                {
                                    "SZOBA_FK": "179",
                                    "FOGLALAS_PK": "1021",
                                    "FOGLALAS_IDOTARTAM": "1",
                                    "ELOZO_FOGLALAS_IDOTARTAM": "2"
                                },
                                {
                                    "SZOBA_FK": "179",
                                    "FOGLALAS_PK": "1497",
                                    "FOGLALAS_IDOTARTAM": "1",
                                    "ELOZO_FOGLALAS_IDOTARTAM": "1"
                                },
                                {
                                    "SZOBA_FK": "180",
                                    "FOGLALAS_PK": "905",
                                    "FOGLALAS_IDOTARTAM": "5",
                                    "ELOZO_FOGLALAS_IDOTARTAM": "0"
                                },
                                {
                                    "SZOBA_FK": "180",
                                    "FOGLALAS_PK": "1559",
                                    "FOGLALAS_IDOTARTAM": "3",
                                    "ELOZO_FOGLALAS_IDOTARTAM": "5"
                                },
                                {
                                    "SZOBA_FK": "180",
                                    "FOGLALAS_PK": "1563",
                                    "FOGLALAS_IDOTARTAM": "6",
                                    "ELOZO_FOGLALAS_IDOTARTAM": "3"
                                },
                                {
                                    "SZOBA_FK": "181",
                                    "FOGLALAS_PK": "937",
                                    "FOGLALAS_IDOTARTAM": "3",
                                    "ELOZO_FOGLALAS_IDOTARTAM": "0"
                                },
                                {
                                    "SZOBA_FK": "181",
                                    "FOGLALAS_PK": "958",
                                    "FOGLALAS_IDOTARTAM": "5",
                                    "ELOZO_FOGLALAS_IDOTARTAM": "3"
                                },
                                {
                                    "SZOBA_FK": "181",
                                    "FOGLALAS_PK": "1022",
                                    "FOGLALAS_IDOTARTAM": "1",
                                    "ELOZO_FOGLALAS_IDOTARTAM": "5"
                                },
                                {
                                    "SZOBA_FK": "181",
                                    "FOGLALAS_PK": "677",
                                    "FOGLALAS_IDOTARTAM": "4",
                                    "ELOZO_FOGLALAS_IDOTARTAM": "1"
                                },
                                {
                                    "SZOBA_FK": "181",
                                    "FOGLALAS_PK": "731",
                                    "FOGLALAS_IDOTARTAM": "6",
                                    "ELOZO_FOGLALAS_IDOTARTAM": "4"
                                },
                                {
                                    "SZOBA_FK": "181",
                                    "FOGLALAS_PK": "1346",
                                    "FOGLALAS_IDOTARTAM": "6",
                                    "ELOZO_FOGLALAS_IDOTARTAM": "6"
                                },
                                {
                                    "SZOBA_FK": "182",
                                    "FOGLALAS_PK": "571",
                                    "FOGLALAS_IDOTARTAM": "2",
                                    "ELOZO_FOGLALAS_IDOTARTAM": "0"
                                },
                                {
                                    "SZOBA_FK": "182",
                                    "FOGLALAS_PK": "928",
                                    "FOGLALAS_IDOTARTAM": "2",
                                    "ELOZO_FOGLALAS_IDOTARTAM": "2"
                                },
                                {
                                    "SZOBA_FK": "182",
                                    "FOGLALAS_PK": "1008",
                                    "FOGLALAS_IDOTARTAM": "6",
                                    "ELOZO_FOGLALAS_IDOTARTAM": "2"
                                },
                                {
                                    "SZOBA_FK": "182",
                                    "FOGLALAS_PK": "740",
                                    "FOGLALAS_IDOTARTAM": "3",
                                    "ELOZO_FOGLALAS_IDOTARTAM": "6"
                                },
                                {
                                    "SZOBA_FK": "182",
                                    "FOGLALAS_PK": "1188",
                                    "FOGLALAS_IDOTARTAM": "1",
                                    "ELOZO_FOGLALAS_IDOTARTAM": "3"
                                },
                                {
                                    "SZOBA_FK": "182",
                                    "FOGLALAS_PK": "1230",
                                    "FOGLALAS_IDOTARTAM": "7",
                                    "ELOZO_FOGLALAS_IDOTARTAM": "1"
                                },
                                {
                                    "SZOBA_FK": "182",
                                    "FOGLALAS_PK": "1231",
                                    "FOGLALAS_IDOTARTAM": "4",
                                    "ELOZO_FOGLALAS_IDOTARTAM": "7"
                                },
                                {
                                    "SZOBA_FK": "182",
                                    "FOGLALAS_PK": "1308",
                                    "FOGLALAS_IDOTARTAM": "1",
                                    "ELOZO_FOGLALAS_IDOTARTAM": "4"
                                },
                                {
                                    "SZOBA_FK": "182",
                                    "FOGLALAS_PK": "1317",
                                    "FOGLALAS_IDOTARTAM": "3",
                                    "ELOZO_FOGLALAS_IDOTARTAM": "1"
                                },
                                {
                                    "SZOBA_FK": "182",
                                    "FOGLALAS_PK": "1326",
                                    "FOGLALAS_IDOTARTAM": "4",
                                    "ELOZO_FOGLALAS_IDOTARTAM": "3"
                                },
                                {
                                    "SZOBA_FK": "182",
                                    "FOGLALAS_PK": "1410",
                                    "FOGLALAS_IDOTARTAM": "4",
                                    "ELOZO_FOGLALAS_IDOTARTAM": "4"
                                },
                                {
                                    "SZOBA_FK": "182",
                                    "FOGLALAS_PK": "1422",
                                    "FOGLALAS_IDOTARTAM": "3",
                                    "ELOZO_FOGLALAS_IDOTARTAM": "4"
                                },
                                {
                                    "SZOBA_FK": "183",
                                    "FOGLALAS_PK": "939",
                                    "FOGLALAS_IDOTARTAM": "4",
                                    "ELOZO_FOGLALAS_IDOTARTAM": "0"
                                },
                                {
                                    "SZOBA_FK": "183",
                                    "FOGLALAS_PK": "1067",
                                    "FOGLALAS_IDOTARTAM": "7",
                                    "ELOZO_FOGLALAS_IDOTARTAM": "4"
                                },
                                {
                                    "SZOBA_FK": "183",
                                    "FOGLALAS_PK": "1147",
                                    "FOGLALAS_IDOTARTAM": "4",
                                    "ELOZO_FOGLALAS_IDOTARTAM": "7"
                                },
                                {
                                    "SZOBA_FK": "183",
                                    "FOGLALAS_PK": "1437",
                                    "FOGLALAS_IDOTARTAM": "4",
                                    "ELOZO_FOGLALAS_IDOTARTAM": "4"
                                },
                                {
                                    "SZOBA_FK": "184",
                                    "FOGLALAS_PK": "608",
                                    "FOGLALAS_IDOTARTAM": "2",
                                    "ELOZO_FOGLALAS_IDOTARTAM": "0"
                                },
                                {
                                    "SZOBA_FK": "184",
                                    "FOGLALAS_PK": "880",
                                    "FOGLALAS_IDOTARTAM": "4",
                                    "ELOZO_FOGLALAS_IDOTARTAM": "2"
                                },
                                {
                                    "SZOBA_FK": "184",
                                    "FOGLALAS_PK": "684",
                                    "FOGLALAS_IDOTARTAM": "3",
                                    "ELOZO_FOGLALAS_IDOTARTAM": "4"
                                },
                                {
                                    "SZOBA_FK": "184",
                                    "FOGLALAS_PK": "1251",
                                    "FOGLALAS_IDOTARTAM": "4",
                                    "ELOZO_FOGLALAS_IDOTARTAM": "3"
                                },
                                {
                                    "SZOBA_FK": "185",
                                    "FOGLALAS_PK": "578",
                                    "FOGLALAS_IDOTARTAM": "6",
                                    "ELOZO_FOGLALAS_IDOTARTAM": "0"
                                },
                                {
                                    "SZOBA_FK": "185",
                                    "FOGLALAS_PK": "863",
                                    "FOGLALAS_IDOTARTAM": "4",
                                    "ELOZO_FOGLALAS_IDOTARTAM": "6"
                                },
                                {
                                    "SZOBA_FK": "185",
                                    "FOGLALAS_PK": "898",
                                    "FOGLALAS_IDOTARTAM": "4",
                                    "ELOZO_FOGLALAS_IDOTARTAM": "4"
                                },
                                {
                                    "SZOBA_FK": "185",
                                    "FOGLALAS_PK": "925",
                                    "FOGLALAS_IDOTARTAM": "6",
                                    "ELOZO_FOGLALAS_IDOTARTAM": "4"
                                },
                                {
                                    "SZOBA_FK": "185",
                                    "FOGLALAS_PK": "672",
                                    "FOGLALAS_IDOTARTAM": "3",
                                    "ELOZO_FOGLALAS_IDOTARTAM": "6"
                                },
                                {
                                    "SZOBA_FK": "185",
                                    "FOGLALAS_PK": "679",
                                    "FOGLALAS_IDOTARTAM": "5",
                                    "ELOZO_FOGLALAS_IDOTARTAM": "3"
                                },
                                {
                                    "SZOBA_FK": "185",
                                    "FOGLALAS_PK": "693",
                                    "FOGLALAS_IDOTARTAM": "2",
                                    "ELOZO_FOGLALAS_IDOTARTAM": "5"
                                },
                                {
                                    "SZOBA_FK": "185",
                                    "FOGLALAS_PK": "711",
                                    "FOGLALAS_IDOTARTAM": "3",
                                    "ELOZO_FOGLALAS_IDOTARTAM": "2"
                                },
                                {
                                    "SZOBA_FK": "185",
                                    "FOGLALAS_PK": "1125",
                                    "FOGLALAS_IDOTARTAM": "3",
                                    "ELOZO_FOGLALAS_IDOTARTAM": "3"
                                },
                                {
                                    "SZOBA_FK": "185",
                                    "FOGLALAS_PK": "1183",
                                    "FOGLALAS_IDOTARTAM": "5",
                                    "ELOZO_FOGLALAS_IDOTARTAM": "3"
                                },
                                {
                                    "SZOBA_FK": "185",
                                    "FOGLALAS_PK": "1441",
                                    "FOGLALAS_IDOTARTAM": "7",
                                    "ELOZO_FOGLALAS_IDOTARTAM": "5"
                                },
                                {
                                    "SZOBA_FK": "185",
                                    "FOGLALAS_PK": "1463",
                                    "FOGLALAS_IDOTARTAM": "7",
                                    "ELOZO_FOGLALAS_IDOTARTAM": "7"
                                },
                                {
                                    "SZOBA_FK": "186",
                                    "FOGLALAS_PK": "615",
                                    "FOGLALAS_IDOTARTAM": "3",
                                    "ELOZO_FOGLALAS_IDOTARTAM": "0"
                                },
                                {
                                    "SZOBA_FK": "186",
                                    "FOGLALAS_PK": "1153",
                                    "FOGLALAS_IDOTARTAM": "3",
                                    "ELOZO_FOGLALAS_IDOTARTAM": "3"
                                },
                                {
                                    "SZOBA_FK": "186",
                                    "FOGLALAS_PK": "1248",
                                    "FOGLALAS_IDOTARTAM": "2",
                                    "ELOZO_FOGLALAS_IDOTARTAM": "3"
                                },
                                {
                                    "SZOBA_FK": "186",
                                    "FOGLALAS_PK": "1467",
                                    "FOGLALAS_IDOTARTAM": "3",
                                    "ELOZO_FOGLALAS_IDOTARTAM": "2"
                                },
                                {
                                    "SZOBA_FK": "187",
                                    "FOGLALAS_PK": "633",
                                    "FOGLALAS_IDOTARTAM": "6",
                                    "ELOZO_FOGLALAS_IDOTARTAM": "0"
                                },
                                {
                                    "SZOBA_FK": "187",
                                    "FOGLALAS_PK": "868",
                                    "FOGLALAS_IDOTARTAM": "4",
                                    "ELOZO_FOGLALAS_IDOTARTAM": "6"
                                },
                                {
                                    "SZOBA_FK": "187",
                                    "FOGLALAS_PK": "957",
                                    "FOGLALAS_IDOTARTAM": "4",
                                    "ELOZO_FOGLALAS_IDOTARTAM": "4"
                                },
                                {
                                    "SZOBA_FK": "187",
                                    "FOGLALAS_PK": "695",
                                    "FOGLALAS_IDOTARTAM": "6",
                                    "ELOZO_FOGLALAS_IDOTARTAM": "4"
                                },
                                {
                                    "SZOBA_FK": "187",
                                    "FOGLALAS_PK": "743",
                                    "FOGLALAS_IDOTARTAM": "2",
                                    "ELOZO_FOGLALAS_IDOTARTAM": "6"
                                },
                                {
                                    "SZOBA_FK": "187",
                                    "FOGLALAS_PK": "766",
                                    "FOGLALAS_IDOTARTAM": "1",
                                    "ELOZO_FOGLALAS_IDOTARTAM": "2"
                                },
                                {
                                    "SZOBA_FK": "187",
                                    "FOGLALAS_PK": "1404",
                                    "FOGLALAS_IDOTARTAM": "2",
                                    "ELOZO_FOGLALAS_IDOTARTAM": "1"
                                },
                                {
                                    "SZOBA_FK": "188",
                                    "FOGLALAS_PK": "912",
                                    "FOGLALAS_IDOTARTAM": "1",
                                    "ELOZO_FOGLALAS_IDOTARTAM": "0"
                                },
                                {
                                    "SZOBA_FK": "188",
                                    "FOGLALAS_PK": "690",
                                    "FOGLALAS_IDOTARTAM": "4",
                                    "ELOZO_FOGLALAS_IDOTARTAM": "1"
                                },
                                {
                                    "SZOBA_FK": "188",
                                    "FOGLALAS_PK": "710",
                                    "FOGLALAS_IDOTARTAM": "7",
                                    "ELOZO_FOGLALAS_IDOTARTAM": "4"
                                },
                                {
                                    "SZOBA_FK": "188",
                                    "FOGLALAS_PK": "747",
                                    "FOGLALAS_IDOTARTAM": "3",
                                    "ELOZO_FOGLALAS_IDOTARTAM": "7"
                                },
                                {
                                    "SZOBA_FK": "188",
                                    "FOGLALAS_PK": "1030",
                                    "FOGLALAS_IDOTARTAM": "4",
                                    "ELOZO_FOGLALAS_IDOTARTAM": "3"
                                },
                                {
                                    "SZOBA_FK": "188",
                                    "FOGLALAS_PK": "1390",
                                    "FOGLALAS_IDOTARTAM": "5",
                                    "ELOZO_FOGLALAS_IDOTARTAM": "4"
                                },
                                {
                                    "SZOBA_FK": "189",
                                    "FOGLALAS_PK": "699",
                                    "FOGLALAS_IDOTARTAM": "2",
                                    "ELOZO_FOGLALAS_IDOTARTAM": "0"
                                },
                                {
                                    "SZOBA_FK": "189",
                                    "FOGLALAS_PK": "753",
                                    "FOGLALAS_IDOTARTAM": "1",
                                    "ELOZO_FOGLALAS_IDOTARTAM": "2"
                                },
                                {
                                    "SZOBA_FK": "189",
                                    "FOGLALAS_PK": "1204",
                                    "FOGLALAS_IDOTARTAM": "2",
                                    "ELOZO_FOGLALAS_IDOTARTAM": "1"
                                },
                                {
                                    "SZOBA_FK": "189",
                                    "FOGLALAS_PK": "1449",
                                    "FOGLALAS_IDOTARTAM": "2",
                                    "ELOZO_FOGLALAS_IDOTARTAM": "2"
                                },
                                {
                                    "SZOBA_FK": "189",
                                    "FOGLALAS_PK": "1576",
                                    "FOGLALAS_IDOTARTAM": "3",
                                    "ELOZO_FOGLALAS_IDOTARTAM": "2"
                                },
                                {
                                    "SZOBA_FK": "190",
                                    "FOGLALAS_PK": "600",
                                    "FOGLALAS_IDOTARTAM": "7",
                                    "ELOZO_FOGLALAS_IDOTARTAM": "0"
                                },
                                {
                                    "SZOBA_FK": "190",
                                    "FOGLALAS_PK": "989",
                                    "FOGLALAS_IDOTARTAM": "1",
                                    "ELOZO_FOGLALAS_IDOTARTAM": "7"
                                },
                                {
                                    "SZOBA_FK": "190",
                                    "FOGLALAS_PK": "1017",
                                    "FOGLALAS_IDOTARTAM": "1",
                                    "ELOZO_FOGLALAS_IDOTARTAM": "1"
                                },
                                {
                                    "SZOBA_FK": "190",
                                    "FOGLALAS_PK": "774",
                                    "FOGLALAS_IDOTARTAM": "5",
                                    "ELOZO_FOGLALAS_IDOTARTAM": "1"
                                },
                                {
                                    "SZOBA_FK": "190",
                                    "FOGLALAS_PK": "1517",
                                    "FOGLALAS_IDOTARTAM": "5",
                                    "ELOZO_FOGLALAS_IDOTARTAM": "5"
                                },
                                {
                                    "SZOBA_FK": "191",
                                    "FOGLALAS_PK": "1039",
                                    "FOGLALAS_IDOTARTAM": "6",
                                    "ELOZO_FOGLALAS_IDOTARTAM": "0"
                                },
                                {
                                    "SZOBA_FK": "191",
                                    "FOGLALAS_PK": "1302",
                                    "FOGLALAS_IDOTARTAM": "1",
                                    "ELOZO_FOGLALAS_IDOTARTAM": "6"
                                },
                                {
                                    "SZOBA_FK": "191",
                                    "FOGLALAS_PK": "1323",
                                    "FOGLALAS_IDOTARTAM": "7",
                                    "ELOZO_FOGLALAS_IDOTARTAM": "1"
                                },
                                {
                                    "SZOBA_FK": "191",
                                    "FOGLALAS_PK": "1502",
                                    "FOGLALAS_IDOTARTAM": "2",
                                    "ELOZO_FOGLALAS_IDOTARTAM": "7"
                                },
                                {
                                    "SZOBA_FK": "191",
                                    "FOGLALAS_PK": "1508",
                                    "FOGLALAS_IDOTARTAM": "7",
                                    "ELOZO_FOGLALAS_IDOTARTAM": "2"
                                },
                                {
                                    "SZOBA_FK": "192",
                                    "FOGLALAS_PK": "903",
                                    "FOGLALAS_IDOTARTAM": "7",
                                    "ELOZO_FOGLALAS_IDOTARTAM": "0"
                                },
                                {
                                    "SZOBA_FK": "192",
                                    "FOGLALAS_PK": "680",
                                    "FOGLALAS_IDOTARTAM": "4",
                                    "ELOZO_FOGLALAS_IDOTARTAM": "7"
                                },
                                {
                                    "SZOBA_FK": "193",
                                    "FOGLALAS_PK": "634",
                                    "FOGLALAS_IDOTARTAM": "6",
                                    "ELOZO_FOGLALAS_IDOTARTAM": "0"
                                },
                                {
                                    "SZOBA_FK": "193",
                                    "FOGLALAS_PK": "926",
                                    "FOGLALAS_IDOTARTAM": "1",
                                    "ELOZO_FOGLALAS_IDOTARTAM": "6"
                                },
                                {
                                    "SZOBA_FK": "193",
                                    "FOGLALAS_PK": "977",
                                    "FOGLALAS_IDOTARTAM": "2",
                                    "ELOZO_FOGLALAS_IDOTARTAM": "1"
                                },
                                {
                                    "SZOBA_FK": "193",
                                    "FOGLALAS_PK": "675",
                                    "FOGLALAS_IDOTARTAM": "2",
                                    "ELOZO_FOGLALAS_IDOTARTAM": "2"
                                },
                                {
                                    "SZOBA_FK": "193",
                                    "FOGLALAS_PK": "835",
                                    "FOGLALAS_IDOTARTAM": "2",
                                    "ELOZO_FOGLALAS_IDOTARTAM": "2"
                                },
                                {
                                    "SZOBA_FK": "193",
                                    "FOGLALAS_PK": "1043",
                                    "FOGLALAS_IDOTARTAM": "6",
                                    "ELOZO_FOGLALAS_IDOTARTAM": "2"
                                },
                                {
                                    "SZOBA_FK": "193",
                                    "FOGLALAS_PK": "1238",
                                    "FOGLALAS_IDOTARTAM": "6",
                                    "ELOZO_FOGLALAS_IDOTARTAM": "6"
                                },
                                {
                                    "SZOBA_FK": "194",
                                    "FOGLALAS_PK": "1095",
                                    "FOGLALAS_IDOTARTAM": "5",
                                    "ELOZO_FOGLALAS_IDOTARTAM": "0"
                                },
                                {
                                    "SZOBA_FK": "195",
                                    "FOGLALAS_PK": "721",
                                    "FOGLALAS_IDOTARTAM": "4",
                                    "ELOZO_FOGLALAS_IDOTARTAM": "0"
                                },
                                {
                                    "SZOBA_FK": "195",
                                    "FOGLALAS_PK": "842",
                                    "FOGLALAS_IDOTARTAM": "4",
                                    "ELOZO_FOGLALAS_IDOTARTAM": "4"
                                },
                                {
                                    "SZOBA_FK": "195",
                                    "FOGLALAS_PK": "1074",
                                    "FOGLALAS_IDOTARTAM": "7",
                                    "ELOZO_FOGLALAS_IDOTARTAM": "4"
                                },
                                {
                                    "SZOBA_FK": "195",
                                    "FOGLALAS_PK": "1184",
                                    "FOGLALAS_IDOTARTAM": "5",
                                    "ELOZO_FOGLALAS_IDOTARTAM": "7"
                                },
                                {
                                    "SZOBA_FK": "195",
                                    "FOGLALAS_PK": "1473",
                                    "FOGLALAS_IDOTARTAM": "7",
                                    "ELOZO_FOGLALAS_IDOTARTAM": "5"
                                },
                                {
                                    "SZOBA_FK": "195",
                                    "FOGLALAS_PK": "1484",
                                    "FOGLALAS_IDOTARTAM": "1",
                                    "ELOZO_FOGLALAS_IDOTARTAM": "7"
                                },
                                {
                                    "SZOBA_FK": "196",
                                    "FOGLALAS_PK": "952",
                                    "FOGLALAS_IDOTARTAM": "3",
                                    "ELOZO_FOGLALAS_IDOTARTAM": "0"
                                },
                                {
                                    "SZOBA_FK": "196",
                                    "FOGLALAS_PK": "673",
                                    "FOGLALAS_IDOTARTAM": "5",
                                    "ELOZO_FOGLALAS_IDOTARTAM": "3"
                                },
                                {
                                    "SZOBA_FK": "196",
                                    "FOGLALAS_PK": "1314",
                                    "FOGLALAS_IDOTARTAM": "5",
                                    "ELOZO_FOGLALAS_IDOTARTAM": "5"
                                },
                                {
                                    "SZOBA_FK": "196",
                                    "FOGLALAS_PK": "1340",
                                    "FOGLALAS_IDOTARTAM": "5",
                                    "ELOZO_FOGLALAS_IDOTARTAM": "5"
                                },
                                {
                                    "SZOBA_FK": "197",
                                    "FOGLALAS_PK": "993",
                                    "FOGLALAS_IDOTARTAM": "7",
                                    "ELOZO_FOGLALAS_IDOTARTAM": "0"
                                },
                                {
                                    "SZOBA_FK": "197",
                                    "FOGLALAS_PK": "764",
                                    "FOGLALAS_IDOTARTAM": "7",
                                    "ELOZO_FOGLALAS_IDOTARTAM": "7"
                                },
                                {
                                    "SZOBA_FK": "197",
                                    "FOGLALAS_PK": "1091",
                                    "FOGLALAS_IDOTARTAM": "7",
                                    "ELOZO_FOGLALAS_IDOTARTAM": "7"
                                },
                                {
                                    "SZOBA_FK": "197",
                                    "FOGLALAS_PK": "1172",
                                    "FOGLALAS_IDOTARTAM": "7",
                                    "ELOZO_FOGLALAS_IDOTARTAM": "7"
                                },
                                {
                                    "SZOBA_FK": "197",
                                    "FOGLALAS_PK": "1304",
                                    "FOGLALAS_IDOTARTAM": "7",
                                    "ELOZO_FOGLALAS_IDOTARTAM": "7"
                                },
                                {
                                    "SZOBA_FK": "197",
                                    "FOGLALAS_PK": "1387",
                                    "FOGLALAS_IDOTARTAM": "3",
                                    "ELOZO_FOGLALAS_IDOTARTAM": "7"
                                },
                                {
                                    "SZOBA_FK": "198",
                                    "FOGLALAS_PK": "978",
                                    "FOGLALAS_IDOTARTAM": "1",
                                    "ELOZO_FOGLALAS_IDOTARTAM": "0"
                                },
                                {
                                    "SZOBA_FK": "198",
                                    "FOGLALAS_PK": "1011",
                                    "FOGLALAS_IDOTARTAM": "7",
                                    "ELOZO_FOGLALAS_IDOTARTAM": "1"
                                },
                                {
                                    "SZOBA_FK": "198",
                                    "FOGLALAS_PK": "1065",
                                    "FOGLALAS_IDOTARTAM": "3",
                                    "ELOZO_FOGLALAS_IDOTARTAM": "7"
                                },
                                {
                                    "SZOBA_FK": "198",
                                    "FOGLALAS_PK": "1116",
                                    "FOGLALAS_IDOTARTAM": "1",
                                    "ELOZO_FOGLALAS_IDOTARTAM": "3"
                                },
                                {
                                    "SZOBA_FK": "198",
                                    "FOGLALAS_PK": "1138",
                                    "FOGLALAS_IDOTARTAM": "5",
                                    "ELOZO_FOGLALAS_IDOTARTAM": "1"
                                },
                                {
                                    "SZOBA_FK": "198",
                                    "FOGLALAS_PK": "1161",
                                    "FOGLALAS_IDOTARTAM": "5",
                                    "ELOZO_FOGLALAS_IDOTARTAM": "5"
                                },
                                {
                                    "SZOBA_FK": "198",
                                    "FOGLALAS_PK": "1216",
                                    "FOGLALAS_IDOTARTAM": "7",
                                    "ELOZO_FOGLALAS_IDOTARTAM": "5"
                                },
                                {
                                    "SZOBA_FK": "198",
                                    "FOGLALAS_PK": "1420",
                                    "FOGLALAS_IDOTARTAM": "5",
                                    "ELOZO_FOGLALAS_IDOTARTAM": "7"
                                }
                            ]
                        },
                        "text/html": [
                            "<table>",
                            "<tr><th>SZOBA_FK</th><th>FOGLALAS_PK</th><th>FOGLALAS_IDOTARTAM</th><th>ELOZO_FOGLALAS_IDOTARTAM</th></tr>",
                            "<tr><td>1</td><td>620</td><td>5</td><td>0</td></tr>",
                            "<tr><td>1</td><td>949</td><td>1</td><td>5</td></tr>",
                            "<tr><td>1</td><td>738</td><td>7</td><td>1</td></tr>",
                            "<tr><td>1</td><td>803</td><td>4</td><td>7</td></tr>",
                            "<tr><td>1</td><td>1137</td><td>2</td><td>4</td></tr>",
                            "<tr><td>1</td><td>1152</td><td>1</td><td>2</td></tr>",
                            "<tr><td>1</td><td>1274</td><td>1</td><td>1</td></tr>",
                            "<tr><td>1</td><td>1334</td><td>4</td><td>1</td></tr>",
                            "<tr><td>2</td><td>828</td><td>3</td><td>0</td></tr>",
                            "<tr><td>2</td><td>1051</td><td>1</td><td>3</td></tr>",
                            "<tr><td>2</td><td>1069</td><td>7</td><td>1</td></tr>",
                            "<tr><td>2</td><td>1311</td><td>7</td><td>7</td></tr>",
                            "<tr><td>3</td><td>629</td><td>4</td><td>0</td></tr>",
                            "<tr><td>3</td><td>666</td><td>6</td><td>4</td></tr>",
                            "<tr><td>3</td><td>788</td><td>6</td><td>6</td></tr>",
                            "<tr><td>3</td><td>1038</td><td>3</td><td>6</td></tr>",
                            "<tr><td>3</td><td>1110</td><td>7</td><td>3</td></tr>",
                            "<tr><td>3</td><td>1151</td><td>1</td><td>7</td></tr>",
                            "<tr><td>3</td><td>1434</td><td>5</td><td>1</td></tr>",
                            "<tr><td>3</td><td>1544</td><td>5</td><td>5</td></tr>",
                            "<tr><td>4</td><td>651</td><td>7</td><td>0</td></tr>",
                            "<tr><td>4</td><td>946</td><td>5</td><td>7</td></tr>",
                            "<tr><td>4</td><td>1001</td><td>7</td><td>5</td></tr>",
                            "<tr><td>4</td><td>1127</td><td>3</td><td>7</td></tr>",
                            "<tr><td>4</td><td>1132</td><td>6</td><td>3</td></tr>",
                            "<tr><td>4</td><td>1492</td><td>6</td><td>6</td></tr>",
                            "<tr><td>5</td><td>564</td><td>2</td><td>0</td></tr>",
                            "<tr><td>5</td><td>965</td><td>7</td><td>2</td></tr>",
                            "<tr><td>5</td><td>1073</td><td>5</td><td>7</td></tr>",
                            "<tr><td>5</td><td>1257</td><td>3</td><td>5</td></tr>",
                            "<tr><td>6</td><td>560</td><td>6</td><td>0</td></tr>",
                            "<tr><td>6</td><td>873</td><td>3</td><td>6</td></tr>",
                            "<tr><td>6</td><td>990</td><td>4</td><td>3</td></tr>",
                            "<tr><td>6</td><td>772</td><td>6</td><td>4</td></tr>",
                            "<tr><td>6</td><td>850</td><td>2</td><td>6</td></tr>",
                            "<tr><td>6</td><td>1099</td><td>4</td><td>2</td></tr>",
                            "<tr><td>7</td><td>562</td><td>4</td><td>0</td></tr>",
                            "<tr><td>7</td><td>759</td><td>7</td><td>4</td></tr>",
                            "<tr><td>7</td><td>1131</td><td>1</td><td>7</td></tr>",
                            "<tr><td>7</td><td>1175</td><td>4</td><td>1</td></tr>",
                            "<tr><td>7</td><td>1182</td><td>4</td><td>4</td></tr>",
                            "<tr><td>7</td><td>1252</td><td>2</td><td>4</td></tr>",
                            "<tr><td>8</td><td>882</td><td>1</td><td>0</td></tr>",
                            "<tr><td>8</td><td>947</td><td>3</td><td>1</td></tr>",
                            "<tr><td>8</td><td>694</td><td>4</td><td>3</td></tr>",
                            "<tr><td>8</td><td>818</td><td>4</td><td>4</td></tr>",
                            "<tr><td>8</td><td>832</td><td>4</td><td>4</td></tr>",
                            "<tr><td>9</td><td>609</td><td>2</td><td>0</td></tr>",
                            "<tr><td>9</td><td>1157</td><td>6</td><td>2</td></tr>",
                            "<tr><td>9</td><td>1220</td><td>3</td><td>6</td></tr>",
                            "<tr><td>9</td><td>1260</td><td>6</td><td>3</td></tr>",
                            "<tr><td>9</td><td>1423</td><td>3</td><td>6</td></tr>",
                            "<tr><td>9</td><td>1537</td><td>3</td><td>3</td></tr>",
                            "<tr><td>10</td><td>569</td><td>3</td><td>0</td></tr>",
                            "<tr><td>10</td><td>790</td><td>5</td><td>3</td></tr>",
                            "<tr><td>10</td><td>795</td><td>4</td><td>5</td></tr>",
                            "<tr><td>10</td><td>1319</td><td>6</td><td>4</td></tr>",
                            "<tr><td>11</td><td>918</td><td>6</td><td>0</td></tr>",
                            "<tr><td>11</td><td>1123</td><td>5</td><td>6</td></tr>",
                            "<tr><td>11</td><td>1236</td><td>1</td><td>5</td></tr>",
                            "<tr><td>11</td><td>1523</td><td>1</td><td>1</td></tr>",
                            "<tr><td>12</td><td>876</td><td>7</td><td>0</td></tr>",
                            "<tr><td>12</td><td>951</td><td>3</td><td>7</td></tr>",
                            "<tr><td>12</td><td>970</td><td>2</td><td>3</td></tr>",
                            "<tr><td>12</td><td>1020</td><td>5</td><td>2</td></tr>",
                            "<tr><td>12</td><td>697</td><td>2</td><td>5</td></tr>",
                            "<tr><td>12</td><td>775</td><td>4</td><td>2</td></tr>",
                            "<tr><td>12</td><td>1140</td><td>3</td><td>4</td></tr>",
                            "<tr><td>12</td><td>1164</td><td>5</td><td>3</td></tr>",
                            "<tr><td>12</td><td>1430</td><td>2</td><td>5</td></tr>",
                            "<tr><td>13</td><td>763</td><td>4</td><td>0</td></tr>",
                            "<tr><td>13</td><td>1044</td><td>6</td><td>4</td></tr>",
                            "<tr><td>13</td><td>1347</td><td>3</td><td>6</td></tr>",
                            "<tr><td>13</td><td>1469</td><td>2</td><td>3</td></tr>",
                            "<tr><td>14</td><td>663</td><td>1</td><td>0</td></tr>",
                            "<tr><td>14</td><td>813</td><td>3</td><td>1</td></tr>",
                            "<tr><td>14</td><td>1542</td><td>4</td><td>3</td></tr>",
                            "<tr><td>15</td><td>1028</td><td>2</td><td>0</td></tr>",
                            "<tr><td>15</td><td>791</td><td>5</td><td>2</td></tr>",
                            "<tr><td>15</td><td>1129</td><td>4</td><td>5</td></tr>",
                            "<tr><td>15</td><td>1244</td><td>1</td><td>4</td></tr>",
                            "<tr><td>15</td><td>1418</td><td>4</td><td>1</td></tr>",
                            "<tr><td>15</td><td>1442</td><td>3</td><td>4</td></tr>",
                            "<tr><td>16</td><td>856</td><td>6</td><td>0</td></tr>",
                            "<tr><td>16</td><td>896</td><td>1</td><td>6</td></tr>",
                            "<tr><td>16</td><td>973</td><td>1</td><td>1</td></tr>",
                            "<tr><td>16</td><td>687</td><td>3</td><td>1</td></tr>",
                            "<tr><td>16</td><td>1498</td><td>7</td><td>3</td></tr>",
                            "<tr><td>17</td><td>602</td><td>6</td><td>0</td></tr>",
                            "<tr><td>17</td><td>916</td><td>2</td><td>6</td></tr>",
                            "<tr><td>17</td><td>713</td><td>6</td><td>2</td></tr>",
                            "<tr><td>17</td><td>744</td><td>1</td><td>6</td></tr>",
                            "<tr><td>17</td><td>1316</td><td>5</td><td>1</td></tr>",
                            "<tr><td>17</td><td>1549</td><td>3</td><td>5</td></tr>",
                            "<tr><td>18</td><td>626</td><td>3</td><td>0</td></tr>",
                            "<tr><td>18</td><td>767</td><td>3</td><td>3</td></tr>",
                            "<tr><td>18</td><td>1035</td><td>6</td><td>3</td></tr>",
                            "<tr><td>18</td><td>1173</td><td>6</td><td>6</td></tr>",
                            "<tr><td>18</td><td>1198</td><td>4</td><td>6</td></tr>",
                            "<tr><td>18</td><td>1505</td><td>6</td><td>4</td></tr>",
                            "<tr><td>19</td><td>948</td><td>2</td><td>0</td></tr>",
                            "<tr><td>19</td><td>696</td><td>1</td><td>2</td></tr>",
                            "<tr><td>19</td><td>778</td><td>1</td><td>1</td></tr>",
                            "<tr><td>19</td><td>1139</td><td>7</td><td>1</td></tr>",
                            "<tr><td>19</td><td>1237</td><td>1</td><td>7</td></tr>",
                            "<tr><td>19</td><td>1533</td><td>1</td><td>1</td></tr>",
                            "<tr><td>20</td><td>755</td><td>6</td><td>0</td></tr>",
                            "<tr><td>20</td><td>820</td><td>1</td><td>6</td></tr>",
                            "<tr><td>20</td><td>1070</td><td>1</td><td>1</td></tr>",
                            "<tr><td>20</td><td>1114</td><td>5</td><td>1</td></tr>",
                            "<tr><td>20</td><td>1106</td><td>2</td><td>5</td></tr>",
                            "<tr><td>21</td><td>566</td><td>6</td><td>0</td></tr>",
                            "<tr><td>21</td><td>660</td><td>5</td><td>6</td></tr>",
                            "<tr><td>21</td><td>805</td><td>1</td><td>5</td></tr>",
                            "<tr><td>21</td><td>1212</td><td>6</td><td>1</td></tr>",
                            "<tr><td>22</td><td>906</td><td>1</td><td>0</td></tr>",
                            "<tr><td>22</td><td>1005</td><td>3</td><td>1</td></tr>",
                            "<tr><td>22</td><td>1130</td><td>1</td><td>3</td></tr>",
                            "<tr><td>22</td><td>1195</td><td>6</td><td>1</td></tr>",
                            "<tr><td>22</td><td>1206</td><td>7</td><td>6</td></tr>",
                            "<tr><td>22</td><td>1287</td><td>3</td><td>7</td></tr>",
                            "<tr><td>23</td><td>934</td><td>1</td><td>0</td></tr>",
                            "<tr><td>23</td><td>945</td><td>7</td><td>1</td></tr>",
                            "<tr><td>23</td><td>848</td><td>1</td><td>7</td></tr>",
                            "<tr><td>24</td><td>852</td><td>2</td><td>0</td></tr>",
                            "<tr><td>24</td><td>1167</td><td>1</td><td>2</td></tr>",
                            "<tr><td>24</td><td>1415</td><td>3</td><td>1</td></tr>",
                            "<tr><td>25</td><td>1052</td><td>3</td><td>0</td></tr>",
                            "<tr><td>25</td><td>1362</td><td>2</td><td>3</td></tr>",
                            "<tr><td>26</td><td>1158</td><td>2</td><td>0</td></tr>",
                            "<tr><td>26</td><td>1388</td><td>3</td><td>2</td></tr>",
                            "<tr><td>27</td><td>758</td><td>3</td><td>0</td></tr>",
                            "<tr><td>27</td><td>807</td><td>2</td><td>3</td></tr>",
                            "<tr><td>27</td><td>1031</td><td>2</td><td>2</td></tr>",
                            "<tr><td>27</td><td>1082</td><td>5</td><td>2</td></tr>",
                            "<tr><td>27</td><td>1275</td><td>6</td><td>5</td></tr>",
                            "<tr><td>27</td><td>1377</td><td>1</td><td>6</td></tr>",
                            "<tr><td>27</td><td>1476</td><td>1</td><td>1</td></tr>",
                            "<tr><td>28</td><td>872</td><td>5</td><td>0</td></tr>",
                            "<tr><td>28</td><td>886</td><td>4</td><td>5</td></tr>",
                            "<tr><td>28</td><td>901</td><td>4</td><td>4</td></tr>",
                            "<tr><td>28</td><td>725</td><td>5</td><td>4</td></tr>",
                            "<tr><td>28</td><td>1150</td><td>6</td><td>5</td></tr>",
                            "<tr><td>28</td><td>1459</td><td>2</td><td>6</td></tr>",
                            "<tr><td>29</td><td>611</td><td>5</td><td>0</td></tr>",
                            "<tr><td>29</td><td>894</td><td>1</td><td>5</td></tr>",
                            "<tr><td>29</td><td>1076</td><td>7</td><td>1</td></tr>",
                            "<tr><td>29</td><td>1185</td><td>5</td><td>7</td></tr>",
                            "<tr><td>29</td><td>1235</td><td>7</td><td>5</td></tr>",
                            "<tr><td>29</td><td>1568</td><td>7</td><td>7</td></tr>",
                            "<tr><td>30</td><td>604</td><td>2</td><td>0</td></tr>",
                            "<tr><td>30</td><td>1023</td><td>7</td><td>2</td></tr>",
                            "<tr><td>30</td><td>1136</td><td>5</td><td>7</td></tr>",
                            "<tr><td>31</td><td>598</td><td>2</td><td>0</td></tr>",
                            "<tr><td>31</td><td>606</td><td>1</td><td>2</td></tr>",
                            "<tr><td>31</td><td>728</td><td>4</td><td>1</td></tr>",
                            "<tr><td>32</td><td>920</td><td>4</td><td>0</td></tr>",
                            "<tr><td>33</td><td>624</td><td>6</td><td>0</td></tr>",
                            "<tr><td>33</td><td>1012</td><td>7</td><td>6</td></tr>",
                            "<tr><td>33</td><td>1053</td><td>1</td><td>7</td></tr>",
                            "<tr><td>33</td><td>1321</td><td>4</td><td>1</td></tr>",
                            "<tr><td>33</td><td>1344</td><td>5</td><td>4</td></tr>",
                            "<tr><td>33</td><td>1381</td><td>6</td><td>5</td></tr>",
                            "<tr><td>34</td><td>870</td><td>6</td><td>0</td></tr>",
                            "<tr><td>34</td><td>904</td><td>2</td><td>6</td></tr>",
                            "<tr><td>34</td><td>777</td><td>3</td><td>2</td></tr>",
                            "<tr><td>34</td><td>821</td><td>1</td><td>3</td></tr>",
                            "<tr><td>35</td><td>971</td><td>3</td><td>0</td></tr>",
                            "<tr><td>35</td><td>979</td><td>7</td><td>3</td></tr>",
                            "<tr><td>35</td><td>686</td><td>6</td><td>7</td></tr>",
                            "<tr><td>35</td><td>707</td><td>2</td><td>6</td></tr>",
                            "<tr><td>35</td><td>829</td><td>2</td><td>2</td></tr>",
                            "<tr><td>35</td><td>1480</td><td>37</td><td>2</td></tr>",
                            "<tr><td>35</td><td>1411</td><td>1</td><td>37</td></tr>",
                            "<tr><td>35</td><td>1436</td><td>1</td><td>1</td></tr>",
                            "<tr><td>35</td><td>1529</td><td>4</td><td>1</td></tr>",
                            "<tr><td>36</td><td>895</td><td>5</td><td>0</td></tr>",
                            "<tr><td>36</td><td>919</td><td>1</td><td>5</td></tr>",
                            "<tr><td>36</td><td>985</td><td>6</td><td>1</td></tr>",
                            "<tr><td>36</td><td>1003</td><td>4</td><td>6</td></tr>",
                            "<tr><td>36</td><td>748</td><td>2</td><td>4</td></tr>",
                            "<tr><td>36</td><td>750</td><td>6</td><td>2</td></tr>",
                            "<tr><td>37</td><td>688</td><td>2</td><td>0</td></tr>",
                            "<tr><td>37</td><td>705</td><td>4</td><td>2</td></tr>",
                            "<tr><td>37</td><td>1335</td><td>7</td><td>4</td></tr>",
                            "<tr><td>38</td><td>627</td><td>6</td><td>0</td></tr>",
                            "<tr><td>38</td><td>1033</td><td>2</td><td>6</td></tr>",
                            "<tr><td>38</td><td>1060</td><td>2</td><td>2</td></tr>",
                            "<tr><td>38</td><td>1078</td><td>7</td><td>2</td></tr>",
                            "<tr><td>38</td><td>1351</td><td>4</td><td>7</td></tr>",
                            "<tr><td>38</td><td>1416</td><td>5</td><td>4</td></tr>",
                            "<tr><td>38</td><td>1478</td><td>4</td><td>5</td></tr>",
                            "<tr><td>38</td><td>1556</td><td>6</td><td>4</td></tr>",
                            "<tr><td>39</td><td>601</td><td>6</td><td>0</td></tr>",
                            "<tr><td>39</td><td>899</td><td>6</td><td>6</td></tr>",
                            "<tr><td>39</td><td>1214</td><td>5</td><td>6</td></tr>",
                            "<tr><td>39</td><td>1380</td><td>5</td><td>5</td></tr>",
                            "<tr><td>39</td><td>1435</td><td>7</td><td>5</td></tr>",
                            "<tr><td>39</td><td>1454</td><td>1</td><td>7</td></tr>",
                            "<tr><td>39</td><td>1538</td><td>2</td><td>1</td></tr>",
                            "<tr><td>40</td><td>924</td><td>5</td><td>0</td></tr>",
                            "<tr><td>40</td><td>932</td><td>6</td><td>5</td></tr>",
                            "<tr><td>40</td><td>1018</td><td>5</td><td>6</td></tr>",
                            "<tr><td>40</td><td>1118</td><td>5</td><td>5</td></tr>",
                            "<tr><td>41</td><td>960</td><td>6</td><td>0</td></tr>",
                            "<tr><td>41</td><td>1144</td><td>1</td><td>6</td></tr>",
                            "<tr><td>42</td><td>561</td><td>4</td><td>0</td></tr>",
                            "<tr><td>42</td><td>590</td><td>5</td><td>4</td></tr>",
                            "<tr><td>42</td><td>851</td><td>7</td><td>5</td></tr>",
                            "<tr><td>42</td><td>770</td><td>3</td><td>7</td></tr>",
                            "<tr><td>42</td><td>1309</td><td>2</td><td>3</td></tr>",
                            "<tr><td>42</td><td>1444</td><td>6</td><td>2</td></tr>",
                            "<tr><td>43</td><td>1019</td><td>4</td><td>0</td></tr>",
                            "<tr><td>43</td><td>670</td><td>4</td><td>4</td></tr>",
                            "<tr><td>43</td><td>1088</td><td>2</td><td>4</td></tr>",
                            "<tr><td>43</td><td>1207</td><td>1</td><td>2</td></tr>",
                            "<tr><td>43</td><td>1227</td><td>5</td><td>1</td></tr>",
                            "<tr><td>43</td><td>1270</td><td>4</td><td>5</td></tr>",
                            "<tr><td>43</td><td>1524</td><td>1</td><td>4</td></tr>",
                            "<tr><td>43</td><td>1553</td><td>5</td><td>1</td></tr>",
                            "<tr><td>44</td><td>589</td><td>2</td><td>0</td></tr>",
                            "<tr><td>44</td><td>658</td><td>6</td><td>2</td></tr>",
                            "<tr><td>44</td><td>823</td><td>2</td><td>6</td></tr>",
                            "<tr><td>44</td><td>1295</td><td>2</td><td>2</td></tr>",
                            "<tr><td>44</td><td>1425</td><td>2</td><td>2</td></tr>",
                            "<tr><td>44</td><td>1552</td><td>2</td><td>2</td></tr>",
                            "<tr><td>45</td><td>802</td><td>7</td><td>0</td></tr>",
                            "<tr><td>45</td><td>800</td><td>5</td><td>7</td></tr>",
                            "<tr><td>45</td><td>846</td><td>3</td><td>5</td></tr>",
                            "<tr><td>45</td><td>1135</td><td>3</td><td>3</td></tr>",
                            "<tr><td>45</td><td>1303</td><td>2</td><td>3</td></tr>",
                            "<tr><td>46</td><td>752</td><td>5</td><td>0</td></tr>",
                            "<tr><td>46</td><td>1187</td><td>7</td><td>5</td></tr>",
                            "<tr><td>46</td><td>1291</td><td>3</td><td>7</td></tr>",
                            "<tr><td>46</td><td>1515</td><td>4</td><td>3</td></tr>",
                            "<tr><td>47</td><td>955</td><td>1</td><td>0</td></tr>",
                            "<tr><td>47</td><td>1056</td><td>7</td><td>1</td></tr>",
                            "<tr><td>48</td><td>603</td><td>3</td><td>0</td></tr>",
                            "<tr><td>48</td><td>628</td><td>2</td><td>3</td></tr>",
                            "<tr><td>48</td><td>914</td><td>5</td><td>2</td></tr>",
                            "<tr><td>48</td><td>986</td><td>5</td><td>5</td></tr>",
                            "<tr><td>48</td><td>824</td><td>2</td><td>5</td></tr>",
                            "<tr><td>48</td><td>1243</td><td>6</td><td>2</td></tr>",
                            "<tr><td>48</td><td>1546</td><td>3</td><td>6</td></tr>",
                            "<tr><td>48</td><td>1547</td><td>1</td><td>3</td></tr>",
                            "<tr><td>48</td><td>1581</td><td>5</td><td>1</td></tr>",
                            "<tr><td>49</td><td>888</td><td>7</td><td>0</td></tr>",
                            "<tr><td>49</td><td>793</td><td>6</td><td>7</td></tr>",
                            "<tr><td>49</td><td>826</td><td>4</td><td>6</td></tr>",
                            "<tr><td>49</td><td>1066</td><td>7</td><td>4</td></tr>",
                            "<tr><td>49</td><td>1200</td><td>7</td><td>7</td></tr>",
                            "<tr><td>49</td><td>1221</td><td>2</td><td>7</td></tr>",
                            "<tr><td>49</td><td>1536</td><td>6</td><td>2</td></tr>",
                            "<tr><td>50</td><td>787</td><td>3</td><td>0</td></tr>",
                            "<tr><td>50</td><td>1063</td><td>2</td><td>3</td></tr>",
                            "<tr><td>50</td><td>1224</td><td>1</td><td>2</td></tr>",
                            "<tr><td>50</td><td>1272</td><td>1</td><td>1</td></tr>",
                            "<tr><td>51</td><td>865</td><td>7</td><td>0</td></tr>",
                            "<tr><td>51</td><td>811</td><td>2</td><td>7</td></tr>",
                            "<tr><td>51</td><td>1165</td><td>5</td><td>2</td></tr>",
                            "<tr><td>51</td><td>1477</td><td>6</td><td>5</td></tr>",
                            "<tr><td>51</td><td>1550</td><td>1</td><td>6</td></tr>",
                            "<tr><td>52</td><td>822</td><td>7</td><td>0</td></tr>",
                            "<tr><td>52</td><td>1202</td><td>2</td><td>7</td></tr>",
                            "<tr><td>52</td><td>1258</td><td>5</td><td>2</td></tr>",
                            "<tr><td>52</td><td>1431</td><td>5</td><td>5</td></tr>",
                            "<tr><td>52</td><td>1534</td><td>5</td><td>5</td></tr>",
                            "<tr><td>53</td><td>855</td><td>1</td><td>0</td></tr>",
                            "<tr><td>53</td><td>987</td><td>4</td><td>1</td></tr>",
                            "<tr><td>54</td><td>622</td><td>7</td><td>0</td></tr>",
                            "<tr><td>54</td><td>642</td><td>5</td><td>7</td></tr>",
                            "<tr><td>54</td><td>889</td><td>2</td><td>5</td></tr>",
                            "<tr><td>54</td><td>668</td><td>1</td><td>2</td></tr>",
                            "<tr><td>54</td><td>1096</td><td>4</td><td>1</td></tr>",
                            "<tr><td>54</td><td>1328</td><td>4</td><td>4</td></tr>",
                            "<tr><td>55</td><td>734</td><td>6</td><td>0</td></tr>",
                            "<tr><td>55</td><td>1086</td><td>5</td><td>6</td></tr>",
                            "<tr><td>55</td><td>1163</td><td>2</td><td>5</td></tr>",
                            "<tr><td>55</td><td>1232</td><td>7</td><td>2</td></tr>",
                            "<tr><td>55</td><td>1327</td><td>6</td><td>7</td></tr>",
                            "<tr><td>55</td><td>1386</td><td>2</td><td>6</td></tr>",
                            "<tr><td>55</td><td>1512</td><td>1</td><td>2</td></tr>",
                            "<tr><td>55</td><td>1520</td><td>1</td><td>1</td></tr>",
                            "<tr><td>56</td><td>935</td><td>4</td><td>0</td></tr>",
                            "<tr><td>56</td><td>838</td><td>2</td><td>4</td></tr>",
                            "<tr><td>57</td><td>1348</td><td>1</td><td>0</td></tr>",
                            "<tr><td>57</td><td>1389</td><td>1</td><td>1</td></tr>",
                            "<tr><td>57</td><td>1466</td><td>7</td><td>1</td></tr>",
                            "<tr><td>57</td><td>1504</td><td>4</td><td>7</td></tr>",
                            "<tr><td>58</td><td>883</td><td>5</td><td>0</td></tr>",
                            "<tr><td>58</td><td>719</td><td>3</td><td>5</td></tr>",
                            "<tr><td>58</td><td>773</td><td>2</td><td>3</td></tr>",
                            "<tr><td>58</td><td>1113</td><td>3</td><td>2</td></tr>",
                            "<tr><td>58</td><td>1186</td><td>6</td><td>3</td></tr>",
                            "<tr><td>58</td><td>1208</td><td>6</td><td>6</td></tr>",
                            "<tr><td>58</td><td>1255</td><td>7</td><td>6</td></tr>",
                            "<tr><td>58</td><td>1261</td><td>6</td><td>7</td></tr>",
                            "<tr><td>58</td><td>1285</td><td>7</td><td>6</td></tr>",
                            "<tr><td>58</td><td>1293</td><td>3</td><td>7</td></tr>",
                            "<tr><td>58</td><td>1307</td><td>6</td><td>3</td></tr>",
                            "<tr><td>58</td><td>1322</td><td>3</td><td>6</td></tr>",
                            "<tr><td>58</td><td>1451</td><td>6</td><td>3</td></tr>",
                            "<tr><td>59</td><td>1080</td><td>1</td><td>0</td></tr>",
                            "<tr><td>59</td><td>1084</td><td>2</td><td>1</td></tr>",
                            "<tr><td>59</td><td>1170</td><td>5</td><td>2</td></tr>",
                            "<tr><td>59</td><td>1191</td><td>6</td><td>5</td></tr>",
                            "<tr><td>59</td><td>1239</td><td>2</td><td>6</td></tr>",
                            "<tr><td>59</td><td>1288</td><td>3</td><td>2</td></tr>",
                            "<tr><td>59</td><td>1573</td><td>1</td><td>3</td></tr>",
                            "<tr><td>60</td><td>676</td><td>2</td><td>0</td></tr>",
                            "<tr><td>61</td><td>701</td><td>2</td><td>0</td></tr>",
                            "<tr><td>61</td><td>756</td><td>6</td><td>2</td></tr>",
                            "<tr><td>61</td><td>1148</td><td>3</td><td>6</td></tr>",
                            "<tr><td>61</td><td>1218</td><td>2</td><td>3</td></tr>",
                            "<tr><td>61</td><td>1496</td><td>7</td><td>2</td></tr>",
                            "<tr><td>62</td><td>936</td><td>3</td><td>0</td></tr>",
                            "<tr><td>62</td><td>938</td><td>1</td><td>3</td></tr>",
                            "<tr><td>62</td><td>702</td><td>5</td><td>1</td></tr>",
                            "<tr><td>62</td><td>1081</td><td>7</td><td>5</td></tr>",
                            "<tr><td>62</td><td>1426</td><td>4</td><td>7</td></tr>",
                            "<tr><td>63</td><td>625</td><td>3</td><td>0</td></tr>",
                            "<tr><td>63</td><td>891</td><td>6</td><td>3</td></tr>",
                            "<tr><td>63</td><td>769</td><td>5</td><td>6</td></tr>",
                            "<tr><td>63</td><td>845</td><td>1</td><td>5</td></tr>",
                            "<tr><td>64</td><td>875</td><td>2</td><td>0</td></tr>",
                            "<tr><td>64</td><td>1122</td><td>4</td><td>2</td></tr>",
                            "<tr><td>64</td><td>1233</td><td>7</td><td>4</td></tr>",
                            "<tr><td>64</td><td>1446</td><td>6</td><td>7</td></tr>",
                            "<tr><td>64</td><td>1465</td><td>4</td><td>6</td></tr>",
                            "<tr><td>64</td><td>1582</td><td>1</td><td>4</td></tr>",
                            "<tr><td>65</td><td>650</td><td>6</td><td>0</td></tr>",
                            "<tr><td>66</td><td>950</td><td>3</td><td>0</td></tr>",
                            "<tr><td>66</td><td>736</td><td>3</td><td>3</td></tr>",
                            "<tr><td>66</td><td>1234</td><td>3</td><td>3</td></tr>",
                            "<tr><td>66</td><td>1264</td><td>4</td><td>3</td></tr>",
                            "<tr><td>67</td><td>638</td><td>5</td><td>0</td></tr>",
                            "<tr><td>67</td><td>645</td><td>6</td><td>5</td></tr>",
                            "<tr><td>67</td><td>874</td><td>6</td><td>6</td></tr>",
                            "<tr><td>67</td><td>1382</td><td>1</td><td>6</td></tr>",
                            "<tr><td>67</td><td>1580</td><td>5</td><td>1</td></tr>",
                            "<tr><td>67</td><td>1584</td><td>1</td><td>5</td></tr>",
                            "<tr><td>68</td><td>563</td><td>5</td><td>0</td></tr>",
                            "<tr><td>68</td><td>1027</td><td>7</td><td>5</td></tr>",
                            "<tr><td>68</td><td>1324</td><td>4</td><td>7</td></tr>",
                            "<tr><td>69</td><td>885</td><td>1</td><td>0</td></tr>",
                            "<tr><td>69</td><td>1055</td><td>5</td><td>1</td></tr>",
                            "<tr><td>69</td><td>1225</td><td>5</td><td>5</td></tr>",
                            "<tr><td>69</td><td>1246</td><td>7</td><td>5</td></tr>",
                            "<tr><td>70</td><td>585</td><td>5</td><td>0</td></tr>",
                            "<tr><td>70</td><td>860</td><td>2</td><td>5</td></tr>",
                            "<tr><td>70</td><td>1006</td><td>3</td><td>2</td></tr>",
                            "<tr><td>70</td><td>704</td><td>3</td><td>3</td></tr>",
                            "<tr><td>70</td><td>814</td><td>3</td><td>3</td></tr>",
                            "<tr><td>70</td><td>1092</td><td>3</td><td>3</td></tr>",
                            "<tr><td>70</td><td>1126</td><td>3</td><td>3</td></tr>",
                            "<tr><td>70</td><td>1325</td><td>7</td><td>3</td></tr>",
                            "<tr><td>70</td><td>1333</td><td>6</td><td>7</td></tr>",
                            "<tr><td>70</td><td>1365</td><td>3</td><td>6</td></tr>",
                            "<tr><td>70</td><td>1457</td><td>7</td><td>3</td></tr>",
                            "<tr><td>71</td><td>1009</td><td>1</td><td>0</td></tr>",
                            "<tr><td>71</td><td>681</td><td>3</td><td>1</td></tr>",
                            "<tr><td>71</td><td>712</td><td>1</td><td>3</td></tr>",
                            "<tr><td>72</td><td>902</td><td>5</td><td>0</td></tr>",
                            "<tr><td>72</td><td>961</td><td>6</td><td>5</td></tr>",
                            "<tr><td>72</td><td>1318</td><td>2</td><td>6</td></tr>",
                            "<tr><td>72</td><td>1396</td><td>3</td><td>2</td></tr>",
                            "<tr><td>73</td><td>1000</td><td>4</td><td>0</td></tr>",
                            "<tr><td>73</td><td>714</td><td>7</td><td>4</td></tr>",
                            "<tr><td>73</td><td>1159</td><td>5</td><td>7</td></tr>",
                            "<tr><td>73</td><td>1331</td><td>4</td><td>5</td></tr>",
                            "<tr><td>74</td><td>595</td><td>7</td><td>0</td></tr>",
                            "<tr><td>74</td><td>877</td><td>4</td><td>7</td></tr>",
                            "<tr><td>74</td><td>940</td><td>5</td><td>4</td></tr>",
                            "<tr><td>74</td><td>963</td><td>1</td><td>5</td></tr>",
                            "<tr><td>74</td><td>797</td><td>5</td><td>1</td></tr>",
                            "<tr><td>74</td><td>830</td><td>1</td><td>5</td></tr>",
                            "<tr><td>74</td><td>847</td><td>3</td><td>1</td></tr>",
                            "<tr><td>74</td><td>1093</td><td>6</td><td>3</td></tr>",
                            "<tr><td>74</td><td>1179</td><td>7</td><td>6</td></tr>",
                            "<tr><td>75</td><td>1013</td><td>5</td><td>0</td></tr>",
                            "<tr><td>75</td><td>1412</td><td>2</td><td>5</td></tr>",
                            "<tr><td>75</td><td>1458</td><td>1</td><td>2</td></tr>",
                            "<tr><td>76</td><td>976</td><td>2</td><td>0</td></tr>",
                            "<tr><td>76</td><td>683</td><td>7</td><td>2</td></tr>",
                            "<tr><td>76</td><td>1557</td><td>3</td><td>7</td></tr>",
                            "<tr><td>77</td><td>593</td><td>3</td><td>0</td></tr>",
                            "<tr><td>77</td><td>982</td><td>3</td><td>3</td></tr>",
                            "<tr><td>77</td><td>698</td><td>4</td><td>3</td></tr>",
                            "<tr><td>77</td><td>1104</td><td>1</td><td>4</td></tr>",
                            "<tr><td>77</td><td>1439</td><td>6</td><td>1</td></tr>",
                            "<tr><td>77</td><td>1461</td><td>4</td><td>6</td></tr>",
                            "<tr><td>78</td><td>568</td><td>1</td><td>0</td></tr>",
                            "<tr><td>78</td><td>646</td><td>3</td><td>1</td></tr>",
                            "<tr><td>78</td><td>700</td><td>5</td><td>3</td></tr>",
                            "<tr><td>78</td><td>1268</td><td>2</td><td>5</td></tr>",
                            "<tr><td>78</td><td>1281</td><td>3</td><td>2</td></tr>",
                            "<tr><td>78</td><td>1577</td><td>7</td><td>3</td></tr>",
                            "<tr><td>79</td><td>583</td><td>6</td><td>0</td></tr>",
                            "<tr><td>79</td><td>1054</td><td>1</td><td>6</td></tr>",
                            "<tr><td>79</td><td>1229</td><td>7</td><td>1</td></tr>",
                            "<tr><td>79</td><td>1345</td><td>3</td><td>7</td></tr>",
                            "<tr><td>79</td><td>1447</td><td>4</td><td>3</td></tr>",
                            "<tr><td>80</td><td>887</td><td>6</td><td>0</td></tr>",
                            "<tr><td>80</td><td>929</td><td>2</td><td>6</td></tr>",
                            "<tr><td>80</td><td>983</td><td>6</td><td>2</td></tr>",
                            "<tr><td>80</td><td>667</td><td>6</td><td>6</td></tr>",
                            "<tr><td>80</td><td>1071</td><td>4</td><td>6</td></tr>",
                            "<tr><td>80</td><td>1279</td><td>5</td><td>4</td></tr>",
                            "<tr><td>80</td><td>1367</td><td>3</td><td>5</td></tr>",
                            "<tr><td>81</td><td>1366</td><td>5</td><td>0</td></tr>",
                            "<tr><td>81</td><td>1443</td><td>7</td><td>5</td></tr>",
                            "<tr><td>81</td><td>1464</td><td>7</td><td>7</td></tr>",
                            "<tr><td>81</td><td>1506</td><td>3</td><td>7</td></tr>",
                            "<tr><td>81</td><td>1562</td><td>3</td><td>3</td></tr>",
                            "<tr><td>82</td><td>862</td><td>4</td><td>0</td></tr>",
                            "<tr><td>82</td><td>871</td><td>5</td><td>4</td></tr>",
                            "<tr><td>82</td><td>997</td><td>6</td><td>5</td></tr>",
                            "<tr><td>82</td><td>1277</td><td>5</td><td>6</td></tr>",
                            "<tr><td>82</td><td>1341</td><td>2</td><td>5</td></tr>",
                            "<tr><td>82</td><td>1406</td><td>1</td><td>2</td></tr>",
                            "<tr><td>83</td><td>572</td><td>7</td><td>0</td></tr>",
                            "<tr><td>83</td><td>869</td><td>6</td><td>7</td></tr>",
                            "<tr><td>83</td><td>878</td><td>6</td><td>6</td></tr>",
                            "<tr><td>83</td><td>995</td><td>5</td><td>6</td></tr>",
                            "<tr><td>83</td><td>674</td><td>4</td><td>5</td></tr>",
                            "<tr><td>83</td><td>798</td><td>4</td><td>4</td></tr>",
                            "<tr><td>83</td><td>1119</td><td>6</td><td>4</td></tr>",
                            "<tr><td>83</td><td>1379</td><td>7</td><td>6</td></tr>",
                            "<tr><td>84</td><td>954</td><td>5</td><td>0</td></tr>",
                            "<tr><td>84</td><td>819</td><td>2</td><td>5</td></tr>",
                            "<tr><td>84</td><td>1376</td><td>5</td><td>2</td></tr>",
                            "<tr><td>84</td><td>1384</td><td>7</td><td>5</td></tr>",
                            "<tr><td>85</td><td>647</td><td>3</td><td>0</td></tr>",
                            "<tr><td>85</td><td>1059</td><td>3</td><td>3</td></tr>",
                            "<tr><td>85</td><td>1320</td><td>1</td><td>3</td></tr>",
                            "<tr><td>85</td><td>1513</td><td>7</td><td>1</td></tr>",
                            "<tr><td>86</td><td>859</td><td>1</td><td>0</td></tr>",
                            "<tr><td>86</td><td>1057</td><td>5</td><td>1</td></tr>",
                            "<tr><td>86</td><td>1079</td><td>4</td><td>5</td></tr>",
                            "<tr><td>86</td><td>1108</td><td>1</td><td>4</td></tr>",
                            "<tr><td>86</td><td>1453</td><td>1</td><td>1</td></tr>",
                            "<tr><td>87</td><td>558</td><td>4</td><td>0</td></tr>",
                            "<tr><td>87</td><td>844</td><td>1</td><td>4</td></tr>",
                            "<tr><td>87</td><td>1103</td><td>3</td><td>1</td></tr>",
                            "<tr><td>87</td><td>1349</td><td>5</td><td>3</td></tr>",
                            "<tr><td>87</td><td>1456</td><td>5</td><td>5</td></tr>",
                            "<tr><td>88</td><td>866</td><td>2</td><td>0</td></tr>",
                            "<tr><td>88</td><td>757</td><td>7</td><td>2</td></tr>",
                            "<tr><td>88</td><td>1196</td><td>3</td><td>7</td></tr>",
                            "<tr><td>88</td><td>1273</td><td>7</td><td>3</td></tr>",
                            "<tr><td>88</td><td>1300</td><td>3</td><td>7</td></tr>",
                            "<tr><td>88</td><td>1359</td><td>2</td><td>3</td></tr>",
                            "<tr><td>88</td><td>1548</td><td>7</td><td>2</td></tr>",
                            "<tr><td>88</td><td>1575</td><td>6</td><td>7</td></tr>",
                            "<tr><td>89</td><td>817</td><td>3</td><td>0</td></tr>",
                            "<tr><td>89</td><td>1037</td><td>7</td><td>3</td></tr>",
                            "<tr><td>89</td><td>1101</td><td>5</td><td>7</td></tr>",
                            "<tr><td>89</td><td>1189</td><td>6</td><td>5</td></tr>",
                            "<tr><td>89</td><td>1253</td><td>2</td><td>6</td></tr>",
                            "<tr><td>89</td><td>1269</td><td>2</td><td>2</td></tr>",
                            "<tr><td>89</td><td>1399</td><td>2</td><td>2</td></tr>",
                            "<tr><td>89</td><td>1521</td><td>7</td><td>2</td></tr>",
                            "<tr><td>90</td><td>729</td><td>2</td><td>0</td></tr>",
                            "<tr><td>90</td><td>1174</td><td>7</td><td>2</td></tr>",
                            "<tr><td>90</td><td>1299</td><td>6</td><td>7</td></tr>",
                            "<tr><td>90</td><td>1405</td><td>5</td><td>6</td></tr>",
                            "<tr><td>91</td><td>636</td><td>6</td><td>0</td></tr>",
                            "<tr><td>91</td><td>732</td><td>4</td><td>6</td></tr>",
                            "<tr><td>91</td><td>1213</td><td>3</td><td>4</td></tr>",
                            "<tr><td>91</td><td>1397</td><td>4</td><td>3</td></tr>",
                            "<tr><td>92</td><td>942</td><td>6</td><td>0</td></tr>",
                            "<tr><td>92</td><td>1016</td><td>2</td><td>6</td></tr>",
                            "<tr><td>92</td><td>809</td><td>3</td><td>2</td></tr>",
                            "<tr><td>92</td><td>841</td><td>6</td><td>3</td></tr>",
                            "<tr><td>92</td><td>1527</td><td>2</td><td>6</td></tr>",
                            "<tr><td>92</td><td>1555</td><td>4</td><td>2</td></tr>",
                            "<tr><td>93</td><td>741</td><td>7</td><td>0</td></tr>",
                            "<tr><td>93</td><td>1169</td><td>4</td><td>7</td></tr>",
                            "<tr><td>93</td><td>1217</td><td>1</td><td>4</td></tr>",
                            "<tr><td>93</td><td>1355</td><td>2</td><td>1</td></tr>",
                            "<tr><td>93</td><td>1391</td><td>4</td><td>2</td></tr>",
                            "<tr><td>94</td><td>616</td><td>4</td><td>0</td></tr>",
                            "<tr><td>94</td><td>975</td><td>5</td><td>4</td></tr>",
                            "<tr><td>94</td><td>665</td><td>7</td><td>5</td></tr>",
                            "<tr><td>94</td><td>727</td><td>3</td><td>7</td></tr>",
                            "<tr><td>94</td><td>1241</td><td>7</td><td>3</td></tr>",
                            "<tr><td>94</td><td>1305</td><td>2</td><td>7</td></tr>",
                            "<tr><td>94</td><td>1312</td><td>3</td><td>2</td></tr>",
                            "<tr><td>94</td><td>1368</td><td>1</td><td>3</td></tr>",
                            "<tr><td>94</td><td>1518</td><td>2</td><td>1</td></tr>",
                            "<tr><td>94</td><td>1564</td><td>7</td><td>2</td></tr>",
                            "<tr><td>95</td><td>656</td><td>7</td><td>0</td></tr>",
                            "<tr><td>95</td><td>1048</td><td>3</td><td>7</td></tr>",
                            "<tr><td>95</td><td>1097</td><td>4</td><td>3</td></tr>",
                            "<tr><td>95</td><td>1543</td><td>7</td><td>4</td></tr>",
                            "<tr><td>96</td><td>607</td><td>4</td><td>0</td></tr>",
                            "<tr><td>96</td><td>623</td><td>7</td><td>4</td></tr>",
                            "<tr><td>96</td><td>671</td><td>4</td><td>7</td></tr>",
                            "<tr><td>96</td><td>780</td><td>1</td><td>4</td></tr>",
                            "<tr><td>96</td><td>1378</td><td>3</td><td>1</td></tr>",
                            "<tr><td>96</td><td>1438</td><td>2</td><td>3</td></tr>",
                            "<tr><td>96</td><td>1569</td><td>7</td><td>2</td></tr>",
                            "<tr><td>97</td><td>635</td><td>3</td><td>0</td></tr>",
                            "<tr><td>97</td><td>726</td><td>4</td><td>3</td></tr>",
                            "<tr><td>97</td><td>718</td><td>7</td><td>4</td></tr>",
                            "<tr><td>97</td><td>836</td><td>2</td><td>7</td></tr>",
                            "<tr><td>97</td><td>1395</td><td>1</td><td>2</td></tr>",
                            "<tr><td>97</td><td>1417</td><td>7</td><td>1</td></tr>",
                            "<tr><td>97</td><td>1528</td><td>2</td><td>7</td></tr>",
                            "<tr><td>98</td><td>631</td><td>6</td><td>0</td></tr>",
                            "<tr><td>98</td><td>884</td><td>5</td><td>6</td></tr>",
                            "<tr><td>98</td><td>1050</td><td>6</td><td>5</td></tr>",
                            "<tr><td>98</td><td>1402</td><td>2</td><td>6</td></tr>",
                            "<tr><td>99</td><td>632</td><td>1</td><td>0</td></tr>",
                            "<tr><td>99</td><td>691</td><td>5</td><td>1</td></tr>",
                            "<tr><td>99</td><td>1072</td><td>1</td><td>5</td></tr>",
                            "<tr><td>99</td><td>1408</td><td>1</td><td>1</td></tr>",
                            "<tr><td>99</td><td>1486</td><td>5</td><td>1</td></tr>",
                            "<tr><td>100</td><td>597</td><td>1</td><td>0</td></tr>",
                            "<tr><td>100</td><td>637</td><td>5</td><td>1</td></tr>",
                            "<tr><td>100</td><td>1315</td><td>5</td><td>5</td></tr>",
                            "<tr><td>100</td><td>1482</td><td>7</td><td>5</td></tr>",
                            "<tr><td>101</td><td>715</td><td>3</td><td>0</td></tr>",
                            "<tr><td>101</td><td>1332</td><td>6</td><td>3</td></tr>",
                            "<tr><td>101</td><td>1516</td><td>4</td><td>6</td></tr>",
                            "<tr><td>102</td><td>689</td><td>5</td><td>0</td></tr>",
                            "<tr><td>102</td><td>1343</td><td>2</td><td>5</td></tr>",
                            "<tr><td>103</td><td>972</td><td>2</td><td>0</td></tr>",
                            "<tr><td>103</td><td>992</td><td>7</td><td>2</td></tr>",
                            "<tr><td>103</td><td>1398</td><td>1</td><td>7</td></tr>",
                            "<tr><td>103</td><td>1485</td><td>4</td><td>1</td></tr>",
                            "<tr><td>104</td><td>837</td><td>4</td><td>0</td></tr>",
                            "<tr><td>104</td><td>1180</td><td>1</td><td>4</td></tr>",
                            "<tr><td>104</td><td>1522</td><td>2</td><td>1</td></tr>",
                            "<tr><td>104</td><td>1532</td><td>3</td><td>2</td></tr>",
                            "<tr><td>105</td><td>618</td><td>1</td><td>0</td></tr>",
                            "<tr><td>105</td><td>1525</td><td>5</td><td>1</td></tr>",
                            "<tr><td>106</td><td>610</td><td>3</td><td>0</td></tr>",
                            "<tr><td>106</td><td>708</td><td>7</td><td>3</td></tr>",
                            "<tr><td>106</td><td>1228</td><td>7</td><td>7</td></tr>",
                            "<tr><td>106</td><td>1271</td><td>5</td><td>7</td></tr>",
                            "<tr><td>106</td><td>1372</td><td>7</td><td>5</td></tr>",
                            "<tr><td>106</td><td>1510</td><td>6</td><td>7</td></tr>",
                            "<tr><td>107</td><td>586</td><td>6</td><td>0</td></tr>",
                            "<tr><td>107</td><td>1250</td><td>4</td><td>6</td></tr>",
                            "<tr><td>107</td><td>1354</td><td>1</td><td>4</td></tr>",
                            "<tr><td>107</td><td>1452</td><td>6</td><td>1</td></tr>",
                            "<tr><td>107</td><td>1494</td><td>2</td><td>6</td></tr>",
                            "<tr><td>108</td><td>1102</td><td>1</td><td>0</td></tr>",
                            "<tr><td>108</td><td>1392</td><td>6</td><td>1</td></tr>",
                            "<tr><td>109</td><td>614</td><td>4</td><td>0</td></tr>",
                            "<tr><td>109</td><td>621</td><td>7</td><td>4</td></tr>",
                            "<tr><td>109</td><td>654</td><td>5</td><td>7</td></tr>",
                            "<tr><td>109</td><td>810</td><td>2</td><td>5</td></tr>",
                            "<tr><td>109</td><td>1083</td><td>1</td><td>2</td></tr>",
                            "<tr><td>109</td><td>1298</td><td>4</td><td>1</td></tr>",
                            "<tr><td>109</td><td>1560</td><td>1</td><td>4</td></tr>",
                            "<tr><td>110</td><td>931</td><td>5</td><td>0</td></tr>",
                            "<tr><td>110</td><td>964</td><td>6</td><td>5</td></tr>",
                            "<tr><td>110</td><td>685</td><td>1</td><td>6</td></tr>",
                            "<tr><td>110</td><td>1041</td><td>3</td><td>1</td></tr>",
                            "<tr><td>110</td><td>1109</td><td>5</td><td>3</td></tr>",
                            "<tr><td>110</td><td>1162</td><td>2</td><td>5</td></tr>",
                            "<tr><td>110</td><td>1424</td><td>1</td><td>2</td></tr>",
                            "<tr><td>110</td><td>1489</td><td>6</td><td>1</td></tr>",
                            "<tr><td>111</td><td>605</td><td>7</td><td>0</td></tr>",
                            "<tr><td>111</td><td>959</td><td>7</td><td>7</td></tr>",
                            "<tr><td>111</td><td>786</td><td>4</td><td>7</td></tr>",
                            "<tr><td>111</td><td>1296</td><td>3</td><td>4</td></tr>",
                            "<tr><td>111</td><td>1353</td><td>5</td><td>3</td></tr>",
                            "<tr><td>112</td><td>921</td><td>1</td><td>0</td></tr>",
                            "<tr><td>112</td><td>776</td><td>4</td><td>1</td></tr>",
                            "<tr><td>112</td><td>801</td><td>5</td><td>4</td></tr>",
                            "<tr><td>112</td><td>1124</td><td>6</td><td>5</td></tr>",
                            "<tr><td>112</td><td>1530</td><td>6</td><td>6</td></tr>",
                            "<tr><td>113</td><td>1029</td><td>5</td><td>0</td></tr>",
                            "<tr><td>113</td><td>1085</td><td>4</td><td>5</td></tr>",
                            "<tr><td>113</td><td>1263</td><td>1</td><td>4</td></tr>",
                            "<tr><td>113</td><td>1495</td><td>7</td><td>1</td></tr>",
                            "<tr><td>113</td><td>1499</td><td>2</td><td>7</td></tr>",
                            "<tr><td>114</td><td>966</td><td>6</td><td>0</td></tr>",
                            "<tr><td>114</td><td>737</td><td>2</td><td>6</td></tr>",
                            "<tr><td>114</td><td>827</td><td>7</td><td>2</td></tr>",
                            "<tr><td>114</td><td>1540</td><td>3</td><td>7</td></tr>",
                            "<tr><td>115</td><td>596</td><td>7</td><td>0</td></tr>",
                            "<tr><td>115</td><td>943</td><td>7</td><td>7</td></tr>",
                            "<tr><td>115</td><td>1121</td><td>7</td><td>7</td></tr>",
                            "<tr><td>115</td><td>1154</td><td>4</td><td>7</td></tr>",
                            "<tr><td>115</td><td>1352</td><td>3</td><td>4</td></tr>",
                            "<tr><td>115</td><td>1554</td><td>3</td><td>3</td></tr>",
                            "<tr><td>115</td><td>1566</td><td>1</td><td>3</td></tr>",
                            "<tr><td>116</td><td>1455</td><td>2</td><td>0</td></tr>",
                            "<tr><td>116</td><td>1501</td><td>4</td><td>2</td></tr>",
                            "<tr><td>117</td><td>612</td><td>2</td><td>0</td></tr>",
                            "<tr><td>117</td><td>617</td><td>3</td><td>2</td></tr>",
                            "<tr><td>117</td><td>953</td><td>5</td><td>3</td></tr>",
                            "<tr><td>117</td><td>962</td><td>4</td><td>5</td></tr>",
                            "<tr><td>117</td><td>1002</td><td>1</td><td>4</td></tr>",
                            "<tr><td>117</td><td>1192</td><td>2</td><td>1</td></tr>",
                            "<tr><td>117</td><td>1247</td><td>3</td><td>2</td></tr>",
                            "<tr><td>117</td><td>1468</td><td>7</td><td>3</td></tr>",
                            "<tr><td>118</td><td>864</td><td>6</td><td>0</td></tr>",
                            "<tr><td>118</td><td>994</td><td>7</td><td>6</td></tr>",
                            "<tr><td>118</td><td>996</td><td>3</td><td>7</td></tr>",
                            "<tr><td>118</td><td>716</td><td>1</td><td>3</td></tr>",
                            "<tr><td>118</td><td>1374</td><td>5</td><td>1</td></tr>",
                            "<tr><td>118</td><td>1472</td><td>6</td><td>5</td></tr>",
                            "<tr><td>118</td><td>1481</td><td>3</td><td>6</td></tr>",
                            "<tr><td>119</td><td>1026</td><td>3</td><td>0</td></tr>",
                            "<tr><td>119</td><td>706</td><td>2</td><td>3</td></tr>",
                            "<tr><td>119</td><td>722</td><td>1</td><td>2</td></tr>",
                            "<tr><td>119</td><td>1413</td><td>3</td><td>1</td></tr>",
                            "<tr><td>119</td><td>1488</td><td>3</td><td>3</td></tr>",
                            "<tr><td>120</td><td>998</td><td>3</td><td>0</td></tr>",
                            "<tr><td>120</td><td>762</td><td>3</td><td>3</td></tr>",
                            "<tr><td>120</td><td>1089</td><td>6</td><td>3</td></tr>",
                            "<tr><td>120</td><td>1339</td><td>6</td><td>6</td></tr>",
                            "<tr><td>120</td><td>1483</td><td>1</td><td>6</td></tr>",
                            "<tr><td>120</td><td>1493</td><td>7</td><td>1</td></tr>",
                            "<tr><td>121</td><td>858</td><td>5</td><td>0</td></tr>",
                            "<tr><td>121</td><td>735</td><td>6</td><td>5</td></tr>",
                            "<tr><td>121</td><td>739</td><td>6</td><td>6</td></tr>",
                            "<tr><td>121</td><td>1049</td><td>3</td><td>6</td></tr>",
                            "<tr><td>121</td><td>1128</td><td>4</td><td>3</td></tr>",
                            "<tr><td>121</td><td>1215</td><td>4</td><td>4</td></tr>",
                            "<tr><td>121</td><td>1373</td><td>5</td><td>4</td></tr>",
                            "<tr><td>121</td><td>1393</td><td>6</td><td>5</td></tr>",
                            "<tr><td>122</td><td>1007</td><td>2</td><td>0</td></tr>",
                            "<tr><td>122</td><td>1036</td><td>2</td><td>2</td></tr>",
                            "<tr><td>122</td><td>1062</td><td>3</td><td>2</td></tr>",
                            "<tr><td>122</td><td>1166</td><td>4</td><td>3</td></tr>",
                            "<tr><td>122</td><td>1209</td><td>1</td><td>4</td></tr>",
                            "<tr><td>122</td><td>1245</td><td>2</td><td>1</td></tr>",
                            "<tr><td>122</td><td>1337</td><td>2</td><td>2</td></tr>",
                            "<tr><td>122</td><td>1385</td><td>5</td><td>2</td></tr>",
                            "<tr><td>122</td><td>1440</td><td>3</td><td>5</td></tr>",
                            "<tr><td>123</td><td>587</td><td>7</td><td>0</td></tr>",
                            "<tr><td>123</td><td>923</td><td>4</td><td>7</td></tr>",
                            "<tr><td>123</td><td>967</td><td>5</td><td>4</td></tr>",
                            "<tr><td>123</td><td>1223</td><td>1</td><td>5</td></tr>",
                            "<tr><td>123</td><td>1282</td><td>6</td><td>1</td></tr>",
                            "<tr><td>124</td><td>861</td><td>1</td><td>0</td></tr>",
                            "<tr><td>124</td><td>1210</td><td>4</td><td>1</td></tr>",
                            "<tr><td>124</td><td>1330</td><td>7</td><td>4</td></tr>",
                            "<tr><td>124</td><td>1403</td><td>6</td><td>7</td></tr>",
                            "<tr><td>124</td><td>1419</td><td>3</td><td>6</td></tr>",
                            "<tr><td>124</td><td>1531</td><td>6</td><td>3</td></tr>",
                            "<tr><td>125</td><td>576</td><td>1</td><td>0</td></tr>",
                            "<tr><td>126</td><td>754</td><td>4</td><td>0</td></tr>",
                            "<tr><td>126</td><td>806</td><td>6</td><td>4</td></tr>",
                            "<tr><td>126</td><td>1134</td><td>1</td><td>6</td></tr>",
                            "<tr><td>126</td><td>1364</td><td>6</td><td>1</td></tr>",
                            "<tr><td>126</td><td>1428</td><td>7</td><td>6</td></tr>",
                            "<tr><td>126</td><td>1500</td><td>4</td><td>7</td></tr>",
                            "<tr><td>127</td><td>643</td><td>2</td><td>0</td></tr>",
                            "<tr><td>127</td><td>853</td><td>5</td><td>2</td></tr>",
                            "<tr><td>127</td><td>879</td><td>2</td><td>5</td></tr>",
                            "<tr><td>127</td><td>1034</td><td>6</td><td>2</td></tr>",
                            "<tr><td>127</td><td>1226</td><td>5</td><td>6</td></tr>",
                            "<tr><td>127</td><td>1286</td><td>1</td><td>5</td></tr>",
                            "<tr><td>127</td><td>1579</td><td>5</td><td>1</td></tr>",
                            "<tr><td>128</td><td>717</td><td>2</td><td>0</td></tr>",
                            "<tr><td>128</td><td>815</td><td>1</td><td>2</td></tr>",
                            "<tr><td>128</td><td>1290</td><td>1</td><td>1</td></tr>",
                            "<tr><td>128</td><td>1574</td><td>1</td><td>1</td></tr>",
                            "<tr><td>128</td><td>1583</td><td>4</td><td>1</td></tr>",
                            "<tr><td>129</td><td>723</td><td>7</td><td>0</td></tr>",
                            "<tr><td>129</td><td>1360</td><td>6</td><td>7</td></tr>",
                            "<tr><td>129</td><td>1445</td><td>7</td><td>6</td></tr>",
                            "<tr><td>129</td><td>1509</td><td>6</td><td>7</td></tr>",
                            "<tr><td>130</td><td>580</td><td>3</td><td>0</td></tr>",
                            "<tr><td>130</td><td>613</td><td>3</td><td>3</td></tr>",
                            "<tr><td>130</td><td>910</td><td>2</td><td>3</td></tr>",
                            "<tr><td>130</td><td>779</td><td>6</td><td>2</td></tr>",
                            "<tr><td>130</td><td>1040</td><td>1</td><td>6</td></tr>",
                            "<tr><td>130</td><td>1475</td><td>7</td><td>1</td></tr>",
                            "<tr><td>131</td><td>559</td><td>2</td><td>0</td></tr>",
                            "<tr><td>131</td><td>655</td><td>1</td><td>2</td></tr>",
                            "<tr><td>131</td><td>881</td><td>6</td><td>1</td></tr>",
                            "<tr><td>131</td><td>760</td><td>4</td><td>6</td></tr>",
                            "<tr><td>131</td><td>1474</td><td>5</td><td>4</td></tr>",
                            "<tr><td>132</td><td>619</td><td>7</td><td>0</td></tr>",
                            "<tr><td>132</td><td>999</td><td>6</td><td>7</td></tr>",
                            "<tr><td>132</td><td>1090</td><td>7</td><td>6</td></tr>",
                            "<tr><td>132</td><td>1111</td><td>3</td><td>7</td></tr>",
                            "<tr><td>132</td><td>1301</td><td>2</td><td>3</td></tr>",
                            "<tr><td>132</td><td>1519</td><td>2</td><td>2</td></tr>",
                            "<tr><td>133</td><td>909</td><td>4</td><td>0</td></tr>",
                            "<tr><td>133</td><td>988</td><td>3</td><td>4</td></tr>",
                            "<tr><td>133</td><td>1149</td><td>7</td><td>3</td></tr>",
                            "<tr><td>133</td><td>1306</td><td>3</td><td>7</td></tr>",
                            "<tr><td>133</td><td>1363</td><td>5</td><td>3</td></tr>",
                            "<tr><td>133</td><td>1409</td><td>1</td><td>5</td></tr>",
                            "<tr><td>134</td><td>1004</td><td>5</td><td>0</td></tr>",
                            "<tr><td>134</td><td>1024</td><td>1</td><td>5</td></tr>",
                            "<tr><td>134</td><td>1045</td><td>2</td><td>1</td></tr>",
                            "<tr><td>134</td><td>1178</td><td>7</td><td>2</td></tr>",
                            "<tr><td>134</td><td>1219</td><td>6</td><td>7</td></tr>",
                            "<tr><td>134</td><td>1535</td><td>7</td><td>6</td></tr>",
                            "<tr><td>135</td><td>724</td><td>6</td><td>0</td></tr>",
                            "<tr><td>135</td><td>849</td><td>7</td><td>6</td></tr>",
                            "<tr><td>135</td><td>1289</td><td>3</td><td>7</td></tr>",
                            "<tr><td>136</td><td>584</td><td>2</td><td>0</td></tr>",
                            "<tr><td>136</td><td>661</td><td>5</td><td>2</td></tr>",
                            "<tr><td>136</td><td>1046</td><td>4</td><td>5</td></tr>",
                            "<tr><td>137</td><td>582</td><td>3</td><td>0</td></tr>",
                            "<tr><td>137</td><td>649</td><td>5</td><td>3</td></tr>",
                            "<tr><td>137</td><td>657</td><td>6</td><td>5</td></tr>",
                            "<tr><td>137</td><td>1014</td><td>1</td><td>6</td></tr>",
                            "<tr><td>137</td><td>1201</td><td>6</td><td>1</td></tr>",
                            "<tr><td>137</td><td>1280</td><td>3</td><td>6</td></tr>",
                            "<tr><td>138</td><td>768</td><td>6</td><td>0</td></tr>",
                            "<tr><td>138</td><td>796</td><td>4</td><td>6</td></tr>",
                            "<tr><td>138</td><td>1256</td><td>4</td><td>4</td></tr>",
                            "<tr><td>138</td><td>1283</td><td>2</td><td>4</td></tr>",
                            "<tr><td>138</td><td>1294</td><td>5</td><td>2</td></tr>",
                            "<tr><td>138</td><td>1358</td><td>7</td><td>5</td></tr>",
                            "<tr><td>138</td><td>1370</td><td>5</td><td>7</td></tr>",
                            "<tr><td>139</td><td>579</td><td>2</td><td>0</td></tr>",
                            "<tr><td>139</td><td>745</td><td>1</td><td>2</td></tr>",
                            "<tr><td>139</td><td>751</td><td>4</td><td>1</td></tr>",
                            "<tr><td>139</td><td>1042</td><td>2</td><td>4</td></tr>",
                            "<tr><td>139</td><td>1064</td><td>6</td><td>2</td></tr>",
                            "<tr><td>139</td><td>1433</td><td>6</td><td>6</td></tr>",
                            "<tr><td>139</td><td>1450</td><td>7</td><td>6</td></tr>",
                            "<tr><td>140</td><td>915</td><td>2</td><td>0</td></tr>",
                            "<tr><td>140</td><td>733</td><td>1</td><td>2</td></tr>",
                            "<tr><td>140</td><td>1098</td><td>2</td><td>1</td></tr>",
                            "<tr><td>140</td><td>1156</td><td>3</td><td>2</td></tr>",
                            "<tr><td>140</td><td>1259</td><td>7</td><td>3</td></tr>",
                            "<tr><td>140</td><td>1357</td><td>4</td><td>7</td></tr>",
                            "<tr><td>140</td><td>1361</td><td>3</td><td>4</td></tr>",
                            "<tr><td>140</td><td>1371</td><td>1</td><td>3</td></tr>",
                            "<tr><td>141</td><td>565</td><td>6</td><td>0</td></tr>",
                            "<tr><td>141</td><td>908</td><td>2</td><td>6</td></tr>",
                            "<tr><td>141</td><td>761</td><td>3</td><td>2</td></tr>",
                            "<tr><td>141</td><td>784</td><td>7</td><td>3</td></tr>",
                            "<tr><td>141</td><td>1254</td><td>4</td><td>7</td></tr>",
                            "<tr><td>141</td><td>1401</td><td>6</td><td>4</td></tr>",
                            "<tr><td>142</td><td>1369</td><td>6</td><td>0</td></tr>",
                            "<tr><td>142</td><td>1545</td><td>3</td><td>6</td></tr>",
                            "<tr><td>143</td><td>980</td><td>3</td><td>0</td></tr>",
                            "<tr><td>143</td><td>1155</td><td>7</td><td>3</td></tr>",
                            "<tr><td>143</td><td>1193</td><td>6</td><td>7</td></tr>",
                            "<tr><td>143</td><td>1222</td><td>2</td><td>6</td></tr>",
                            "<tr><td>143</td><td>1313</td><td>4</td><td>2</td></tr>",
                            "<tr><td>143</td><td>1394</td><td>3</td><td>4</td></tr>",
                            "<tr><td>143</td><td>1448</td><td>6</td><td>3</td></tr>",
                            "<tr><td>144</td><td>581</td><td>4</td><td>0</td></tr>",
                            "<tr><td>144</td><td>1087</td><td>2</td><td>4</td></tr>",
                            "<tr><td>144</td><td>1199</td><td>7</td><td>2</td></tr>",
                            "<tr><td>144</td><td>1297</td><td>1</td><td>7</td></tr>",
                            "<tr><td>144</td><td>1572</td><td>2</td><td>1</td></tr>",
                            "<tr><td>145</td><td>703</td><td>4</td><td>0</td></tr>",
                            "<tr><td>145</td><td>1077</td><td>1</td><td>4</td></tr>",
                            "<tr><td>145</td><td>1120</td><td>1</td><td>1</td></tr>",
                            "<tr><td>145</td><td>1145</td><td>4</td><td>1</td></tr>",
                            "<tr><td>145</td><td>1338</td><td>2</td><td>4</td></tr>",
                            "<tr><td>145</td><td>1471</td><td>1</td><td>2</td></tr>",
                            "<tr><td>146</td><td>890</td><td>3</td><td>0</td></tr>",
                            "<tr><td>146</td><td>664</td><td>3</td><td>3</td></tr>",
                            "<tr><td>146</td><td>789</td><td>7</td><td>3</td></tr>",
                            "<tr><td>146</td><td>804</td><td>7</td><td>7</td></tr>",
                            "<tr><td>146</td><td>1032</td><td>5</td><td>7</td></tr>",
                            "<tr><td>146</td><td>1479</td><td>6</td><td>5</td></tr>",
                            "<tr><td>147</td><td>771</td><td>4</td><td>0</td></tr>",
                            "<tr><td>148</td><td>678</td><td>4</td><td>0</td></tr>",
                            "<tr><td>148</td><td>765</td><td>3</td><td>4</td></tr>",
                            "<tr><td>148</td><td>783</td><td>7</td><td>3</td></tr>",
                            "<tr><td>148</td><td>808</td><td>2</td><td>7</td></tr>",
                            "<tr><td>148</td><td>812</td><td>6</td><td>2</td></tr>",
                            "<tr><td>148</td><td>1578</td><td>7</td><td>6</td></tr>",
                            "<tr><td>149</td><td>591</td><td>1</td><td>0</td></tr>",
                            "<tr><td>149</td><td>652</td><td>1</td><td>1</td></tr>",
                            "<tr><td>149</td><td>833</td><td>2</td><td>1</td></tr>",
                            "<tr><td>149</td><td>834</td><td>5</td><td>2</td></tr>",
                            "<tr><td>149</td><td>843</td><td>4</td><td>5</td></tr>",
                            "<tr><td>149</td><td>1146</td><td>6</td><td>4</td></tr>",
                            "<tr><td>149</td><td>1514</td><td>5</td><td>6</td></tr>",
                            "<tr><td>150</td><td>641</td><td>3</td><td>0</td></tr>",
                            "<tr><td>150</td><td>1100</td><td>5</td><td>3</td></tr>",
                            "<tr><td>150</td><td>1105</td><td>1</td><td>5</td></tr>",
                            "<tr><td>150</td><td>1177</td><td>1</td><td>1</td></tr>",
                            "<tr><td>150</td><td>1203</td><td>4</td><td>1</td></tr>",
                            "<tr><td>150</td><td>1432</td><td>3</td><td>4</td></tr>",
                            "<tr><td>151</td><td>893</td><td>3</td><td>0</td></tr>",
                            "<tr><td>151</td><td>1058</td><td>3</td><td>3</td></tr>",
                            "<tr><td>151</td><td>1115</td><td>3</td><td>3</td></tr>",
                            "<tr><td>152</td><td>730</td><td>2</td><td>0</td></tr>",
                            "<tr><td>152</td><td>1160</td><td>7</td><td>2</td></tr>",
                            "<tr><td>152</td><td>1197</td><td>6</td><td>7</td></tr>",
                            "<tr><td>152</td><td>1558</td><td>2</td><td>6</td></tr>",
                            "<tr><td>153</td><td>594</td><td>3</td><td>0</td></tr>",
                            "<tr><td>153</td><td>969</td><td>6</td><td>3</td></tr>",
                            "<tr><td>153</td><td>1460</td><td>3</td><td>6</td></tr>",
                            "<tr><td>153</td><td>1470</td><td>5</td><td>3</td></tr>",
                            "<tr><td>153</td><td>1507</td><td>3</td><td>5</td></tr>",
                            "<tr><td>154</td><td>968</td><td>1</td><td>0</td></tr>",
                            "<tr><td>154</td><td>1061</td><td>7</td><td>1</td></tr>",
                            "<tr><td>154</td><td>1168</td><td>6</td><td>7</td></tr>",
                            "<tr><td>154</td><td>1262</td><td>1</td><td>6</td></tr>",
                            "<tr><td>154</td><td>1539</td><td>2</td><td>1</td></tr>",
                            "<tr><td>155</td><td>575</td><td>1</td><td>0</td></tr>",
                            "<tr><td>155</td><td>577</td><td>3</td><td>1</td></tr>",
                            "<tr><td>155</td><td>1112</td><td>4</td><td>3</td></tr>",
                            "<tr><td>155</td><td>1310</td><td>1</td><td>4</td></tr>",
                            "<tr><td>155</td><td>1541</td><td>1</td><td>1</td></tr>",
                            "<tr><td>156</td><td>588</td><td>7</td><td>0</td></tr>",
                            "<tr><td>156</td><td>907</td><td>3</td><td>7</td></tr>",
                            "<tr><td>156</td><td>956</td><td>6</td><td>3</td></tr>",
                            "<tr><td>156</td><td>692</td><td>6</td><td>6</td></tr>",
                            "<tr><td>156</td><td>1462</td><td>7</td><td>6</td></tr>",
                            "<tr><td>156</td><td>1490</td><td>1</td><td>7</td></tr>",
                            "<tr><td>156</td><td>1561</td><td>4</td><td>1</td></tr>",
                            "<tr><td>157</td><td>648</td><td>4</td><td>0</td></tr>",
                            "<tr><td>157</td><td>1025</td><td>3</td><td>4</td></tr>",
                            "<tr><td>157</td><td>1047</td><td>4</td><td>3</td></tr>",
                            "<tr><td>157</td><td>1240</td><td>7</td><td>4</td></tr>",
                            "<tr><td>157</td><td>1551</td><td>3</td><td>7</td></tr>",
                            "<tr><td>158</td><td>825</td><td>4</td><td>0</td></tr>",
                            "<tr><td>158</td><td>840</td><td>4</td><td>4</td></tr>",
                            "<tr><td>158</td><td>1117</td><td>3</td><td>4</td></tr>",
                            "<tr><td>160</td><td>922</td><td>2</td><td>0</td></tr>",
                            "<tr><td>160</td><td>927</td><td>4</td><td>2</td></tr>",
                            "<tr><td>160</td><td>933</td><td>4</td><td>4</td></tr>",
                            "<tr><td>160</td><td>720</td><td>2</td><td>4</td></tr>",
                            "<tr><td>160</td><td>1565</td><td>3</td><td>2</td></tr>",
                            "<tr><td>161</td><td>639</td><td>4</td><td>0</td></tr>",
                            "<tr><td>161</td><td>653</td><td>7</td><td>4</td></tr>",
                            "<tr><td>161</td><td>911</td><td>4</td><td>7</td></tr>",
                            "<tr><td>161</td><td>1068</td><td>6</td><td>4</td></tr>",
                            "<tr><td>161</td><td>1190</td><td>7</td><td>6</td></tr>",
                            "<tr><td>161</td><td>1571</td><td>4</td><td>7</td></tr>",
                            "<tr><td>162</td><td>599</td><td>4</td><td>0</td></tr>",
                            "<tr><td>162</td><td>1205</td><td>6</td><td>4</td></tr>",
                            "<tr><td>162</td><td>1400</td><td>1</td><td>6</td></tr>",
                            "<tr><td>163</td><td>630</td><td>2</td><td>0</td></tr>",
                            "<tr><td>163</td><td>941</td><td>1</td><td>2</td></tr>",
                            "<tr><td>163</td><td>782</td><td>3</td><td>1</td></tr>",
                            "<tr><td>163</td><td>1075</td><td>4</td><td>3</td></tr>",
                            "<tr><td>163</td><td>1107</td><td>3</td><td>4</td></tr>",
                            "<tr><td>163</td><td>1265</td><td>5</td><td>3</td></tr>",
                            "<tr><td>163</td><td>1487</td><td>3</td><td>5</td></tr>",
                            "<tr><td>164</td><td>570</td><td>7</td><td>0</td></tr>",
                            "<tr><td>164</td><td>1010</td><td>2</td><td>7</td></tr>",
                            "<tr><td>164</td><td>742</td><td>6</td><td>2</td></tr>",
                            "<tr><td>164</td><td>1284</td><td>4</td><td>6</td></tr>",
                            "<tr><td>164</td><td>1292</td><td>2</td><td>4</td></tr>",
                            "<tr><td>165</td><td>640</td><td>3</td><td>0</td></tr>",
                            "<tr><td>165</td><td>857</td><td>5</td><td>3</td></tr>",
                            "<tr><td>165</td><td>900</td><td>6</td><td>5</td></tr>",
                            "<tr><td>165</td><td>897</td><td>6</td><td>6</td></tr>",
                            "<tr><td>165</td><td>892</td><td>3</td><td>6</td></tr>",
                            "<tr><td>165</td><td>1141</td><td>1</td><td>3</td></tr>",
                            "<tr><td>165</td><td>1375</td><td>4</td><td>1</td></tr>",
                            "<tr><td>166</td><td>644</td><td>7</td><td>0</td></tr>",
                            "<tr><td>166</td><td>781</td><td>7</td><td>7</td></tr>",
                            "<tr><td>166</td><td>1526</td><td>2</td><td>7</td></tr>",
                            "<tr><td>167</td><td>854</td><td>7</td><td>0</td></tr>",
                            "<tr><td>167</td><td>1414</td><td>3</td><td>7</td></tr>",
                            "<tr><td>168</td><td>930</td><td>3</td><td>0</td></tr>",
                            "<tr><td>168</td><td>792</td><td>3</td><td>3</td></tr>",
                            "<tr><td>168</td><td>794</td><td>4</td><td>3</td></tr>",
                            "<tr><td>168</td><td>1249</td><td>4</td><td>4</td></tr>",
                            "<tr><td>168</td><td>1266</td><td>4</td><td>4</td></tr>",
                            "<tr><td>169</td><td>573</td><td>5</td><td>0</td></tr>",
                            "<tr><td>169</td><td>659</td><td>6</td><td>5</td></tr>",
                            "<tr><td>169</td><td>974</td><td>1</td><td>6</td></tr>",
                            "<tr><td>169</td><td>746</td><td>7</td><td>1</td></tr>",
                            "<tr><td>169</td><td>1356</td><td>4</td><td>7</td></tr>",
                            "<tr><td>169</td><td>1427</td><td>1</td><td>4</td></tr>",
                            "<tr><td>170</td><td>567</td><td>7</td><td>0</td></tr>",
                            "<tr><td>170</td><td>944</td><td>4</td><td>7</td></tr>",
                            "<tr><td>170</td><td>1194</td><td>4</td><td>4</td></tr>",
                            "<tr><td>170</td><td>1267</td><td>7</td><td>4</td></tr>",
                            "<tr><td>170</td><td>1342</td><td>6</td><td>7</td></tr>",
                            "<tr><td>171</td><td>574</td><td>2</td><td>0</td></tr>",
                            "<tr><td>171</td><td>981</td><td>4</td><td>2</td></tr>",
                            "<tr><td>171</td><td>1181</td><td>6</td><td>4</td></tr>",
                            "<tr><td>171</td><td>1329</td><td>5</td><td>6</td></tr>",
                            "<tr><td>171</td><td>1567</td><td>6</td><td>5</td></tr>",
                            "<tr><td>172</td><td>984</td><td>4</td><td>0</td></tr>",
                            "<tr><td>172</td><td>709</td><td>5</td><td>4</td></tr>",
                            "<tr><td>172</td><td>749</td><td>6</td><td>5</td></tr>",
                            "<tr><td>172</td><td>839</td><td>5</td><td>6</td></tr>",
                            "<tr><td>172</td><td>1142</td><td>4</td><td>5</td></tr>",
                            "<tr><td>172</td><td>1171</td><td>5</td><td>4</td></tr>",
                            "<tr><td>172</td><td>1336</td><td>5</td><td>5</td></tr>",
                            "<tr><td>172</td><td>1421</td><td>5</td><td>5</td></tr>",
                            "<tr><td>172</td><td>1491</td><td>2</td><td>5</td></tr>",
                            "<tr><td>173</td><td>913</td><td>1</td><td>0</td></tr>",
                            "<tr><td>173</td><td>669</td><td>7</td><td>1</td></tr>",
                            "<tr><td>173</td><td>1350</td><td>3</td><td>7</td></tr>",
                            "<tr><td>173</td><td>1429</td><td>4</td><td>3</td></tr>",
                            "<tr><td>174</td><td>917</td><td>2</td><td>0</td></tr>",
                            "<tr><td>174</td><td>1015</td><td>5</td><td>2</td></tr>",
                            "<tr><td>174</td><td>682</td><td>3</td><td>5</td></tr>",
                            "<tr><td>174</td><td>1276</td><td>1</td><td>3</td></tr>",
                            "<tr><td>175</td><td>867</td><td>6</td><td>0</td></tr>",
                            "<tr><td>175</td><td>799</td><td>4</td><td>6</td></tr>",
                            "<tr><td>175</td><td>1094</td><td>5</td><td>4</td></tr>",
                            "<tr><td>175</td><td>1133</td><td>2</td><td>5</td></tr>",
                            "<tr><td>175</td><td>1407</td><td>7</td><td>2</td></tr>",
                            "<tr><td>176</td><td>592</td><td>5</td><td>0</td></tr>",
                            "<tr><td>176</td><td>1143</td><td>6</td><td>5</td></tr>",
                            "<tr><td>176</td><td>1278</td><td>6</td><td>6</td></tr>",
                            "<tr><td>176</td><td>1383</td><td>4</td><td>6</td></tr>",
                            "<tr><td>176</td><td>1511</td><td>2</td><td>4</td></tr>",
                            "<tr><td>176</td><td>1570</td><td>3</td><td>2</td></tr>",
                            "<tr><td>177</td><td>785</td><td>3</td><td>0</td></tr>",
                            "<tr><td>177</td><td>831</td><td>7</td><td>3</td></tr>",
                            "<tr><td>177</td><td>1176</td><td>3</td><td>7</td></tr>",
                            "<tr><td>177</td><td>1503</td><td>3</td><td>3</td></tr>",
                            "<tr><td>178</td><td>991</td><td>7</td><td>0</td></tr>",
                            "<tr><td>178</td><td>816</td><td>4</td><td>7</td></tr>",
                            "<tr><td>178</td><td>1211</td><td>3</td><td>4</td></tr>",
                            "<tr><td>178</td><td>1242</td><td>1</td><td>3</td></tr>",
                            "<tr><td>179</td><td>662</td><td>2</td><td>0</td></tr>",
                            "<tr><td>179</td><td>1021</td><td>1</td><td>2</td></tr>",
                            "<tr><td>179</td><td>1497</td><td>1</td><td>1</td></tr>",
                            "<tr><td>180</td><td>905</td><td>5</td><td>0</td></tr>",
                            "<tr><td>180</td><td>1559</td><td>3</td><td>5</td></tr>",
                            "<tr><td>180</td><td>1563</td><td>6</td><td>3</td></tr>",
                            "<tr><td>181</td><td>937</td><td>3</td><td>0</td></tr>",
                            "<tr><td>181</td><td>958</td><td>5</td><td>3</td></tr>",
                            "<tr><td>181</td><td>1022</td><td>1</td><td>5</td></tr>",
                            "<tr><td>181</td><td>677</td><td>4</td><td>1</td></tr>",
                            "<tr><td>181</td><td>731</td><td>6</td><td>4</td></tr>",
                            "<tr><td>181</td><td>1346</td><td>6</td><td>6</td></tr>",
                            "<tr><td>182</td><td>571</td><td>2</td><td>0</td></tr>",
                            "<tr><td>182</td><td>928</td><td>2</td><td>2</td></tr>",
                            "<tr><td>182</td><td>1008</td><td>6</td><td>2</td></tr>",
                            "<tr><td>182</td><td>740</td><td>3</td><td>6</td></tr>",
                            "<tr><td>182</td><td>1188</td><td>1</td><td>3</td></tr>",
                            "<tr><td>182</td><td>1230</td><td>7</td><td>1</td></tr>",
                            "<tr><td>182</td><td>1231</td><td>4</td><td>7</td></tr>",
                            "<tr><td>182</td><td>1308</td><td>1</td><td>4</td></tr>",
                            "<tr><td>182</td><td>1317</td><td>3</td><td>1</td></tr>",
                            "<tr><td>182</td><td>1326</td><td>4</td><td>3</td></tr>",
                            "<tr><td>182</td><td>1410</td><td>4</td><td>4</td></tr>",
                            "<tr><td>182</td><td>1422</td><td>3</td><td>4</td></tr>",
                            "<tr><td>183</td><td>939</td><td>4</td><td>0</td></tr>",
                            "<tr><td>183</td><td>1067</td><td>7</td><td>4</td></tr>",
                            "<tr><td>183</td><td>1147</td><td>4</td><td>7</td></tr>",
                            "<tr><td>183</td><td>1437</td><td>4</td><td>4</td></tr>",
                            "<tr><td>184</td><td>608</td><td>2</td><td>0</td></tr>",
                            "<tr><td>184</td><td>880</td><td>4</td><td>2</td></tr>",
                            "<tr><td>184</td><td>684</td><td>3</td><td>4</td></tr>",
                            "<tr><td>184</td><td>1251</td><td>4</td><td>3</td></tr>",
                            "<tr><td>185</td><td>578</td><td>6</td><td>0</td></tr>",
                            "<tr><td>185</td><td>863</td><td>4</td><td>6</td></tr>",
                            "<tr><td>185</td><td>898</td><td>4</td><td>4</td></tr>",
                            "<tr><td>185</td><td>925</td><td>6</td><td>4</td></tr>",
                            "<tr><td>185</td><td>672</td><td>3</td><td>6</td></tr>",
                            "<tr><td>185</td><td>679</td><td>5</td><td>3</td></tr>",
                            "<tr><td>185</td><td>693</td><td>2</td><td>5</td></tr>",
                            "<tr><td>185</td><td>711</td><td>3</td><td>2</td></tr>",
                            "<tr><td>185</td><td>1125</td><td>3</td><td>3</td></tr>",
                            "<tr><td>185</td><td>1183</td><td>5</td><td>3</td></tr>",
                            "<tr><td>185</td><td>1441</td><td>7</td><td>5</td></tr>",
                            "<tr><td>185</td><td>1463</td><td>7</td><td>7</td></tr>",
                            "<tr><td>186</td><td>615</td><td>3</td><td>0</td></tr>",
                            "<tr><td>186</td><td>1153</td><td>3</td><td>3</td></tr>",
                            "<tr><td>186</td><td>1248</td><td>2</td><td>3</td></tr>",
                            "<tr><td>186</td><td>1467</td><td>3</td><td>2</td></tr>",
                            "<tr><td>187</td><td>633</td><td>6</td><td>0</td></tr>",
                            "<tr><td>187</td><td>868</td><td>4</td><td>6</td></tr>",
                            "<tr><td>187</td><td>957</td><td>4</td><td>4</td></tr>",
                            "<tr><td>187</td><td>695</td><td>6</td><td>4</td></tr>",
                            "<tr><td>187</td><td>743</td><td>2</td><td>6</td></tr>",
                            "<tr><td>187</td><td>766</td><td>1</td><td>2</td></tr>",
                            "<tr><td>187</td><td>1404</td><td>2</td><td>1</td></tr>",
                            "<tr><td>188</td><td>912</td><td>1</td><td>0</td></tr>",
                            "<tr><td>188</td><td>690</td><td>4</td><td>1</td></tr>",
                            "<tr><td>188</td><td>710</td><td>7</td><td>4</td></tr>",
                            "<tr><td>188</td><td>747</td><td>3</td><td>7</td></tr>",
                            "<tr><td>188</td><td>1030</td><td>4</td><td>3</td></tr>",
                            "<tr><td>188</td><td>1390</td><td>5</td><td>4</td></tr>",
                            "<tr><td>189</td><td>699</td><td>2</td><td>0</td></tr>",
                            "<tr><td>189</td><td>753</td><td>1</td><td>2</td></tr>",
                            "<tr><td>189</td><td>1204</td><td>2</td><td>1</td></tr>",
                            "<tr><td>189</td><td>1449</td><td>2</td><td>2</td></tr>",
                            "<tr><td>189</td><td>1576</td><td>3</td><td>2</td></tr>",
                            "<tr><td>190</td><td>600</td><td>7</td><td>0</td></tr>",
                            "<tr><td>190</td><td>989</td><td>1</td><td>7</td></tr>",
                            "<tr><td>190</td><td>1017</td><td>1</td><td>1</td></tr>",
                            "<tr><td>190</td><td>774</td><td>5</td><td>1</td></tr>",
                            "<tr><td>190</td><td>1517</td><td>5</td><td>5</td></tr>",
                            "<tr><td>191</td><td>1039</td><td>6</td><td>0</td></tr>",
                            "<tr><td>191</td><td>1302</td><td>1</td><td>6</td></tr>",
                            "<tr><td>191</td><td>1323</td><td>7</td><td>1</td></tr>",
                            "<tr><td>191</td><td>1502</td><td>2</td><td>7</td></tr>",
                            "<tr><td>191</td><td>1508</td><td>7</td><td>2</td></tr>",
                            "<tr><td>192</td><td>903</td><td>7</td><td>0</td></tr>",
                            "<tr><td>192</td><td>680</td><td>4</td><td>7</td></tr>",
                            "<tr><td>193</td><td>634</td><td>6</td><td>0</td></tr>",
                            "<tr><td>193</td><td>926</td><td>1</td><td>6</td></tr>",
                            "<tr><td>193</td><td>977</td><td>2</td><td>1</td></tr>",
                            "<tr><td>193</td><td>675</td><td>2</td><td>2</td></tr>",
                            "<tr><td>193</td><td>835</td><td>2</td><td>2</td></tr>",
                            "<tr><td>193</td><td>1043</td><td>6</td><td>2</td></tr>",
                            "<tr><td>193</td><td>1238</td><td>6</td><td>6</td></tr>",
                            "<tr><td>194</td><td>1095</td><td>5</td><td>0</td></tr>",
                            "<tr><td>195</td><td>721</td><td>4</td><td>0</td></tr>",
                            "<tr><td>195</td><td>842</td><td>4</td><td>4</td></tr>",
                            "<tr><td>195</td><td>1074</td><td>7</td><td>4</td></tr>",
                            "<tr><td>195</td><td>1184</td><td>5</td><td>7</td></tr>",
                            "<tr><td>195</td><td>1473</td><td>7</td><td>5</td></tr>",
                            "<tr><td>195</td><td>1484</td><td>1</td><td>7</td></tr>",
                            "<tr><td>196</td><td>952</td><td>3</td><td>0</td></tr>",
                            "<tr><td>196</td><td>673</td><td>5</td><td>3</td></tr>",
                            "<tr><td>196</td><td>1314</td><td>5</td><td>5</td></tr>",
                            "<tr><td>196</td><td>1340</td><td>5</td><td>5</td></tr>",
                            "<tr><td>197</td><td>993</td><td>7</td><td>0</td></tr>",
                            "<tr><td>197</td><td>764</td><td>7</td><td>7</td></tr>",
                            "<tr><td>197</td><td>1091</td><td>7</td><td>7</td></tr>",
                            "<tr><td>197</td><td>1172</td><td>7</td><td>7</td></tr>",
                            "<tr><td>197</td><td>1304</td><td>7</td><td>7</td></tr>",
                            "<tr><td>197</td><td>1387</td><td>3</td><td>7</td></tr>",
                            "<tr><td>198</td><td>978</td><td>1</td><td>0</td></tr>",
                            "<tr><td>198</td><td>1011</td><td>7</td><td>1</td></tr>",
                            "<tr><td>198</td><td>1065</td><td>3</td><td>7</td></tr>",
                            "<tr><td>198</td><td>1116</td><td>1</td><td>3</td></tr>",
                            "<tr><td>198</td><td>1138</td><td>5</td><td>1</td></tr>",
                            "<tr><td>198</td><td>1161</td><td>5</td><td>5</td></tr>",
                            "<tr><td>198</td><td>1216</td><td>7</td><td>5</td></tr>",
                            "<tr><td>198</td><td>1420</td><td>5</td><td>7</td></tr>",
                            "</table>"
                        ]
                    }
                }
            ],
            "execution_count": 4
        }
    ]
}