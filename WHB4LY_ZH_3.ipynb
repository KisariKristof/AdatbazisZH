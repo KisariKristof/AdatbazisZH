{
    "metadata": {
        "kernelspec": {
            "name": "SQL",
            "display_name": "SQL",
            "language": "sql"
        },
        "language_info": {
            "name": "sql",
            "version": ""
        }
    },
    "nbformat_minor": 2,
    "nbformat": 4,
    "cells": [
        {
            "cell_type": "markdown",
            "source": [
                "## 1\\. Feladat"
            ],
            "metadata": {
                "azdata_cell_guid": "6bb3abc4-e9e5-4301-b903-65d009a9e1d5"
            },
            "attachments": {}
        },
        {
            "cell_type": "code",
            "source": [
                "SELECT \r\n",
                "    SZALLASHELY.SZALLAS_ID,\r\n",
                "    SZALLASHELY.SZALLAS_NEV,\r\n",
                "    COUNT(FOGLALAS.FOGLALAS_PK) AS FOGLALASOK_SZAMA\r\n",
                "FROM SZALLASHELY\r\n",
                "JOIN SZOBA ON SZALLASHELY.SZALLAS_ID = SZOBA.SZALLAS_FK\r\n",
                "JOIN FOGLALAS ON SZOBA.SZOBA_ID = FOGLALAS.SZOBA_FK\r\n",
                "GROUP BY SZALLASHELY.SZALLAS_ID, SZALLASHELY.SZALLAS_NEV;"
            ],
            "metadata": {
                "azdata_cell_guid": "9620b8cd-d8ac-4e18-8ccd-cb58736a34bd",
                "language": "sql"
            },
            "outputs": [
                {
                    "output_type": "display_data",
                    "data": {
                        "text/html": "(12 rows affected)"
                    },
                    "metadata": {}
                },
                {
                    "output_type": "display_data",
                    "data": {
                        "text/html": "Total execution time: 00:00:00.059"
                    },
                    "metadata": {}
                },
                {
                    "output_type": "execute_result",
                    "metadata": {},
                    "execution_count": 1,
                    "data": {
                        "application/vnd.dataresource+json": {
                            "schema": {
                                "fields": [
                                    {
                                        "name": "SZALLAS_ID"
                                    },
                                    {
                                        "name": "SZALLAS_NEV"
                                    },
                                    {
                                        "name": "FOGLALASOK_SZAMA"
                                    }
                                ]
                            },
                            "data": [
                                {
                                    "SZALLAS_ID": "9",
                                    "SZALLAS_NEV": "Jáde panzió",
                                    "FOGLALASOK_SZAMA": "29"
                                },
                                {
                                    "SZALLAS_ID": "3",
                                    "SZALLAS_NEV": "Fortuna Apartman",
                                    "FOGLALASOK_SZAMA": "39"
                                },
                                {
                                    "SZALLAS_ID": "12",
                                    "SZALLAS_NEV": "Gold Hotel",
                                    "FOGLALASOK_SZAMA": "179"
                                },
                                {
                                    "SZALLAS_ID": "6",
                                    "SZALLAS_NEV": "Kentaur Hotel",
                                    "FOGLALASOK_SZAMA": "179"
                                },
                                {
                                    "SZALLAS_ID": "7",
                                    "SZALLAS_NEV": "Szieszta Apartmanház",
                                    "FOGLALASOK_SZAMA": "34"
                                },
                                {
                                    "SZALLAS_ID": "1",
                                    "SZALLAS_NEV": "Sába-Ház",
                                    "FOGLALASOK_SZAMA": "70"
                                },
                                {
                                    "SZALLAS_ID": "10",
                                    "SZALLAS_NEV": "Lagúna Hotel",
                                    "FOGLALASOK_SZAMA": "123"
                                },
                                {
                                    "SZALLAS_ID": "4",
                                    "SZALLAS_NEV": "Fortuna panzió",
                                    "FOGLALASOK_SZAMA": "73"
                                },
                                {
                                    "SZALLAS_ID": "5",
                                    "SZALLAS_NEV": "Fortuna Panzió",
                                    "FOGLALASOK_SZAMA": "53"
                                },
                                {
                                    "SZALLAS_ID": "2",
                                    "SZALLAS_NEV": "Családi Ház",
                                    "FOGLALASOK_SZAMA": "18"
                                },
                                {
                                    "SZALLAS_ID": "11",
                                    "SZALLAS_NEV": "Partiszél Vendégház",
                                    "FOGLALASOK_SZAMA": "26"
                                },
                                {
                                    "SZALLAS_ID": "8",
                                    "SZALLAS_NEV": "Hotel Három Hattyú",
                                    "FOGLALASOK_SZAMA": "204"
                                }
                            ]
                        },
                        "text/html": [
                            "<table>",
                            "<tr><th>SZALLAS_ID</th><th>SZALLAS_NEV</th><th>FOGLALASOK_SZAMA</th></tr>",
                            "<tr><td>9</td><td>Jáde panzió</td><td>29</td></tr>",
                            "<tr><td>3</td><td>Fortuna Apartman</td><td>39</td></tr>",
                            "<tr><td>12</td><td>Gold Hotel</td><td>179</td></tr>",
                            "<tr><td>6</td><td>Kentaur Hotel</td><td>179</td></tr>",
                            "<tr><td>7</td><td>Szieszta Apartmanház</td><td>34</td></tr>",
                            "<tr><td>1</td><td>Sába-Ház</td><td>70</td></tr>",
                            "<tr><td>10</td><td>Lagúna Hotel</td><td>123</td></tr>",
                            "<tr><td>4</td><td>Fortuna panzió</td><td>73</td></tr>",
                            "<tr><td>5</td><td>Fortuna Panzió</td><td>53</td></tr>",
                            "<tr><td>2</td><td>Családi Ház</td><td>18</td></tr>",
                            "<tr><td>11</td><td>Partiszél Vendégház</td><td>26</td></tr>",
                            "<tr><td>8</td><td>Hotel Három Hattyú</td><td>204</td></tr>",
                            "</table>"
                        ]
                    }
                }
            ],
            "execution_count": 1
        },
        {
            "cell_type": "markdown",
            "source": [
                "## 2\\. Feladat"
            ],
            "metadata": {
                "azdata_cell_guid": "94a0baa1-308d-4e1f-8870-da8bc982f077"
            },
            "attachments": {}
        },
        {
            "cell_type": "code",
            "source": [
                "SELECT DISTINCT V.*\r\n",
                "FROM VENDEG V\r\n",
                "JOIN FOGLALAS F ON V.USERNEV = F.UGYFEL_FK\r\n",
                "JOIN SZOBA S ON F.SZOBA_FK = S.SZOBA_ID\r\n",
                "WHERE S.FEROHELY = (\r\n",
                "    SELECT MAX(FEROHELY)\r\n",
                "    FROM SZOBA\r\n",
                "    WHERE KLIMAS = '1')\r\n",
                "AND S.KLIMAS = '1';"
            ],
            "metadata": {
                "azdata_cell_guid": "4ba68544-6e66-4e57-8e32-66644b3934b6",
                "language": "sql"
            },
            "outputs": [
                {
                    "output_type": "display_data",
                    "data": {
                        "text/html": "(0 rows affected)"
                    },
                    "metadata": {}
                },
                {
                    "output_type": "display_data",
                    "data": {
                        "text/html": "Total execution time: 00:00:00.002"
                    },
                    "metadata": {}
                },
                {
                    "output_type": "execute_result",
                    "metadata": {},
                    "execution_count": 12,
                    "data": {
                        "application/vnd.dataresource+json": {
                            "schema": {
                                "fields": [
                                    {
                                        "name": "USERNEV"
                                    },
                                    {
                                        "name": "NEV"
                                    },
                                    {
                                        "name": "EMAIL"
                                    },
                                    {
                                        "name": "SZAML_CIM"
                                    },
                                    {
                                        "name": "SZUL_DAT"
                                    }
                                ]
                            },
                            "data": []
                        },
                        "text/html": [
                            "<table>",
                            "<tr><th>USERNEV</th><th>NEV</th><th>EMAIL</th><th>SZAML_CIM</th><th>SZUL_DAT</th></tr>",
                            "</table>"
                        ]
                    }
                }
            ],
            "execution_count": 12
        },
        {
            "cell_type": "markdown",
            "source": [
                "## 3\\. Feladat"
            ],
            "metadata": {
                "azdata_cell_guid": "0843492a-805e-43bb-8759-9b7563449692"
            },
            "attachments": {}
        },
        {
            "cell_type": "code",
            "source": [
                "SELECT \r\n",
                "    COUNT(DISTINCT FEROHELY) AS Értékek_száma,\r\n",
                "    MIN(FEROHELY) AS Min_érték,\r\n",
                "    MAX(FEROHELY) AS max_érték,\r\n",
                "    AVG(CAST(FEROHELY AS FLOAT)) AS átlag_érték,\r\n",
                "    100.0 * SUM(CASE WHEN FEROHELY IS NULL THEN 1 ELSE 0 END) / COUNT(*) AS NULL_arány,\r\n",
                "    100.0 * SUM(CASE WHEN FEROHELY IS NOT NULL THEN 1 ELSE 0 END) / COUNT(*) AS NOT_NULL_arány\r\n",
                "FROM SZOBA;\r\n",
                ""
            ],
            "metadata": {
                "azdata_cell_guid": "8716613f-7694-4af1-a10b-0d44827c5402",
                "language": "sql",
                "tags": []
            },
            "outputs": [
                {
                    "output_type": "display_data",
                    "data": {
                        "text/html": "(1 row affected)"
                    },
                    "metadata": {}
                },
                {
                    "output_type": "display_data",
                    "data": {
                        "text/html": "Total execution time: 00:00:00.007"
                    },
                    "metadata": {}
                },
                {
                    "output_type": "execute_result",
                    "metadata": {},
                    "execution_count": 21,
                    "data": {
                        "application/vnd.dataresource+json": {
                            "schema": {
                                "fields": [
                                    {
                                        "name": "Értékek_száma"
                                    },
                                    {
                                        "name": "Min_érték"
                                    },
                                    {
                                        "name": "max_érték"
                                    },
                                    {
                                        "name": "átlag_érték"
                                    },
                                    {
                                        "name": "NULL_arány"
                                    },
                                    {
                                        "name": "NOT_NULL_arány"
                                    }
                                ]
                            },
                            "data": [
                                {
                                    "Értékek_száma": "4",
                                    "Min_érték": "1",
                                    "max_érték": "4",
                                    "átlag_érték": "2,431972789115646",
                                    "NULL_arány": "0.000000000000",
                                    "NOT_NULL_arány": "100.000000000000"
                                }
                            ]
                        },
                        "text/html": [
                            "<table>",
                            "<tr><th>Értékek_száma</th><th>Min_érték</th><th>max_érték</th><th>átlag_érték</th><th>NULL_arány</th><th>NOT_NULL_arány</th></tr>",
                            "<tr><td>4</td><td>1</td><td>4</td><td>2,431972789115646</td><td>0.000000000000</td><td>100.000000000000</td></tr>",
                            "</table>"
                        ]
                    }
                }
            ],
            "execution_count": 21
        },
        {
            "cell_type": "markdown",
            "source": [
                "## 4\\. Feladat"
            ],
            "metadata": {
                "language": "sql",
                "azdata_cell_guid": "869215ef-db4a-4d19-8eaf-795d2dccbf51"
            },
            "attachments": {}
        },
        {
            "cell_type": "code",
            "source": [
                "SELECT\r\n",
                "    sh.SZALLAS_NEV,\r\n",
                "    s.KLIMAS,\r\n",
                "    COUNT(f.FOGLALAS_PK) AS FOGLALASOK_SZAMA\r\n",
                "FROM SZALLASHELY sh\r\n",
                "    JOIN SZOBA s ON sh.SZALLAS_ID = s.SZALLAS_FK\r\n",
                "    JOIN FOGLALAS f ON s.SZOBA_ID = f.SZOBA_FK\r\n",
                "GROUP BY ROLLUP (sh.SZALLAS_NEV, s.KLIMAS);"
            ],
            "metadata": {
                "language": "sql",
                "azdata_cell_guid": "3b0155d2-ce2d-4884-971b-3510288e076f",
                "tags": []
            },
            "outputs": [
                {
                    "output_type": "display_data",
                    "data": {
                        "text/html": "(33 rows affected)"
                    },
                    "metadata": {}
                },
                {
                    "output_type": "display_data",
                    "data": {
                        "text/html": "Total execution time: 00:00:00.014"
                    },
                    "metadata": {}
                },
                {
                    "output_type": "execute_result",
                    "metadata": {},
                    "execution_count": 18,
                    "data": {
                        "application/vnd.dataresource+json": {
                            "schema": {
                                "fields": [
                                    {
                                        "name": "SZALLAS_NEV"
                                    },
                                    {
                                        "name": "KLIMAS"
                                    },
                                    {
                                        "name": "FOGLALASOK_SZAMA"
                                    }
                                ]
                            },
                            "data": [
                                {
                                    "SZALLAS_NEV": "Családi Ház",
                                    "KLIMAS": "i",
                                    "FOGLALASOK_SZAMA": "18"
                                },
                                {
                                    "SZALLAS_NEV": "Családi Ház",
                                    "KLIMAS": "NULL",
                                    "FOGLALASOK_SZAMA": "18"
                                },
                                {
                                    "SZALLAS_NEV": "Fortuna Apartman",
                                    "KLIMAS": "i",
                                    "FOGLALASOK_SZAMA": "24"
                                },
                                {
                                    "SZALLAS_NEV": "Fortuna Apartman",
                                    "KLIMAS": "n",
                                    "FOGLALASOK_SZAMA": "15"
                                },
                                {
                                    "SZALLAS_NEV": "Fortuna Apartman",
                                    "KLIMAS": "NULL",
                                    "FOGLALASOK_SZAMA": "39"
                                },
                                {
                                    "SZALLAS_NEV": "Fortuna Panzió",
                                    "KLIMAS": "i",
                                    "FOGLALASOK_SZAMA": "104"
                                },
                                {
                                    "SZALLAS_NEV": "Fortuna panzió",
                                    "KLIMAS": "n",
                                    "FOGLALASOK_SZAMA": "22"
                                },
                                {
                                    "SZALLAS_NEV": "Fortuna Panzió",
                                    "KLIMAS": "NULL",
                                    "FOGLALASOK_SZAMA": "126"
                                },
                                {
                                    "SZALLAS_NEV": "Gold Hotel",
                                    "KLIMAS": "i",
                                    "FOGLALASOK_SZAMA": "140"
                                },
                                {
                                    "SZALLAS_NEV": "Gold Hotel",
                                    "KLIMAS": "n",
                                    "FOGLALASOK_SZAMA": "39"
                                },
                                {
                                    "SZALLAS_NEV": "Gold Hotel",
                                    "KLIMAS": "NULL",
                                    "FOGLALASOK_SZAMA": "179"
                                },
                                {
                                    "SZALLAS_NEV": "Hotel Három Hattyú",
                                    "KLIMAS": "i",
                                    "FOGLALASOK_SZAMA": "141"
                                },
                                {
                                    "SZALLAS_NEV": "Hotel Három Hattyú",
                                    "KLIMAS": "n",
                                    "FOGLALASOK_SZAMA": "63"
                                },
                                {
                                    "SZALLAS_NEV": "Hotel Három Hattyú",
                                    "KLIMAS": "NULL",
                                    "FOGLALASOK_SZAMA": "204"
                                },
                                {
                                    "SZALLAS_NEV": "Jáde panzió",
                                    "KLIMAS": "i",
                                    "FOGLALASOK_SZAMA": "12"
                                },
                                {
                                    "SZALLAS_NEV": "Jáde panzió",
                                    "KLIMAS": "n",
                                    "FOGLALASOK_SZAMA": "17"
                                },
                                {
                                    "SZALLAS_NEV": "Jáde panzió",
                                    "KLIMAS": "NULL",
                                    "FOGLALASOK_SZAMA": "29"
                                },
                                {
                                    "SZALLAS_NEV": "Kentaur Hotel",
                                    "KLIMAS": "i",
                                    "FOGLALASOK_SZAMA": "118"
                                },
                                {
                                    "SZALLAS_NEV": "Kentaur Hotel",
                                    "KLIMAS": "n",
                                    "FOGLALASOK_SZAMA": "61"
                                },
                                {
                                    "SZALLAS_NEV": "Kentaur Hotel",
                                    "KLIMAS": "NULL",
                                    "FOGLALASOK_SZAMA": "179"
                                },
                                {
                                    "SZALLAS_NEV": "Lagúna Hotel",
                                    "KLIMAS": "i",
                                    "FOGLALASOK_SZAMA": "86"
                                },
                                {
                                    "SZALLAS_NEV": "Lagúna Hotel",
                                    "KLIMAS": "n",
                                    "FOGLALASOK_SZAMA": "37"
                                },
                                {
                                    "SZALLAS_NEV": "Lagúna Hotel",
                                    "KLIMAS": "NULL",
                                    "FOGLALASOK_SZAMA": "123"
                                },
                                {
                                    "SZALLAS_NEV": "Partiszél Vendégház",
                                    "KLIMAS": "i",
                                    "FOGLALASOK_SZAMA": "23"
                                },
                                {
                                    "SZALLAS_NEV": "Partiszél Vendégház",
                                    "KLIMAS": "n",
                                    "FOGLALASOK_SZAMA": "3"
                                },
                                {
                                    "SZALLAS_NEV": "Partiszél Vendégház",
                                    "KLIMAS": "NULL",
                                    "FOGLALASOK_SZAMA": "26"
                                },
                                {
                                    "SZALLAS_NEV": "Sába-Ház",
                                    "KLIMAS": "i",
                                    "FOGLALASOK_SZAMA": "57"
                                },
                                {
                                    "SZALLAS_NEV": "Sába-Ház",
                                    "KLIMAS": "n",
                                    "FOGLALASOK_SZAMA": "13"
                                },
                                {
                                    "SZALLAS_NEV": "Sába-Ház",
                                    "KLIMAS": "NULL",
                                    "FOGLALASOK_SZAMA": "70"
                                },
                                {
                                    "SZALLAS_NEV": "Szieszta Apartmanház",
                                    "KLIMAS": "i",
                                    "FOGLALASOK_SZAMA": "22"
                                },
                                {
                                    "SZALLAS_NEV": "Szieszta Apartmanház",
                                    "KLIMAS": "n",
                                    "FOGLALASOK_SZAMA": "12"
                                },
                                {
                                    "SZALLAS_NEV": "Szieszta Apartmanház",
                                    "KLIMAS": "NULL",
                                    "FOGLALASOK_SZAMA": "34"
                                },
                                {
                                    "SZALLAS_NEV": "NULL",
                                    "KLIMAS": "NULL",
                                    "FOGLALASOK_SZAMA": "1027"
                                }
                            ]
                        },
                        "text/html": [
                            "<table>",
                            "<tr><th>SZALLAS_NEV</th><th>KLIMAS</th><th>FOGLALASOK_SZAMA</th></tr>",
                            "<tr><td>Családi Ház</td><td>i</td><td>18</td></tr>",
                            "<tr><td>Családi Ház</td><td>NULL</td><td>18</td></tr>",
                            "<tr><td>Fortuna Apartman</td><td>i</td><td>24</td></tr>",
                            "<tr><td>Fortuna Apartman</td><td>n</td><td>15</td></tr>",
                            "<tr><td>Fortuna Apartman</td><td>NULL</td><td>39</td></tr>",
                            "<tr><td>Fortuna Panzió</td><td>i</td><td>104</td></tr>",
                            "<tr><td>Fortuna panzió</td><td>n</td><td>22</td></tr>",
                            "<tr><td>Fortuna Panzió</td><td>NULL</td><td>126</td></tr>",
                            "<tr><td>Gold Hotel</td><td>i</td><td>140</td></tr>",
                            "<tr><td>Gold Hotel</td><td>n</td><td>39</td></tr>",
                            "<tr><td>Gold Hotel</td><td>NULL</td><td>179</td></tr>",
                            "<tr><td>Hotel Három Hattyú</td><td>i</td><td>141</td></tr>",
                            "<tr><td>Hotel Három Hattyú</td><td>n</td><td>63</td></tr>",
                            "<tr><td>Hotel Három Hattyú</td><td>NULL</td><td>204</td></tr>",
                            "<tr><td>Jáde panzió</td><td>i</td><td>12</td></tr>",
                            "<tr><td>Jáde panzió</td><td>n</td><td>17</td></tr>",
                            "<tr><td>Jáde panzió</td><td>NULL</td><td>29</td></tr>",
                            "<tr><td>Kentaur Hotel</td><td>i</td><td>118</td></tr>",
                            "<tr><td>Kentaur Hotel</td><td>n</td><td>61</td></tr>",
                            "<tr><td>Kentaur Hotel</td><td>NULL</td><td>179</td></tr>",
                            "<tr><td>Lagúna Hotel</td><td>i</td><td>86</td></tr>",
                            "<tr><td>Lagúna Hotel</td><td>n</td><td>37</td></tr>",
                            "<tr><td>Lagúna Hotel</td><td>NULL</td><td>123</td></tr>",
                            "<tr><td>Partiszél Vendégház</td><td>i</td><td>23</td></tr>",
                            "<tr><td>Partiszél Vendégház</td><td>n</td><td>3</td></tr>",
                            "<tr><td>Partiszél Vendégház</td><td>NULL</td><td>26</td></tr>",
                            "<tr><td>Sába-Ház</td><td>i</td><td>57</td></tr>",
                            "<tr><td>Sába-Ház</td><td>n</td><td>13</td></tr>",
                            "<tr><td>Sába-Ház</td><td>NULL</td><td>70</td></tr>",
                            "<tr><td>Szieszta Apartmanház</td><td>i</td><td>22</td></tr>",
                            "<tr><td>Szieszta Apartmanház</td><td>n</td><td>12</td></tr>",
                            "<tr><td>Szieszta Apartmanház</td><td>NULL</td><td>34</td></tr>",
                            "<tr><td>NULL</td><td>NULL</td><td>1027</td></tr>",
                            "</table>"
                        ]
                    }
                }
            ],
            "execution_count": 18
        },
        {
            "cell_type": "markdown",
            "source": [
                "## 5\\. Feladat"
            ],
            "metadata": {
                "azdata_cell_guid": "12f69ab0-9b5f-4f50-8afe-bf1f0f6aabc3"
            },
            "attachments": {}
        },
        {
            "cell_type": "code",
            "source": [
                "SELECT\r\n",
                "    f.UGYFEL_FK,\r\n",
                "    f.FOGLALAS_PK,\r\n",
                "    f.METTOL,\r\n",
                "    (f.FELNOTT_SZAM + f.GYERMEK_SZAM) AS Vendégek_Száma,\r\n",
                "    ROUND( AVG (f.FELNOTT_SZAM + f.GYERMEK_SZAM) OVER (\r\n",
                "        PARTITION BY f.UGYFEL_FK\r\n",
                "        ORDER BY f.METTOL\r\n",
                "        ROWS BETWEEN 4 PRECEDING AND CURRENT ROW\r\n",
                "    ), 2) AS Mozgóátlag\r\n",
                "FROM\r\n",
                "    FOGLALAS f\r\n",
                "ORDER BY\r\n",
                "    f.UGYFEL_FK,\r\n",
                "    f.METTOL;\r\n",
                ""
            ],
            "metadata": {
                "azdata_cell_guid": "b5317444-72f8-4df2-9823-eb17deebf0f8",
                "language": "sql"
            },
            "outputs": [
                {
                    "output_type": "display_data",
                    "data": {
                        "text/html": "(1027 rows affected)"
                    },
                    "metadata": {}
                },
                {
                    "output_type": "display_data",
                    "data": {
                        "text/html": "Total execution time: 00:00:00.022"
                    },
                    "metadata": {}
                },
                {
                    "output_type": "execute_result",
                    "metadata": {},
                    "execution_count": 22,
                    "data": {
                        "application/vnd.dataresource+json": {
                            "schema": {
                                "fields": [
                                    {
                                        "name": "UGYFEL_FK"
                                    },
                                    {
                                        "name": "FOGLALAS_PK"
                                    },
                                    {
                                        "name": "METTOL"
                                    },
                                    {
                                        "name": "Vendégek_Száma"
                                    },
                                    {
                                        "name": "Mozgóátlag"
                                    }
                                ]
                            },
                            "data": [
                                {
                                    "UGYFEL_FK": "adam1",
                                    "FOGLALAS_PK": "869",
                                    "METTOL": "2016-05-28",
                                    "Vendégek_Száma": "3",
                                    "Mozgóátlag": "3"
                                },
                                {
                                    "UGYFEL_FK": "adam1",
                                    "FOGLALAS_PK": "803",
                                    "METTOL": "2016-08-20",
                                    "Vendégek_Száma": "1",
                                    "Mozgóátlag": "2"
                                },
                                {
                                    "UGYFEL_FK": "adam1",
                                    "FOGLALAS_PK": "1165",
                                    "METTOL": "2016-10-19",
                                    "Vendégek_Száma": "2",
                                    "Mozgóátlag": "2"
                                },
                                {
                                    "UGYFEL_FK": "adam3",
                                    "FOGLALAS_PK": "1046",
                                    "METTOL": "2016-09-12",
                                    "Vendégek_Száma": "2",
                                    "Mozgóátlag": "2"
                                },
                                {
                                    "UGYFEL_FK": "adam3",
                                    "FOGLALAS_PK": "1504",
                                    "METTOL": "2017-02-06",
                                    "Vendégek_Száma": "1",
                                    "Mozgóátlag": "1"
                                },
                                {
                                    "UGYFEL_FK": "adam4",
                                    "FOGLALAS_PK": "829",
                                    "METTOL": "2016-08-28",
                                    "Vendégek_Száma": "3",
                                    "Mozgóátlag": "3"
                                },
                                {
                                    "UGYFEL_FK": "adam4",
                                    "FOGLALAS_PK": "1205",
                                    "METTOL": "2016-10-27",
                                    "Vendégek_Száma": "3",
                                    "Mozgóátlag": "3"
                                },
                                {
                                    "UGYFEL_FK": "adam4",
                                    "FOGLALAS_PK": "1281",
                                    "METTOL": "2016-11-15",
                                    "Vendégek_Száma": "2",
                                    "Mozgóátlag": "2"
                                },
                                {
                                    "UGYFEL_FK": "adam4",
                                    "FOGLALAS_PK": "1347",
                                    "METTOL": "2016-12-06",
                                    "Vendégek_Száma": "3",
                                    "Mozgóátlag": "2"
                                },
                                {
                                    "UGYFEL_FK": "adam4",
                                    "FOGLALAS_PK": "1435",
                                    "METTOL": "2017-01-12",
                                    "Vendégek_Száma": "2",
                                    "Mozgóátlag": "2"
                                },
                                {
                                    "UGYFEL_FK": "adam4",
                                    "FOGLALAS_PK": "1561",
                                    "METTOL": "2017-02-23",
                                    "Vendégek_Száma": "3",
                                    "Mozgóátlag": "2"
                                },
                                {
                                    "UGYFEL_FK": "agnes",
                                    "FOGLALAS_PK": "628",
                                    "METTOL": "2016-05-09",
                                    "Vendégek_Száma": "3",
                                    "Mozgóátlag": "3"
                                },
                                {
                                    "UGYFEL_FK": "agnes",
                                    "FOGLALAS_PK": "857",
                                    "METTOL": "2016-05-25",
                                    "Vendégek_Száma": "1",
                                    "Mozgóátlag": "2"
                                },
                                {
                                    "UGYFEL_FK": "agnes",
                                    "FOGLALAS_PK": "666",
                                    "METTOL": "2016-07-13",
                                    "Vendégek_Száma": "3",
                                    "Mozgóátlag": "2"
                                },
                                {
                                    "UGYFEL_FK": "agnes",
                                    "FOGLALAS_PK": "738",
                                    "METTOL": "2016-07-30",
                                    "Vendégek_Száma": "3",
                                    "Mozgóátlag": "2"
                                },
                                {
                                    "UGYFEL_FK": "agnes",
                                    "FOGLALAS_PK": "1261",
                                    "METTOL": "2016-11-07",
                                    "Vendégek_Száma": "2",
                                    "Mozgóátlag": "2"
                                },
                                {
                                    "UGYFEL_FK": "agnes3",
                                    "FOGLALAS_PK": "755",
                                    "METTOL": "2016-08-04",
                                    "Vendégek_Száma": "1",
                                    "Mozgóátlag": "1"
                                },
                                {
                                    "UGYFEL_FK": "agnes3",
                                    "FOGLALAS_PK": "1180",
                                    "METTOL": "2016-10-22",
                                    "Vendégek_Száma": "3",
                                    "Mozgóátlag": "2"
                                },
                                {
                                    "UGYFEL_FK": "agnes3",
                                    "FOGLALAS_PK": "1544",
                                    "METTOL": "2017-02-16",
                                    "Vendégek_Száma": "3",
                                    "Mozgóátlag": "2"
                                },
                                {
                                    "UGYFEL_FK": "AGNESH",
                                    "FOGLALAS_PK": "571",
                                    "METTOL": "2016-04-10",
                                    "Vendégek_Száma": "2",
                                    "Mozgóátlag": "2"
                                },
                                {
                                    "UGYFEL_FK": "AGNESH",
                                    "FOGLALAS_PK": "606",
                                    "METTOL": "2016-04-27",
                                    "Vendégek_Száma": "4",
                                    "Mozgóátlag": "3"
                                },
                                {
                                    "UGYFEL_FK": "AGNESH",
                                    "FOGLALAS_PK": "980",
                                    "METTOL": "2016-06-23",
                                    "Vendégek_Száma": "1",
                                    "Mozgóátlag": "2"
                                },
                                {
                                    "UGYFEL_FK": "AGNESH",
                                    "FOGLALAS_PK": "1225",
                                    "METTOL": "2016-10-30",
                                    "Vendégek_Száma": "1",
                                    "Mozgóátlag": "2"
                                },
                                {
                                    "UGYFEL_FK": "AGNESH",
                                    "FOGLALAS_PK": "1417",
                                    "METTOL": "2017-01-03",
                                    "Vendégek_Száma": "2",
                                    "Mozgóátlag": "2"
                                },
                                {
                                    "UGYFEL_FK": "AGNESH",
                                    "FOGLALAS_PK": "1441",
                                    "METTOL": "2017-01-16",
                                    "Vendégek_Száma": "3",
                                    "Mozgóátlag": "2"
                                },
                                {
                                    "UGYFEL_FK": "AGNESK",
                                    "FOGLALAS_PK": "736",
                                    "METTOL": "2016-07-29",
                                    "Vendégek_Száma": "3",
                                    "Mozgóátlag": "3"
                                },
                                {
                                    "UGYFEL_FK": "AGNESK",
                                    "FOGLALAS_PK": "1162",
                                    "METTOL": "2016-10-17",
                                    "Vendégek_Száma": "2",
                                    "Mozgóátlag": "2"
                                },
                                {
                                    "UGYFEL_FK": "AGNESK",
                                    "FOGLALAS_PK": "1371",
                                    "METTOL": "2016-12-17",
                                    "Vendégek_Száma": "2",
                                    "Mozgóátlag": "2"
                                },
                                {
                                    "UGYFEL_FK": "akos",
                                    "FOGLALAS_PK": "655",
                                    "METTOL": "2016-05-18",
                                    "Vendégek_Száma": "2",
                                    "Mozgóátlag": "2"
                                },
                                {
                                    "UGYFEL_FK": "akos",
                                    "FOGLALAS_PK": "673",
                                    "METTOL": "2016-07-14",
                                    "Vendégek_Száma": "2",
                                    "Mozgóátlag": "2"
                                },
                                {
                                    "UGYFEL_FK": "akos",
                                    "FOGLALAS_PK": "676",
                                    "METTOL": "2016-07-16",
                                    "Vendégek_Száma": "2",
                                    "Mozgóátlag": "2"
                                },
                                {
                                    "UGYFEL_FK": "akos",
                                    "FOGLALAS_PK": "705",
                                    "METTOL": "2016-07-22",
                                    "Vendégek_Száma": "1",
                                    "Mozgóátlag": "1"
                                },
                                {
                                    "UGYFEL_FK": "akos",
                                    "FOGLALAS_PK": "1034",
                                    "METTOL": "2016-09-06",
                                    "Vendégek_Száma": "1",
                                    "Mozgóátlag": "1"
                                },
                                {
                                    "UGYFEL_FK": "akos",
                                    "FOGLALAS_PK": "1122",
                                    "METTOL": "2016-10-05",
                                    "Vendégek_Száma": "2",
                                    "Mozgóátlag": "1"
                                },
                                {
                                    "UGYFEL_FK": "akos",
                                    "FOGLALAS_PK": "1164",
                                    "METTOL": "2016-10-18",
                                    "Vendégek_Száma": "2",
                                    "Mozgóátlag": "1"
                                },
                                {
                                    "UGYFEL_FK": "akos",
                                    "FOGLALAS_PK": "1299",
                                    "METTOL": "2016-11-21",
                                    "Vendégek_Száma": "2",
                                    "Mozgóátlag": "1"
                                },
                                {
                                    "UGYFEL_FK": "akos",
                                    "FOGLALAS_PK": "1364",
                                    "METTOL": "2016-12-15",
                                    "Vendégek_Száma": "2",
                                    "Mozgóátlag": "1"
                                },
                                {
                                    "UGYFEL_FK": "akos",
                                    "FOGLALAS_PK": "1406",
                                    "METTOL": "2016-12-29",
                                    "Vendégek_Száma": "3",
                                    "Mozgóátlag": "2"
                                },
                                {
                                    "UGYFEL_FK": "aladar",
                                    "FOGLALAS_PK": "651",
                                    "METTOL": "2016-05-17",
                                    "Vendégek_Száma": "1",
                                    "Mozgóátlag": "1"
                                },
                                {
                                    "UGYFEL_FK": "aladar",
                                    "FOGLALAS_PK": "1079",
                                    "METTOL": "2016-09-24",
                                    "Vendégek_Száma": "1",
                                    "Mozgóátlag": "1"
                                },
                                {
                                    "UGYFEL_FK": "aladar",
                                    "FOGLALAS_PK": "1302",
                                    "METTOL": "2016-11-22",
                                    "Vendégek_Száma": "2",
                                    "Mozgóátlag": "1"
                                },
                                {
                                    "UGYFEL_FK": "alexandra",
                                    "FOGLALAS_PK": "658",
                                    "METTOL": "2016-05-21",
                                    "Vendégek_Száma": "3",
                                    "Mozgóátlag": "3"
                                },
                                {
                                    "UGYFEL_FK": "alexandra",
                                    "FOGLALAS_PK": "937",
                                    "METTOL": "2016-06-08",
                                    "Vendégek_Száma": "3",
                                    "Mozgóátlag": "3"
                                },
                                {
                                    "UGYFEL_FK": "alexandra",
                                    "FOGLALAS_PK": "727",
                                    "METTOL": "2016-07-27",
                                    "Vendégek_Száma": "2",
                                    "Mozgóátlag": "2"
                                },
                                {
                                    "UGYFEL_FK": "alexandra",
                                    "FOGLALAS_PK": "1175",
                                    "METTOL": "2016-10-21",
                                    "Vendégek_Száma": "2",
                                    "Mozgóátlag": "2"
                                },
                                {
                                    "UGYFEL_FK": "alexandra",
                                    "FOGLALAS_PK": "1332",
                                    "METTOL": "2016-11-29",
                                    "Vendégek_Száma": "2",
                                    "Mozgóátlag": "2"
                                },
                                {
                                    "UGYFEL_FK": "alexandra",
                                    "FOGLALAS_PK": "1436",
                                    "METTOL": "2017-01-13",
                                    "Vendégek_Száma": "1",
                                    "Mozgóátlag": "2"
                                },
                                {
                                    "UGYFEL_FK": "alexandra",
                                    "FOGLALAS_PK": "1457",
                                    "METTOL": "2017-01-19",
                                    "Vendégek_Száma": "2",
                                    "Mozgóátlag": "1"
                                },
                                {
                                    "UGYFEL_FK": "andi",
                                    "FOGLALAS_PK": "624",
                                    "METTOL": "2016-05-08",
                                    "Vendégek_Száma": "4",
                                    "Mozgóátlag": "4"
                                },
                                {
                                    "UGYFEL_FK": "andi",
                                    "FOGLALAS_PK": "955",
                                    "METTOL": "2016-06-13",
                                    "Vendégek_Száma": "1",
                                    "Mozgóátlag": "2"
                                },
                                {
                                    "UGYFEL_FK": "andi",
                                    "FOGLALAS_PK": "1049",
                                    "METTOL": "2016-09-13",
                                    "Vendégek_Száma": "2",
                                    "Mozgóátlag": "2"
                                },
                                {
                                    "UGYFEL_FK": "andi",
                                    "FOGLALAS_PK": "1286",
                                    "METTOL": "2016-11-16",
                                    "Vendégek_Száma": "3",
                                    "Mozgóátlag": "2"
                                },
                                {
                                    "UGYFEL_FK": "andi",
                                    "FOGLALAS_PK": "1437",
                                    "METTOL": "2017-01-13",
                                    "Vendégek_Száma": "3",
                                    "Mozgóátlag": "2"
                                },
                                {
                                    "UGYFEL_FK": "andras2",
                                    "FOGLALAS_PK": "884",
                                    "METTOL": "2016-05-30",
                                    "Vendégek_Száma": "1",
                                    "Mozgóátlag": "1"
                                },
                                {
                                    "UGYFEL_FK": "andras2",
                                    "FOGLALAS_PK": "693",
                                    "METTOL": "2016-07-20",
                                    "Vendégek_Száma": "2",
                                    "Mozgóátlag": "1"
                                },
                                {
                                    "UGYFEL_FK": "andras2",
                                    "FOGLALAS_PK": "1092",
                                    "METTOL": "2016-09-30",
                                    "Vendégek_Száma": "2",
                                    "Mozgóátlag": "1"
                                },
                                {
                                    "UGYFEL_FK": "andras2",
                                    "FOGLALAS_PK": "1126",
                                    "METTOL": "2016-10-07",
                                    "Vendégek_Száma": "3",
                                    "Mozgóátlag": "2"
                                },
                                {
                                    "UGYFEL_FK": "andras2",
                                    "FOGLALAS_PK": "1511",
                                    "METTOL": "2017-02-08",
                                    "Vendégek_Száma": "4",
                                    "Mozgóátlag": "2"
                                },
                                {
                                    "UGYFEL_FK": "andras21",
                                    "FOGLALAS_PK": "975",
                                    "METTOL": "2016-06-21",
                                    "Vendégek_Száma": "2",
                                    "Mozgóátlag": "2"
                                },
                                {
                                    "UGYFEL_FK": "andras21",
                                    "FOGLALAS_PK": "1009",
                                    "METTOL": "2016-07-04",
                                    "Vendégek_Száma": "3",
                                    "Mozgóátlag": "2"
                                },
                                {
                                    "UGYFEL_FK": "andras21",
                                    "FOGLALAS_PK": "697",
                                    "METTOL": "2016-07-20",
                                    "Vendégek_Száma": "1",
                                    "Mozgóátlag": "2"
                                },
                                {
                                    "UGYFEL_FK": "andras21",
                                    "FOGLALAS_PK": "1101",
                                    "METTOL": "2016-10-01",
                                    "Vendégek_Száma": "3",
                                    "Mozgóátlag": "2"
                                },
                                {
                                    "UGYFEL_FK": "andras21",
                                    "FOGLALAS_PK": "1121",
                                    "METTOL": "2016-10-04",
                                    "Vendégek_Száma": "3",
                                    "Mozgóátlag": "2"
                                },
                                {
                                    "UGYFEL_FK": "andras21",
                                    "FOGLALAS_PK": "1310",
                                    "METTOL": "2016-11-23",
                                    "Vendégek_Száma": "4",
                                    "Mozgóátlag": "2"
                                },
                                {
                                    "UGYFEL_FK": "andras21",
                                    "FOGLALAS_PK": "1478",
                                    "METTOL": "2017-01-28",
                                    "Vendégek_Száma": "2",
                                    "Mozgóátlag": "2"
                                },
                                {
                                    "UGYFEL_FK": "andras3",
                                    "FOGLALAS_PK": "611",
                                    "METTOL": "2016-05-01",
                                    "Vendégek_Száma": "2",
                                    "Mozgóátlag": "2"
                                },
                                {
                                    "UGYFEL_FK": "andras3",
                                    "FOGLALAS_PK": "880",
                                    "METTOL": "2016-05-30",
                                    "Vendégek_Száma": "1",
                                    "Mozgóátlag": "1"
                                },
                                {
                                    "UGYFEL_FK": "andras3",
                                    "FOGLALAS_PK": "949",
                                    "METTOL": "2016-06-10",
                                    "Vendégek_Száma": "1",
                                    "Mozgóátlag": "1"
                                },
                                {
                                    "UGYFEL_FK": "andras3",
                                    "FOGLALAS_PK": "674",
                                    "METTOL": "2016-07-15",
                                    "Vendégek_Száma": "3",
                                    "Mozgóátlag": "1"
                                },
                                {
                                    "UGYFEL_FK": "andras3",
                                    "FOGLALAS_PK": "701",
                                    "METTOL": "2016-07-21",
                                    "Vendégek_Száma": "2",
                                    "Mozgóátlag": "1"
                                },
                                {
                                    "UGYFEL_FK": "andras3",
                                    "FOGLALAS_PK": "837",
                                    "METTOL": "2016-08-29",
                                    "Vendégek_Száma": "3",
                                    "Mozgóátlag": "2"
                                },
                                {
                                    "UGYFEL_FK": "andras3",
                                    "FOGLALAS_PK": "1328",
                                    "METTOL": "2016-11-28",
                                    "Vendégek_Száma": "2",
                                    "Mozgóátlag": "2"
                                },
                                {
                                    "UGYFEL_FK": "andras3",
                                    "FOGLALAS_PK": "1489",
                                    "METTOL": "2017-02-02",
                                    "Vendégek_Száma": "2",
                                    "Mozgóátlag": "2"
                                },
                                {
                                    "UGYFEL_FK": "andras4",
                                    "FOGLALAS_PK": "1059",
                                    "METTOL": "2016-09-17",
                                    "Vendégek_Száma": "2",
                                    "Mozgóátlag": "2"
                                },
                                {
                                    "UGYFEL_FK": "andras4",
                                    "FOGLALAS_PK": "1317",
                                    "METTOL": "2016-11-25",
                                    "Vendégek_Száma": "2",
                                    "Mozgóátlag": "2"
                                },
                                {
                                    "UGYFEL_FK": "andras4",
                                    "FOGLALAS_PK": "1427",
                                    "METTOL": "2017-01-09",
                                    "Vendégek_Száma": "2",
                                    "Mozgóátlag": "2"
                                },
                                {
                                    "UGYFEL_FK": "andras41",
                                    "FOGLALAS_PK": "643",
                                    "METTOL": "2016-05-14",
                                    "Vendégek_Száma": "2",
                                    "Mozgóátlag": "2"
                                },
                                {
                                    "UGYFEL_FK": "andras41",
                                    "FOGLALAS_PK": "662",
                                    "METTOL": "2016-05-21",
                                    "Vendégek_Száma": "4",
                                    "Mozgóátlag": "3"
                                },
                                {
                                    "UGYFEL_FK": "andras41",
                                    "FOGLALAS_PK": "927",
                                    "METTOL": "2016-06-07",
                                    "Vendégek_Száma": "3",
                                    "Mozgóátlag": "3"
                                },
                                {
                                    "UGYFEL_FK": "andras41",
                                    "FOGLALAS_PK": "983",
                                    "METTOL": "2016-06-23",
                                    "Vendégek_Száma": "2",
                                    "Mozgóátlag": "2"
                                },
                                {
                                    "UGYFEL_FK": "andras41",
                                    "FOGLALAS_PK": "731",
                                    "METTOL": "2016-07-28",
                                    "Vendégek_Száma": "3",
                                    "Mozgóátlag": "2"
                                },
                                {
                                    "UGYFEL_FK": "andras41",
                                    "FOGLALAS_PK": "796",
                                    "METTOL": "2016-08-17",
                                    "Vendégek_Száma": "3",
                                    "Mozgóátlag": "3"
                                },
                                {
                                    "UGYFEL_FK": "andras41",
                                    "FOGLALAS_PK": "799",
                                    "METTOL": "2016-08-19",
                                    "Vendégek_Száma": "1",
                                    "Mozgóátlag": "2"
                                },
                                {
                                    "UGYFEL_FK": "andras41",
                                    "FOGLALAS_PK": "1074",
                                    "METTOL": "2016-09-22",
                                    "Vendégek_Száma": "1",
                                    "Mozgóátlag": "2"
                                },
                                {
                                    "UGYFEL_FK": "andras41",
                                    "FOGLALAS_PK": "1094",
                                    "METTOL": "2016-09-30",
                                    "Vendégek_Száma": "2",
                                    "Mozgóátlag": "2"
                                },
                                {
                                    "UGYFEL_FK": "andras41",
                                    "FOGLALAS_PK": "1142",
                                    "METTOL": "2016-10-09",
                                    "Vendégek_Száma": "2",
                                    "Mozgóátlag": "1"
                                },
                                {
                                    "UGYFEL_FK": "andras41",
                                    "FOGLALAS_PK": "1153",
                                    "METTOL": "2016-10-15",
                                    "Vendégek_Száma": "3",
                                    "Mozgóátlag": "1"
                                },
                                {
                                    "UGYFEL_FK": "andras41",
                                    "FOGLALAS_PK": "1298",
                                    "METTOL": "2016-11-20",
                                    "Vendégek_Száma": "3",
                                    "Mozgóátlag": "2"
                                },
                                {
                                    "UGYFEL_FK": "andras41",
                                    "FOGLALAS_PK": "1308",
                                    "METTOL": "2016-11-23",
                                    "Vendégek_Száma": "1",
                                    "Mozgóátlag": "2"
                                },
                                {
                                    "UGYFEL_FK": "ANDRASE",
                                    "FOGLALAS_PK": "600",
                                    "METTOL": "2016-04-24",
                                    "Vendégek_Száma": "1",
                                    "Mozgóátlag": "1"
                                },
                                {
                                    "UGYFEL_FK": "ANDRASE",
                                    "FOGLALAS_PK": "1014",
                                    "METTOL": "2016-07-06",
                                    "Vendégek_Száma": "2",
                                    "Mozgóátlag": "1"
                                },
                                {
                                    "UGYFEL_FK": "ANDRASE",
                                    "FOGLALAS_PK": "786",
                                    "METTOL": "2016-08-16",
                                    "Vendégek_Száma": "2",
                                    "Mozgóátlag": "1"
                                },
                                {
                                    "UGYFEL_FK": "ANDRASE",
                                    "FOGLALAS_PK": "1297",
                                    "METTOL": "2016-11-19",
                                    "Vendégek_Száma": "4",
                                    "Mozgóátlag": "2"
                                },
                                {
                                    "UGYFEL_FK": "ANDRASE",
                                    "FOGLALAS_PK": "1330",
                                    "METTOL": "2016-11-29",
                                    "Vendégek_Száma": "3",
                                    "Mozgóátlag": "2"
                                },
                                {
                                    "UGYFEL_FK": "ANDRASN",
                                    "FOGLALAS_PK": "1319",
                                    "METTOL": "2016-11-25",
                                    "Vendégek_Száma": "2",
                                    "Mozgóátlag": "2"
                                },
                                {
                                    "UGYFEL_FK": "andrea",
                                    "FOGLALAS_PK": "722",
                                    "METTOL": "2016-07-27",
                                    "Vendégek_Száma": "2",
                                    "Mozgóátlag": "2"
                                },
                                {
                                    "UGYFEL_FK": "andrea",
                                    "FOGLALAS_PK": "744",
                                    "METTOL": "2016-08-01",
                                    "Vendégek_Száma": "2",
                                    "Mozgóátlag": "2"
                                },
                                {
                                    "UGYFEL_FK": "andrea",
                                    "FOGLALAS_PK": "809",
                                    "METTOL": "2016-08-23",
                                    "Vendégek_Száma": "3",
                                    "Mozgóátlag": "2"
                                },
                                {
                                    "UGYFEL_FK": "andrea",
                                    "FOGLALAS_PK": "826",
                                    "METTOL": "2016-08-26",
                                    "Vendégek_Száma": "2",
                                    "Mozgóátlag": "2"
                                },
                                {
                                    "UGYFEL_FK": "andrea",
                                    "FOGLALAS_PK": "1173",
                                    "METTOL": "2016-10-21",
                                    "Vendégek_Száma": "4",
                                    "Mozgóátlag": "2"
                                },
                                {
                                    "UGYFEL_FK": "andrea",
                                    "FOGLALAS_PK": "1514",
                                    "METTOL": "2017-02-09",
                                    "Vendégek_Száma": "2",
                                    "Mozgóátlag": "2"
                                },
                                {
                                    "UGYFEL_FK": "andrea3",
                                    "FOGLALAS_PK": "1295",
                                    "METTOL": "2016-11-19",
                                    "Vendégek_Száma": "3",
                                    "Mozgóátlag": "3"
                                },
                                {
                                    "UGYFEL_FK": "andrea4",
                                    "FOGLALAS_PK": "860",
                                    "METTOL": "2016-05-27",
                                    "Vendégek_Száma": "1",
                                    "Mozgóátlag": "1"
                                },
                                {
                                    "UGYFEL_FK": "andrea4",
                                    "FOGLALAS_PK": "1047",
                                    "METTOL": "2016-09-13",
                                    "Vendégek_Száma": "2",
                                    "Mozgóátlag": "1"
                                },
                                {
                                    "UGYFEL_FK": "andrea4",
                                    "FOGLALAS_PK": "1232",
                                    "METTOL": "2016-10-30",
                                    "Vendégek_Száma": "3",
                                    "Mozgóátlag": "2"
                                },
                                {
                                    "UGYFEL_FK": "andrea4",
                                    "FOGLALAS_PK": "1464",
                                    "METTOL": "2017-01-22",
                                    "Vendégek_Száma": "2",
                                    "Mozgóátlag": "2"
                                },
                                {
                                    "UGYFEL_FK": "ANDREAT",
                                    "FOGLALAS_PK": "725",
                                    "METTOL": "2016-07-27",
                                    "Vendégek_Száma": "2",
                                    "Mozgóátlag": "2"
                                },
                                {
                                    "UGYFEL_FK": "ANDREAT",
                                    "FOGLALAS_PK": "1053",
                                    "METTOL": "2016-09-15",
                                    "Vendégek_Száma": "2",
                                    "Mozgóátlag": "2"
                                },
                                {
                                    "UGYFEL_FK": "ANDREAT",
                                    "FOGLALAS_PK": "1128",
                                    "METTOL": "2016-10-08",
                                    "Vendégek_Száma": "3",
                                    "Mozgóátlag": "2"
                                },
                                {
                                    "UGYFEL_FK": "anett3",
                                    "FOGLALAS_PK": "567",
                                    "METTOL": "2016-04-10",
                                    "Vendégek_Száma": "1",
                                    "Mozgóátlag": "1"
                                },
                                {
                                    "UGYFEL_FK": "anett3",
                                    "FOGLALAS_PK": "578",
                                    "METTOL": "2016-04-13",
                                    "Vendégek_Száma": "3",
                                    "Mozgóátlag": "2"
                                },
                                {
                                    "UGYFEL_FK": "anett3",
                                    "FOGLALAS_PK": "581",
                                    "METTOL": "2016-04-15",
                                    "Vendégek_Száma": "3",
                                    "Mozgóátlag": "2"
                                },
                                {
                                    "UGYFEL_FK": "anett3",
                                    "FOGLALAS_PK": "607",
                                    "METTOL": "2016-04-28",
                                    "Vendégek_Száma": "3",
                                    "Mozgóátlag": "2"
                                },
                                {
                                    "UGYFEL_FK": "anett3",
                                    "FOGLALAS_PK": "780",
                                    "METTOL": "2016-08-15",
                                    "Vendégek_Száma": "2",
                                    "Mozgóátlag": "2"
                                },
                                {
                                    "UGYFEL_FK": "anett3",
                                    "FOGLALAS_PK": "793",
                                    "METTOL": "2016-08-17",
                                    "Vendégek_Száma": "3",
                                    "Mozgóátlag": "2"
                                },
                                {
                                    "UGYFEL_FK": "anett3",
                                    "FOGLALAS_PK": "1149",
                                    "METTOL": "2016-10-12",
                                    "Vendégek_Száma": "3",
                                    "Mozgóátlag": "2"
                                },
                                {
                                    "UGYFEL_FK": "anett3",
                                    "FOGLALAS_PK": "1159",
                                    "METTOL": "2016-10-16",
                                    "Vendégek_Száma": "1",
                                    "Mozgóátlag": "2"
                                },
                                {
                                    "UGYFEL_FK": "aniko",
                                    "FOGLALAS_PK": "986",
                                    "METTOL": "2016-06-25",
                                    "Vendégek_Száma": "3",
                                    "Mozgóátlag": "3"
                                },
                                {
                                    "UGYFEL_FK": "aniko",
                                    "FOGLALAS_PK": "1519",
                                    "METTOL": "2017-02-12",
                                    "Vendégek_Száma": "3",
                                    "Mozgóátlag": "3"
                                },
                                {
                                    "UGYFEL_FK": "aniko",
                                    "FOGLALAS_PK": "1560",
                                    "METTOL": "2017-02-23",
                                    "Vendégek_Száma": "2",
                                    "Mozgóátlag": "2"
                                },
                                {
                                    "UGYFEL_FK": "aniko4",
                                    "FOGLALAS_PK": "1001",
                                    "METTOL": "2016-07-02",
                                    "Vendégek_Száma": "1",
                                    "Mozgóátlag": "1"
                                },
                                {
                                    "UGYFEL_FK": "aniko4",
                                    "FOGLALAS_PK": "704",
                                    "METTOL": "2016-07-22",
                                    "Vendégek_Száma": "3",
                                    "Mozgóátlag": "2"
                                },
                                {
                                    "UGYFEL_FK": "aniko4",
                                    "FOGLALAS_PK": "1031",
                                    "METTOL": "2016-09-05",
                                    "Vendégek_Száma": "4",
                                    "Mozgóátlag": "2"
                                },
                                {
                                    "UGYFEL_FK": "aniko4",
                                    "FOGLALAS_PK": "1158",
                                    "METTOL": "2016-10-16",
                                    "Vendégek_Száma": "3",
                                    "Mozgóátlag": "2"
                                },
                                {
                                    "UGYFEL_FK": "ANIKOS",
                                    "FOGLALAS_PK": "590",
                                    "METTOL": "2016-04-19",
                                    "Vendégek_Száma": "2",
                                    "Mozgóátlag": "2"
                                },
                                {
                                    "UGYFEL_FK": "ANIKOS",
                                    "FOGLALAS_PK": "855",
                                    "METTOL": "2016-05-24",
                                    "Vendégek_Száma": "3",
                                    "Mozgóátlag": "2"
                                },
                                {
                                    "UGYFEL_FK": "ANIKOS",
                                    "FOGLALAS_PK": "965",
                                    "METTOL": "2016-06-16",
                                    "Vendégek_Száma": "1",
                                    "Mozgóátlag": "2"
                                },
                                {
                                    "UGYFEL_FK": "ANIKOS",
                                    "FOGLALAS_PK": "988",
                                    "METTOL": "2016-06-27",
                                    "Vendégek_Száma": "2",
                                    "Mozgóátlag": "2"
                                },
                                {
                                    "UGYFEL_FK": "ANIKOS",
                                    "FOGLALAS_PK": "679",
                                    "METTOL": "2016-07-17",
                                    "Vendégek_Száma": "3",
                                    "Mozgóátlag": "2"
                                },
                                {
                                    "UGYFEL_FK": "ANIKOS",
                                    "FOGLALAS_PK": "827",
                                    "METTOL": "2016-08-26",
                                    "Vendégek_Száma": "2",
                                    "Mozgóátlag": "2"
                                },
                                {
                                    "UGYFEL_FK": "ANIKOS",
                                    "FOGLALAS_PK": "1132",
                                    "METTOL": "2016-10-08",
                                    "Vendégek_Száma": "2",
                                    "Mozgóátlag": "2"
                                },
                                {
                                    "UGYFEL_FK": "ANIKOS",
                                    "FOGLALAS_PK": "1216",
                                    "METTOL": "2016-10-29",
                                    "Vendégek_Száma": "3",
                                    "Mozgóátlag": "2"
                                },
                                {
                                    "UGYFEL_FK": "ANIKOS",
                                    "FOGLALAS_PK": "1271",
                                    "METTOL": "2016-11-10",
                                    "Vendégek_Száma": "2",
                                    "Mozgóátlag": "2"
                                },
                                {
                                    "UGYFEL_FK": "anita",
                                    "FOGLALAS_PK": "1085",
                                    "METTOL": "2016-09-28",
                                    "Vendégek_Száma": "4",
                                    "Mozgóátlag": "4"
                                },
                                {
                                    "UGYFEL_FK": "anita",
                                    "FOGLALAS_PK": "1113",
                                    "METTOL": "2016-10-01",
                                    "Vendégek_Száma": "2",
                                    "Mozgóátlag": "3"
                                },
                                {
                                    "UGYFEL_FK": "anita",
                                    "FOGLALAS_PK": "1551",
                                    "METTOL": "2017-02-19",
                                    "Vendégek_Száma": "2",
                                    "Mozgóátlag": "2"
                                },
                                {
                                    "UGYFEL_FK": "anita",
                                    "FOGLALAS_PK": "1553",
                                    "METTOL": "2017-02-20",
                                    "Vendégek_Száma": "2",
                                    "Mozgóátlag": "2"
                                },
                                {
                                    "UGYFEL_FK": "annamaria1",
                                    "FOGLALAS_PK": "921",
                                    "METTOL": "2016-06-06",
                                    "Vendégek_Száma": "3",
                                    "Mozgóátlag": "3"
                                },
                                {
                                    "UGYFEL_FK": "annamaria1",
                                    "FOGLALAS_PK": "1483",
                                    "METTOL": "2017-01-30",
                                    "Vendégek_Száma": "4",
                                    "Mozgóátlag": "3"
                                },
                                {
                                    "UGYFEL_FK": "ANNAMARIAR",
                                    "FOGLALAS_PK": "936",
                                    "METTOL": "2016-06-08",
                                    "Vendégek_Száma": "2",
                                    "Mozgóátlag": "2"
                                },
                                {
                                    "UGYFEL_FK": "ANNAMARIAR",
                                    "FOGLALAS_PK": "684",
                                    "METTOL": "2016-07-18",
                                    "Vendégek_Száma": "1",
                                    "Mozgóátlag": "1"
                                },
                                {
                                    "UGYFEL_FK": "ANNAMARIAR",
                                    "FOGLALAS_PK": "1075",
                                    "METTOL": "2016-09-23",
                                    "Vendégek_Száma": "2",
                                    "Mozgóátlag": "1"
                                },
                                {
                                    "UGYFEL_FK": "ANNAMARIAR",
                                    "FOGLALAS_PK": "1274",
                                    "METTOL": "2016-11-11",
                                    "Vendégek_Száma": "3",
                                    "Mozgóátlag": "2"
                                },
                                {
                                    "UGYFEL_FK": "ANNAMARIAR",
                                    "FOGLALAS_PK": "1432",
                                    "METTOL": "2017-01-10",
                                    "Vendégek_Száma": "2",
                                    "Mozgóátlag": "2"
                                },
                                {
                                    "UGYFEL_FK": "ANNAMARIAR",
                                    "FOGLALAS_PK": "1539",
                                    "METTOL": "2017-02-16",
                                    "Vendégek_Száma": "2",
                                    "Mozgóátlag": "2"
                                },
                                {
                                    "UGYFEL_FK": "aron2",
                                    "FOGLALAS_PK": "576",
                                    "METTOL": "2016-04-11",
                                    "Vendégek_Száma": "3",
                                    "Mozgóátlag": "3"
                                },
                                {
                                    "UGYFEL_FK": "aron2",
                                    "FOGLALAS_PK": "1007",
                                    "METTOL": "2016-07-04",
                                    "Vendégek_Száma": "3",
                                    "Mozgóátlag": "3"
                                },
                                {
                                    "UGYFEL_FK": "aron2",
                                    "FOGLALAS_PK": "1182",
                                    "METTOL": "2016-10-23",
                                    "Vendégek_Száma": "2",
                                    "Mozgóátlag": "2"
                                },
                                {
                                    "UGYFEL_FK": "aron2",
                                    "FOGLALAS_PK": "1249",
                                    "METTOL": "2016-11-05",
                                    "Vendégek_Száma": "2",
                                    "Mozgóátlag": "2"
                                },
                                {
                                    "UGYFEL_FK": "aron2",
                                    "FOGLALAS_PK": "1453",
                                    "METTOL": "2017-01-17",
                                    "Vendégek_Száma": "3",
                                    "Mozgóátlag": "2"
                                },
                                {
                                    "UGYFEL_FK": "aron2",
                                    "FOGLALAS_PK": "1573",
                                    "METTOL": "2017-02-26",
                                    "Vendégek_Száma": "3",
                                    "Mozgóátlag": "2"
                                },
                                {
                                    "UGYFEL_FK": "ARONK",
                                    "FOGLALAS_PK": "559",
                                    "METTOL": "2016-04-06",
                                    "Vendégek_Száma": "2",
                                    "Mozgóátlag": "2"
                                },
                                {
                                    "UGYFEL_FK": "ARONK",
                                    "FOGLALAS_PK": "645",
                                    "METTOL": "2016-05-14",
                                    "Vendégek_Száma": "4",
                                    "Mozgóátlag": "3"
                                },
                                {
                                    "UGYFEL_FK": "ARONK",
                                    "FOGLALAS_PK": "902",
                                    "METTOL": "2016-06-04",
                                    "Vendégek_Száma": "2",
                                    "Mozgóátlag": "2"
                                },
                                {
                                    "UGYFEL_FK": "ARONK",
                                    "FOGLALAS_PK": "932",
                                    "METTOL": "2016-06-07",
                                    "Vendégek_Száma": "3",
                                    "Mozgóátlag": "2"
                                },
                                {
                                    "UGYFEL_FK": "ARONK",
                                    "FOGLALAS_PK": "1003",
                                    "METTOL": "2016-07-03",
                                    "Vendégek_Száma": "2",
                                    "Mozgóátlag": "2"
                                },
                                {
                                    "UGYFEL_FK": "ARONK",
                                    "FOGLALAS_PK": "758",
                                    "METTOL": "2016-08-05",
                                    "Vendégek_Száma": "4",
                                    "Mozgóátlag": "3"
                                },
                                {
                                    "UGYFEL_FK": "ARONK",
                                    "FOGLALAS_PK": "1037",
                                    "METTOL": "2016-09-08",
                                    "Vendégek_Száma": "2",
                                    "Mozgóátlag": "2"
                                },
                                {
                                    "UGYFEL_FK": "ARONK",
                                    "FOGLALAS_PK": "1240",
                                    "METTOL": "2016-11-03",
                                    "Vendégek_Száma": "2",
                                    "Mozgóátlag": "2"
                                },
                                {
                                    "UGYFEL_FK": "ARONK",
                                    "FOGLALAS_PK": "1248",
                                    "METTOL": "2016-11-05",
                                    "Vendégek_Száma": "2",
                                    "Mozgóátlag": "2"
                                },
                                {
                                    "UGYFEL_FK": "ARONK",
                                    "FOGLALAS_PK": "1353",
                                    "METTOL": "2016-12-07",
                                    "Vendégek_Száma": "3",
                                    "Mozgóátlag": "2"
                                },
                                {
                                    "UGYFEL_FK": "ARONK",
                                    "FOGLALAS_PK": "1412",
                                    "METTOL": "2017-01-01",
                                    "Vendégek_Száma": "2",
                                    "Mozgóátlag": "2"
                                },
                                {
                                    "UGYFEL_FK": "ARONK",
                                    "FOGLALAS_PK": "1485",
                                    "METTOL": "2017-01-30",
                                    "Vendégek_Száma": "2",
                                    "Mozgóátlag": "2"
                                },
                                {
                                    "UGYFEL_FK": "ARONK",
                                    "FOGLALAS_PK": "1558",
                                    "METTOL": "2017-02-21",
                                    "Vendégek_Száma": "2",
                                    "Mozgóátlag": "2"
                                },
                                {
                                    "UGYFEL_FK": "arpad2",
                                    "FOGLALAS_PK": "908",
                                    "METTOL": "2016-06-05",
                                    "Vendégek_Száma": "2",
                                    "Mozgóátlag": "2"
                                },
                                {
                                    "UGYFEL_FK": "arpad2",
                                    "FOGLALAS_PK": "811",
                                    "METTOL": "2016-08-23",
                                    "Vendégek_Száma": "2",
                                    "Mozgóátlag": "2"
                                },
                                {
                                    "UGYFEL_FK": "arpad2",
                                    "FOGLALAS_PK": "1084",
                                    "METTOL": "2016-09-28",
                                    "Vendégek_Száma": "2",
                                    "Mozgóátlag": "2"
                                },
                                {
                                    "UGYFEL_FK": "arpad2",
                                    "FOGLALAS_PK": "1150",
                                    "METTOL": "2016-10-13",
                                    "Vendégek_Száma": "3",
                                    "Mozgóátlag": "2"
                                },
                                {
                                    "UGYFEL_FK": "arpad2",
                                    "FOGLALAS_PK": "1256",
                                    "METTOL": "2016-11-06",
                                    "Vendégek_Száma": "2",
                                    "Mozgóátlag": "2"
                                },
                                {
                                    "UGYFEL_FK": "arpad2",
                                    "FOGLALAS_PK": "1387",
                                    "METTOL": "2016-12-24",
                                    "Vendégek_Száma": "3",
                                    "Mozgóátlag": "2"
                                },
                                {
                                    "UGYFEL_FK": "arpad2",
                                    "FOGLALAS_PK": "1550",
                                    "METTOL": "2017-02-18",
                                    "Vendégek_Száma": "4",
                                    "Mozgóátlag": "2"
                                },
                                {
                                    "UGYFEL_FK": "ARPADH",
                                    "FOGLALAS_PK": "912",
                                    "METTOL": "2016-06-06",
                                    "Vendégek_Száma": "3",
                                    "Mozgóátlag": "3"
                                },
                                {
                                    "UGYFEL_FK": "ARPADH",
                                    "FOGLALAS_PK": "670",
                                    "METTOL": "2016-07-14",
                                    "Vendégek_Száma": "2",
                                    "Mozgóátlag": "2"
                                },
                                {
                                    "UGYFEL_FK": "ARPADH",
                                    "FOGLALAS_PK": "1056",
                                    "METTOL": "2016-09-16",
                                    "Vendégek_Száma": "1",
                                    "Mozgóátlag": "2"
                                },
                                {
                                    "UGYFEL_FK": "ARPADH",
                                    "FOGLALAS_PK": "1066",
                                    "METTOL": "2016-09-18",
                                    "Vendégek_Száma": "1",
                                    "Mozgóátlag": "1"
                                },
                                {
                                    "UGYFEL_FK": "ARPADH",
                                    "FOGLALAS_PK": "1342",
                                    "METTOL": "2016-12-04",
                                    "Vendégek_Száma": "1",
                                    "Mozgóátlag": "1"
                                },
                                {
                                    "UGYFEL_FK": "ARPADH",
                                    "FOGLALAS_PK": "1377",
                                    "METTOL": "2016-12-18",
                                    "Vendégek_Száma": "3",
                                    "Mozgóátlag": "1"
                                },
                                {
                                    "UGYFEL_FK": "ARPADH",
                                    "FOGLALAS_PK": "1538",
                                    "METTOL": "2017-02-16",
                                    "Vendégek_Száma": "2",
                                    "Mozgóátlag": "1"
                                },
                                {
                                    "UGYFEL_FK": "ARPADM",
                                    "FOGLALAS_PK": "873",
                                    "METTOL": "2016-05-29",
                                    "Vendégek_Száma": "2",
                                    "Mozgóátlag": "2"
                                },
                                {
                                    "UGYFEL_FK": "ARPADM",
                                    "FOGLALAS_PK": "771",
                                    "METTOL": "2016-08-12",
                                    "Vendégek_Száma": "2",
                                    "Mozgóátlag": "2"
                                },
                                {
                                    "UGYFEL_FK": "ARPADM",
                                    "FOGLALAS_PK": "1268",
                                    "METTOL": "2016-11-09",
                                    "Vendégek_Száma": "2",
                                    "Mozgóátlag": "2"
                                },
                                {
                                    "UGYFEL_FK": "ARPADM",
                                    "FOGLALAS_PK": "1361",
                                    "METTOL": "2016-12-14",
                                    "Vendégek_Száma": "3",
                                    "Mozgóátlag": "2"
                                },
                                {
                                    "UGYFEL_FK": "ARPADM",
                                    "FOGLALAS_PK": "1420",
                                    "METTOL": "2017-01-05",
                                    "Vendégek_Száma": "1",
                                    "Mozgóátlag": "2"
                                },
                                {
                                    "UGYFEL_FK": "ARPADM",
                                    "FOGLALAS_PK": "1522",
                                    "METTOL": "2017-02-12",
                                    "Vendégek_Száma": "3",
                                    "Mozgóátlag": "2"
                                },
                                {
                                    "UGYFEL_FK": "attila",
                                    "FOGLALAS_PK": "1090",
                                    "METTOL": "2016-09-30",
                                    "Vendégek_Száma": "3",
                                    "Mozgóátlag": "3"
                                },
                                {
                                    "UGYFEL_FK": "attila",
                                    "FOGLALAS_PK": "1154",
                                    "METTOL": "2016-10-15",
                                    "Vendégek_Száma": "1",
                                    "Mozgóátlag": "2"
                                },
                                {
                                    "UGYFEL_FK": "attila",
                                    "FOGLALAS_PK": "1383",
                                    "METTOL": "2016-12-22",
                                    "Vendégek_Száma": "2",
                                    "Mozgóátlag": "2"
                                },
                                {
                                    "UGYFEL_FK": "attila1",
                                    "FOGLALAS_PK": "657",
                                    "METTOL": "2016-05-20",
                                    "Vendégek_Száma": "1",
                                    "Mozgóátlag": "1"
                                },
                                {
                                    "UGYFEL_FK": "attila1",
                                    "FOGLALAS_PK": "1135",
                                    "METTOL": "2016-10-09",
                                    "Vendégek_Száma": "2",
                                    "Mozgóátlag": "1"
                                },
                                {
                                    "UGYFEL_FK": "attila1",
                                    "FOGLALAS_PK": "1152",
                                    "METTOL": "2016-10-15",
                                    "Vendégek_Száma": "3",
                                    "Mozgóátlag": "2"
                                },
                                {
                                    "UGYFEL_FK": "attila1",
                                    "FOGLALAS_PK": "1219",
                                    "METTOL": "2016-10-30",
                                    "Vendégek_Száma": "2",
                                    "Mozgóátlag": "2"
                                },
                                {
                                    "UGYFEL_FK": "attila1",
                                    "FOGLALAS_PK": "1270",
                                    "METTOL": "2016-11-10",
                                    "Vendégek_Száma": "2",
                                    "Mozgóátlag": "2"
                                },
                                {
                                    "UGYFEL_FK": "attila1",
                                    "FOGLALAS_PK": "1468",
                                    "METTOL": "2017-01-23",
                                    "Vendégek_Száma": "4",
                                    "Mozgóátlag": "2"
                                },
                                {
                                    "UGYFEL_FK": "attila4",
                                    "FOGLALAS_PK": "797",
                                    "METTOL": "2016-08-18",
                                    "Vendégek_Száma": "4",
                                    "Mozgóátlag": "4"
                                },
                                {
                                    "UGYFEL_FK": "attila4",
                                    "FOGLALAS_PK": "1408",
                                    "METTOL": "2016-12-31",
                                    "Vendégek_Száma": "2",
                                    "Mozgóátlag": "3"
                                },
                                {
                                    "UGYFEL_FK": "attila4",
                                    "FOGLALAS_PK": "1535",
                                    "METTOL": "2017-02-15",
                                    "Vendégek_Száma": "2",
                                    "Mozgóátlag": "2"
                                },
                                {
                                    "UGYFEL_FK": "ATTILAO",
                                    "FOGLALAS_PK": "660",
                                    "METTOL": "2016-05-21",
                                    "Vendégek_Száma": "3",
                                    "Mozgóátlag": "3"
                                },
                                {
                                    "UGYFEL_FK": "ATTILAO",
                                    "FOGLALAS_PK": "903",
                                    "METTOL": "2016-06-04",
                                    "Vendégek_Száma": "3",
                                    "Mozgóátlag": "3"
                                },
                                {
                                    "UGYFEL_FK": "ATTILAO",
                                    "FOGLALAS_PK": "1231",
                                    "METTOL": "2016-10-30",
                                    "Vendégek_Száma": "2",
                                    "Mozgóátlag": "2"
                                },
                                {
                                    "UGYFEL_FK": "ATTILAO",
                                    "FOGLALAS_PK": "1559",
                                    "METTOL": "2017-02-22",
                                    "Vendégek_Száma": "3",
                                    "Mozgóátlag": "2"
                                },
                                {
                                    "UGYFEL_FK": "balazs1",
                                    "FOGLALAS_PK": "622",
                                    "METTOL": "2016-05-07",
                                    "Vendégek_Száma": "2",
                                    "Mozgóátlag": "2"
                                },
                                {
                                    "UGYFEL_FK": "balazs1",
                                    "FOGLALAS_PK": "703",
                                    "METTOL": "2016-07-22",
                                    "Vendégek_Száma": "4",
                                    "Mozgóátlag": "3"
                                },
                                {
                                    "UGYFEL_FK": "balazs1",
                                    "FOGLALAS_PK": "1399",
                                    "METTOL": "2016-12-26",
                                    "Vendégek_Száma": "3",
                                    "Mozgóátlag": "3"
                                },
                                {
                                    "UGYFEL_FK": "balazs1",
                                    "FOGLALAS_PK": "1410",
                                    "METTOL": "2017-01-01",
                                    "Vendégek_Száma": "2",
                                    "Mozgóátlag": "2"
                                },
                                {
                                    "UGYFEL_FK": "balazs1",
                                    "FOGLALAS_PK": "1515",
                                    "METTOL": "2017-02-10",
                                    "Vendégek_Száma": "3",
                                    "Mozgóátlag": "2"
                                },
                                {
                                    "UGYFEL_FK": "balazs1",
                                    "FOGLALAS_PK": "1518",
                                    "METTOL": "2017-02-12",
                                    "Vendégek_Száma": "2",
                                    "Mozgóátlag": "2"
                                },
                                {
                                    "UGYFEL_FK": "balazs2",
                                    "FOGLALAS_PK": "582",
                                    "METTOL": "2016-04-16",
                                    "Vendégek_Száma": "2",
                                    "Mozgóátlag": "2"
                                },
                                {
                                    "UGYFEL_FK": "balazs2",
                                    "FOGLALAS_PK": "851",
                                    "METTOL": "2016-05-22",
                                    "Vendégek_Száma": "3",
                                    "Mozgóátlag": "2"
                                },
                                {
                                    "UGYFEL_FK": "balazs2",
                                    "FOGLALAS_PK": "863",
                                    "METTOL": "2016-05-28",
                                    "Vendégek_Száma": "3",
                                    "Mozgóátlag": "2"
                                },
                                {
                                    "UGYFEL_FK": "balazs2",
                                    "FOGLALAS_PK": "1019",
                                    "METTOL": "2016-07-08",
                                    "Vendégek_Száma": "3",
                                    "Mozgóátlag": "2"
                                },
                                {
                                    "UGYFEL_FK": "balazs2",
                                    "FOGLALAS_PK": "1023",
                                    "METTOL": "2016-07-10",
                                    "Vendégek_Száma": "3",
                                    "Mozgóátlag": "2"
                                },
                                {
                                    "UGYFEL_FK": "balazs2",
                                    "FOGLALAS_PK": "691",
                                    "METTOL": "2016-07-20",
                                    "Vendégek_Száma": "2",
                                    "Mozgóátlag": "2"
                                },
                                {
                                    "UGYFEL_FK": "balazs2",
                                    "FOGLALAS_PK": "805",
                                    "METTOL": "2016-08-21",
                                    "Vendégek_Száma": "3",
                                    "Mozgóátlag": "2"
                                },
                                {
                                    "UGYFEL_FK": "balazs2",
                                    "FOGLALAS_PK": "1045",
                                    "METTOL": "2016-09-12",
                                    "Vendégek_Száma": "3",
                                    "Mozgóátlag": "2"
                                },
                                {
                                    "UGYFEL_FK": "balazs2",
                                    "FOGLALAS_PK": "1239",
                                    "METTOL": "2016-11-03",
                                    "Vendégek_Száma": "3",
                                    "Mozgóátlag": "2"
                                },
                                {
                                    "UGYFEL_FK": "balazs2",
                                    "FOGLALAS_PK": "1578",
                                    "METTOL": "2017-02-27",
                                    "Vendégek_Száma": "1",
                                    "Mozgóátlag": "2"
                                },
                                {
                                    "UGYFEL_FK": "balazs3",
                                    "FOGLALAS_PK": "678",
                                    "METTOL": "2016-07-17",
                                    "Vendégek_Száma": "2",
                                    "Mozgóátlag": "2"
                                },
                                {
                                    "UGYFEL_FK": "balazs3",
                                    "FOGLALAS_PK": "728",
                                    "METTOL": "2016-07-27",
                                    "Vendégek_Száma": "4",
                                    "Mozgóátlag": "3"
                                },
                                {
                                    "UGYFEL_FK": "balazs3",
                                    "FOGLALAS_PK": "816",
                                    "METTOL": "2016-08-24",
                                    "Vendégek_Száma": "3",
                                    "Mozgóátlag": "3"
                                },
                                {
                                    "UGYFEL_FK": "balazs3",
                                    "FOGLALAS_PK": "1054",
                                    "METTOL": "2016-09-15",
                                    "Vendégek_Száma": "3",
                                    "Mozgóátlag": "3"
                                },
                                {
                                    "UGYFEL_FK": "balazs3",
                                    "FOGLALAS_PK": "1346",
                                    "METTOL": "2016-12-05",
                                    "Vendégek_Száma": "3",
                                    "Mozgóátlag": "3"
                                },
                                {
                                    "UGYFEL_FK": "balazs3",
                                    "FOGLALAS_PK": "1459",
                                    "METTOL": "2017-01-20",
                                    "Vendégek_Száma": "2",
                                    "Mozgóátlag": "3"
                                },
                                {
                                    "UGYFEL_FK": "balint",
                                    "FOGLALAS_PK": "595",
                                    "METTOL": "2016-04-22",
                                    "Vendégek_Száma": "2",
                                    "Mozgóátlag": "2"
                                },
                                {
                                    "UGYFEL_FK": "balint",
                                    "FOGLALAS_PK": "1137",
                                    "METTOL": "2016-10-09",
                                    "Vendégek_Száma": "2",
                                    "Mozgóátlag": "2"
                                },
                                {
                                    "UGYFEL_FK": "balint",
                                    "FOGLALAS_PK": "1315",
                                    "METTOL": "2016-11-24",
                                    "Vendégek_Száma": "3",
                                    "Mozgóátlag": "2"
                                },
                                {
                                    "UGYFEL_FK": "balint1",
                                    "FOGLALAS_PK": "933",
                                    "METTOL": "2016-06-07",
                                    "Vendégek_Száma": "3",
                                    "Mozgóátlag": "3"
                                },
                                {
                                    "UGYFEL_FK": "balint1",
                                    "FOGLALAS_PK": "924",
                                    "METTOL": "2016-06-07",
                                    "Vendégek_Száma": "3",
                                    "Mozgóátlag": "3"
                                },
                                {
                                    "UGYFEL_FK": "balint1",
                                    "FOGLALAS_PK": "948",
                                    "METTOL": "2016-06-10",
                                    "Vendégek_Száma": "1",
                                    "Mozgóátlag": "2"
                                },
                                {
                                    "UGYFEL_FK": "balint1",
                                    "FOGLALAS_PK": "717",
                                    "METTOL": "2016-07-26",
                                    "Vendégek_Száma": "2",
                                    "Mozgóátlag": "2"
                                },
                                {
                                    "UGYFEL_FK": "balint1",
                                    "FOGLALAS_PK": "752",
                                    "METTOL": "2016-08-03",
                                    "Vendégek_Száma": "2",
                                    "Mozgóátlag": "2"
                                },
                                {
                                    "UGYFEL_FK": "balint1",
                                    "FOGLALAS_PK": "1057",
                                    "METTOL": "2016-09-16",
                                    "Vendégek_Száma": "1",
                                    "Mozgóátlag": "1"
                                },
                                {
                                    "UGYFEL_FK": "balint1",
                                    "FOGLALAS_PK": "1257",
                                    "METTOL": "2016-11-07",
                                    "Vendégek_Száma": "2",
                                    "Mozgóátlag": "1"
                                },
                                {
                                    "UGYFEL_FK": "balint1",
                                    "FOGLALAS_PK": "1376",
                                    "METTOL": "2016-12-17",
                                    "Vendégek_Száma": "3",
                                    "Mozgóátlag": "2"
                                },
                                {
                                    "UGYFEL_FK": "balint1",
                                    "FOGLALAS_PK": "1404",
                                    "METTOL": "2016-12-29",
                                    "Vendégek_Száma": "3",
                                    "Mozgóátlag": "2"
                                },
                                {
                                    "UGYFEL_FK": "balint1",
                                    "FOGLALAS_PK": "1416",
                                    "METTOL": "2017-01-03",
                                    "Vendégek_Száma": "2",
                                    "Mozgóátlag": "2"
                                },
                                {
                                    "UGYFEL_FK": "balint2",
                                    "FOGLALAS_PK": "702",
                                    "METTOL": "2016-07-21",
                                    "Vendégek_Száma": "1",
                                    "Mozgóátlag": "1"
                                },
                                {
                                    "UGYFEL_FK": "balint2",
                                    "FOGLALAS_PK": "1341",
                                    "METTOL": "2016-12-04",
                                    "Vendégek_Száma": "3",
                                    "Mozgóátlag": "2"
                                },
                                {
                                    "UGYFEL_FK": "balu",
                                    "FOGLALAS_PK": "760",
                                    "METTOL": "2016-08-06",
                                    "Vendégek_Száma": "2",
                                    "Mozgóátlag": "2"
                                },
                                {
                                    "UGYFEL_FK": "balu",
                                    "FOGLALAS_PK": "1382",
                                    "METTOL": "2016-12-22",
                                    "Vendégek_Száma": "2",
                                    "Mozgóátlag": "2"
                                },
                                {
                                    "UGYFEL_FK": "beata4",
                                    "FOGLALAS_PK": "591",
                                    "METTOL": "2016-04-20",
                                    "Vendégek_Száma": "2",
                                    "Mozgóátlag": "2"
                                },
                                {
                                    "UGYFEL_FK": "beata4",
                                    "FOGLALAS_PK": "896",
                                    "METTOL": "2016-06-03",
                                    "Vendégek_Száma": "2",
                                    "Mozgóátlag": "2"
                                },
                                {
                                    "UGYFEL_FK": "beata4",
                                    "FOGLALAS_PK": "1005",
                                    "METTOL": "2016-07-03",
                                    "Vendégek_Száma": "1",
                                    "Mozgóátlag": "1"
                                },
                                {
                                    "UGYFEL_FK": "beata4",
                                    "FOGLALAS_PK": "823",
                                    "METTOL": "2016-08-25",
                                    "Vendégek_Száma": "3",
                                    "Mozgóátlag": "2"
                                },
                                {
                                    "UGYFEL_FK": "beata4",
                                    "FOGLALAS_PK": "1112",
                                    "METTOL": "2016-10-01",
                                    "Vendégek_Száma": "1",
                                    "Mozgóátlag": "1"
                                },
                                {
                                    "UGYFEL_FK": "beata4",
                                    "FOGLALAS_PK": "1117",
                                    "METTOL": "2016-10-03",
                                    "Vendégek_Száma": "3",
                                    "Mozgóátlag": "2"
                                },
                                {
                                    "UGYFEL_FK": "BEATRIXK",
                                    "FOGLALAS_PK": "941",
                                    "METTOL": "2016-06-10",
                                    "Vendégek_Száma": "2",
                                    "Mozgóátlag": "2"
                                },
                                {
                                    "UGYFEL_FK": "BEATRIXK",
                                    "FOGLALAS_PK": "944",
                                    "METTOL": "2016-06-10",
                                    "Vendégek_Száma": "2",
                                    "Mozgóátlag": "2"
                                },
                                {
                                    "UGYFEL_FK": "BEATRIXK",
                                    "FOGLALAS_PK": "972",
                                    "METTOL": "2016-06-19",
                                    "Vendégek_Száma": "3",
                                    "Mozgóátlag": "2"
                                },
                                {
                                    "UGYFEL_FK": "BEATRIXK",
                                    "FOGLALAS_PK": "768",
                                    "METTOL": "2016-08-12",
                                    "Vendégek_Száma": "4",
                                    "Mozgóátlag": "2"
                                },
                                {
                                    "UGYFEL_FK": "BEATRIXK",
                                    "FOGLALAS_PK": "1185",
                                    "METTOL": "2016-10-23",
                                    "Vendégek_Száma": "2",
                                    "Mozgóátlag": "2"
                                },
                                {
                                    "UGYFEL_FK": "BEATRIXK",
                                    "FOGLALAS_PK": "1279",
                                    "METTOL": "2016-11-14",
                                    "Vendégek_Száma": "2",
                                    "Mozgóátlag": "2"
                                },
                                {
                                    "UGYFEL_FK": "BEATRIXK",
                                    "FOGLALAS_PK": "1359",
                                    "METTOL": "2016-12-12",
                                    "Vendégek_Száma": "3",
                                    "Mozgóátlag": "2"
                                },
                                {
                                    "UGYFEL_FK": "BEATRIXK",
                                    "FOGLALAS_PK": "1370",
                                    "METTOL": "2016-12-17",
                                    "Vendégek_Száma": "4",
                                    "Mozgóátlag": "3"
                                },
                                {
                                    "UGYFEL_FK": "BEATRIXK",
                                    "FOGLALAS_PK": "1512",
                                    "METTOL": "2017-02-08",
                                    "Vendégek_Száma": "3",
                                    "Mozgóátlag": "2"
                                },
                                {
                                    "UGYFEL_FK": "BEATRIXS",
                                    "FOGLALAS_PK": "586",
                                    "METTOL": "2016-04-18",
                                    "Vendégek_Száma": "1",
                                    "Mozgóátlag": "1"
                                },
                                {
                                    "UGYFEL_FK": "BEATRIXS",
                                    "FOGLALAS_PK": "952",
                                    "METTOL": "2016-06-11",
                                    "Vendégek_Száma": "3",
                                    "Mozgóátlag": "2"
                                },
                                {
                                    "UGYFEL_FK": "BEATRIXS",
                                    "FOGLALAS_PK": "1098",
                                    "METTOL": "2016-10-01",
                                    "Vendégek_Száma": "3",
                                    "Mozgóátlag": "2"
                                },
                                {
                                    "UGYFEL_FK": "BEATRIXS",
                                    "FOGLALAS_PK": "1099",
                                    "METTOL": "2016-10-01",
                                    "Vendégek_Száma": "3",
                                    "Mozgóátlag": "2"
                                },
                                {
                                    "UGYFEL_FK": "BEATRIXS",
                                    "FOGLALAS_PK": "1381",
                                    "METTOL": "2016-12-21",
                                    "Vendégek_Száma": "2",
                                    "Mozgóátlag": "2"
                                },
                                {
                                    "UGYFEL_FK": "BEATRIXS",
                                    "FOGLALAS_PK": "1490",
                                    "METTOL": "2017-02-03",
                                    "Vendégek_Száma": "2",
                                    "Mozgóátlag": "2"
                                },
                                {
                                    "UGYFEL_FK": "BELAF",
                                    "FOGLALAS_PK": "719",
                                    "METTOL": "2016-07-27",
                                    "Vendégek_Száma": "3",
                                    "Mozgóátlag": "3"
                                },
                                {
                                    "UGYFEL_FK": "BELAF",
                                    "FOGLALAS_PK": "737",
                                    "METTOL": "2016-07-29",
                                    "Vendégek_Száma": "2",
                                    "Mozgóátlag": "2"
                                },
                                {
                                    "UGYFEL_FK": "BELAF",
                                    "FOGLALAS_PK": "838",
                                    "METTOL": "2016-08-29",
                                    "Vendégek_Száma": "2",
                                    "Mozgóátlag": "2"
                                },
                                {
                                    "UGYFEL_FK": "BELAF",
                                    "FOGLALAS_PK": "1238",
                                    "METTOL": "2016-11-03",
                                    "Vendégek_Száma": "4",
                                    "Mozgóátlag": "2"
                                },
                                {
                                    "UGYFEL_FK": "BELAF",
                                    "FOGLALAS_PK": "1337",
                                    "METTOL": "2016-12-02",
                                    "Vendégek_Száma": "3",
                                    "Mozgóátlag": "2"
                                },
                                {
                                    "UGYFEL_FK": "BELAF",
                                    "FOGLALAS_PK": "1350",
                                    "METTOL": "2016-12-06",
                                    "Vendégek_Száma": "1",
                                    "Mozgóátlag": "2"
                                },
                                {
                                    "UGYFEL_FK": "bence",
                                    "FOGLALAS_PK": "626",
                                    "METTOL": "2016-05-08",
                                    "Vendégek_Száma": "2",
                                    "Mozgóátlag": "2"
                                },
                                {
                                    "UGYFEL_FK": "bence",
                                    "FOGLALAS_PK": "872",
                                    "METTOL": "2016-05-29",
                                    "Vendégek_Száma": "1",
                                    "Mozgóátlag": "1"
                                },
                                {
                                    "UGYFEL_FK": "bence",
                                    "FOGLALAS_PK": "713",
                                    "METTOL": "2016-07-24",
                                    "Vendégek_Száma": "2",
                                    "Mozgóátlag": "1"
                                },
                                {
                                    "UGYFEL_FK": "bence",
                                    "FOGLALAS_PK": "714",
                                    "METTOL": "2016-07-25",
                                    "Vendégek_Száma": "3",
                                    "Mozgóátlag": "2"
                                },
                                {
                                    "UGYFEL_FK": "bence",
                                    "FOGLALAS_PK": "847",
                                    "METTOL": "2016-09-03",
                                    "Vendégek_Száma": "3",
                                    "Mozgóátlag": "2"
                                },
                                {
                                    "UGYFEL_FK": "bence",
                                    "FOGLALAS_PK": "1220",
                                    "METTOL": "2016-10-30",
                                    "Vendégek_Száma": "4",
                                    "Mozgóátlag": "2"
                                },
                                {
                                    "UGYFEL_FK": "bence",
                                    "FOGLALAS_PK": "1368",
                                    "METTOL": "2016-12-17",
                                    "Vendégek_Száma": "2",
                                    "Mozgóátlag": "2"
                                },
                                {
                                    "UGYFEL_FK": "bence",
                                    "FOGLALAS_PK": "1400",
                                    "METTOL": "2016-12-26",
                                    "Vendégek_Száma": "2",
                                    "Mozgóátlag": "2"
                                },
                                {
                                    "UGYFEL_FK": "bence",
                                    "FOGLALAS_PK": "1501",
                                    "METTOL": "2017-02-05",
                                    "Vendégek_Száma": "3",
                                    "Mozgóátlag": "2"
                                },
                                {
                                    "UGYFEL_FK": "BENCEB",
                                    "FOGLALAS_PK": "646",
                                    "METTOL": "2016-05-14",
                                    "Vendégek_Száma": "3",
                                    "Mozgóátlag": "3"
                                },
                                {
                                    "UGYFEL_FK": "BENCEB",
                                    "FOGLALAS_PK": "900",
                                    "METTOL": "2016-06-03",
                                    "Vendégek_Száma": "2",
                                    "Mozgóátlag": "2"
                                },
                                {
                                    "UGYFEL_FK": "BENCEB",
                                    "FOGLALAS_PK": "745",
                                    "METTOL": "2016-08-01",
                                    "Vendégek_Száma": "2",
                                    "Mozgóátlag": "2"
                                },
                                {
                                    "UGYFEL_FK": "BENCEB",
                                    "FOGLALAS_PK": "1179",
                                    "METTOL": "2016-10-22",
                                    "Vendégek_Száma": "3",
                                    "Mozgóátlag": "2"
                                },
                                {
                                    "UGYFEL_FK": "BENCEB",
                                    "FOGLALAS_PK": "1326",
                                    "METTOL": "2016-11-28",
                                    "Vendégek_Száma": "2",
                                    "Mozgóátlag": "2"
                                },
                                {
                                    "UGYFEL_FK": "BENCEB",
                                    "FOGLALAS_PK": "1521",
                                    "METTOL": "2017-02-12",
                                    "Vendégek_Száma": "3",
                                    "Mozgóátlag": "2"
                                },
                                {
                                    "UGYFEL_FK": "bernadett1",
                                    "FOGLALAS_PK": "953",
                                    "METTOL": "2016-06-12",
                                    "Vendégek_Száma": "3",
                                    "Mozgóátlag": "3"
                                },
                                {
                                    "UGYFEL_FK": "bernadett1",
                                    "FOGLALAS_PK": "1130",
                                    "METTOL": "2016-10-08",
                                    "Vendégek_Száma": "4",
                                    "Mozgóátlag": "3"
                                },
                                {
                                    "UGYFEL_FK": "bernadett1",
                                    "FOGLALAS_PK": "1155",
                                    "METTOL": "2016-10-15",
                                    "Vendégek_Száma": "3",
                                    "Mozgóátlag": "3"
                                },
                                {
                                    "UGYFEL_FK": "bernadett1",
                                    "FOGLALAS_PK": "1200",
                                    "METTOL": "2016-10-26",
                                    "Vendégek_Száma": "3",
                                    "Mozgóátlag": "3"
                                },
                                {
                                    "UGYFEL_FK": "bernadett1",
                                    "FOGLALAS_PK": "1210",
                                    "METTOL": "2016-10-28",
                                    "Vendégek_Száma": "3",
                                    "Mozgóátlag": "3"
                                },
                                {
                                    "UGYFEL_FK": "bernadett1",
                                    "FOGLALAS_PK": "1533",
                                    "METTOL": "2017-02-14",
                                    "Vendégek_Száma": "3",
                                    "Mozgóátlag": "3"
                                },
                                {
                                    "UGYFEL_FK": "bernadett1",
                                    "FOGLALAS_PK": "1568",
                                    "METTOL": "2017-02-24",
                                    "Vendégek_Száma": "1",
                                    "Mozgóátlag": "2"
                                },
                                {
                                    "UGYFEL_FK": "bernadett2",
                                    "FOGLALAS_PK": "612",
                                    "METTOL": "2016-05-01",
                                    "Vendégek_Száma": "2",
                                    "Mozgóátlag": "2"
                                },
                                {
                                    "UGYFEL_FK": "bernadett2",
                                    "FOGLALAS_PK": "969",
                                    "METTOL": "2016-06-17",
                                    "Vendégek_Száma": "3",
                                    "Mozgóátlag": "2"
                                },
                                {
                                    "UGYFEL_FK": "bernadett2",
                                    "FOGLALAS_PK": "812",
                                    "METTOL": "2016-08-23",
                                    "Vendégek_Száma": "2",
                                    "Mozgóátlag": "2"
                                },
                                {
                                    "UGYFEL_FK": "bernadett2",
                                    "FOGLALAS_PK": "824",
                                    "METTOL": "2016-08-25",
                                    "Vendégek_Száma": "3",
                                    "Mozgóátlag": "2"
                                },
                                {
                                    "UGYFEL_FK": "bernadett2",
                                    "FOGLALAS_PK": "1035",
                                    "METTOL": "2016-09-07",
                                    "Vendégek_Száma": "3",
                                    "Mozgóátlag": "2"
                                },
                                {
                                    "UGYFEL_FK": "bernadett2",
                                    "FOGLALAS_PK": "1229",
                                    "METTOL": "2016-10-30",
                                    "Vendégek_Száma": "3",
                                    "Mozgóátlag": "2"
                                },
                                {
                                    "UGYFEL_FK": "bernadett2",
                                    "FOGLALAS_PK": "1367",
                                    "METTOL": "2016-12-17",
                                    "Vendégek_Száma": "1",
                                    "Mozgóátlag": "2"
                                },
                                {
                                    "UGYFEL_FK": "bernadett2",
                                    "FOGLALAS_PK": "1472",
                                    "METTOL": "2017-01-24",
                                    "Vendégek_Száma": "3",
                                    "Mozgóátlag": "2"
                                },
                                {
                                    "UGYFEL_FK": "BERNADETTO",
                                    "FOGLALAS_PK": "570",
                                    "METTOL": "2016-04-10",
                                    "Vendégek_Száma": "2",
                                    "Mozgóátlag": "2"
                                },
                                {
                                    "UGYFEL_FK": "BERNADETTO",
                                    "FOGLALAS_PK": "584",
                                    "METTOL": "2016-04-17",
                                    "Vendégek_Száma": "2",
                                    "Mozgóátlag": "2"
                                },
                                {
                                    "UGYFEL_FK": "BERNADETTO",
                                    "FOGLALAS_PK": "925",
                                    "METTOL": "2016-06-07",
                                    "Vendégek_Száma": "3",
                                    "Mozgóátlag": "2"
                                },
                                {
                                    "UGYFEL_FK": "BERNADETTO",
                                    "FOGLALAS_PK": "942",
                                    "METTOL": "2016-06-10",
                                    "Vendégek_Száma": "4",
                                    "Mozgóátlag": "2"
                                },
                                {
                                    "UGYFEL_FK": "BERNADETTO",
                                    "FOGLALAS_PK": "1120",
                                    "METTOL": "2016-10-04",
                                    "Vendégek_Száma": "2",
                                    "Mozgóátlag": "2"
                                },
                                {
                                    "UGYFEL_FK": "BERNADETTO",
                                    "FOGLALAS_PK": "1411",
                                    "METTOL": "2017-01-01",
                                    "Vendégek_Száma": "3",
                                    "Mozgóátlag": "2"
                                },
                                {
                                    "UGYFEL_FK": "BERNADETTO",
                                    "FOGLALAS_PK": "1477",
                                    "METTOL": "2017-01-28",
                                    "Vendégek_Száma": "2",
                                    "Mozgóátlag": "2"
                                },
                                {
                                    "UGYFEL_FK": "bertalan",
                                    "FOGLALAS_PK": "654",
                                    "METTOL": "2016-05-18",
                                    "Vendégek_Száma": "2",
                                    "Mozgóátlag": "2"
                                },
                                {
                                    "UGYFEL_FK": "bertalan",
                                    "FOGLALAS_PK": "974",
                                    "METTOL": "2016-06-20",
                                    "Vendégek_Száma": "1",
                                    "Mozgóátlag": "1"
                                },
                                {
                                    "UGYFEL_FK": "bertalan",
                                    "FOGLALAS_PK": "1241",
                                    "METTOL": "2016-11-03",
                                    "Vendégek_Száma": "2",
                                    "Mozgóátlag": "1"
                                },
                                {
                                    "UGYFEL_FK": "bertalan",
                                    "FOGLALAS_PK": "1322",
                                    "METTOL": "2016-11-26",
                                    "Vendégek_Száma": "3",
                                    "Mozgóátlag": "2"
                                },
                                {
                                    "UGYFEL_FK": "bertalan",
                                    "FOGLALAS_PK": "1536",
                                    "METTOL": "2017-02-16",
                                    "Vendégek_Száma": "2",
                                    "Mozgóátlag": "2"
                                },
                                {
                                    "UGYFEL_FK": "bertalan",
                                    "FOGLALAS_PK": "1555",
                                    "METTOL": "2017-02-20",
                                    "Vendégek_Száma": "4",
                                    "Mozgóátlag": "2"
                                },
                                {
                                    "UGYFEL_FK": "brigitta",
                                    "FOGLALAS_PK": "876",
                                    "METTOL": "2016-05-30",
                                    "Vendégek_Száma": "3",
                                    "Mozgóátlag": "3"
                                },
                                {
                                    "UGYFEL_FK": "brigitta",
                                    "FOGLALAS_PK": "832",
                                    "METTOL": "2016-08-28",
                                    "Vendégek_Száma": "3",
                                    "Mozgóátlag": "3"
                                },
                                {
                                    "UGYFEL_FK": "brigitta",
                                    "FOGLALAS_PK": "1174",
                                    "METTOL": "2016-10-21",
                                    "Vendégek_Száma": "3",
                                    "Mozgóátlag": "3"
                                },
                                {
                                    "UGYFEL_FK": "brigitta",
                                    "FOGLALAS_PK": "1373",
                                    "METTOL": "2016-12-17",
                                    "Vendégek_Száma": "2",
                                    "Mozgóátlag": "2"
                                },
                                {
                                    "UGYFEL_FK": "brigitta",
                                    "FOGLALAS_PK": "1469",
                                    "METTOL": "2017-01-23",
                                    "Vendégek_Száma": "1",
                                    "Mozgóátlag": "2"
                                },
                                {
                                    "UGYFEL_FK": "brigitta3",
                                    "FOGLALAS_PK": "886",
                                    "METTOL": "2016-06-01",
                                    "Vendégek_Száma": "2",
                                    "Mozgóátlag": "2"
                                },
                                {
                                    "UGYFEL_FK": "brigitta3",
                                    "FOGLALAS_PK": "957",
                                    "METTOL": "2016-06-13",
                                    "Vendégek_Száma": "3",
                                    "Mozgóátlag": "2"
                                },
                                {
                                    "UGYFEL_FK": "brigitta3",
                                    "FOGLALAS_PK": "1147",
                                    "METTOL": "2016-10-10",
                                    "Vendégek_Száma": "2",
                                    "Mozgóátlag": "2"
                                },
                                {
                                    "UGYFEL_FK": "brigitta3",
                                    "FOGLALAS_PK": "1243",
                                    "METTOL": "2016-11-03",
                                    "Vendégek_Száma": "3",
                                    "Mozgóátlag": "2"
                                },
                                {
                                    "UGYFEL_FK": "brigitta3",
                                    "FOGLALAS_PK": "1513",
                                    "METTOL": "2017-02-09",
                                    "Vendégek_Száma": "2",
                                    "Mozgóátlag": "2"
                                },
                                {
                                    "UGYFEL_FK": "csongor3",
                                    "FOGLALAS_PK": "613",
                                    "METTOL": "2016-05-01",
                                    "Vendégek_Száma": "2",
                                    "Mozgóátlag": "2"
                                },
                                {
                                    "UGYFEL_FK": "csongor3",
                                    "FOGLALAS_PK": "623",
                                    "METTOL": "2016-05-08",
                                    "Vendégek_Száma": "3",
                                    "Mozgóátlag": "2"
                                },
                                {
                                    "UGYFEL_FK": "csongor3",
                                    "FOGLALAS_PK": "906",
                                    "METTOL": "2016-06-04",
                                    "Vendégek_Száma": "2",
                                    "Mozgóátlag": "2"
                                },
                                {
                                    "UGYFEL_FK": "csongor3",
                                    "FOGLALAS_PK": "943",
                                    "METTOL": "2016-06-10",
                                    "Vendégek_Száma": "3",
                                    "Mozgóátlag": "2"
                                },
                                {
                                    "UGYFEL_FK": "csongor3",
                                    "FOGLALAS_PK": "951",
                                    "METTOL": "2016-06-11",
                                    "Vendégek_Száma": "2",
                                    "Mozgóátlag": "2"
                                },
                                {
                                    "UGYFEL_FK": "csongor3",
                                    "FOGLALAS_PK": "1021",
                                    "METTOL": "2016-07-09",
                                    "Vendégek_Száma": "4",
                                    "Mozgóátlag": "2"
                                },
                                {
                                    "UGYFEL_FK": "csongor3",
                                    "FOGLALAS_PK": "1277",
                                    "METTOL": "2016-11-12",
                                    "Vendégek_Száma": "3",
                                    "Mozgóátlag": "2"
                                },
                                {
                                    "UGYFEL_FK": "csongor3",
                                    "FOGLALAS_PK": "1531",
                                    "METTOL": "2017-02-13",
                                    "Vendégek_Száma": "3",
                                    "Mozgóátlag": "3"
                                },
                                {
                                    "UGYFEL_FK": "dani",
                                    "FOGLALAS_PK": "909",
                                    "METTOL": "2016-06-06",
                                    "Vendégek_Száma": "3",
                                    "Mozgóátlag": "3"
                                },
                                {
                                    "UGYFEL_FK": "dani",
                                    "FOGLALAS_PK": "1024",
                                    "METTOL": "2016-07-11",
                                    "Vendégek_Száma": "3",
                                    "Mozgóátlag": "3"
                                },
                                {
                                    "UGYFEL_FK": "dani",
                                    "FOGLALAS_PK": "761",
                                    "METTOL": "2016-08-06",
                                    "Vendégek_Száma": "2",
                                    "Mozgóátlag": "2"
                                },
                                {
                                    "UGYFEL_FK": "dani",
                                    "FOGLALAS_PK": "1068",
                                    "METTOL": "2016-09-19",
                                    "Vendégek_Száma": "4",
                                    "Mozgóátlag": "3"
                                },
                                {
                                    "UGYFEL_FK": "dani",
                                    "FOGLALAS_PK": "1102",
                                    "METTOL": "2016-10-01",
                                    "Vendégek_Száma": "1",
                                    "Mozgóátlag": "2"
                                },
                                {
                                    "UGYFEL_FK": "dani",
                                    "FOGLALAS_PK": "1303",
                                    "METTOL": "2016-11-22",
                                    "Vendégek_Száma": "2",
                                    "Mozgóátlag": "2"
                                },
                                {
                                    "UGYFEL_FK": "dani",
                                    "FOGLALAS_PK": "1451",
                                    "METTOL": "2017-01-17",
                                    "Vendégek_Száma": "2",
                                    "Mozgóátlag": "2"
                                },
                                {
                                    "UGYFEL_FK": "dani",
                                    "FOGLALAS_PK": "1466",
                                    "METTOL": "2017-01-22",
                                    "Vendégek_Száma": "1",
                                    "Mozgóátlag": "2"
                                },
                                {
                                    "UGYFEL_FK": "dani",
                                    "FOGLALAS_PK": "1571",
                                    "METTOL": "2017-02-25",
                                    "Vendégek_Száma": "3",
                                    "Mozgóátlag": "1"
                                },
                                {
                                    "UGYFEL_FK": "daniel",
                                    "FOGLALAS_PK": "575",
                                    "METTOL": "2016-04-10",
                                    "Vendégek_Száma": "4",
                                    "Mozgóátlag": "4"
                                },
                                {
                                    "UGYFEL_FK": "daniel",
                                    "FOGLALAS_PK": "594",
                                    "METTOL": "2016-04-22",
                                    "Vendégek_Száma": "2",
                                    "Mozgóátlag": "3"
                                },
                                {
                                    "UGYFEL_FK": "daniel",
                                    "FOGLALAS_PK": "629",
                                    "METTOL": "2016-05-09",
                                    "Vendégek_Száma": "3",
                                    "Mozgóátlag": "3"
                                },
                                {
                                    "UGYFEL_FK": "daniel",
                                    "FOGLALAS_PK": "1036",
                                    "METTOL": "2016-09-08",
                                    "Vendégek_Száma": "4",
                                    "Mozgóátlag": "3"
                                },
                                {
                                    "UGYFEL_FK": "daniel",
                                    "FOGLALAS_PK": "1278",
                                    "METTOL": "2016-11-13",
                                    "Vendégek_Száma": "3",
                                    "Mozgóátlag": "3"
                                },
                                {
                                    "UGYFEL_FK": "daniel",
                                    "FOGLALAS_PK": "1395",
                                    "METTOL": "2016-12-25",
                                    "Vendégek_Száma": "3",
                                    "Mozgóátlag": "3"
                                },
                                {
                                    "UGYFEL_FK": "daniel",
                                    "FOGLALAS_PK": "1430",
                                    "METTOL": "2017-01-09",
                                    "Vendégek_Száma": "1",
                                    "Mozgóátlag": "2"
                                },
                                {
                                    "UGYFEL_FK": "daniel",
                                    "FOGLALAS_PK": "1520",
                                    "METTOL": "2017-02-12",
                                    "Vendégek_Száma": "3",
                                    "Mozgóátlag": "2"
                                },
                                {
                                    "UGYFEL_FK": "daniel",
                                    "FOGLALAS_PK": "1554",
                                    "METTOL": "2017-02-20",
                                    "Vendégek_Száma": "3",
                                    "Mozgóátlag": "2"
                                },
                                {
                                    "UGYFEL_FK": "daniel1",
                                    "FOGLALAS_PK": "573",
                                    "METTOL": "2016-04-10",
                                    "Vendégek_Száma": "2",
                                    "Mozgóátlag": "2"
                                },
                                {
                                    "UGYFEL_FK": "daniel1",
                                    "FOGLALAS_PK": "635",
                                    "METTOL": "2016-05-10",
                                    "Vendégek_Száma": "4",
                                    "Mozgóátlag": "3"
                                },
                                {
                                    "UGYFEL_FK": "daniel1",
                                    "FOGLALAS_PK": "859",
                                    "METTOL": "2016-05-26",
                                    "Vendégek_Száma": "3",
                                    "Mozgóátlag": "3"
                                },
                                {
                                    "UGYFEL_FK": "daniel1",
                                    "FOGLALAS_PK": "1269",
                                    "METTOL": "2016-11-09",
                                    "Vendégek_Száma": "2",
                                    "Mozgóátlag": "2"
                                },
                                {
                                    "UGYFEL_FK": "daniel1",
                                    "FOGLALAS_PK": "1309",
                                    "METTOL": "2016-11-23",
                                    "Vendégek_Száma": "2",
                                    "Mozgóátlag": "2"
                                },
                                {
                                    "UGYFEL_FK": "daniel1",
                                    "FOGLALAS_PK": "1419",
                                    "METTOL": "2017-01-05",
                                    "Vendégek_Száma": "3",
                                    "Mozgóátlag": "2"
                                },
                                {
                                    "UGYFEL_FK": "daniel1",
                                    "FOGLALAS_PK": "1580",
                                    "METTOL": "2017-03-01",
                                    "Vendégek_Száma": "4",
                                    "Mozgóátlag": "2"
                                },
                                {
                                    "UGYFEL_FK": "david",
                                    "FOGLALAS_PK": "653",
                                    "METTOL": "2016-05-18",
                                    "Vendégek_Száma": "2",
                                    "Mozgóátlag": "2"
                                },
                                {
                                    "UGYFEL_FK": "david",
                                    "FOGLALAS_PK": "938",
                                    "METTOL": "2016-06-09",
                                    "Vendégek_Száma": "2",
                                    "Mozgóátlag": "2"
                                },
                                {
                                    "UGYFEL_FK": "david",
                                    "FOGLALAS_PK": "994",
                                    "METTOL": "2016-06-30",
                                    "Vendégek_Száma": "2",
                                    "Mozgóátlag": "2"
                                },
                                {
                                    "UGYFEL_FK": "david",
                                    "FOGLALAS_PK": "681",
                                    "METTOL": "2016-07-18",
                                    "Vendégek_Száma": "2",
                                    "Mozgóátlag": "2"
                                },
                                {
                                    "UGYFEL_FK": "david",
                                    "FOGLALAS_PK": "757",
                                    "METTOL": "2016-08-05",
                                    "Vendégek_Száma": "1",
                                    "Mozgóátlag": "1"
                                },
                                {
                                    "UGYFEL_FK": "david",
                                    "FOGLALAS_PK": "801",
                                    "METTOL": "2016-08-20",
                                    "Vendégek_Száma": "3",
                                    "Mozgóátlag": "2"
                                },
                                {
                                    "UGYFEL_FK": "david",
                                    "FOGLALAS_PK": "807",
                                    "METTOL": "2016-08-22",
                                    "Vendégek_Száma": "3",
                                    "Mozgóátlag": "2"
                                },
                                {
                                    "UGYFEL_FK": "david",
                                    "FOGLALAS_PK": "1227",
                                    "METTOL": "2016-10-30",
                                    "Vendégek_Száma": "2",
                                    "Mozgóátlag": "2"
                                },
                                {
                                    "UGYFEL_FK": "david",
                                    "FOGLALAS_PK": "1454",
                                    "METTOL": "2017-01-18",
                                    "Vendégek_Száma": "2",
                                    "Mozgóátlag": "2"
                                },
                                {
                                    "UGYFEL_FK": "david1",
                                    "FOGLALAS_PK": "1072",
                                    "METTOL": "2016-09-20",
                                    "Vendégek_Száma": "2",
                                    "Mozgóátlag": "2"
                                },
                                {
                                    "UGYFEL_FK": "david1",
                                    "FOGLALAS_PK": "1104",
                                    "METTOL": "2016-10-01",
                                    "Vendégek_Száma": "2",
                                    "Mozgóátlag": "2"
                                },
                                {
                                    "UGYFEL_FK": "david1",
                                    "FOGLALAS_PK": "1296",
                                    "METTOL": "2016-11-19",
                                    "Vendégek_Száma": "2",
                                    "Mozgóátlag": "2"
                                },
                                {
                                    "UGYFEL_FK": "david1",
                                    "FOGLALAS_PK": "1407",
                                    "METTOL": "2016-12-30",
                                    "Vendégek_Száma": "2",
                                    "Mozgóátlag": "2"
                                },
                                {
                                    "UGYFEL_FK": "david1",
                                    "FOGLALAS_PK": "1546",
                                    "METTOL": "2017-02-17",
                                    "Vendégek_Száma": "3",
                                    "Mozgóátlag": "2"
                                },
                                {
                                    "UGYFEL_FK": "david1",
                                    "FOGLALAS_PK": "1572",
                                    "METTOL": "2017-02-25",
                                    "Vendégek_Száma": "4",
                                    "Mozgóátlag": "2"
                                },
                                {
                                    "UGYFEL_FK": "david4",
                                    "FOGLALAS_PK": "1540",
                                    "METTOL": "2017-02-16",
                                    "Vendégek_Száma": "3",
                                    "Mozgóátlag": "3"
                                },
                                {
                                    "UGYFEL_FK": "debora",
                                    "FOGLALAS_PK": "977",
                                    "METTOL": "2016-06-22",
                                    "Vendégek_Száma": "5",
                                    "Mozgóátlag": "5"
                                },
                                {
                                    "UGYFEL_FK": "debora",
                                    "FOGLALAS_PK": "1214",
                                    "METTOL": "2016-10-29",
                                    "Vendégek_Száma": "2",
                                    "Mozgóátlag": "3"
                                },
                                {
                                    "UGYFEL_FK": "debora",
                                    "FOGLALAS_PK": "1470",
                                    "METTOL": "2017-01-23",
                                    "Vendégek_Száma": "3",
                                    "Mozgóátlag": "3"
                                },
                                {
                                    "UGYFEL_FK": "debora",
                                    "FOGLALAS_PK": "1494",
                                    "METTOL": "2017-02-04",
                                    "Vendégek_Száma": "3",
                                    "Mozgóátlag": "3"
                                },
                                {
                                    "UGYFEL_FK": "denes",
                                    "FOGLALAS_PK": "862",
                                    "METTOL": "2016-05-27",
                                    "Vendégek_Száma": "3",
                                    "Mozgóátlag": "3"
                                },
                                {
                                    "UGYFEL_FK": "denes",
                                    "FOGLALAS_PK": "690",
                                    "METTOL": "2016-07-19",
                                    "Vendégek_Száma": "2",
                                    "Mozgóátlag": "2"
                                },
                                {
                                    "UGYFEL_FK": "denes",
                                    "FOGLALAS_PK": "746",
                                    "METTOL": "2016-08-01",
                                    "Vendégek_Száma": "3",
                                    "Mozgóátlag": "2"
                                },
                                {
                                    "UGYFEL_FK": "denes",
                                    "FOGLALAS_PK": "783",
                                    "METTOL": "2016-08-16",
                                    "Vendégek_Száma": "2",
                                    "Mozgóátlag": "2"
                                },
                                {
                                    "UGYFEL_FK": "denes",
                                    "FOGLALAS_PK": "804",
                                    "METTOL": "2016-08-20",
                                    "Vendégek_Száma": "3",
                                    "Mozgóátlag": "2"
                                },
                                {
                                    "UGYFEL_FK": "denes",
                                    "FOGLALAS_PK": "1254",
                                    "METTOL": "2016-11-06",
                                    "Vendégek_Száma": "2",
                                    "Mozgóátlag": "2"
                                },
                                {
                                    "UGYFEL_FK": "dora3",
                                    "FOGLALAS_PK": "785",
                                    "METTOL": "2016-08-16",
                                    "Vendégek_Száma": "4",
                                    "Mozgóátlag": "4"
                                },
                                {
                                    "UGYFEL_FK": "dora3",
                                    "FOGLALAS_PK": "825",
                                    "METTOL": "2016-08-25",
                                    "Vendégek_Száma": "3",
                                    "Mozgóátlag": "3"
                                },
                                {
                                    "UGYFEL_FK": "dora3",
                                    "FOGLALAS_PK": "1140",
                                    "METTOL": "2016-10-09",
                                    "Vendégek_Száma": "3",
                                    "Mozgóátlag": "3"
                                },
                                {
                                    "UGYFEL_FK": "dora3",
                                    "FOGLALAS_PK": "1215",
                                    "METTOL": "2016-10-29",
                                    "Vendégek_Száma": "3",
                                    "Mozgóátlag": "3"
                                },
                                {
                                    "UGYFEL_FK": "dora3",
                                    "FOGLALAS_PK": "1304",
                                    "METTOL": "2016-11-22",
                                    "Vendégek_Száma": "3",
                                    "Mozgóátlag": "3"
                                },
                                {
                                    "UGYFEL_FK": "edit",
                                    "FOGLALAS_PK": "672",
                                    "METTOL": "2016-07-14",
                                    "Vendégek_Száma": "3",
                                    "Mozgóátlag": "3"
                                },
                                {
                                    "UGYFEL_FK": "edit",
                                    "FOGLALAS_PK": "750",
                                    "METTOL": "2016-08-03",
                                    "Vendégek_Száma": "4",
                                    "Mozgóátlag": "3"
                                },
                                {
                                    "UGYFEL_FK": "edit",
                                    "FOGLALAS_PK": "773",
                                    "METTOL": "2016-08-12",
                                    "Vendégek_Száma": "2",
                                    "Mozgóátlag": "3"
                                },
                                {
                                    "UGYFEL_FK": "edit",
                                    "FOGLALAS_PK": "1061",
                                    "METTOL": "2016-09-17",
                                    "Vendégek_Száma": "2",
                                    "Mozgóátlag": "2"
                                },
                                {
                                    "UGYFEL_FK": "edit",
                                    "FOGLALAS_PK": "1065",
                                    "METTOL": "2016-09-18",
                                    "Vendégek_Száma": "3",
                                    "Mozgóátlag": "2"
                                },
                                {
                                    "UGYFEL_FK": "edit",
                                    "FOGLALAS_PK": "1440",
                                    "METTOL": "2017-01-15",
                                    "Vendégek_Száma": "4",
                                    "Mozgóátlag": "3"
                                },
                                {
                                    "UGYFEL_FK": "edit",
                                    "FOGLALAS_PK": "1509",
                                    "METTOL": "2017-02-08",
                                    "Vendégek_Száma": "3",
                                    "Mozgóátlag": "2"
                                },
                                {
                                    "UGYFEL_FK": "emese",
                                    "FOGLALAS_PK": "706",
                                    "METTOL": "2016-07-22",
                                    "Vendégek_Száma": "2",
                                    "Mozgóátlag": "2"
                                },
                                {
                                    "UGYFEL_FK": "emese",
                                    "FOGLALAS_PK": "765",
                                    "METTOL": "2016-08-09",
                                    "Vendégek_Száma": "2",
                                    "Mozgóátlag": "2"
                                },
                                {
                                    "UGYFEL_FK": "emese",
                                    "FOGLALAS_PK": "1083",
                                    "METTOL": "2016-09-27",
                                    "Vendégek_Száma": "3",
                                    "Mozgóátlag": "2"
                                },
                                {
                                    "UGYFEL_FK": "emese",
                                    "FOGLALAS_PK": "1250",
                                    "METTOL": "2016-11-05",
                                    "Vendégek_Száma": "1",
                                    "Mozgóátlag": "2"
                                },
                                {
                                    "UGYFEL_FK": "emese",
                                    "FOGLALAS_PK": "1313",
                                    "METTOL": "2016-11-23",
                                    "Vendégek_Száma": "4",
                                    "Mozgóátlag": "2"
                                },
                                {
                                    "UGYFEL_FK": "emese",
                                    "FOGLALAS_PK": "1354",
                                    "METTOL": "2016-12-07",
                                    "Vendégek_Száma": "3",
                                    "Mozgóátlag": "2"
                                },
                                {
                                    "UGYFEL_FK": "emese",
                                    "FOGLALAS_PK": "1484",
                                    "METTOL": "2017-01-30",
                                    "Vendégek_Száma": "2",
                                    "Mozgóátlag": "2"
                                },
                                {
                                    "UGYFEL_FK": "eszter",
                                    "FOGLALAS_PK": "772",
                                    "METTOL": "2016-08-12",
                                    "Vendégek_Száma": "3",
                                    "Mozgóátlag": "3"
                                },
                                {
                                    "UGYFEL_FK": "eszter",
                                    "FOGLALAS_PK": "1119",
                                    "METTOL": "2016-10-04",
                                    "Vendégek_Száma": "3",
                                    "Mozgóátlag": "3"
                                },
                                {
                                    "UGYFEL_FK": "eszter",
                                    "FOGLALAS_PK": "1193",
                                    "METTOL": "2016-10-26",
                                    "Vendégek_Száma": "3",
                                    "Mozgóátlag": "3"
                                },
                                {
                                    "UGYFEL_FK": "eszter",
                                    "FOGLALAS_PK": "1385",
                                    "METTOL": "2016-12-23",
                                    "Vendégek_Száma": "2",
                                    "Mozgóátlag": "2"
                                },
                                {
                                    "UGYFEL_FK": "eszter2",
                                    "FOGLALAS_PK": "993",
                                    "METTOL": "2016-06-30",
                                    "Vendégek_Száma": "3",
                                    "Mozgóátlag": "3"
                                },
                                {
                                    "UGYFEL_FK": "eszter2",
                                    "FOGLALAS_PK": "1017",
                                    "METTOL": "2016-07-08",
                                    "Vendégek_Száma": "1",
                                    "Mozgóátlag": "2"
                                },
                                {
                                    "UGYFEL_FK": "eszter2",
                                    "FOGLALAS_PK": "1097",
                                    "METTOL": "2016-10-01",
                                    "Vendégek_Száma": "3",
                                    "Mozgóátlag": "2"
                                },
                                {
                                    "UGYFEL_FK": "eszter2",
                                    "FOGLALAS_PK": "1109",
                                    "METTOL": "2016-10-01",
                                    "Vendégek_Száma": "1",
                                    "Mozgóátlag": "2"
                                },
                                {
                                    "UGYFEL_FK": "eszter2",
                                    "FOGLALAS_PK": "1171",
                                    "METTOL": "2016-10-20",
                                    "Vendégek_Száma": "1",
                                    "Mozgóátlag": "1"
                                },
                                {
                                    "UGYFEL_FK": "eszter2",
                                    "FOGLALAS_PK": "1187",
                                    "METTOL": "2016-10-23",
                                    "Vendégek_Száma": "1",
                                    "Mozgóátlag": "1"
                                },
                                {
                                    "UGYFEL_FK": "eszter2",
                                    "FOGLALAS_PK": "1246",
                                    "METTOL": "2016-11-05",
                                    "Vendégek_Száma": "4",
                                    "Mozgóátlag": "2"
                                },
                                {
                                    "UGYFEL_FK": "eszter2",
                                    "FOGLALAS_PK": "1336",
                                    "METTOL": "2016-12-02",
                                    "Vendégek_Száma": "1",
                                    "Mozgóátlag": "1"
                                },
                                {
                                    "UGYFEL_FK": "eszter2",
                                    "FOGLALAS_PK": "1345",
                                    "METTOL": "2016-12-05",
                                    "Vendégek_Száma": "2",
                                    "Mozgóátlag": "1"
                                },
                                {
                                    "UGYFEL_FK": "eszter2",
                                    "FOGLALAS_PK": "1480",
                                    "METTOL": "2016-12-29",
                                    "Vendégek_Száma": "1",
                                    "Mozgóátlag": "1"
                                },
                                {
                                    "UGYFEL_FK": "eszter4",
                                    "FOGLALAS_PK": "1421",
                                    "METTOL": "2017-01-05",
                                    "Vendégek_Száma": "2",
                                    "Mozgóátlag": "2"
                                },
                                {
                                    "UGYFEL_FK": "eszter4",
                                    "FOGLALAS_PK": "1475",
                                    "METTOL": "2017-01-26",
                                    "Vendégek_Száma": "2",
                                    "Mozgóátlag": "2"
                                },
                                {
                                    "UGYFEL_FK": "eszter4",
                                    "FOGLALAS_PK": "1574",
                                    "METTOL": "2017-02-26",
                                    "Vendégek_Száma": "3",
                                    "Mozgóátlag": "2"
                                },
                                {
                                    "UGYFEL_FK": "ESZTERE",
                                    "FOGLALAS_PK": "874",
                                    "METTOL": "2016-05-30",
                                    "Vendégek_Száma": "2",
                                    "Mozgóátlag": "2"
                                },
                                {
                                    "UGYFEL_FK": "ESZTERE",
                                    "FOGLALAS_PK": "688",
                                    "METTOL": "2016-07-19",
                                    "Vendégek_Száma": "2",
                                    "Mozgóátlag": "2"
                                },
                                {
                                    "UGYFEL_FK": "ESZTERE",
                                    "FOGLALAS_PK": "1235",
                                    "METTOL": "2016-11-01",
                                    "Vendégek_Száma": "2",
                                    "Mozgóátlag": "2"
                                },
                                {
                                    "UGYFEL_FK": "ESZTERE",
                                    "FOGLALAS_PK": "1516",
                                    "METTOL": "2017-02-10",
                                    "Vendégek_Száma": "2",
                                    "Mozgóátlag": "2"
                                },
                                {
                                    "UGYFEL_FK": "eva",
                                    "FOGLALAS_PK": "1125",
                                    "METTOL": "2016-10-06",
                                    "Vendégek_Száma": "3",
                                    "Mozgóátlag": "3"
                                },
                                {
                                    "UGYFEL_FK": "eva",
                                    "FOGLALAS_PK": "1438",
                                    "METTOL": "2017-01-14",
                                    "Vendégek_Száma": "2",
                                    "Mozgóátlag": "2"
                                },
                                {
                                    "UGYFEL_FK": "eva2",
                                    "FOGLALAS_PK": "845",
                                    "METTOL": "2016-09-02",
                                    "Vendégek_Száma": "1",
                                    "Mozgóátlag": "1"
                                },
                                {
                                    "UGYFEL_FK": "eva2",
                                    "FOGLALAS_PK": "1255",
                                    "METTOL": "2016-11-06",
                                    "Vendégek_Száma": "2",
                                    "Mozgóátlag": "1"
                                },
                                {
                                    "UGYFEL_FK": "eva2",
                                    "FOGLALAS_PK": "1349",
                                    "METTOL": "2016-12-06",
                                    "Vendégek_Száma": "2",
                                    "Mozgóátlag": "1"
                                },
                                {
                                    "UGYFEL_FK": "eva2",
                                    "FOGLALAS_PK": "1423",
                                    "METTOL": "2017-01-06",
                                    "Vendégek_Száma": "4",
                                    "Mozgóátlag": "2"
                                },
                                {
                                    "UGYFEL_FK": "EVAV",
                                    "FOGLALAS_PK": "614",
                                    "METTOL": "2016-05-01",
                                    "Vendégek_Száma": "3",
                                    "Mozgóátlag": "3"
                                },
                                {
                                    "UGYFEL_FK": "EVAV",
                                    "FOGLALAS_PK": "842",
                                    "METTOL": "2016-08-31",
                                    "Vendégek_Száma": "2",
                                    "Mozgóátlag": "2"
                                },
                                {
                                    "UGYFEL_FK": "EVAV",
                                    "FOGLALAS_PK": "1157",
                                    "METTOL": "2016-10-15",
                                    "Vendégek_Száma": "3",
                                    "Mozgóátlag": "2"
                                },
                                {
                                    "UGYFEL_FK": "EVAV",
                                    "FOGLALAS_PK": "1160",
                                    "METTOL": "2016-10-16",
                                    "Vendégek_Száma": "2",
                                    "Mozgóátlag": "2"
                                },
                                {
                                    "UGYFEL_FK": "EVAV",
                                    "FOGLALAS_PK": "1495",
                                    "METTOL": "2017-02-04",
                                    "Vendégek_Száma": "5",
                                    "Mozgóátlag": "3"
                                },
                                {
                                    "UGYFEL_FK": "ferenc1",
                                    "FOGLALAS_PK": "625",
                                    "METTOL": "2016-05-08",
                                    "Vendégek_Száma": "2",
                                    "Mozgóátlag": "2"
                                },
                                {
                                    "UGYFEL_FK": "ferenc1",
                                    "FOGLALAS_PK": "966",
                                    "METTOL": "2016-06-16",
                                    "Vendégek_Száma": "2",
                                    "Mozgóátlag": "2"
                                },
                                {
                                    "UGYFEL_FK": "ferenc1",
                                    "FOGLALAS_PK": "1131",
                                    "METTOL": "2016-10-08",
                                    "Vendégek_Száma": "2",
                                    "Mozgóátlag": "2"
                                },
                                {
                                    "UGYFEL_FK": "ferenc1",
                                    "FOGLALAS_PK": "1262",
                                    "METTOL": "2016-11-07",
                                    "Vendégek_Száma": "3",
                                    "Mozgóátlag": "2"
                                },
                                {
                                    "UGYFEL_FK": "fruzsina4",
                                    "FOGLALAS_PK": "889",
                                    "METTOL": "2016-06-02",
                                    "Vendégek_Száma": "2",
                                    "Mozgóátlag": "2"
                                },
                                {
                                    "UGYFEL_FK": "fruzsina4",
                                    "FOGLALAS_PK": "996",
                                    "METTOL": "2016-07-01",
                                    "Vendégek_Száma": "3",
                                    "Mozgóátlag": "2"
                                },
                                {
                                    "UGYFEL_FK": "fruzsina4",
                                    "FOGLALAS_PK": "667",
                                    "METTOL": "2016-07-13",
                                    "Vendégek_Száma": "3",
                                    "Mozgóátlag": "2"
                                },
                                {
                                    "UGYFEL_FK": "fruzsina4",
                                    "FOGLALAS_PK": "828",
                                    "METTOL": "2016-08-27",
                                    "Vendégek_Száma": "4",
                                    "Mozgóátlag": "3"
                                },
                                {
                                    "UGYFEL_FK": "fruzsina4",
                                    "FOGLALAS_PK": "1088",
                                    "METTOL": "2016-09-29",
                                    "Vendégek_Száma": "3",
                                    "Mozgóátlag": "3"
                                },
                                {
                                    "UGYFEL_FK": "fruzsina4",
                                    "FOGLALAS_PK": "1305",
                                    "METTOL": "2016-11-22",
                                    "Vendégek_Száma": "2",
                                    "Mozgóátlag": "3"
                                },
                                {
                                    "UGYFEL_FK": "fruzsina4",
                                    "FOGLALAS_PK": "1366",
                                    "METTOL": "2016-12-16",
                                    "Vendégek_Száma": "1",
                                    "Mozgóátlag": "2"
                                },
                                {
                                    "UGYFEL_FK": "fruzsina4",
                                    "FOGLALAS_PK": "1467",
                                    "METTOL": "2017-01-22",
                                    "Vendégek_Száma": "4",
                                    "Mozgóátlag": "2"
                                },
                                {
                                    "UGYFEL_FK": "gabor1",
                                    "FOGLALAS_PK": "973",
                                    "METTOL": "2016-06-20",
                                    "Vendégek_Száma": "4",
                                    "Mozgóátlag": "4"
                                },
                                {
                                    "UGYFEL_FK": "gabor1",
                                    "FOGLALAS_PK": "1026",
                                    "METTOL": "2016-07-12",
                                    "Vendégek_Száma": "1",
                                    "Mozgóátlag": "2"
                                },
                                {
                                    "UGYFEL_FK": "gabor1",
                                    "FOGLALAS_PK": "730",
                                    "METTOL": "2016-07-28",
                                    "Vendégek_Száma": "2",
                                    "Mozgóátlag": "2"
                                },
                                {
                                    "UGYFEL_FK": "gabor1",
                                    "FOGLALAS_PK": "844",
                                    "METTOL": "2016-09-02",
                                    "Vendégek_Száma": "3",
                                    "Mozgóátlag": "2"
                                },
                                {
                                    "UGYFEL_FK": "gabor1",
                                    "FOGLALAS_PK": "1169",
                                    "METTOL": "2016-10-20",
                                    "Vendégek_Száma": "1",
                                    "Mozgóátlag": "2"
                                },
                                {
                                    "UGYFEL_FK": "gabor1",
                                    "FOGLALAS_PK": "1291",
                                    "METTOL": "2016-11-19",
                                    "Vendégek_Száma": "2",
                                    "Mozgóátlag": "1"
                                },
                                {
                                    "UGYFEL_FK": "gabor4",
                                    "FOGLALAS_PK": "603",
                                    "METTOL": "2016-04-26",
                                    "Vendégek_Száma": "3",
                                    "Mozgóátlag": "3"
                                },
                                {
                                    "UGYFEL_FK": "gabor4",
                                    "FOGLALAS_PK": "878",
                                    "METTOL": "2016-05-30",
                                    "Vendégek_Száma": "1",
                                    "Mozgóátlag": "2"
                                },
                                {
                                    "UGYFEL_FK": "gabor4",
                                    "FOGLALAS_PK": "841",
                                    "METTOL": "2016-08-31",
                                    "Vendégek_Száma": "4",
                                    "Mozgóátlag": "2"
                                },
                                {
                                    "UGYFEL_FK": "gabor4",
                                    "FOGLALAS_PK": "1260",
                                    "METTOL": "2016-11-07",
                                    "Vendégek_Száma": "4",
                                    "Mozgóátlag": "3"
                                },
                                {
                                    "UGYFEL_FK": "gabriella1",
                                    "FOGLALAS_PK": "593",
                                    "METTOL": "2016-04-21",
                                    "Vendégek_Száma": "3",
                                    "Mozgóátlag": "3"
                                },
                                {
                                    "UGYFEL_FK": "gabriella1",
                                    "FOGLALAS_PK": "1022",
                                    "METTOL": "2016-07-10",
                                    "Vendégek_Száma": "3",
                                    "Mozgóátlag": "3"
                                },
                                {
                                    "UGYFEL_FK": "gabriella1",
                                    "FOGLALAS_PK": "710",
                                    "METTOL": "2016-07-24",
                                    "Vendégek_Száma": "2",
                                    "Mozgóátlag": "2"
                                },
                                {
                                    "UGYFEL_FK": "gabriella1",
                                    "FOGLALAS_PK": "1496",
                                    "METTOL": "2017-02-04",
                                    "Vendégek_Száma": "3",
                                    "Mozgóátlag": "2"
                                },
                                {
                                    "UGYFEL_FK": "gabriella1",
                                    "FOGLALAS_PK": "1524",
                                    "METTOL": "2017-02-12",
                                    "Vendégek_Száma": "2",
                                    "Mozgóátlag": "2"
                                },
                                {
                                    "UGYFEL_FK": "gabriella1",
                                    "FOGLALAS_PK": "1556",
                                    "METTOL": "2017-02-21",
                                    "Vendégek_Száma": "3",
                                    "Mozgóátlag": "2"
                                },
                                {
                                    "UGYFEL_FK": "gabriella10",
                                    "FOGLALAS_PK": "1114",
                                    "METTOL": "2016-10-01",
                                    "Vendégek_Száma": "3",
                                    "Mozgóátlag": "3"
                                },
                                {
                                    "UGYFEL_FK": "georgij",
                                    "FOGLALAS_PK": "962",
                                    "METTOL": "2016-06-16",
                                    "Vendégek_Száma": "3",
                                    "Mozgóátlag": "3"
                                },
                                {
                                    "UGYFEL_FK": "georgij",
                                    "FOGLALAS_PK": "788",
                                    "METTOL": "2016-08-16",
                                    "Vendégek_Száma": "4",
                                    "Mozgóátlag": "3"
                                },
                                {
                                    "UGYFEL_FK": "georgij",
                                    "FOGLALAS_PK": "831",
                                    "METTOL": "2016-08-28",
                                    "Vendégek_Száma": "2",
                                    "Mozgóátlag": "3"
                                },
                                {
                                    "UGYFEL_FK": "georgij",
                                    "FOGLALAS_PK": "1064",
                                    "METTOL": "2016-09-18",
                                    "Vendégek_Száma": "3",
                                    "Mozgóátlag": "3"
                                },
                                {
                                    "UGYFEL_FK": "gusztav",
                                    "FOGLALAS_PK": "621",
                                    "METTOL": "2016-05-06",
                                    "Vendégek_Száma": "2",
                                    "Mozgóátlag": "2"
                                },
                                {
                                    "UGYFEL_FK": "gusztav",
                                    "FOGLALAS_PK": "756",
                                    "METTOL": "2016-08-05",
                                    "Vendégek_Száma": "3",
                                    "Mozgóátlag": "2"
                                },
                                {
                                    "UGYFEL_FK": "gusztav",
                                    "FOGLALAS_PK": "1106",
                                    "METTOL": "2016-10-01",
                                    "Vendégek_Száma": "3",
                                    "Mozgóátlag": "2"
                                },
                                {
                                    "UGYFEL_FK": "gusztav",
                                    "FOGLALAS_PK": "1492",
                                    "METTOL": "2017-02-03",
                                    "Vendégek_Száma": "2",
                                    "Mozgóátlag": "2"
                                },
                                {
                                    "UGYFEL_FK": "gusztav",
                                    "FOGLALAS_PK": "1563",
                                    "METTOL": "2017-02-23",
                                    "Vendégek_Száma": "4",
                                    "Mozgóátlag": "2"
                                },
                                {
                                    "UGYFEL_FK": "GYONGYIK",
                                    "FOGLALAS_PK": "890",
                                    "METTOL": "2016-06-02",
                                    "Vendégek_Száma": "3",
                                    "Mozgóátlag": "3"
                                },
                                {
                                    "UGYFEL_FK": "GYONGYIK",
                                    "FOGLALAS_PK": "945",
                                    "METTOL": "2016-06-10",
                                    "Vendégek_Száma": "1",
                                    "Mozgóátlag": "2"
                                },
                                {
                                    "UGYFEL_FK": "GYONGYIK",
                                    "FOGLALAS_PK": "1000",
                                    "METTOL": "2016-07-01",
                                    "Vendégek_Száma": "2",
                                    "Mozgóátlag": "2"
                                },
                                {
                                    "UGYFEL_FK": "GYONGYIK",
                                    "FOGLALAS_PK": "795",
                                    "METTOL": "2016-08-17",
                                    "Vendégek_Száma": "3",
                                    "Mozgóátlag": "2"
                                },
                                {
                                    "UGYFEL_FK": "GYONGYIK",
                                    "FOGLALAS_PK": "1265",
                                    "METTOL": "2016-11-08",
                                    "Vendégek_Száma": "2",
                                    "Mozgóátlag": "2"
                                },
                                {
                                    "UGYFEL_FK": "GYONGYIK",
                                    "FOGLALAS_PK": "1335",
                                    "METTOL": "2016-12-01",
                                    "Vendégek_Száma": "2",
                                    "Mozgóátlag": "2"
                                },
                                {
                                    "UGYFEL_FK": "GYONGYIK",
                                    "FOGLALAS_PK": "1463",
                                    "METTOL": "2017-01-22",
                                    "Vendégek_Száma": "3",
                                    "Mozgóátlag": "2"
                                },
                                {
                                    "UGYFEL_FK": "GYORGYO",
                                    "FOGLALAS_PK": "861",
                                    "METTOL": "2016-05-27",
                                    "Vendégek_Száma": "3",
                                    "Mozgóátlag": "3"
                                },
                                {
                                    "UGYFEL_FK": "GYORGYO",
                                    "FOGLALAS_PK": "887",
                                    "METTOL": "2016-06-01",
                                    "Vendégek_Száma": "2",
                                    "Mozgóátlag": "2"
                                },
                                {
                                    "UGYFEL_FK": "GYORGYO",
                                    "FOGLALAS_PK": "946",
                                    "METTOL": "2016-06-10",
                                    "Vendégek_Száma": "2",
                                    "Mozgóátlag": "2"
                                },
                                {
                                    "UGYFEL_FK": "GYORGYO",
                                    "FOGLALAS_PK": "683",
                                    "METTOL": "2016-07-18",
                                    "Vendégek_Száma": "2",
                                    "Mozgóátlag": "2"
                                },
                                {
                                    "UGYFEL_FK": "GYORGYO",
                                    "FOGLALAS_PK": "734",
                                    "METTOL": "2016-07-28",
                                    "Vendégek_Száma": "3",
                                    "Mozgóátlag": "2"
                                },
                                {
                                    "UGYFEL_FK": "GYORGYO",
                                    "FOGLALAS_PK": "1213",
                                    "METTOL": "2016-10-28",
                                    "Vendégek_Száma": "1",
                                    "Mozgóátlag": "2"
                                },
                                {
                                    "UGYFEL_FK": "GYORGYO",
                                    "FOGLALAS_PK": "1527",
                                    "METTOL": "2017-02-13",
                                    "Vendégek_Száma": "2",
                                    "Mozgóátlag": "2"
                                },
                                {
                                    "UGYFEL_FK": "GYORGYO",
                                    "FOGLALAS_PK": "1566",
                                    "METTOL": "2017-02-24",
                                    "Vendégek_Száma": "3",
                                    "Mozgóátlag": "2"
                                },
                                {
                                    "UGYFEL_FK": "henrik3",
                                    "FOGLALAS_PK": "818",
                                    "METTOL": "2016-08-24",
                                    "Vendégek_Száma": "1",
                                    "Mozgóátlag": "1"
                                },
                                {
                                    "UGYFEL_FK": "henrik3",
                                    "FOGLALAS_PK": "1405",
                                    "METTOL": "2016-12-29",
                                    "Vendégek_Száma": "3",
                                    "Mozgóátlag": "2"
                                },
                                {
                                    "UGYFEL_FK": "henrik3",
                                    "FOGLALAS_PK": "1476",
                                    "METTOL": "2017-01-27",
                                    "Vendégek_Száma": "3",
                                    "Mozgóátlag": "2"
                                },
                                {
                                    "UGYFEL_FK": "IBOLYAA",
                                    "FOGLALAS_PK": "835",
                                    "METTOL": "2016-08-29",
                                    "Vendégek_Száma": "5",
                                    "Mozgóátlag": "5"
                                },
                                {
                                    "UGYFEL_FK": "IBOLYAA",
                                    "FOGLALAS_PK": "1184",
                                    "METTOL": "2016-10-23",
                                    "Vendégek_Száma": "2",
                                    "Mozgóátlag": "3"
                                },
                                {
                                    "UGYFEL_FK": "IBOLYAA",
                                    "FOGLALAS_PK": "1452",
                                    "METTOL": "2017-01-17",
                                    "Vendégek_Száma": "3",
                                    "Mozgóátlag": "3"
                                },
                                {
                                    "UGYFEL_FK": "ilona3",
                                    "FOGLALAS_PK": "742",
                                    "METTOL": "2016-07-31",
                                    "Vendégek_Száma": "2",
                                    "Mozgóátlag": "2"
                                },
                                {
                                    "UGYFEL_FK": "ilona3",
                                    "FOGLALAS_PK": "754",
                                    "METTOL": "2016-08-04",
                                    "Vendégek_Száma": "3",
                                    "Mozgóátlag": "2"
                                },
                                {
                                    "UGYFEL_FK": "ilona3",
                                    "FOGLALAS_PK": "1245",
                                    "METTOL": "2016-11-04",
                                    "Vendégek_Száma": "4",
                                    "Mozgóátlag": "3"
                                },
                                {
                                    "UGYFEL_FK": "ilona3",
                                    "FOGLALAS_PK": "1393",
                                    "METTOL": "2016-12-25",
                                    "Vendégek_Száma": "3",
                                    "Mozgóátlag": "3"
                                },
                                {
                                    "UGYFEL_FK": "imre",
                                    "FOGLALAS_PK": "1060",
                                    "METTOL": "2016-09-17",
                                    "Vendégek_Száma": "3",
                                    "Mozgóátlag": "3"
                                },
                                {
                                    "UGYFEL_FK": "imre",
                                    "FOGLALAS_PK": "1209",
                                    "METTOL": "2016-10-28",
                                    "Vendégek_Száma": "4",
                                    "Mozgóátlag": "3"
                                },
                                {
                                    "UGYFEL_FK": "imre1",
                                    "FOGLALAS_PK": "982",
                                    "METTOL": "2016-06-23",
                                    "Vendégek_Száma": "4",
                                    "Mozgóátlag": "4"
                                },
                                {
                                    "UGYFEL_FK": "imre1",
                                    "FOGLALAS_PK": "989",
                                    "METTOL": "2016-06-27",
                                    "Vendégek_Száma": "2",
                                    "Mozgóátlag": "3"
                                },
                                {
                                    "UGYFEL_FK": "imre1",
                                    "FOGLALAS_PK": "806",
                                    "METTOL": "2016-08-21",
                                    "Vendégek_Száma": "2",
                                    "Mozgóátlag": "2"
                                },
                                {
                                    "UGYFEL_FK": "imre1",
                                    "FOGLALAS_PK": "810",
                                    "METTOL": "2016-08-23",
                                    "Vendégek_Száma": "3",
                                    "Mozgóátlag": "2"
                                },
                                {
                                    "UGYFEL_FK": "imre1",
                                    "FOGLALAS_PK": "836",
                                    "METTOL": "2016-08-29",
                                    "Vendégek_Száma": "2",
                                    "Mozgóátlag": "2"
                                },
                                {
                                    "UGYFEL_FK": "imre1",
                                    "FOGLALAS_PK": "1487",
                                    "METTOL": "2017-02-01",
                                    "Vendégek_Száma": "2",
                                    "Mozgóátlag": "2"
                                },
                                {
                                    "UGYFEL_FK": "imre1",
                                    "FOGLALAS_PK": "1499",
                                    "METTOL": "2017-02-05",
                                    "Vendégek_Száma": "4",
                                    "Mozgóátlag": "2"
                                },
                                {
                                    "UGYFEL_FK": "istvan",
                                    "FOGLALAS_PK": "1127",
                                    "METTOL": "2016-10-07",
                                    "Vendégek_Száma": "2",
                                    "Mozgóátlag": "2"
                                },
                                {
                                    "UGYFEL_FK": "istvan",
                                    "FOGLALAS_PK": "1301",
                                    "METTOL": "2016-11-22",
                                    "Vendégek_Száma": "3",
                                    "Mozgóátlag": "2"
                                },
                                {
                                    "UGYFEL_FK": "istvan",
                                    "FOGLALAS_PK": "1413",
                                    "METTOL": "2017-01-02",
                                    "Vendégek_Száma": "2",
                                    "Mozgóátlag": "2"
                                },
                                {
                                    "UGYFEL_FK": "istvan1",
                                    "FOGLALAS_PK": "583",
                                    "METTOL": "2016-04-16",
                                    "Vendégek_Száma": "3",
                                    "Mozgóátlag": "3"
                                },
                                {
                                    "UGYFEL_FK": "istvan1",
                                    "FOGLALAS_PK": "599",
                                    "METTOL": "2016-04-24",
                                    "Vendégek_Száma": "3",
                                    "Mozgóátlag": "3"
                                },
                                {
                                    "UGYFEL_FK": "istvan1",
                                    "FOGLALAS_PK": "689",
                                    "METTOL": "2016-07-19",
                                    "Vendégek_Száma": "1",
                                    "Mozgóátlag": "2"
                                },
                                {
                                    "UGYFEL_FK": "istvan1",
                                    "FOGLALAS_PK": "1507",
                                    "METTOL": "2017-02-07",
                                    "Vendégek_Száma": "3",
                                    "Mozgóátlag": "2"
                                },
                                {
                                    "UGYFEL_FK": "ISTVANV",
                                    "FOGLALAS_PK": "998",
                                    "METTOL": "2016-07-01",
                                    "Vendégek_Száma": "4",
                                    "Mozgóátlag": "4"
                                },
                                {
                                    "UGYFEL_FK": "ISTVANV",
                                    "FOGLALAS_PK": "1087",
                                    "METTOL": "2016-09-29",
                                    "Vendégek_Száma": "3",
                                    "Mozgóátlag": "3"
                                },
                                {
                                    "UGYFEL_FK": "janos3",
                                    "FOGLALAS_PK": "904",
                                    "METTOL": "2016-06-04",
                                    "Vendégek_Száma": "1",
                                    "Mozgóátlag": "1"
                                },
                                {
                                    "UGYFEL_FK": "janos3",
                                    "FOGLALAS_PK": "820",
                                    "METTOL": "2016-08-24",
                                    "Vendégek_Száma": "3",
                                    "Mozgóátlag": "2"
                                },
                                {
                                    "UGYFEL_FK": "janos3",
                                    "FOGLALAS_PK": "1118",
                                    "METTOL": "2016-10-03",
                                    "Vendégek_Száma": "3",
                                    "Mozgóátlag": "2"
                                },
                                {
                                    "UGYFEL_FK": "janos3",
                                    "FOGLALAS_PK": "1177",
                                    "METTOL": "2016-10-22",
                                    "Vendégek_Száma": "1",
                                    "Mozgóátlag": "2"
                                },
                                {
                                    "UGYFEL_FK": "janos3",
                                    "FOGLALAS_PK": "1526",
                                    "METTOL": "2017-02-12",
                                    "Vendégek_Száma": "3",
                                    "Mozgóátlag": "2"
                                },
                                {
                                    "UGYFEL_FK": "JANOSG",
                                    "FOGLALAS_PK": "631",
                                    "METTOL": "2016-05-09",
                                    "Vendégek_Száma": "1",
                                    "Mozgóátlag": "1"
                                },
                                {
                                    "UGYFEL_FK": "JANOSG",
                                    "FOGLALAS_PK": "789",
                                    "METTOL": "2016-08-16",
                                    "Vendégek_Száma": "3",
                                    "Mozgóátlag": "2"
                                },
                                {
                                    "UGYFEL_FK": "JANOSG",
                                    "FOGLALAS_PK": "840",
                                    "METTOL": "2016-08-30",
                                    "Vendégek_Száma": "3",
                                    "Mozgóátlag": "2"
                                },
                                {
                                    "UGYFEL_FK": "JANOSG",
                                    "FOGLALAS_PK": "1259",
                                    "METTOL": "2016-11-07",
                                    "Vendégek_Száma": "3",
                                    "Mozgóátlag": "2"
                                },
                                {
                                    "UGYFEL_FK": "JANOSG",
                                    "FOGLALAS_PK": "1402",
                                    "METTOL": "2016-12-28",
                                    "Vendégek_Száma": "2",
                                    "Mozgóátlag": "2"
                                },
                                {
                                    "UGYFEL_FK": "JANOSG",
                                    "FOGLALAS_PK": "1431",
                                    "METTOL": "2017-01-10",
                                    "Vendégek_Száma": "2",
                                    "Mozgóátlag": "2"
                                },
                                {
                                    "UGYFEL_FK": "JANOSG",
                                    "FOGLALAS_PK": "1486",
                                    "METTOL": "2017-01-31",
                                    "Vendégek_Száma": "2",
                                    "Mozgóátlag": "2"
                                },
                                {
                                    "UGYFEL_FK": "JANOSP",
                                    "FOGLALAS_PK": "1011",
                                    "METTOL": "2016-07-04",
                                    "Vendégek_Száma": "3",
                                    "Mozgóátlag": "3"
                                },
                                {
                                    "UGYFEL_FK": "JANOSP",
                                    "FOGLALAS_PK": "1314",
                                    "METTOL": "2016-11-23",
                                    "Vendégek_Száma": "2",
                                    "Mozgóátlag": "2"
                                },
                                {
                                    "UGYFEL_FK": "JANOSP",
                                    "FOGLALAS_PK": "1318",
                                    "METTOL": "2016-11-25",
                                    "Vendégek_Száma": "2",
                                    "Mozgóátlag": "2"
                                },
                                {
                                    "UGYFEL_FK": "JANOSP",
                                    "FOGLALAS_PK": "1378",
                                    "METTOL": "2016-12-18",
                                    "Vendégek_Száma": "2",
                                    "Mozgóátlag": "2"
                                },
                                {
                                    "UGYFEL_FK": "jozsef",
                                    "FOGLALAS_PK": "1050",
                                    "METTOL": "2016-09-13",
                                    "Vendégek_Száma": "2",
                                    "Mozgóátlag": "2"
                                },
                                {
                                    "UGYFEL_FK": "jozsef",
                                    "FOGLALAS_PK": "1133",
                                    "METTOL": "2016-10-08",
                                    "Vendégek_Száma": "2",
                                    "Mozgóátlag": "2"
                                },
                                {
                                    "UGYFEL_FK": "jozsef",
                                    "FOGLALAS_PK": "1348",
                                    "METTOL": "2016-12-06",
                                    "Vendégek_Száma": "2",
                                    "Mozgóátlag": "2"
                                },
                                {
                                    "UGYFEL_FK": "jozsef2",
                                    "FOGLALAS_PK": "1013",
                                    "METTOL": "2016-07-06",
                                    "Vendégek_Száma": "2",
                                    "Mozgóátlag": "2"
                                },
                                {
                                    "UGYFEL_FK": "jozsef2",
                                    "FOGLALAS_PK": "677",
                                    "METTOL": "2016-07-16",
                                    "Vendégek_Száma": "3",
                                    "Mozgóátlag": "2"
                                },
                                {
                                    "UGYFEL_FK": "jozsef2",
                                    "FOGLALAS_PK": "1039",
                                    "METTOL": "2016-09-09",
                                    "Vendégek_Száma": "2",
                                    "Mozgóátlag": "2"
                                },
                                {
                                    "UGYFEL_FK": "jozsef2",
                                    "FOGLALAS_PK": "1307",
                                    "METTOL": "2016-11-23",
                                    "Vendégek_Száma": "3",
                                    "Mozgóátlag": "2"
                                },
                                {
                                    "UGYFEL_FK": "jozsef2",
                                    "FOGLALAS_PK": "1321",
                                    "METTOL": "2016-11-25",
                                    "Vendégek_Száma": "3",
                                    "Mozgóátlag": "2"
                                },
                                {
                                    "UGYFEL_FK": "JOZSEFG",
                                    "FOGLALAS_PK": "616",
                                    "METTOL": "2016-05-02",
                                    "Vendégek_Száma": "2",
                                    "Mozgóátlag": "2"
                                },
                                {
                                    "UGYFEL_FK": "JOZSEFG",
                                    "FOGLALAS_PK": "852",
                                    "METTOL": "2016-05-23",
                                    "Vendégek_Száma": "1",
                                    "Mozgóátlag": "1"
                                },
                                {
                                    "UGYFEL_FK": "JOZSEFG",
                                    "FOGLALAS_PK": "905",
                                    "METTOL": "2016-06-04",
                                    "Vendégek_Száma": "4",
                                    "Mozgóátlag": "2"
                                },
                                {
                                    "UGYFEL_FK": "JOZSEFG",
                                    "FOGLALAS_PK": "813",
                                    "METTOL": "2016-08-24",
                                    "Vendégek_Száma": "3",
                                    "Mozgóátlag": "2"
                                },
                                {
                                    "UGYFEL_FK": "JOZSEFG",
                                    "FOGLALAS_PK": "1426",
                                    "METTOL": "2017-01-09",
                                    "Vendégek_Száma": "2",
                                    "Mozgóátlag": "2"
                                },
                                {
                                    "UGYFEL_FK": "JOZSEFG",
                                    "FOGLALAS_PK": "1461",
                                    "METTOL": "2017-01-22",
                                    "Vendégek_Száma": "1",
                                    "Mozgóátlag": "2"
                                },
                                {
                                    "UGYFEL_FK": "JOZSEFG",
                                    "FOGLALAS_PK": "1569",
                                    "METTOL": "2017-02-24",
                                    "Vendégek_Száma": "3",
                                    "Mozgóátlag": "2"
                                },
                                {
                                    "UGYFEL_FK": "JUDITH",
                                    "FOGLALAS_PK": "920",
                                    "METTOL": "2016-06-06",
                                    "Vendégek_Száma": "2",
                                    "Mozgóátlag": "2"
                                },
                                {
                                    "UGYFEL_FK": "JUDITH",
                                    "FOGLALAS_PK": "729",
                                    "METTOL": "2016-07-28",
                                    "Vendégek_Száma": "2",
                                    "Mozgóátlag": "2"
                                },
                                {
                                    "UGYFEL_FK": "JUDITH",
                                    "FOGLALAS_PK": "1379",
                                    "METTOL": "2016-12-19",
                                    "Vendégek_Száma": "1",
                                    "Mozgóátlag": "1"
                                },
                                {
                                    "UGYFEL_FK": "julia",
                                    "FOGLALAS_PK": "592",
                                    "METTOL": "2016-04-21",
                                    "Vendégek_Száma": "2",
                                    "Mozgóátlag": "2"
                                },
                                {
                                    "UGYFEL_FK": "julia",
                                    "FOGLALAS_PK": "638",
                                    "METTOL": "2016-05-12",
                                    "Vendégek_Száma": "1",
                                    "Mozgóátlag": "1"
                                },
                                {
                                    "UGYFEL_FK": "julia",
                                    "FOGLALAS_PK": "926",
                                    "METTOL": "2016-06-07",
                                    "Vendégek_Száma": "5",
                                    "Mozgóátlag": "2"
                                },
                                {
                                    "UGYFEL_FK": "julia",
                                    "FOGLALAS_PK": "699",
                                    "METTOL": "2016-07-20",
                                    "Vendégek_Száma": "2",
                                    "Mozgóátlag": "2"
                                },
                                {
                                    "UGYFEL_FK": "julia",
                                    "FOGLALAS_PK": "1577",
                                    "METTOL": "2017-02-27",
                                    "Vendégek_Száma": "3",
                                    "Mozgóátlag": "2"
                                },
                                {
                                    "UGYFEL_FK": "julia4",
                                    "FOGLALAS_PK": "1258",
                                    "METTOL": "2016-11-07",
                                    "Vendégek_Száma": "1",
                                    "Mozgóátlag": "1"
                                },
                                {
                                    "UGYFEL_FK": "julia4",
                                    "FOGLALAS_PK": "1493",
                                    "METTOL": "2017-02-04",
                                    "Vendégek_Száma": "4",
                                    "Mozgóátlag": "2"
                                },
                                {
                                    "UGYFEL_FK": "julianna4",
                                    "FOGLALAS_PK": "692",
                                    "METTOL": "2016-07-20",
                                    "Vendégek_Száma": "2",
                                    "Mozgóátlag": "2"
                                },
                                {
                                    "UGYFEL_FK": "julianna4",
                                    "FOGLALAS_PK": "1218",
                                    "METTOL": "2016-10-29",
                                    "Vendégek_Száma": "3",
                                    "Mozgóátlag": "2"
                                },
                                {
                                    "UGYFEL_FK": "julianna4",
                                    "FOGLALAS_PK": "1244",
                                    "METTOL": "2016-11-03",
                                    "Vendégek_Száma": "2",
                                    "Mozgóátlag": "2"
                                },
                                {
                                    "UGYFEL_FK": "julianna4",
                                    "FOGLALAS_PK": "1323",
                                    "METTOL": "2016-11-27",
                                    "Vendégek_Száma": "3",
                                    "Mozgóátlag": "2"
                                },
                                {
                                    "UGYFEL_FK": "kata",
                                    "FOGLALAS_PK": "568",
                                    "METTOL": "2016-04-10",
                                    "Vendégek_Száma": "2",
                                    "Mozgóátlag": "2"
                                },
                                {
                                    "UGYFEL_FK": "kata",
                                    "FOGLALAS_PK": "601",
                                    "METTOL": "2016-04-25",
                                    "Vendégek_Száma": "1",
                                    "Mozgóátlag": "1"
                                },
                                {
                                    "UGYFEL_FK": "kata",
                                    "FOGLALAS_PK": "885",
                                    "METTOL": "2016-05-31",
                                    "Vendégek_Száma": "3",
                                    "Mozgóátlag": "2"
                                },
                                {
                                    "UGYFEL_FK": "kata",
                                    "FOGLALAS_PK": "931",
                                    "METTOL": "2016-06-07",
                                    "Vendégek_Száma": "2",
                                    "Mozgóátlag": "2"
                                },
                                {
                                    "UGYFEL_FK": "kata",
                                    "FOGLALAS_PK": "999",
                                    "METTOL": "2016-07-01",
                                    "Vendégek_Száma": "2",
                                    "Mozgóátlag": "2"
                                },
                                {
                                    "UGYFEL_FK": "kata",
                                    "FOGLALAS_PK": "1006",
                                    "METTOL": "2016-07-03",
                                    "Vendégek_Száma": "1",
                                    "Mozgóátlag": "1"
                                },
                                {
                                    "UGYFEL_FK": "kata",
                                    "FOGLALAS_PK": "1016",
                                    "METTOL": "2016-07-07",
                                    "Vendégek_Száma": "3",
                                    "Mozgóátlag": "2"
                                },
                                {
                                    "UGYFEL_FK": "kata",
                                    "FOGLALAS_PK": "814",
                                    "METTOL": "2016-08-24",
                                    "Vendégek_Száma": "3",
                                    "Mozgóátlag": "2"
                                },
                                {
                                    "UGYFEL_FK": "kata",
                                    "FOGLALAS_PK": "1070",
                                    "METTOL": "2016-09-19",
                                    "Vendégek_Száma": "3",
                                    "Mozgóátlag": "2"
                                },
                                {
                                    "UGYFEL_FK": "kata",
                                    "FOGLALAS_PK": "1439",
                                    "METTOL": "2017-01-15",
                                    "Vendégek_Száma": "3",
                                    "Mozgóátlag": "2"
                                },
                                {
                                    "UGYFEL_FK": "katalin",
                                    "FOGLALAS_PK": "572",
                                    "METTOL": "2016-04-10",
                                    "Vendégek_Száma": "2",
                                    "Mozgóátlag": "2"
                                },
                                {
                                    "UGYFEL_FK": "katalin",
                                    "FOGLALAS_PK": "661",
                                    "METTOL": "2016-05-21",
                                    "Vendégek_Száma": "1",
                                    "Mozgóátlag": "1"
                                },
                                {
                                    "UGYFEL_FK": "katalin",
                                    "FOGLALAS_PK": "1015",
                                    "METTOL": "2016-07-06",
                                    "Vendégek_Száma": "1",
                                    "Mozgóátlag": "1"
                                },
                                {
                                    "UGYFEL_FK": "katalin",
                                    "FOGLALAS_PK": "733",
                                    "METTOL": "2016-07-28",
                                    "Vendégek_Száma": "1",
                                    "Mozgóátlag": "1"
                                },
                                {
                                    "UGYFEL_FK": "katalin",
                                    "FOGLALAS_PK": "1198",
                                    "METTOL": "2016-10-26",
                                    "Vendégek_Száma": "2",
                                    "Mozgóátlag": "1"
                                },
                                {
                                    "UGYFEL_FK": "katalin",
                                    "FOGLALAS_PK": "1360",
                                    "METTOL": "2016-12-13",
                                    "Vendégek_Száma": "2",
                                    "Mozgóátlag": "1"
                                },
                                {
                                    "UGYFEL_FK": "katalin",
                                    "FOGLALAS_PK": "1372",
                                    "METTOL": "2016-12-17",
                                    "Vendégek_Száma": "1",
                                    "Mozgóátlag": "1"
                                },
                                {
                                    "UGYFEL_FK": "katalin",
                                    "FOGLALAS_PK": "1388",
                                    "METTOL": "2016-12-24",
                                    "Vendégek_Száma": "2",
                                    "Mozgóátlag": "1"
                                },
                                {
                                    "UGYFEL_FK": "katalin",
                                    "FOGLALAS_PK": "1570",
                                    "METTOL": "2017-02-24",
                                    "Vendégek_Száma": "3",
                                    "Mozgóátlag": "2"
                                },
                                {
                                    "UGYFEL_FK": "katalin4",
                                    "FOGLALAS_PK": "997",
                                    "METTOL": "2016-07-01",
                                    "Vendégek_Száma": "1",
                                    "Mozgóátlag": "1"
                                },
                                {
                                    "UGYFEL_FK": "katalin4",
                                    "FOGLALAS_PK": "1002",
                                    "METTOL": "2016-07-03",
                                    "Vendégek_Száma": "4",
                                    "Mozgóátlag": "2"
                                },
                                {
                                    "UGYFEL_FK": "katalin4",
                                    "FOGLALAS_PK": "1325",
                                    "METTOL": "2016-11-27",
                                    "Vendégek_Száma": "3",
                                    "Mozgóátlag": "2"
                                },
                                {
                                    "UGYFEL_FK": "katalin4",
                                    "FOGLALAS_PK": "1340",
                                    "METTOL": "2016-12-04",
                                    "Vendégek_Száma": "3",
                                    "Mozgóátlag": "2"
                                },
                                {
                                    "UGYFEL_FK": "katalin4",
                                    "FOGLALAS_PK": "1455",
                                    "METTOL": "2017-01-18",
                                    "Vendégek_Száma": "2",
                                    "Mozgóátlag": "2"
                                },
                                {
                                    "UGYFEL_FK": "katalin4",
                                    "FOGLALAS_PK": "1473",
                                    "METTOL": "2017-01-24",
                                    "Vendégek_Száma": "2",
                                    "Mozgóátlag": "2"
                                },
                                {
                                    "UGYFEL_FK": "kati",
                                    "FOGLALAS_PK": "911",
                                    "METTOL": "2016-06-06",
                                    "Vendégek_Száma": "2",
                                    "Mozgóátlag": "2"
                                },
                                {
                                    "UGYFEL_FK": "kati",
                                    "FOGLALAS_PK": "914",
                                    "METTOL": "2016-06-06",
                                    "Vendégek_Száma": "3",
                                    "Mozgóátlag": "2"
                                },
                                {
                                    "UGYFEL_FK": "kati",
                                    "FOGLALAS_PK": "665",
                                    "METTOL": "2016-07-13",
                                    "Vendégek_Száma": "2",
                                    "Mozgóátlag": "2"
                                },
                                {
                                    "UGYFEL_FK": "kati",
                                    "FOGLALAS_PK": "723",
                                    "METTOL": "2016-07-27",
                                    "Vendégek_Száma": "2",
                                    "Mozgóátlag": "2"
                                },
                                {
                                    "UGYFEL_FK": "kati",
                                    "FOGLALAS_PK": "751",
                                    "METTOL": "2016-08-03",
                                    "Vendégek_Száma": "2",
                                    "Mozgóátlag": "2"
                                },
                                {
                                    "UGYFEL_FK": "kati",
                                    "FOGLALAS_PK": "1192",
                                    "METTOL": "2016-10-26",
                                    "Vendégek_Száma": "2",
                                    "Mozgóátlag": "2"
                                },
                                {
                                    "UGYFEL_FK": "kati",
                                    "FOGLALAS_PK": "1221",
                                    "METTOL": "2016-10-30",
                                    "Vendégek_Száma": "3",
                                    "Mozgóátlag": "2"
                                },
                                {
                                    "UGYFEL_FK": "katka",
                                    "FOGLALAS_PK": "574",
                                    "METTOL": "2016-04-10",
                                    "Vendégek_Száma": "2",
                                    "Mozgóátlag": "2"
                                },
                                {
                                    "UGYFEL_FK": "katka",
                                    "FOGLALAS_PK": "633",
                                    "METTOL": "2016-05-09",
                                    "Vendégek_Száma": "3",
                                    "Mozgóátlag": "2"
                                },
                                {
                                    "UGYFEL_FK": "katka",
                                    "FOGLALAS_PK": "954",
                                    "METTOL": "2016-06-13",
                                    "Vendégek_Száma": "1",
                                    "Mozgóátlag": "2"
                                },
                                {
                                    "UGYFEL_FK": "katka",
                                    "FOGLALAS_PK": "956",
                                    "METTOL": "2016-06-13",
                                    "Vendégek_Száma": "4",
                                    "Mozgóátlag": "2"
                                },
                                {
                                    "UGYFEL_FK": "katka",
                                    "FOGLALAS_PK": "819",
                                    "METTOL": "2016-08-24",
                                    "Vendégek_Száma": "2",
                                    "Mozgóátlag": "2"
                                },
                                {
                                    "UGYFEL_FK": "katka",
                                    "FOGLALAS_PK": "1029",
                                    "METTOL": "2016-09-05",
                                    "Vendégek_Száma": "4",
                                    "Mozgóátlag": "2"
                                },
                                {
                                    "UGYFEL_FK": "katka",
                                    "FOGLALAS_PK": "1247",
                                    "METTOL": "2016-11-05",
                                    "Vendégek_Száma": "3",
                                    "Mozgóátlag": "2"
                                },
                                {
                                    "UGYFEL_FK": "katka",
                                    "FOGLALAS_PK": "1414",
                                    "METTOL": "2017-01-02",
                                    "Vendégek_Száma": "3",
                                    "Mozgóátlag": "3"
                                },
                                {
                                    "UGYFEL_FK": "katka",
                                    "FOGLALAS_PK": "1458",
                                    "METTOL": "2017-01-19",
                                    "Vendégek_Száma": "3",
                                    "Mozgóátlag": "3"
                                },
                                {
                                    "UGYFEL_FK": "klaudia2",
                                    "FOGLALAS_PK": "922",
                                    "METTOL": "2016-06-06",
                                    "Vendégek_Száma": "4",
                                    "Mozgóátlag": "4"
                                },
                                {
                                    "UGYFEL_FK": "klaudia2",
                                    "FOGLALAS_PK": "1108",
                                    "METTOL": "2016-10-01",
                                    "Vendégek_Száma": "2",
                                    "Mozgóátlag": "3"
                                },
                                {
                                    "UGYFEL_FK": "klaudia2",
                                    "FOGLALAS_PK": "1115",
                                    "METTOL": "2016-10-02",
                                    "Vendégek_Száma": "2",
                                    "Mozgóátlag": "2"
                                },
                                {
                                    "UGYFEL_FK": "kornel4",
                                    "FOGLALAS_PK": "627",
                                    "METTOL": "2016-05-08",
                                    "Vendégek_Száma": "3",
                                    "Mozgóátlag": "3"
                                },
                                {
                                    "UGYFEL_FK": "kornel4",
                                    "FOGLALAS_PK": "888",
                                    "METTOL": "2016-06-02",
                                    "Vendégek_Száma": "3",
                                    "Mozgóátlag": "3"
                                },
                                {
                                    "UGYFEL_FK": "kornel4",
                                    "FOGLALAS_PK": "1077",
                                    "METTOL": "2016-09-23",
                                    "Vendégek_Száma": "3",
                                    "Mozgóátlag": "3"
                                },
                                {
                                    "UGYFEL_FK": "kristof4",
                                    "FOGLALAS_PK": "565",
                                    "METTOL": "2016-04-08",
                                    "Vendégek_Száma": "2",
                                    "Mozgóátlag": "2"
                                },
                                {
                                    "UGYFEL_FK": "kristof4",
                                    "FOGLALAS_PK": "1096",
                                    "METTOL": "2016-09-30",
                                    "Vendégek_Száma": "2",
                                    "Mozgóátlag": "2"
                                },
                                {
                                    "UGYFEL_FK": "kriszti",
                                    "FOGLALAS_PK": "656",
                                    "METTOL": "2016-05-19",
                                    "Vendégek_Száma": "2",
                                    "Mozgóátlag": "2"
                                },
                                {
                                    "UGYFEL_FK": "kriszti",
                                    "FOGLALAS_PK": "821",
                                    "METTOL": "2016-08-24",
                                    "Vendégek_Száma": "3",
                                    "Mozgóátlag": "2"
                                },
                                {
                                    "UGYFEL_FK": "kriszti",
                                    "FOGLALAS_PK": "1095",
                                    "METTOL": "2016-09-30",
                                    "Vendégek_Száma": "3",
                                    "Mozgóátlag": "2"
                                },
                                {
                                    "UGYFEL_FK": "kriszti",
                                    "FOGLALAS_PK": "1105",
                                    "METTOL": "2016-10-01",
                                    "Vendégek_Száma": "3",
                                    "Mozgóátlag": "2"
                                },
                                {
                                    "UGYFEL_FK": "kriszti",
                                    "FOGLALAS_PK": "1498",
                                    "METTOL": "2017-02-04",
                                    "Vendégek_Száma": "3",
                                    "Mozgóátlag": "2"
                                },
                                {
                                    "UGYFEL_FK": "kriszti",
                                    "FOGLALAS_PK": "1584",
                                    "METTOL": "2017-03-03",
                                    "Vendégek_Száma": "3",
                                    "Mozgóátlag": "3"
                                },
                                {
                                    "UGYFEL_FK": "krisztian4",
                                    "FOGLALAS_PK": "894",
                                    "METTOL": "2016-06-03",
                                    "Vendégek_Száma": "2",
                                    "Mozgóátlag": "2"
                                },
                                {
                                    "UGYFEL_FK": "krisztian4",
                                    "FOGLALAS_PK": "929",
                                    "METTOL": "2016-06-07",
                                    "Vendégek_Száma": "2",
                                    "Mozgóátlag": "2"
                                },
                                {
                                    "UGYFEL_FK": "krisztian4",
                                    "FOGLALAS_PK": "732",
                                    "METTOL": "2016-07-28",
                                    "Vendégek_Száma": "2",
                                    "Mozgóátlag": "2"
                                },
                                {
                                    "UGYFEL_FK": "krisztian4",
                                    "FOGLALAS_PK": "747",
                                    "METTOL": "2016-08-01",
                                    "Vendégek_Száma": "3",
                                    "Mozgóátlag": "2"
                                },
                                {
                                    "UGYFEL_FK": "krisztian4",
                                    "FOGLALAS_PK": "787",
                                    "METTOL": "2016-08-16",
                                    "Vendégek_Száma": "1",
                                    "Mozgóátlag": "2"
                                },
                                {
                                    "UGYFEL_FK": "krisztian4",
                                    "FOGLALAS_PK": "834",
                                    "METTOL": "2016-08-29",
                                    "Vendégek_Száma": "1",
                                    "Mozgóátlag": "1"
                                },
                                {
                                    "UGYFEL_FK": "krisztian4",
                                    "FOGLALAS_PK": "1161",
                                    "METTOL": "2016-10-17",
                                    "Vendégek_Száma": "3",
                                    "Mozgóátlag": "2"
                                },
                                {
                                    "UGYFEL_FK": "krisztian4",
                                    "FOGLALAS_PK": "1237",
                                    "METTOL": "2016-11-02",
                                    "Vendégek_Száma": "2",
                                    "Mozgóátlag": "2"
                                },
                                {
                                    "UGYFEL_FK": "krisztian4",
                                    "FOGLALAS_PK": "1358",
                                    "METTOL": "2016-12-11",
                                    "Vendégek_Száma": "2",
                                    "Mozgóátlag": "1"
                                },
                                {
                                    "UGYFEL_FK": "krisztian4",
                                    "FOGLALAS_PK": "1422",
                                    "METTOL": "2017-01-06",
                                    "Vendégek_Száma": "1",
                                    "Mozgóátlag": "1"
                                },
                                {
                                    "UGYFEL_FK": "krisztian4",
                                    "FOGLALAS_PK": "1445",
                                    "METTOL": "2017-01-16",
                                    "Vendégek_Száma": "3",
                                    "Mozgóátlag": "2"
                                },
                                {
                                    "UGYFEL_FK": "krisztian4",
                                    "FOGLALAS_PK": "1564",
                                    "METTOL": "2017-02-23",
                                    "Vendégek_Száma": "2",
                                    "Mozgóátlag": "2"
                                },
                                {
                                    "UGYFEL_FK": "KRISZTIANM",
                                    "FOGLALAS_PK": "566",
                                    "METTOL": "2016-04-09",
                                    "Vendégek_Száma": "2",
                                    "Mozgóátlag": "2"
                                },
                                {
                                    "UGYFEL_FK": "KRISZTIANM",
                                    "FOGLALAS_PK": "901",
                                    "METTOL": "2016-06-04",
                                    "Vendégek_Száma": "2",
                                    "Mozgóátlag": "2"
                                },
                                {
                                    "UGYFEL_FK": "KRISZTIANM",
                                    "FOGLALAS_PK": "1020",
                                    "METTOL": "2016-07-09",
                                    "Vendégek_Száma": "3",
                                    "Mozgóátlag": "2"
                                },
                                {
                                    "UGYFEL_FK": "KRISZTIANM",
                                    "FOGLALAS_PK": "749",
                                    "METTOL": "2016-08-02",
                                    "Vendégek_Száma": "4",
                                    "Mozgóátlag": "2"
                                },
                                {
                                    "UGYFEL_FK": "KRISZTIANM",
                                    "FOGLALAS_PK": "1392",
                                    "METTOL": "2016-12-25",
                                    "Vendégek_Száma": "2",
                                    "Mozgóátlag": "2"
                                },
                                {
                                    "UGYFEL_FK": "KRISZTIANM",
                                    "FOGLALAS_PK": "1443",
                                    "METTOL": "2017-01-16",
                                    "Vendégek_Száma": "1",
                                    "Mozgóátlag": "2"
                                },
                                {
                                    "UGYFEL_FK": "krisztina",
                                    "FOGLALAS_PK": "659",
                                    "METTOL": "2016-05-21",
                                    "Vendégek_Száma": "2",
                                    "Mozgóátlag": "2"
                                },
                                {
                                    "UGYFEL_FK": "krisztina",
                                    "FOGLALAS_PK": "1012",
                                    "METTOL": "2016-07-05",
                                    "Vendégek_Száma": "3",
                                    "Mozgóátlag": "2"
                                },
                                {
                                    "UGYFEL_FK": "krisztina",
                                    "FOGLALAS_PK": "1048",
                                    "METTOL": "2016-09-13",
                                    "Vendégek_Száma": "1",
                                    "Mozgóátlag": "2"
                                },
                                {
                                    "UGYFEL_FK": "krisztina",
                                    "FOGLALAS_PK": "1067",
                                    "METTOL": "2016-09-19",
                                    "Vendégek_Száma": "2",
                                    "Mozgóátlag": "2"
                                },
                                {
                                    "UGYFEL_FK": "krisztina",
                                    "FOGLALAS_PK": "1266",
                                    "METTOL": "2016-11-08",
                                    "Vendégek_Száma": "2",
                                    "Mozgóátlag": "2"
                                },
                                {
                                    "UGYFEL_FK": "krisztina",
                                    "FOGLALAS_PK": "1306",
                                    "METTOL": "2016-11-22",
                                    "Vendégek_Száma": "1",
                                    "Mozgóátlag": "1"
                                },
                                {
                                    "UGYFEL_FK": "krisztina",
                                    "FOGLALAS_PK": "1502",
                                    "METTOL": "2017-02-05",
                                    "Vendégek_Száma": "2",
                                    "Mozgóátlag": "1"
                                },
                                {
                                    "UGYFEL_FK": "krisztina",
                                    "FOGLALAS_PK": "1542",
                                    "METTOL": "2017-02-16",
                                    "Vendégek_Száma": "4",
                                    "Mozgóátlag": "2"
                                },
                                {
                                    "UGYFEL_FK": "krisztina1",
                                    "FOGLALAS_PK": "608",
                                    "METTOL": "2016-04-28",
                                    "Vendégek_Száma": "2",
                                    "Mozgóátlag": "2"
                                },
                                {
                                    "UGYFEL_FK": "krisztina1",
                                    "FOGLALAS_PK": "648",
                                    "METTOL": "2016-05-16",
                                    "Vendégek_Száma": "1",
                                    "Mozgóátlag": "1"
                                },
                                {
                                    "UGYFEL_FK": "krisztina1",
                                    "FOGLALAS_PK": "964",
                                    "METTOL": "2016-06-16",
                                    "Vendégek_Száma": "2",
                                    "Mozgóátlag": "1"
                                },
                                {
                                    "UGYFEL_FK": "krisztina1",
                                    "FOGLALAS_PK": "1055",
                                    "METTOL": "2016-09-15",
                                    "Vendégek_Száma": "3",
                                    "Mozgóátlag": "2"
                                },
                                {
                                    "UGYFEL_FK": "krisztina1",
                                    "FOGLALAS_PK": "1217",
                                    "METTOL": "2016-10-29",
                                    "Vendégek_Száma": "4",
                                    "Mozgóátlag": "2"
                                },
                                {
                                    "UGYFEL_FK": "krisztina1",
                                    "FOGLALAS_PK": "1460",
                                    "METTOL": "2017-01-21",
                                    "Vendégek_Száma": "2",
                                    "Mozgóátlag": "2"
                                },
                                {
                                    "UGYFEL_FK": "KRISZTINAG",
                                    "FOGLALAS_PK": "597",
                                    "METTOL": "2016-04-23",
                                    "Vendégek_Száma": "2",
                                    "Mozgóátlag": "2"
                                },
                                {
                                    "UGYFEL_FK": "KRISZTINAG",
                                    "FOGLALAS_PK": "854",
                                    "METTOL": "2016-05-24",
                                    "Vendégek_Száma": "1",
                                    "Mozgóátlag": "1"
                                },
                                {
                                    "UGYFEL_FK": "KRISZTINAG",
                                    "FOGLALAS_PK": "935",
                                    "METTOL": "2016-06-08",
                                    "Vendégek_Száma": "1",
                                    "Mozgóátlag": "1"
                                },
                                {
                                    "UGYFEL_FK": "KRISZTINAG",
                                    "FOGLALAS_PK": "763",
                                    "METTOL": "2016-08-08",
                                    "Vendégek_Száma": "3",
                                    "Mozgóátlag": "1"
                                },
                                {
                                    "UGYFEL_FK": "KRISZTINAG",
                                    "FOGLALAS_PK": "1474",
                                    "METTOL": "2017-01-25",
                                    "Vendégek_Száma": "2",
                                    "Mozgóátlag": "1"
                                },
                                {
                                    "UGYFEL_FK": "lajos",
                                    "FOGLALAS_PK": "682",
                                    "METTOL": "2016-07-18",
                                    "Vendégek_Száma": "2",
                                    "Mozgóátlag": "2"
                                },
                                {
                                    "UGYFEL_FK": "lajos",
                                    "FOGLALAS_PK": "1394",
                                    "METTOL": "2016-12-25",
                                    "Vendégek_Száma": "4",
                                    "Mozgóátlag": "3"
                                },
                                {
                                    "UGYFEL_FK": "lajos",
                                    "FOGLALAS_PK": "1523",
                                    "METTOL": "2017-02-12",
                                    "Vendégek_Száma": "1",
                                    "Mozgóátlag": "2"
                                },
                                {
                                    "UGYFEL_FK": "lala",
                                    "FOGLALAS_PK": "961",
                                    "METTOL": "2016-06-16",
                                    "Vendégek_Száma": "2",
                                    "Mozgóátlag": "2"
                                },
                                {
                                    "UGYFEL_FK": "lala",
                                    "FOGLALAS_PK": "696",
                                    "METTOL": "2016-07-20",
                                    "Vendégek_Száma": "3",
                                    "Mozgóátlag": "2"
                                },
                                {
                                    "UGYFEL_FK": "lala",
                                    "FOGLALAS_PK": "716",
                                    "METTOL": "2016-07-26",
                                    "Vendégek_Száma": "3",
                                    "Mozgóátlag": "2"
                                },
                                {
                                    "UGYFEL_FK": "lala",
                                    "FOGLALAS_PK": "1223",
                                    "METTOL": "2016-10-30",
                                    "Vendégek_Száma": "3",
                                    "Mozgóátlag": "2"
                                },
                                {
                                    "UGYFEL_FK": "lala",
                                    "FOGLALAS_PK": "1425",
                                    "METTOL": "2017-01-08",
                                    "Vendégek_Száma": "3",
                                    "Mozgóátlag": "2"
                                },
                                {
                                    "UGYFEL_FK": "lala",
                                    "FOGLALAS_PK": "1449",
                                    "METTOL": "2017-01-17",
                                    "Vendégek_Száma": "2",
                                    "Mozgóátlag": "2"
                                },
                                {
                                    "UGYFEL_FK": "laszlo1",
                                    "FOGLALAS_PK": "1078",
                                    "METTOL": "2016-09-23",
                                    "Vendégek_Száma": "3",
                                    "Mozgóátlag": "3"
                                },
                                {
                                    "UGYFEL_FK": "laszlo2",
                                    "FOGLALAS_PK": "561",
                                    "METTOL": "2016-04-06",
                                    "Vendégek_Száma": "2",
                                    "Mozgóátlag": "2"
                                },
                                {
                                    "UGYFEL_FK": "laszlo2",
                                    "FOGLALAS_PK": "604",
                                    "METTOL": "2016-04-27",
                                    "Vendégek_Száma": "2",
                                    "Mozgóátlag": "2"
                                },
                                {
                                    "UGYFEL_FK": "laszlo2",
                                    "FOGLALAS_PK": "778",
                                    "METTOL": "2016-08-14",
                                    "Vendégek_Száma": "3",
                                    "Mozgóátlag": "2"
                                },
                                {
                                    "UGYFEL_FK": "laszlo2",
                                    "FOGLALAS_PK": "1032",
                                    "METTOL": "2016-09-05",
                                    "Vendégek_Száma": "3",
                                    "Mozgóátlag": "2"
                                },
                                {
                                    "UGYFEL_FK": "laszlo2",
                                    "FOGLALAS_PK": "1320",
                                    "METTOL": "2016-11-25",
                                    "Vendégek_Száma": "3",
                                    "Mozgóátlag": "2"
                                },
                                {
                                    "UGYFEL_FK": "LASZLOA",
                                    "FOGLALAS_PK": "899",
                                    "METTOL": "2016-06-03",
                                    "Vendégek_Száma": "2",
                                    "Mozgóátlag": "2"
                                },
                                {
                                    "UGYFEL_FK": "LASZLOA",
                                    "FOGLALAS_PK": "923",
                                    "METTOL": "2016-06-07",
                                    "Vendégek_Száma": "1",
                                    "Mozgóátlag": "1"
                                },
                                {
                                    "UGYFEL_FK": "LASZLOA",
                                    "FOGLALAS_PK": "947",
                                    "METTOL": "2016-06-10",
                                    "Vendégek_Száma": "3",
                                    "Mozgóátlag": "2"
                                },
                                {
                                    "UGYFEL_FK": "LASZLOA",
                                    "FOGLALAS_PK": "1510",
                                    "METTOL": "2017-02-08",
                                    "Vendégek_Száma": "2",
                                    "Mozgóátlag": "2"
                                },
                                {
                                    "UGYFEL_FK": "LASZLON",
                                    "FOGLALAS_PK": "892",
                                    "METTOL": "2016-06-03",
                                    "Vendégek_Száma": "1",
                                    "Mozgóátlag": "1"
                                },
                                {
                                    "UGYFEL_FK": "LASZLON",
                                    "FOGLALAS_PK": "934",
                                    "METTOL": "2016-06-08",
                                    "Vendégek_Száma": "2",
                                    "Mozgóátlag": "1"
                                },
                                {
                                    "UGYFEL_FK": "LASZLON",
                                    "FOGLALAS_PK": "1111",
                                    "METTOL": "2016-10-01",
                                    "Vendégek_Száma": "3",
                                    "Mozgóátlag": "2"
                                },
                                {
                                    "UGYFEL_FK": "LASZLON",
                                    "FOGLALAS_PK": "1136",
                                    "METTOL": "2016-10-09",
                                    "Vendégek_Száma": "1",
                                    "Mozgóátlag": "1"
                                },
                                {
                                    "UGYFEL_FK": "LASZLON",
                                    "FOGLALAS_PK": "1329",
                                    "METTOL": "2016-11-29",
                                    "Vendégek_Száma": "1",
                                    "Mozgóátlag": "1"
                                },
                                {
                                    "UGYFEL_FK": "LASZLON",
                                    "FOGLALAS_PK": "1548",
                                    "METTOL": "2017-02-18",
                                    "Vendégek_Száma": "3",
                                    "Mozgóátlag": "2"
                                },
                                {
                                    "UGYFEL_FK": "maria1",
                                    "FOGLALAS_PK": "642",
                                    "METTOL": "2016-05-13",
                                    "Vendégek_Száma": "2",
                                    "Mozgóátlag": "2"
                                },
                                {
                                    "UGYFEL_FK": "maria1",
                                    "FOGLALAS_PK": "652",
                                    "METTOL": "2016-05-18",
                                    "Vendégek_Száma": "1",
                                    "Mozgóátlag": "1"
                                },
                                {
                                    "UGYFEL_FK": "maria1",
                                    "FOGLALAS_PK": "864",
                                    "METTOL": "2016-05-28",
                                    "Vendégek_Száma": "2",
                                    "Mozgóátlag": "1"
                                },
                                {
                                    "UGYFEL_FK": "maria1",
                                    "FOGLALAS_PK": "981",
                                    "METTOL": "2016-06-23",
                                    "Vendégek_Száma": "1",
                                    "Mozgóátlag": "1"
                                },
                                {
                                    "UGYFEL_FK": "maria1",
                                    "FOGLALAS_PK": "767",
                                    "METTOL": "2016-08-11",
                                    "Vendégek_Száma": "3",
                                    "Mozgóátlag": "1"
                                },
                                {
                                    "UGYFEL_FK": "maria1",
                                    "FOGLALAS_PK": "846",
                                    "METTOL": "2016-09-02",
                                    "Vendégek_Száma": "1",
                                    "Mozgóátlag": "1"
                                },
                                {
                                    "UGYFEL_FK": "maria1",
                                    "FOGLALAS_PK": "1264",
                                    "METTOL": "2016-11-08",
                                    "Vendégek_Száma": "3",
                                    "Mozgóátlag": "2"
                                },
                                {
                                    "UGYFEL_FK": "maria1",
                                    "FOGLALAS_PK": "1567",
                                    "METTOL": "2017-02-24",
                                    "Vendégek_Száma": "2",
                                    "Mozgóátlag": "2"
                                },
                                {
                                    "UGYFEL_FK": "mark",
                                    "FOGLALAS_PK": "588",
                                    "METTOL": "2016-04-19",
                                    "Vendégek_Száma": "4",
                                    "Mozgóátlag": "4"
                                },
                                {
                                    "UGYFEL_FK": "mark",
                                    "FOGLALAS_PK": "958",
                                    "METTOL": "2016-06-13",
                                    "Vendégek_Száma": "3",
                                    "Mozgóátlag": "3"
                                },
                                {
                                    "UGYFEL_FK": "mark",
                                    "FOGLALAS_PK": "764",
                                    "METTOL": "2016-08-09",
                                    "Vendégek_Száma": "3",
                                    "Mozgóátlag": "3"
                                },
                                {
                                    "UGYFEL_FK": "mark",
                                    "FOGLALAS_PK": "1172",
                                    "METTOL": "2016-10-20",
                                    "Vendégek_Száma": "1",
                                    "Mozgóátlag": "2"
                                },
                                {
                                    "UGYFEL_FK": "mark",
                                    "FOGLALAS_PK": "1293",
                                    "METTOL": "2016-11-19",
                                    "Vendégek_Száma": "2",
                                    "Mozgóátlag": "2"
                                },
                                {
                                    "UGYFEL_FK": "MARKH",
                                    "FOGLALAS_PK": "1052",
                                    "METTOL": "2016-09-14",
                                    "Vendégek_Száma": "3",
                                    "Mozgóátlag": "3"
                                },
                                {
                                    "UGYFEL_FK": "MARKH",
                                    "FOGLALAS_PK": "1076",
                                    "METTOL": "2016-09-23",
                                    "Vendégek_Száma": "2",
                                    "Mozgóátlag": "2"
                                },
                                {
                                    "UGYFEL_FK": "MARKH",
                                    "FOGLALAS_PK": "1082",
                                    "METTOL": "2016-09-26",
                                    "Vendégek_Száma": "4",
                                    "Mozgóátlag": "3"
                                },
                                {
                                    "UGYFEL_FK": "MARKH",
                                    "FOGLALAS_PK": "1462",
                                    "METTOL": "2017-01-22",
                                    "Vendégek_Száma": "4",
                                    "Mozgóátlag": "3"
                                },
                                {
                                    "UGYFEL_FK": "marton",
                                    "FOGLALAS_PK": "605",
                                    "METTOL": "2016-04-27",
                                    "Vendégek_Száma": "3",
                                    "Mozgóátlag": "3"
                                },
                                {
                                    "UGYFEL_FK": "marton",
                                    "FOGLALAS_PK": "620",
                                    "METTOL": "2016-05-05",
                                    "Vendégek_Száma": "1",
                                    "Mozgóátlag": "2"
                                },
                                {
                                    "UGYFEL_FK": "marton",
                                    "FOGLALAS_PK": "916",
                                    "METTOL": "2016-06-06",
                                    "Vendégek_Száma": "3",
                                    "Mozgóátlag": "2"
                                },
                                {
                                    "UGYFEL_FK": "marton",
                                    "FOGLALAS_PK": "979",
                                    "METTOL": "2016-06-22",
                                    "Vendégek_Száma": "2",
                                    "Mozgóátlag": "2"
                                },
                                {
                                    "UGYFEL_FK": "marton",
                                    "FOGLALAS_PK": "769",
                                    "METTOL": "2016-08-12",
                                    "Vendégek_Száma": "2",
                                    "Mozgóátlag": "2"
                                },
                                {
                                    "UGYFEL_FK": "marton",
                                    "FOGLALAS_PK": "1042",
                                    "METTOL": "2016-09-10",
                                    "Vendégek_Száma": "2",
                                    "Mozgóátlag": "2"
                                },
                                {
                                    "UGYFEL_FK": "marton",
                                    "FOGLALAS_PK": "1582",
                                    "METTOL": "2017-03-02",
                                    "Vendégek_Száma": "2",
                                    "Mozgóátlag": "2"
                                },
                                {
                                    "UGYFEL_FK": "MATEK",
                                    "FOGLALAS_PK": "794",
                                    "METTOL": "2016-08-17",
                                    "Vendégek_Száma": "4",
                                    "Mozgóátlag": "4"
                                },
                                {
                                    "UGYFEL_FK": "MATEK",
                                    "FOGLALAS_PK": "1107",
                                    "METTOL": "2016-10-01",
                                    "Vendégek_Száma": "2",
                                    "Mozgóátlag": "3"
                                },
                                {
                                    "UGYFEL_FK": "MATEK",
                                    "FOGLALAS_PK": "1446",
                                    "METTOL": "2017-01-16",
                                    "Vendégek_Száma": "2",
                                    "Mozgóátlag": "2"
                                },
                                {
                                    "UGYFEL_FK": "matyas2",
                                    "FOGLALAS_PK": "664",
                                    "METTOL": "2016-07-13",
                                    "Vendégek_Száma": "2",
                                    "Mozgóátlag": "2"
                                },
                                {
                                    "UGYFEL_FK": "matyas2",
                                    "FOGLALAS_PK": "1356",
                                    "METTOL": "2016-12-09",
                                    "Vendégek_Száma": "3",
                                    "Mozgóátlag": "2"
                                },
                                {
                                    "UGYFEL_FK": "MATYASS",
                                    "FOGLALAS_PK": "636",
                                    "METTOL": "2016-05-10",
                                    "Vendégek_Száma": "2",
                                    "Mozgóátlag": "2"
                                },
                                {
                                    "UGYFEL_FK": "MATYASS",
                                    "FOGLALAS_PK": "891",
                                    "METTOL": "2016-06-02",
                                    "Vendégek_Száma": "1",
                                    "Mozgóátlag": "1"
                                },
                                {
                                    "UGYFEL_FK": "MATYASS",
                                    "FOGLALAS_PK": "707",
                                    "METTOL": "2016-07-23",
                                    "Vendégek_Száma": "3",
                                    "Mozgóátlag": "2"
                                },
                                {
                                    "UGYFEL_FK": "MATYASS",
                                    "FOGLALAS_PK": "1143",
                                    "METTOL": "2016-10-09",
                                    "Vendégek_Száma": "3",
                                    "Mozgóátlag": "2"
                                },
                                {
                                    "UGYFEL_FK": "MATYASS",
                                    "FOGLALAS_PK": "1190",
                                    "METTOL": "2016-10-24",
                                    "Vendégek_Száma": "1",
                                    "Mozgóátlag": "2"
                                },
                                {
                                    "UGYFEL_FK": "MATYASS",
                                    "FOGLALAS_PK": "1226",
                                    "METTOL": "2016-10-30",
                                    "Vendégek_Száma": "3",
                                    "Mozgóátlag": "2"
                                },
                                {
                                    "UGYFEL_FK": "MATYASS",
                                    "FOGLALAS_PK": "1380",
                                    "METTOL": "2016-12-20",
                                    "Vendégek_Száma": "2",
                                    "Mozgóátlag": "2"
                                },
                                {
                                    "UGYFEL_FK": "MATYASS",
                                    "FOGLALAS_PK": "1429",
                                    "METTOL": "2017-01-09",
                                    "Vendégek_Száma": "2",
                                    "Mozgóátlag": "2"
                                },
                                {
                                    "UGYFEL_FK": "MIHALYJ",
                                    "FOGLALAS_PK": "875",
                                    "METTOL": "2016-05-30",
                                    "Vendégek_Száma": "2",
                                    "Mozgóátlag": "2"
                                },
                                {
                                    "UGYFEL_FK": "MIHALYJ",
                                    "FOGLALAS_PK": "990",
                                    "METTOL": "2016-06-27",
                                    "Vendégek_Száma": "1",
                                    "Mozgóátlag": "1"
                                },
                                {
                                    "UGYFEL_FK": "MIHALYJ",
                                    "FOGLALAS_PK": "839",
                                    "METTOL": "2016-08-29",
                                    "Vendégek_Száma": "1",
                                    "Mozgóátlag": "1"
                                },
                                {
                                    "UGYFEL_FK": "MIHALYJ",
                                    "FOGLALAS_PK": "1234",
                                    "METTOL": "2016-11-01",
                                    "Vendégek_Száma": "3",
                                    "Mozgóátlag": "1"
                                },
                                {
                                    "UGYFEL_FK": "MIHALYJ",
                                    "FOGLALAS_PK": "1505",
                                    "METTOL": "2017-02-06",
                                    "Vendégek_Száma": "4",
                                    "Mozgóátlag": "2"
                                },
                                {
                                    "UGYFEL_FK": "miklos2",
                                    "FOGLALAS_PK": "589",
                                    "METTOL": "2016-04-19",
                                    "Vendégek_Száma": "3",
                                    "Mozgóátlag": "3"
                                },
                                {
                                    "UGYFEL_FK": "miklos2",
                                    "FOGLALAS_PK": "1134",
                                    "METTOL": "2016-10-08",
                                    "Vendégek_Száma": "1",
                                    "Mozgóátlag": "2"
                                },
                                {
                                    "UGYFEL_FK": "miklos2",
                                    "FOGLALAS_PK": "1283",
                                    "METTOL": "2016-11-16",
                                    "Vendégek_Száma": "3",
                                    "Mozgóátlag": "2"
                                },
                                {
                                    "UGYFEL_FK": "MIKLOSB",
                                    "FOGLALAS_PK": "987",
                                    "METTOL": "2016-06-26",
                                    "Vendégek_Száma": "2",
                                    "Mozgóátlag": "2"
                                },
                                {
                                    "UGYFEL_FK": "MIKLOSB",
                                    "FOGLALAS_PK": "687",
                                    "METTOL": "2016-07-18",
                                    "Vendégek_Száma": "2",
                                    "Mozgóátlag": "2"
                                },
                                {
                                    "UGYFEL_FK": "MIKLOSB",
                                    "FOGLALAS_PK": "1344",
                                    "METTOL": "2016-12-05",
                                    "Vendégek_Száma": "2",
                                    "Mozgóátlag": "2"
                                },
                                {
                                    "UGYFEL_FK": "MONIKAM",
                                    "FOGLALAS_PK": "609",
                                    "METTOL": "2016-04-29",
                                    "Vendégek_Száma": "2",
                                    "Mozgóátlag": "2"
                                },
                                {
                                    "UGYFEL_FK": "MONIKAM",
                                    "FOGLALAS_PK": "708",
                                    "METTOL": "2016-07-23",
                                    "Vendégek_Száma": "1",
                                    "Mozgóátlag": "1"
                                },
                                {
                                    "UGYFEL_FK": "MONIKAM",
                                    "FOGLALAS_PK": "1267",
                                    "METTOL": "2016-11-09",
                                    "Vendégek_Száma": "2",
                                    "Mozgóátlag": "1"
                                },
                                {
                                    "UGYFEL_FK": "MONIKAM",
                                    "FOGLALAS_PK": "1450",
                                    "METTOL": "2017-01-17",
                                    "Vendégek_Száma": "1",
                                    "Mozgóátlag": "1"
                                },
                                {
                                    "UGYFEL_FK": "MONIKAM",
                                    "FOGLALAS_PK": "1506",
                                    "METTOL": "2017-02-06",
                                    "Vendégek_Száma": "2",
                                    "Mozgóátlag": "1"
                                },
                                {
                                    "UGYFEL_FK": "MONIKAM",
                                    "FOGLALAS_PK": "1562",
                                    "METTOL": "2017-02-23",
                                    "Vendégek_Száma": "2",
                                    "Mozgóátlag": "1"
                                },
                                {
                                    "UGYFEL_FK": "NANDORF",
                                    "FOGLALAS_PK": "558",
                                    "METTOL": "2016-04-06",
                                    "Vendégek_Száma": "3",
                                    "Mozgóátlag": "3"
                                },
                                {
                                    "UGYFEL_FK": "NANDORF",
                                    "FOGLALAS_PK": "1242",
                                    "METTOL": "2016-11-03",
                                    "Vendégek_Száma": "3",
                                    "Mozgóátlag": "3"
                                },
                                {
                                    "UGYFEL_FK": "NANDORF",
                                    "FOGLALAS_PK": "1503",
                                    "METTOL": "2017-02-05",
                                    "Vendégek_Száma": "3",
                                    "Mozgóátlag": "3"
                                },
                                {
                                    "UGYFEL_FK": "nikolett3",
                                    "FOGLALAS_PK": "853",
                                    "METTOL": "2016-05-24",
                                    "Vendégek_Száma": "2",
                                    "Mozgóátlag": "2"
                                },
                                {
                                    "UGYFEL_FK": "nikolett3",
                                    "FOGLALAS_PK": "897",
                                    "METTOL": "2016-06-03",
                                    "Vendégek_Száma": "1",
                                    "Mozgóátlag": "1"
                                },
                                {
                                    "UGYFEL_FK": "nikolett3",
                                    "FOGLALAS_PK": "976",
                                    "METTOL": "2016-06-22",
                                    "Vendégek_Száma": "1",
                                    "Mozgóátlag": "1"
                                },
                                {
                                    "UGYFEL_FK": "nikolett3",
                                    "FOGLALAS_PK": "1178",
                                    "METTOL": "2016-10-22",
                                    "Vendégek_Száma": "3",
                                    "Mozgóátlag": "1"
                                },
                                {
                                    "UGYFEL_FK": "nikoletta4",
                                    "FOGLALAS_PK": "564",
                                    "METTOL": "2016-04-08",
                                    "Vendégek_Száma": "2",
                                    "Mozgóátlag": "2"
                                },
                                {
                                    "UGYFEL_FK": "nikoletta4",
                                    "FOGLALAS_PK": "634",
                                    "METTOL": "2016-05-09",
                                    "Vendégek_Száma": "2",
                                    "Mozgóátlag": "2"
                                },
                                {
                                    "UGYFEL_FK": "nikoletta4",
                                    "FOGLALAS_PK": "877",
                                    "METTOL": "2016-05-30",
                                    "Vendégek_Száma": "3",
                                    "Mozgóátlag": "2"
                                },
                                {
                                    "UGYFEL_FK": "nikoletta4",
                                    "FOGLALAS_PK": "992",
                                    "METTOL": "2016-06-29",
                                    "Vendégek_Száma": "2",
                                    "Mozgóátlag": "2"
                                },
                                {
                                    "UGYFEL_FK": "nikoletta4",
                                    "FOGLALAS_PK": "775",
                                    "METTOL": "2016-08-13",
                                    "Vendégek_Száma": "3",
                                    "Mozgóátlag": "2"
                                },
                                {
                                    "UGYFEL_FK": "nikoletta4",
                                    "FOGLALAS_PK": "1355",
                                    "METTOL": "2016-12-08",
                                    "Vendégek_Száma": "5",
                                    "Mozgóátlag": "3"
                                },
                                {
                                    "UGYFEL_FK": "nikoletta4",
                                    "FOGLALAS_PK": "1488",
                                    "METTOL": "2017-02-01",
                                    "Vendégek_Száma": "2",
                                    "Mozgóátlag": "3"
                                },
                                {
                                    "UGYFEL_FK": "NIKOLETTAT",
                                    "FOGLALAS_PK": "663",
                                    "METTOL": "2016-05-22",
                                    "Vendégek_Száma": "4",
                                    "Mozgóátlag": "4"
                                },
                                {
                                    "UGYFEL_FK": "NIKOLETTAT",
                                    "FOGLALAS_PK": "928",
                                    "METTOL": "2016-06-07",
                                    "Vendégek_Száma": "2",
                                    "Mozgóátlag": "3"
                                },
                                {
                                    "UGYFEL_FK": "NIKOLETTAT",
                                    "FOGLALAS_PK": "720",
                                    "METTOL": "2016-07-27",
                                    "Vendégek_Száma": "4",
                                    "Mozgóátlag": "3"
                                },
                                {
                                    "UGYFEL_FK": "NIKOLETTAT",
                                    "FOGLALAS_PK": "1073",
                                    "METTOL": "2016-09-21",
                                    "Vendégek_Száma": "2",
                                    "Mozgóátlag": "3"
                                },
                                {
                                    "UGYFEL_FK": "norbert",
                                    "FOGLALAS_PK": "1018",
                                    "METTOL": "2016-07-08",
                                    "Vendégek_Száma": "1",
                                    "Mozgóátlag": "1"
                                },
                                {
                                    "UGYFEL_FK": "norbert",
                                    "FOGLALAS_PK": "1285",
                                    "METTOL": "2016-11-16",
                                    "Vendégek_Száma": "3",
                                    "Mozgóátlag": "2"
                                },
                                {
                                    "UGYFEL_FK": "norbert",
                                    "FOGLALAS_PK": "1365",
                                    "METTOL": "2016-12-15",
                                    "Vendégek_Száma": "2",
                                    "Mozgóátlag": "2"
                                },
                                {
                                    "UGYFEL_FK": "norbert",
                                    "FOGLALAS_PK": "1528",
                                    "METTOL": "2017-02-13",
                                    "Vendégek_Száma": "3",
                                    "Mozgóátlag": "2"
                                },
                                {
                                    "UGYFEL_FK": "norbert",
                                    "FOGLALAS_PK": "1576",
                                    "METTOL": "2017-02-26",
                                    "Vendégek_Száma": "1",
                                    "Mozgóátlag": "2"
                                },
                                {
                                    "UGYFEL_FK": "norbert2",
                                    "FOGLALAS_PK": "587",
                                    "METTOL": "2016-04-19",
                                    "Vendégek_Száma": "1",
                                    "Mozgóátlag": "1"
                                },
                                {
                                    "UGYFEL_FK": "norbert2",
                                    "FOGLALAS_PK": "632",
                                    "METTOL": "2016-05-09",
                                    "Vendégek_Száma": "2",
                                    "Mozgóátlag": "1"
                                },
                                {
                                    "UGYFEL_FK": "norbert2",
                                    "FOGLALAS_PK": "1028",
                                    "METTOL": "2016-07-13",
                                    "Vendégek_Száma": "3",
                                    "Mozgóátlag": "2"
                                },
                                {
                                    "UGYFEL_FK": "norbert2",
                                    "FOGLALAS_PK": "724",
                                    "METTOL": "2016-07-27",
                                    "Vendégek_Száma": "2",
                                    "Mozgóátlag": "2"
                                },
                                {
                                    "UGYFEL_FK": "norbert2",
                                    "FOGLALAS_PK": "782",
                                    "METTOL": "2016-08-16",
                                    "Vendégek_Száma": "1",
                                    "Mozgóátlag": "1"
                                },
                                {
                                    "UGYFEL_FK": "norbert2",
                                    "FOGLALAS_PK": "1233",
                                    "METTOL": "2016-10-31",
                                    "Vendégek_Száma": "2",
                                    "Mozgóátlag": "2"
                                },
                                {
                                    "UGYFEL_FK": "norbert2",
                                    "FOGLALAS_PK": "1482",
                                    "METTOL": "2017-01-29",
                                    "Vendégek_Száma": "3",
                                    "Mozgóátlag": "2"
                                },
                                {
                                    "UGYFEL_FK": "norbert4",
                                    "FOGLALAS_PK": "569",
                                    "METTOL": "2016-04-10",
                                    "Vendégek_Száma": "2",
                                    "Mozgóátlag": "2"
                                },
                                {
                                    "UGYFEL_FK": "norbert4",
                                    "FOGLALAS_PK": "871",
                                    "METTOL": "2016-05-29",
                                    "Vendégek_Száma": "3",
                                    "Mozgóátlag": "2"
                                },
                                {
                                    "UGYFEL_FK": "norbert4",
                                    "FOGLALAS_PK": "963",
                                    "METTOL": "2016-06-16",
                                    "Vendégek_Száma": "4",
                                    "Mozgóátlag": "3"
                                },
                                {
                                    "UGYFEL_FK": "norbert4",
                                    "FOGLALAS_PK": "967",
                                    "METTOL": "2016-06-16",
                                    "Vendégek_Száma": "3",
                                    "Mozgóátlag": "3"
                                },
                                {
                                    "UGYFEL_FK": "norbert4",
                                    "FOGLALAS_PK": "1123",
                                    "METTOL": "2016-10-05",
                                    "Vendégek_Száma": "3",
                                    "Mozgóátlag": "3"
                                },
                                {
                                    "UGYFEL_FK": "norbert4",
                                    "FOGLALAS_PK": "1211",
                                    "METTOL": "2016-10-28",
                                    "Vendégek_Száma": "3",
                                    "Mozgóátlag": "3"
                                },
                                {
                                    "UGYFEL_FK": "norbert4",
                                    "FOGLALAS_PK": "1333",
                                    "METTOL": "2016-11-30",
                                    "Vendégek_Száma": "3",
                                    "Mozgóátlag": "3"
                                },
                                {
                                    "UGYFEL_FK": "norbert4",
                                    "FOGLALAS_PK": "1541",
                                    "METTOL": "2017-02-16",
                                    "Vendégek_Száma": "1",
                                    "Mozgóátlag": "2"
                                },
                                {
                                    "UGYFEL_FK": "norbert4",
                                    "FOGLALAS_PK": "1583",
                                    "METTOL": "2017-03-03",
                                    "Vendégek_Száma": "2",
                                    "Mozgóátlag": "2"
                                },
                                {
                                    "UGYFEL_FK": "norbert5",
                                    "FOGLALAS_PK": "984",
                                    "METTOL": "2016-06-24",
                                    "Vendégek_Száma": "2",
                                    "Mozgóátlag": "2"
                                },
                                {
                                    "UGYFEL_FK": "norbert5",
                                    "FOGLALAS_PK": "766",
                                    "METTOL": "2016-08-10",
                                    "Vendégek_Száma": "2",
                                    "Mozgóátlag": "2"
                                },
                                {
                                    "UGYFEL_FK": "norbert5",
                                    "FOGLALAS_PK": "1252",
                                    "METTOL": "2016-11-05",
                                    "Vendégek_Száma": "1",
                                    "Mozgóátlag": "1"
                                },
                                {
                                    "UGYFEL_FK": "pal",
                                    "FOGLALAS_PK": "776",
                                    "METTOL": "2016-08-14",
                                    "Vendégek_Száma": "3",
                                    "Mozgóátlag": "3"
                                },
                                {
                                    "UGYFEL_FK": "pal",
                                    "FOGLALAS_PK": "1058",
                                    "METTOL": "2016-09-16",
                                    "Vendégek_Száma": "2",
                                    "Mozgóátlag": "2"
                                },
                                {
                                    "UGYFEL_FK": "pal",
                                    "FOGLALAS_PK": "1369",
                                    "METTOL": "2016-12-17",
                                    "Vendégek_Száma": "3",
                                    "Mozgóátlag": "2"
                                },
                                {
                                    "UGYFEL_FK": "pal",
                                    "FOGLALAS_PK": "1530",
                                    "METTOL": "2017-02-13",
                                    "Vendégek_Száma": "3",
                                    "Mozgóátlag": "2"
                                },
                                {
                                    "UGYFEL_FK": "pal",
                                    "FOGLALAS_PK": "1552",
                                    "METTOL": "2017-02-20",
                                    "Vendégek_Száma": "3",
                                    "Mozgóátlag": "2"
                                },
                                {
                                    "UGYFEL_FK": "peter1",
                                    "FOGLALAS_PK": "671",
                                    "METTOL": "2016-07-14",
                                    "Vendégek_Száma": "3",
                                    "Mozgóátlag": "3"
                                },
                                {
                                    "UGYFEL_FK": "peter1",
                                    "FOGLALAS_PK": "1201",
                                    "METTOL": "2016-10-26",
                                    "Vendégek_Száma": "3",
                                    "Mozgóátlag": "3"
                                },
                                {
                                    "UGYFEL_FK": "peter1",
                                    "FOGLALAS_PK": "1565",
                                    "METTOL": "2017-02-23",
                                    "Vendégek_Száma": "3",
                                    "Mozgóátlag": "3"
                                },
                                {
                                    "UGYFEL_FK": "peter1",
                                    "FOGLALAS_PK": "1579",
                                    "METTOL": "2017-02-28",
                                    "Vendégek_Száma": "3",
                                    "Mozgóátlag": "3"
                                },
                                {
                                    "UGYFEL_FK": "peter2",
                                    "FOGLALAS_PK": "1004",
                                    "METTOL": "2016-07-03",
                                    "Vendégek_Száma": "2",
                                    "Mozgóátlag": "2"
                                },
                                {
                                    "UGYFEL_FK": "peter2",
                                    "FOGLALAS_PK": "1146",
                                    "METTOL": "2016-10-10",
                                    "Vendégek_Száma": "2",
                                    "Mozgóátlag": "2"
                                },
                                {
                                    "UGYFEL_FK": "peter2",
                                    "FOGLALAS_PK": "1236",
                                    "METTOL": "2016-11-01",
                                    "Vendégek_Száma": "2",
                                    "Mozgóátlag": "2"
                                },
                                {
                                    "UGYFEL_FK": "peter2",
                                    "FOGLALAS_PK": "1282",
                                    "METTOL": "2016-11-15",
                                    "Vendégek_Száma": "3",
                                    "Mozgóátlag": "2"
                                },
                                {
                                    "UGYFEL_FK": "peter3",
                                    "FOGLALAS_PK": "995",
                                    "METTOL": "2016-06-30",
                                    "Vendégek_Száma": "3",
                                    "Mozgóátlag": "3"
                                },
                                {
                                    "UGYFEL_FK": "peter3",
                                    "FOGLALAS_PK": "726",
                                    "METTOL": "2016-07-27",
                                    "Vendégek_Száma": "4",
                                    "Mozgóátlag": "3"
                                },
                                {
                                    "UGYFEL_FK": "peter3",
                                    "FOGLALAS_PK": "1228",
                                    "METTOL": "2016-10-30",
                                    "Vendégek_Száma": "2",
                                    "Mozgóátlag": "3"
                                },
                                {
                                    "UGYFEL_FK": "peter3",
                                    "FOGLALAS_PK": "1396",
                                    "METTOL": "2016-12-25",
                                    "Vendégek_Száma": "1",
                                    "Mozgóátlag": "2"
                                },
                                {
                                    "UGYFEL_FK": "peter3",
                                    "FOGLALAS_PK": "1434",
                                    "METTOL": "2017-01-12",
                                    "Vendégek_Száma": "1",
                                    "Mozgóátlag": "2"
                                },
                                {
                                    "UGYFEL_FK": "peter3",
                                    "FOGLALAS_PK": "1557",
                                    "METTOL": "2017-02-21",
                                    "Vendégek_Száma": "2",
                                    "Mozgóátlag": "2"
                                },
                                {
                                    "UGYFEL_FK": "peter4",
                                    "FOGLALAS_PK": "577",
                                    "METTOL": "2016-04-12",
                                    "Vendégek_Száma": "3",
                                    "Mozgóátlag": "3"
                                },
                                {
                                    "UGYFEL_FK": "peter4",
                                    "FOGLALAS_PK": "759",
                                    "METTOL": "2016-08-06",
                                    "Vendégek_Száma": "2",
                                    "Mozgóátlag": "2"
                                },
                                {
                                    "UGYFEL_FK": "peter4",
                                    "FOGLALAS_PK": "815",
                                    "METTOL": "2016-08-24",
                                    "Vendégek_Száma": "3",
                                    "Mozgóátlag": "2"
                                },
                                {
                                    "UGYFEL_FK": "peter4",
                                    "FOGLALAS_PK": "1043",
                                    "METTOL": "2016-09-11",
                                    "Vendégek_Száma": "4",
                                    "Mozgóátlag": "3"
                                },
                                {
                                    "UGYFEL_FK": "peter4",
                                    "FOGLALAS_PK": "1080",
                                    "METTOL": "2016-09-25",
                                    "Vendégek_Száma": "3",
                                    "Mozgóátlag": "3"
                                },
                                {
                                    "UGYFEL_FK": "peter4",
                                    "FOGLALAS_PK": "1093",
                                    "METTOL": "2016-09-30",
                                    "Vendégek_Száma": "3",
                                    "Mozgóátlag": "3"
                                },
                                {
                                    "UGYFEL_FK": "peter4",
                                    "FOGLALAS_PK": "1139",
                                    "METTOL": "2016-10-09",
                                    "Vendégek_Száma": "3",
                                    "Mozgóátlag": "3"
                                },
                                {
                                    "UGYFEL_FK": "peter4",
                                    "FOGLALAS_PK": "1188",
                                    "METTOL": "2016-10-24",
                                    "Vendégek_Száma": "2",
                                    "Mozgóátlag": "3"
                                },
                                {
                                    "UGYFEL_FK": "peter4",
                                    "FOGLALAS_PK": "1222",
                                    "METTOL": "2016-10-30",
                                    "Vendégek_Száma": "3",
                                    "Mozgóátlag": "2"
                                },
                                {
                                    "UGYFEL_FK": "peter4",
                                    "FOGLALAS_PK": "1273",
                                    "METTOL": "2016-11-10",
                                    "Vendégek_Száma": "3",
                                    "Mozgóátlag": "2"
                                },
                                {
                                    "UGYFEL_FK": "peter4",
                                    "FOGLALAS_PK": "1316",
                                    "METTOL": "2016-11-25",
                                    "Vendégek_Száma": "3",
                                    "Mozgóátlag": "2"
                                },
                                {
                                    "UGYFEL_FK": "peter4",
                                    "FOGLALAS_PK": "1500",
                                    "METTOL": "2017-02-05",
                                    "Vendégek_Száma": "3",
                                    "Mozgóátlag": "2"
                                },
                                {
                                    "UGYFEL_FK": "PETERB",
                                    "FOGLALAS_PK": "562",
                                    "METTOL": "2016-04-06",
                                    "Vendégek_Száma": "1",
                                    "Mozgóátlag": "1"
                                },
                                {
                                    "UGYFEL_FK": "PETERB",
                                    "FOGLALAS_PK": "694",
                                    "METTOL": "2016-07-20",
                                    "Vendégek_Száma": "2",
                                    "Mozgóátlag": "1"
                                },
                                {
                                    "UGYFEL_FK": "PETERB",
                                    "FOGLALAS_PK": "781",
                                    "METTOL": "2016-08-16",
                                    "Vendégek_Száma": "1",
                                    "Mozgóátlag": "1"
                                },
                                {
                                    "UGYFEL_FK": "PETERB",
                                    "FOGLALAS_PK": "1167",
                                    "METTOL": "2016-10-19",
                                    "Vendégek_Száma": "4",
                                    "Mozgóátlag": "2"
                                },
                                {
                                    "UGYFEL_FK": "PETERB",
                                    "FOGLALAS_PK": "1287",
                                    "METTOL": "2016-11-17",
                                    "Vendégek_Száma": "2",
                                    "Mozgóátlag": "2"
                                },
                                {
                                    "UGYFEL_FK": "polla",
                                    "FOGLALAS_PK": "585",
                                    "METTOL": "2016-04-17",
                                    "Vendégek_Száma": "3",
                                    "Mozgóátlag": "3"
                                },
                                {
                                    "UGYFEL_FK": "polla",
                                    "FOGLALAS_PK": "865",
                                    "METTOL": "2016-05-28",
                                    "Vendégek_Száma": "2",
                                    "Mozgóátlag": "2"
                                },
                                {
                                    "UGYFEL_FK": "polla",
                                    "FOGLALAS_PK": "777",
                                    "METTOL": "2016-08-14",
                                    "Vendégek_Száma": "2",
                                    "Mozgóátlag": "2"
                                },
                                {
                                    "UGYFEL_FK": "polla",
                                    "FOGLALAS_PK": "792",
                                    "METTOL": "2016-08-16",
                                    "Vendégek_Száma": "4",
                                    "Mozgóátlag": "2"
                                },
                                {
                                    "UGYFEL_FK": "polla",
                                    "FOGLALAS_PK": "1481",
                                    "METTOL": "2017-01-29",
                                    "Vendégek_Száma": "2",
                                    "Mozgóátlag": "2"
                                },
                                {
                                    "UGYFEL_FK": "polla",
                                    "FOGLALAS_PK": "1517",
                                    "METTOL": "2017-02-11",
                                    "Vendégek_Száma": "2",
                                    "Mozgóátlag": "2"
                                },
                                {
                                    "UGYFEL_FK": "rajmond4",
                                    "FOGLALAS_PK": "850",
                                    "METTOL": "2016-09-05",
                                    "Vendégek_Száma": "3",
                                    "Mozgóátlag": "3"
                                },
                                {
                                    "UGYFEL_FK": "rajmond4",
                                    "FOGLALAS_PK": "1116",
                                    "METTOL": "2016-10-03",
                                    "Vendégek_Száma": "3",
                                    "Mozgóátlag": "3"
                                },
                                {
                                    "UGYFEL_FK": "rajmond4",
                                    "FOGLALAS_PK": "1263",
                                    "METTOL": "2016-11-08",
                                    "Vendégek_Száma": "4",
                                    "Mozgóátlag": "3"
                                },
                                {
                                    "UGYFEL_FK": "rajmond4",
                                    "FOGLALAS_PK": "1284",
                                    "METTOL": "2016-11-16",
                                    "Vendégek_Száma": "2",
                                    "Mozgóátlag": "3"
                                },
                                {
                                    "UGYFEL_FK": "reka4",
                                    "FOGLALAS_PK": "721",
                                    "METTOL": "2016-07-27",
                                    "Vendégek_Száma": "2",
                                    "Mozgóátlag": "2"
                                },
                                {
                                    "UGYFEL_FK": "reka4",
                                    "FOGLALAS_PK": "748",
                                    "METTOL": "2016-08-02",
                                    "Vendégek_Száma": "4",
                                    "Mozgóátlag": "3"
                                },
                                {
                                    "UGYFEL_FK": "reka4",
                                    "FOGLALAS_PK": "1033",
                                    "METTOL": "2016-09-05",
                                    "Vendégek_Száma": "3",
                                    "Mozgóátlag": "3"
                                },
                                {
                                    "UGYFEL_FK": "reka4",
                                    "FOGLALAS_PK": "1089",
                                    "METTOL": "2016-09-30",
                                    "Vendégek_Száma": "2",
                                    "Mozgóátlag": "2"
                                },
                                {
                                    "UGYFEL_FK": "reka4",
                                    "FOGLALAS_PK": "1575",
                                    "METTOL": "2017-02-26",
                                    "Vendégek_Száma": "2",
                                    "Mozgóátlag": "2"
                                },
                                {
                                    "UGYFEL_FK": "RENATAK",
                                    "FOGLALAS_PK": "1204",
                                    "METTOL": "2016-10-27",
                                    "Vendégek_Száma": "4",
                                    "Mozgóátlag": "4"
                                },
                                {
                                    "UGYFEL_FK": "RENATAK",
                                    "FOGLALAS_PK": "1224",
                                    "METTOL": "2016-10-30",
                                    "Vendégek_Száma": "1",
                                    "Mozgóátlag": "2"
                                },
                                {
                                    "UGYFEL_FK": "RENATAK",
                                    "FOGLALAS_PK": "1312",
                                    "METTOL": "2016-11-23",
                                    "Vendégek_Száma": "1",
                                    "Mozgóátlag": "2"
                                },
                                {
                                    "UGYFEL_FK": "RENATAK",
                                    "FOGLALAS_PK": "1471",
                                    "METTOL": "2017-01-23",
                                    "Vendégek_Száma": "3",
                                    "Mozgóátlag": "2"
                                },
                                {
                                    "UGYFEL_FK": "RENATAK",
                                    "FOGLALAS_PK": "1543",
                                    "METTOL": "2017-02-16",
                                    "Vendégek_Száma": "1",
                                    "Mozgóátlag": "2"
                                },
                                {
                                    "UGYFEL_FK": "RENATAK",
                                    "FOGLALAS_PK": "1581",
                                    "METTOL": "2017-03-01",
                                    "Vendégek_Száma": "1",
                                    "Mozgóátlag": "1"
                                },
                                {
                                    "UGYFEL_FK": "RENATAS",
                                    "FOGLALAS_PK": "619",
                                    "METTOL": "2016-05-04",
                                    "Vendégek_Száma": "2",
                                    "Mozgóátlag": "2"
                                },
                                {
                                    "UGYFEL_FK": "RENATAS",
                                    "FOGLALAS_PK": "637",
                                    "METTOL": "2016-05-11",
                                    "Vendégek_Száma": "2",
                                    "Mozgóátlag": "2"
                                },
                                {
                                    "UGYFEL_FK": "RENATAS",
                                    "FOGLALAS_PK": "985",
                                    "METTOL": "2016-06-24",
                                    "Vendégek_Száma": "5",
                                    "Mozgóátlag": "3"
                                },
                                {
                                    "UGYFEL_FK": "RENATAS",
                                    "FOGLALAS_PK": "1529",
                                    "METTOL": "2017-02-13",
                                    "Vendégek_Száma": "1",
                                    "Mozgóátlag": "2"
                                },
                                {
                                    "UGYFEL_FK": "RENATAS",
                                    "FOGLALAS_PK": "1532",
                                    "METTOL": "2017-02-14",
                                    "Vendégek_Száma": "2",
                                    "Mozgóátlag": "2"
                                },
                                {
                                    "UGYFEL_FK": "robert2",
                                    "FOGLALAS_PK": "647",
                                    "METTOL": "2016-05-15",
                                    "Vendégek_Száma": "2",
                                    "Mozgóátlag": "2"
                                },
                                {
                                    "UGYFEL_FK": "robert2",
                                    "FOGLALAS_PK": "802",
                                    "METTOL": "2016-08-20",
                                    "Vendégek_Száma": "2",
                                    "Mozgóátlag": "2"
                                },
                                {
                                    "UGYFEL_FK": "robert2",
                                    "FOGLALAS_PK": "1183",
                                    "METTOL": "2016-10-23",
                                    "Vendégek_Száma": "3",
                                    "Mozgóátlag": "2"
                                },
                                {
                                    "UGYFEL_FK": "robert2",
                                    "FOGLALAS_PK": "1374",
                                    "METTOL": "2016-12-17",
                                    "Vendégek_Száma": "1",
                                    "Mozgóátlag": "2"
                                },
                                {
                                    "UGYFEL_FK": "ROBERTI",
                                    "FOGLALAS_PK": "1027",
                                    "METTOL": "2016-07-12",
                                    "Vendégek_Száma": "4",
                                    "Mozgóátlag": "4"
                                },
                                {
                                    "UGYFEL_FK": "ROBERTI",
                                    "FOGLALAS_PK": "791",
                                    "METTOL": "2016-08-16",
                                    "Vendégek_Száma": "2",
                                    "Mozgóátlag": "3"
                                },
                                {
                                    "UGYFEL_FK": "ROBERTI",
                                    "FOGLALAS_PK": "808",
                                    "METTOL": "2016-08-23",
                                    "Vendégek_Száma": "2",
                                    "Mozgóátlag": "2"
                                },
                                {
                                    "UGYFEL_FK": "ROBERTI",
                                    "FOGLALAS_PK": "1129",
                                    "METTOL": "2016-10-08",
                                    "Vendégek_Száma": "3",
                                    "Mozgóátlag": "2"
                                },
                                {
                                    "UGYFEL_FK": "ROBERTI",
                                    "FOGLALAS_PK": "1141",
                                    "METTOL": "2016-10-09",
                                    "Vendégek_Száma": "2",
                                    "Mozgóátlag": "2"
                                },
                                {
                                    "UGYFEL_FK": "ROBERTI",
                                    "FOGLALAS_PK": "1186",
                                    "METTOL": "2016-10-23",
                                    "Vendégek_Száma": "1",
                                    "Mozgóátlag": "2"
                                },
                                {
                                    "UGYFEL_FK": "ROBERTI",
                                    "FOGLALAS_PK": "1197",
                                    "METTOL": "2016-10-26",
                                    "Vendégek_Száma": "2",
                                    "Mozgóátlag": "2"
                                },
                                {
                                    "UGYFEL_FK": "ROBERTI",
                                    "FOGLALAS_PK": "1545",
                                    "METTOL": "2017-02-17",
                                    "Vendégek_Száma": "2",
                                    "Mozgóátlag": "2"
                                },
                                {
                                    "UGYFEL_FK": "ROBERTP",
                                    "FOGLALAS_PK": "739",
                                    "METTOL": "2016-07-30",
                                    "Vendégek_Száma": "2",
                                    "Mozgóátlag": "2"
                                },
                                {
                                    "UGYFEL_FK": "ROBERTP",
                                    "FOGLALAS_PK": "1038",
                                    "METTOL": "2016-09-08",
                                    "Vendégek_Száma": "4",
                                    "Mozgóátlag": "3"
                                },
                                {
                                    "UGYFEL_FK": "roland",
                                    "FOGLALAS_PK": "939",
                                    "METTOL": "2016-06-09",
                                    "Vendégek_Száma": "3",
                                    "Mozgóátlag": "3"
                                },
                                {
                                    "UGYFEL_FK": "roland",
                                    "FOGLALAS_PK": "978",
                                    "METTOL": "2016-06-22",
                                    "Vendégek_Száma": "3",
                                    "Mozgóátlag": "3"
                                },
                                {
                                    "UGYFEL_FK": "roland",
                                    "FOGLALAS_PK": "848",
                                    "METTOL": "2016-09-04",
                                    "Vendégek_Száma": "2",
                                    "Mozgóátlag": "2"
                                },
                                {
                                    "UGYFEL_FK": "roland",
                                    "FOGLALAS_PK": "1294",
                                    "METTOL": "2016-11-19",
                                    "Vendégek_Száma": "2",
                                    "Mozgóátlag": "2"
                                },
                                {
                                    "UGYFEL_FK": "roland1",
                                    "FOGLALAS_PK": "1253",
                                    "METTOL": "2016-11-05",
                                    "Vendégek_Száma": "3",
                                    "Mozgóátlag": "3"
                                },
                                {
                                    "UGYFEL_FK": "roland1",
                                    "FOGLALAS_PK": "1384",
                                    "METTOL": "2016-12-22",
                                    "Vendégek_Száma": "1",
                                    "Mozgóátlag": "2"
                                },
                                {
                                    "UGYFEL_FK": "roland1",
                                    "FOGLALAS_PK": "1418",
                                    "METTOL": "2017-01-04",
                                    "Vendégek_Száma": "3",
                                    "Mozgóátlag": "2"
                                },
                                {
                                    "UGYFEL_FK": "roland1",
                                    "FOGLALAS_PK": "1448",
                                    "METTOL": "2017-01-16",
                                    "Vendégek_Száma": "2",
                                    "Mozgóátlag": "2"
                                },
                                {
                                    "UGYFEL_FK": "roza2",
                                    "FOGLALAS_PK": "1041",
                                    "METTOL": "2016-09-10",
                                    "Vendégek_Száma": "2",
                                    "Mozgóátlag": "2"
                                },
                                {
                                    "UGYFEL_FK": "roza2",
                                    "FOGLALAS_PK": "1433",
                                    "METTOL": "2017-01-11",
                                    "Vendégek_Száma": "3",
                                    "Mozgóátlag": "2"
                                },
                                {
                                    "UGYFEL_FK": "roza2",
                                    "FOGLALAS_PK": "1549",
                                    "METTOL": "2017-02-18",
                                    "Vendégek_Száma": "3",
                                    "Mozgóátlag": "2"
                                },
                                {
                                    "UGYFEL_FK": "sandor",
                                    "FOGLALAS_PK": "1010",
                                    "METTOL": "2016-07-04",
                                    "Vendégek_Száma": "2",
                                    "Mozgóátlag": "2"
                                },
                                {
                                    "UGYFEL_FK": "sandor",
                                    "FOGLALAS_PK": "686",
                                    "METTOL": "2016-07-18",
                                    "Vendégek_Száma": "2",
                                    "Mozgóátlag": "2"
                                },
                                {
                                    "UGYFEL_FK": "sandor",
                                    "FOGLALAS_PK": "800",
                                    "METTOL": "2016-08-20",
                                    "Vendégek_Száma": "2",
                                    "Mozgóátlag": "2"
                                },
                                {
                                    "UGYFEL_FK": "sandor",
                                    "FOGLALAS_PK": "1069",
                                    "METTOL": "2016-09-19",
                                    "Vendégek_Száma": "4",
                                    "Mozgóátlag": "2"
                                },
                                {
                                    "UGYFEL_FK": "sandor3",
                                    "FOGLALAS_PK": "640",
                                    "METTOL": "2016-05-12",
                                    "Vendégek_Száma": "2",
                                    "Mozgóátlag": "2"
                                },
                                {
                                    "UGYFEL_FK": "sandor3",
                                    "FOGLALAS_PK": "858",
                                    "METTOL": "2016-05-25",
                                    "Vendégek_Száma": "1",
                                    "Mozgóátlag": "1"
                                },
                                {
                                    "UGYFEL_FK": "sandor3",
                                    "FOGLALAS_PK": "1138",
                                    "METTOL": "2016-10-09",
                                    "Vendégek_Száma": "2",
                                    "Mozgóátlag": "1"
                                },
                                {
                                    "UGYFEL_FK": "sandor3",
                                    "FOGLALAS_PK": "1181",
                                    "METTOL": "2016-10-23",
                                    "Vendégek_Száma": "3",
                                    "Mozgóátlag": "2"
                                },
                                {
                                    "UGYFEL_FK": "sandor3",
                                    "FOGLALAS_PK": "1272",
                                    "METTOL": "2016-11-10",
                                    "Vendégek_Száma": "2",
                                    "Mozgóátlag": "2"
                                },
                                {
                                    "UGYFEL_FK": "sandor4",
                                    "FOGLALAS_PK": "1156",
                                    "METTOL": "2016-10-15",
                                    "Vendégek_Száma": "1",
                                    "Mozgóátlag": "1"
                                },
                                {
                                    "UGYFEL_FK": "sandor4",
                                    "FOGLALAS_PK": "1331",
                                    "METTOL": "2016-11-29",
                                    "Vendégek_Száma": "2",
                                    "Mozgóátlag": "1"
                                },
                                {
                                    "UGYFEL_FK": "sandor4",
                                    "FOGLALAS_PK": "1339",
                                    "METTOL": "2016-12-03",
                                    "Vendégek_Száma": "1",
                                    "Mozgóátlag": "1"
                                },
                                {
                                    "UGYFEL_FK": "sandor4",
                                    "FOGLALAS_PK": "1465",
                                    "METTOL": "2017-01-22",
                                    "Vendégek_Száma": "2",
                                    "Mozgóátlag": "1"
                                },
                                {
                                    "UGYFEL_FK": "sara",
                                    "FOGLALAS_PK": "866",
                                    "METTOL": "2016-05-28",
                                    "Vendégek_Száma": "2",
                                    "Mozgóátlag": "2"
                                },
                                {
                                    "UGYFEL_FK": "sara",
                                    "FOGLALAS_PK": "882",
                                    "METTOL": "2016-05-30",
                                    "Vendégek_Száma": "2",
                                    "Mozgóátlag": "2"
                                },
                                {
                                    "UGYFEL_FK": "sara",
                                    "FOGLALAS_PK": "910",
                                    "METTOL": "2016-06-06",
                                    "Vendégek_Száma": "2",
                                    "Mozgóátlag": "2"
                                },
                                {
                                    "UGYFEL_FK": "sara",
                                    "FOGLALAS_PK": "675",
                                    "METTOL": "2016-07-15",
                                    "Vendégek_Száma": "3",
                                    "Mozgóátlag": "2"
                                },
                                {
                                    "UGYFEL_FK": "sara",
                                    "FOGLALAS_PK": "711",
                                    "METTOL": "2016-07-24",
                                    "Vendégek_Száma": "3",
                                    "Mozgóátlag": "2"
                                },
                                {
                                    "UGYFEL_FK": "sara",
                                    "FOGLALAS_PK": "1124",
                                    "METTOL": "2016-10-06",
                                    "Vendégek_Száma": "3",
                                    "Mozgóátlag": "2"
                                },
                                {
                                    "UGYFEL_FK": "sara",
                                    "FOGLALAS_PK": "1148",
                                    "METTOL": "2016-10-11",
                                    "Vendégek_Száma": "3",
                                    "Mozgóátlag": "2"
                                },
                                {
                                    "UGYFEL_FK": "sara",
                                    "FOGLALAS_PK": "1212",
                                    "METTOL": "2016-10-28",
                                    "Vendégek_Száma": "2",
                                    "Mozgóátlag": "2"
                                },
                                {
                                    "UGYFEL_FK": "sara",
                                    "FOGLALAS_PK": "1289",
                                    "METTOL": "2016-11-18",
                                    "Vendégek_Száma": "3",
                                    "Mozgóátlag": "2"
                                },
                                {
                                    "UGYFEL_FK": "sara",
                                    "FOGLALAS_PK": "1311",
                                    "METTOL": "2016-11-23",
                                    "Vendégek_Száma": "4",
                                    "Mozgóátlag": "3"
                                },
                                {
                                    "UGYFEL_FK": "sara",
                                    "FOGLALAS_PK": "1351",
                                    "METTOL": "2016-12-06",
                                    "Vendégek_Száma": "1",
                                    "Mozgóátlag": "2"
                                },
                                {
                                    "UGYFEL_FK": "sara",
                                    "FOGLALAS_PK": "1390",
                                    "METTOL": "2016-12-25",
                                    "Vendégek_Száma": "2",
                                    "Mozgóátlag": "2"
                                },
                                {
                                    "UGYFEL_FK": "SEBASTIANF",
                                    "FOGLALAS_PK": "560",
                                    "METTOL": "2016-04-06",
                                    "Vendégek_Száma": "2",
                                    "Mozgóátlag": "2"
                                },
                                {
                                    "UGYFEL_FK": "SEBASTIANF",
                                    "FOGLALAS_PK": "680",
                                    "METTOL": "2016-07-17",
                                    "Vendégek_Száma": "2",
                                    "Mozgóátlag": "2"
                                },
                                {
                                    "UGYFEL_FK": "SEBASTIANF",
                                    "FOGLALAS_PK": "741",
                                    "METTOL": "2016-07-30",
                                    "Vendégek_Száma": "4",
                                    "Mozgóátlag": "2"
                                },
                                {
                                    "UGYFEL_FK": "SEBASTIANF",
                                    "FOGLALAS_PK": "1051",
                                    "METTOL": "2016-09-14",
                                    "Vendégek_Száma": "3",
                                    "Mozgóátlag": "2"
                                },
                                {
                                    "UGYFEL_FK": "SEBASTIANF",
                                    "FOGLALAS_PK": "1062",
                                    "METTOL": "2016-09-17",
                                    "Vendégek_Száma": "3",
                                    "Mozgóátlag": "2"
                                },
                                {
                                    "UGYFEL_FK": "sebestyen",
                                    "FOGLALAS_PK": "563",
                                    "METTOL": "2016-04-07",
                                    "Vendégek_Száma": "4",
                                    "Mozgóátlag": "4"
                                },
                                {
                                    "UGYFEL_FK": "sebestyen",
                                    "FOGLALAS_PK": "602",
                                    "METTOL": "2016-04-26",
                                    "Vendégek_Száma": "4",
                                    "Mozgóátlag": "4"
                                },
                                {
                                    "UGYFEL_FK": "sebestyen",
                                    "FOGLALAS_PK": "940",
                                    "METTOL": "2016-06-09",
                                    "Vendégek_Száma": "4",
                                    "Mozgóátlag": "4"
                                },
                                {
                                    "UGYFEL_FK": "sebestyen",
                                    "FOGLALAS_PK": "1195",
                                    "METTOL": "2016-10-26",
                                    "Vendégek_Száma": "5",
                                    "Mozgóátlag": "4"
                                },
                                {
                                    "UGYFEL_FK": "szabolcs",
                                    "FOGLALAS_PK": "1343",
                                    "METTOL": "2016-12-05",
                                    "Vendégek_Száma": "2",
                                    "Mozgóátlag": "2"
                                },
                                {
                                    "UGYFEL_FK": "SZABOLCSM",
                                    "FOGLALAS_PK": "971",
                                    "METTOL": "2016-06-18",
                                    "Vendégek_Száma": "3",
                                    "Mozgóátlag": "3"
                                },
                                {
                                    "UGYFEL_FK": "SZABOLCSM",
                                    "FOGLALAS_PK": "735",
                                    "METTOL": "2016-07-28",
                                    "Vendégek_Száma": "2",
                                    "Mozgóátlag": "2"
                                },
                                {
                                    "UGYFEL_FK": "SZABOLCSM",
                                    "FOGLALAS_PK": "1163",
                                    "METTOL": "2016-10-17",
                                    "Vendégek_Száma": "2",
                                    "Mozgóátlag": "2"
                                },
                                {
                                    "UGYFEL_FK": "SZABOLCSM",
                                    "FOGLALAS_PK": "1208",
                                    "METTOL": "2016-10-28",
                                    "Vendégek_Száma": "3",
                                    "Mozgóátlag": "2"
                                },
                                {
                                    "UGYFEL_FK": "SZABOLCSM",
                                    "FOGLALAS_PK": "1276",
                                    "METTOL": "2016-11-12",
                                    "Vendégek_Száma": "2",
                                    "Mozgóátlag": "2"
                                },
                                {
                                    "UGYFEL_FK": "SZABOLCSM",
                                    "FOGLALAS_PK": "1424",
                                    "METTOL": "2017-01-07",
                                    "Vendégek_Száma": "2",
                                    "Mozgóátlag": "2"
                                },
                                {
                                    "UGYFEL_FK": "SZABOLCSM",
                                    "FOGLALAS_PK": "1497",
                                    "METTOL": "2017-02-04",
                                    "Vendégek_Száma": "3",
                                    "Mozgóátlag": "2"
                                },
                                {
                                    "UGYFEL_FK": "SZILARDS",
                                    "FOGLALAS_PK": "596",
                                    "METTOL": "2016-04-23",
                                    "Vendégek_Száma": "3",
                                    "Mozgóátlag": "3"
                                },
                                {
                                    "UGYFEL_FK": "SZILARDS",
                                    "FOGLALAS_PK": "718",
                                    "METTOL": "2016-07-27",
                                    "Vendégek_Száma": "5",
                                    "Mozgóátlag": "4"
                                },
                                {
                                    "UGYFEL_FK": "SZILARDS",
                                    "FOGLALAS_PK": "830",
                                    "METTOL": "2016-08-28",
                                    "Vendégek_Száma": "4",
                                    "Mozgóátlag": "4"
                                },
                                {
                                    "UGYFEL_FK": "SZILARDS",
                                    "FOGLALAS_PK": "1071",
                                    "METTOL": "2016-09-20",
                                    "Vendégek_Száma": "3",
                                    "Mozgóátlag": "3"
                                },
                                {
                                    "UGYFEL_FK": "SZILARDS",
                                    "FOGLALAS_PK": "1110",
                                    "METTOL": "2016-10-01",
                                    "Vendégek_Száma": "3",
                                    "Mozgóátlag": "3"
                                },
                                {
                                    "UGYFEL_FK": "SZILARDS",
                                    "FOGLALAS_PK": "1442",
                                    "METTOL": "2017-01-16",
                                    "Vendégek_Száma": "3",
                                    "Mozgóátlag": "3"
                                },
                                {
                                    "UGYFEL_FK": "SZILARDS",
                                    "FOGLALAS_PK": "1508",
                                    "METTOL": "2017-02-08",
                                    "Vendégek_Száma": "1",
                                    "Mozgóátlag": "2"
                                },
                                {
                                    "UGYFEL_FK": "szilvia1",
                                    "FOGLALAS_PK": "644",
                                    "METTOL": "2016-05-14",
                                    "Vendégek_Száma": "2",
                                    "Mozgóátlag": "2"
                                },
                                {
                                    "UGYFEL_FK": "szilvia1",
                                    "FOGLALAS_PK": "870",
                                    "METTOL": "2016-05-28",
                                    "Vendégek_Száma": "2",
                                    "Mozgóátlag": "2"
                                },
                                {
                                    "UGYFEL_FK": "szilvia1",
                                    "FOGLALAS_PK": "715",
                                    "METTOL": "2016-07-25",
                                    "Vendégek_Száma": "2",
                                    "Mozgóátlag": "2"
                                },
                                {
                                    "UGYFEL_FK": "szilvia1",
                                    "FOGLALAS_PK": "1144",
                                    "METTOL": "2016-10-09",
                                    "Vendégek_Száma": "3",
                                    "Mozgóátlag": "2"
                                },
                                {
                                    "UGYFEL_FK": "szilvia1",
                                    "FOGLALAS_PK": "1191",
                                    "METTOL": "2016-10-25",
                                    "Vendégek_Száma": "3",
                                    "Mozgóátlag": "2"
                                },
                                {
                                    "UGYFEL_FK": "szilvia1",
                                    "FOGLALAS_PK": "1207",
                                    "METTOL": "2016-10-27",
                                    "Vendégek_Száma": "2",
                                    "Mozgóátlag": "2"
                                },
                                {
                                    "UGYFEL_FK": "szilvia1",
                                    "FOGLALAS_PK": "1391",
                                    "METTOL": "2016-12-25",
                                    "Vendégek_Száma": "5",
                                    "Mozgóátlag": "3"
                                },
                                {
                                    "UGYFEL_FK": "szilvia1",
                                    "FOGLALAS_PK": "1401",
                                    "METTOL": "2016-12-27",
                                    "Vendégek_Száma": "2",
                                    "Mozgóátlag": "3"
                                },
                                {
                                    "UGYFEL_FK": "szilvia1",
                                    "FOGLALAS_PK": "1479",
                                    "METTOL": "2017-01-28",
                                    "Vendégek_Száma": "2",
                                    "Mozgóátlag": "2"
                                },
                                {
                                    "UGYFEL_FK": "tamara2",
                                    "FOGLALAS_PK": "770",
                                    "METTOL": "2016-08-12",
                                    "Vendégek_Száma": "3",
                                    "Mozgóátlag": "3"
                                },
                                {
                                    "UGYFEL_FK": "tamara2",
                                    "FOGLALAS_PK": "1280",
                                    "METTOL": "2016-11-15",
                                    "Vendégek_Száma": "2",
                                    "Mozgóátlag": "2"
                                },
                                {
                                    "UGYFEL_FK": "tamas",
                                    "FOGLALAS_PK": "649",
                                    "METTOL": "2016-05-17",
                                    "Vendégek_Száma": "2",
                                    "Mozgóátlag": "2"
                                },
                                {
                                    "UGYFEL_FK": "tamas",
                                    "FOGLALAS_PK": "959",
                                    "METTOL": "2016-06-14",
                                    "Vendégek_Száma": "2",
                                    "Mozgóátlag": "2"
                                },
                                {
                                    "UGYFEL_FK": "tamas",
                                    "FOGLALAS_PK": "817",
                                    "METTOL": "2016-08-24",
                                    "Vendégek_Száma": "3",
                                    "Mozgóátlag": "2"
                                },
                                {
                                    "UGYFEL_FK": "tamas",
                                    "FOGLALAS_PK": "1534",
                                    "METTOL": "2017-02-14",
                                    "Vendégek_Száma": "3",
                                    "Mozgóátlag": "2"
                                },
                                {
                                    "UGYFEL_FK": "TAMASF",
                                    "FOGLALAS_PK": "618",
                                    "METTOL": "2016-05-03",
                                    "Vendégek_Száma": "2",
                                    "Mozgóátlag": "2"
                                },
                                {
                                    "UGYFEL_FK": "TAMASF",
                                    "FOGLALAS_PK": "950",
                                    "METTOL": "2016-06-10",
                                    "Vendégek_Száma": "3",
                                    "Mozgóátlag": "2"
                                },
                                {
                                    "UGYFEL_FK": "TAMASF",
                                    "FOGLALAS_PK": "991",
                                    "METTOL": "2016-06-28",
                                    "Vendégek_Száma": "3",
                                    "Mozgóátlag": "2"
                                },
                                {
                                    "UGYFEL_FK": "TAMASF",
                                    "FOGLALAS_PK": "1008",
                                    "METTOL": "2016-07-04",
                                    "Vendégek_Száma": "2",
                                    "Mozgóátlag": "2"
                                },
                                {
                                    "UGYFEL_FK": "TAMASF",
                                    "FOGLALAS_PK": "1044",
                                    "METTOL": "2016-09-12",
                                    "Vendégek_Száma": "3",
                                    "Mozgóátlag": "2"
                                },
                                {
                                    "UGYFEL_FK": "TAMASF",
                                    "FOGLALAS_PK": "1338",
                                    "METTOL": "2016-12-02",
                                    "Vendégek_Száma": "1",
                                    "Mozgóátlag": "2"
                                },
                                {
                                    "UGYFEL_FK": "TAMASF",
                                    "FOGLALAS_PK": "1357",
                                    "METTOL": "2016-12-10",
                                    "Vendégek_Száma": "3",
                                    "Mozgóátlag": "2"
                                },
                                {
                                    "UGYFEL_FK": "TAMASF",
                                    "FOGLALAS_PK": "1525",
                                    "METTOL": "2017-02-12",
                                    "Vendégek_Száma": "2",
                                    "Mozgóátlag": "2"
                                },
                                {
                                    "UGYFEL_FK": "TAMASF",
                                    "FOGLALAS_PK": "1537",
                                    "METTOL": "2017-02-16",
                                    "Vendégek_Száma": "4",
                                    "Mozgóátlag": "2"
                                },
                                {
                                    "UGYFEL_FK": "tibor",
                                    "FOGLALAS_PK": "1145",
                                    "METTOL": "2016-10-09",
                                    "Vendégek_Száma": "2",
                                    "Mozgóátlag": "2"
                                },
                                {
                                    "UGYFEL_FK": "tibor",
                                    "FOGLALAS_PK": "1251",
                                    "METTOL": "2016-11-05",
                                    "Vendégek_Száma": "1",
                                    "Mozgóátlag": "1"
                                },
                                {
                                    "UGYFEL_FK": "tibor2",
                                    "FOGLALAS_PK": "1170",
                                    "METTOL": "2016-10-20",
                                    "Vendégek_Száma": "2",
                                    "Mozgóátlag": "2"
                                },
                                {
                                    "UGYFEL_FK": "tihamer",
                                    "FOGLALAS_PK": "881",
                                    "METTOL": "2016-05-30",
                                    "Vendégek_Száma": "1",
                                    "Mozgóátlag": "1"
                                },
                                {
                                    "UGYFEL_FK": "tihamer",
                                    "FOGLALAS_PK": "895",
                                    "METTOL": "2016-06-03",
                                    "Vendégek_Száma": "5",
                                    "Mozgóátlag": "3"
                                },
                                {
                                    "UGYFEL_FK": "tihamer",
                                    "FOGLALAS_PK": "698",
                                    "METTOL": "2016-07-20",
                                    "Vendégek_Száma": "3",
                                    "Mozgóátlag": "3"
                                },
                                {
                                    "UGYFEL_FK": "tihamer",
                                    "FOGLALAS_PK": "798",
                                    "METTOL": "2016-08-18",
                                    "Vendégek_Száma": "3",
                                    "Mozgóátlag": "3"
                                },
                                {
                                    "UGYFEL_FK": "tihamer",
                                    "FOGLALAS_PK": "1166",
                                    "METTOL": "2016-10-19",
                                    "Vendégek_Száma": "2",
                                    "Mozgóátlag": "2"
                                },
                                {
                                    "UGYFEL_FK": "tihamer",
                                    "FOGLALAS_PK": "1389",
                                    "METTOL": "2016-12-25",
                                    "Vendégek_Száma": "2",
                                    "Mozgóátlag": "3"
                                },
                                {
                                    "UGYFEL_FK": "timea",
                                    "FOGLALAS_PK": "1398",
                                    "METTOL": "2016-12-26",
                                    "Vendégek_Száma": "2",
                                    "Mozgóátlag": "2"
                                },
                                {
                                    "UGYFEL_FK": "timea2",
                                    "FOGLALAS_PK": "913",
                                    "METTOL": "2016-06-06",
                                    "Vendégek_Száma": "2",
                                    "Mozgóátlag": "2"
                                },
                                {
                                    "UGYFEL_FK": "timea2",
                                    "FOGLALAS_PK": "762",
                                    "METTOL": "2016-08-07",
                                    "Vendégek_Száma": "3",
                                    "Mozgóátlag": "2"
                                },
                                {
                                    "UGYFEL_FK": "timea2",
                                    "FOGLALAS_PK": "1196",
                                    "METTOL": "2016-10-26",
                                    "Vendégek_Száma": "3",
                                    "Mozgóátlag": "2"
                                },
                                {
                                    "UGYFEL_FK": "timea2",
                                    "FOGLALAS_PK": "1324",
                                    "METTOL": "2016-11-27",
                                    "Vendégek_Száma": "4",
                                    "Mozgóátlag": "3"
                                },
                                {
                                    "UGYFEL_FK": "timea2",
                                    "FOGLALAS_PK": "1362",
                                    "METTOL": "2016-12-14",
                                    "Vendégek_Száma": "4",
                                    "Mozgóátlag": "3"
                                },
                                {
                                    "UGYFEL_FK": "tunde",
                                    "FOGLALAS_PK": "898",
                                    "METTOL": "2016-06-03",
                                    "Vendégek_Száma": "3",
                                    "Mozgóátlag": "3"
                                },
                                {
                                    "UGYFEL_FK": "tunde",
                                    "FOGLALAS_PK": "918",
                                    "METTOL": "2016-06-06",
                                    "Vendégek_Száma": "3",
                                    "Mozgóátlag": "3"
                                },
                                {
                                    "UGYFEL_FK": "tunde",
                                    "FOGLALAS_PK": "669",
                                    "METTOL": "2016-07-14",
                                    "Vendégek_Száma": "1",
                                    "Mozgóátlag": "2"
                                },
                                {
                                    "UGYFEL_FK": "tunde",
                                    "FOGLALAS_PK": "849",
                                    "METTOL": "2016-09-05",
                                    "Vendégek_Száma": "2",
                                    "Mozgóátlag": "2"
                                },
                                {
                                    "UGYFEL_FK": "tunde",
                                    "FOGLALAS_PK": "1189",
                                    "METTOL": "2016-10-24",
                                    "Vendégek_Száma": "3",
                                    "Mozgóátlag": "2"
                                },
                                {
                                    "UGYFEL_FK": "tunde",
                                    "FOGLALAS_PK": "1290",
                                    "METTOL": "2016-11-19",
                                    "Vendégek_Száma": "3",
                                    "Mozgóátlag": "2"
                                },
                                {
                                    "UGYFEL_FK": "tunde",
                                    "FOGLALAS_PK": "1363",
                                    "METTOL": "2016-12-15",
                                    "Vendégek_Száma": "3",
                                    "Mozgóátlag": "2"
                                },
                                {
                                    "UGYFEL_FK": "tunde",
                                    "FOGLALAS_PK": "1415",
                                    "METTOL": "2017-01-03",
                                    "Vendégek_Száma": "5",
                                    "Mozgóátlag": "3"
                                },
                                {
                                    "UGYFEL_FK": "valentin",
                                    "FOGLALAS_PK": "856",
                                    "METTOL": "2016-05-24",
                                    "Vendégek_Száma": "4",
                                    "Mozgóátlag": "4"
                                },
                                {
                                    "UGYFEL_FK": "valentin",
                                    "FOGLALAS_PK": "709",
                                    "METTOL": "2016-07-24",
                                    "Vendégek_Száma": "1",
                                    "Mozgóátlag": "2"
                                },
                                {
                                    "UGYFEL_FK": "valentin",
                                    "FOGLALAS_PK": "1203",
                                    "METTOL": "2016-10-26",
                                    "Vendégek_Száma": "3",
                                    "Mozgóátlag": "2"
                                },
                                {
                                    "UGYFEL_FK": "valentin",
                                    "FOGLALAS_PK": "1275",
                                    "METTOL": "2016-11-11",
                                    "Vendégek_Száma": "3",
                                    "Mozgóátlag": "2"
                                },
                                {
                                    "UGYFEL_FK": "valentin",
                                    "FOGLALAS_PK": "1334",
                                    "METTOL": "2016-12-01",
                                    "Vendégek_Száma": "3",
                                    "Mozgóátlag": "2"
                                },
                                {
                                    "UGYFEL_FK": "veronika4",
                                    "FOGLALAS_PK": "883",
                                    "METTOL": "2016-05-30",
                                    "Vendégek_Száma": "2",
                                    "Mozgóátlag": "2"
                                },
                                {
                                    "UGYFEL_FK": "veronika4",
                                    "FOGLALAS_PK": "695",
                                    "METTOL": "2016-07-20",
                                    "Vendégek_Száma": "3",
                                    "Mozgóátlag": "2"
                                },
                                {
                                    "UGYFEL_FK": "veronika4",
                                    "FOGLALAS_PK": "790",
                                    "METTOL": "2016-08-16",
                                    "Vendégek_Száma": "1",
                                    "Mozgóátlag": "2"
                                },
                                {
                                    "UGYFEL_FK": "veronika4",
                                    "FOGLALAS_PK": "1081",
                                    "METTOL": "2016-09-26",
                                    "Vendégek_Száma": "2",
                                    "Mozgóátlag": "2"
                                },
                                {
                                    "UGYFEL_FK": "veronika4",
                                    "FOGLALAS_PK": "1456",
                                    "METTOL": "2017-01-19",
                                    "Vendégek_Száma": "3",
                                    "Mozgóátlag": "2"
                                },
                                {
                                    "UGYFEL_FK": "veronika4",
                                    "FOGLALAS_PK": "1491",
                                    "METTOL": "2017-02-03",
                                    "Vendégek_Száma": "2",
                                    "Mozgóátlag": "2"
                                },
                                {
                                    "UGYFEL_FK": "VIKTORIAU",
                                    "FOGLALAS_PK": "610",
                                    "METTOL": "2016-04-30",
                                    "Vendégek_Száma": "1",
                                    "Mozgóátlag": "1"
                                },
                                {
                                    "UGYFEL_FK": "VIKTORIAU",
                                    "FOGLALAS_PK": "753",
                                    "METTOL": "2016-08-03",
                                    "Vendégek_Száma": "2",
                                    "Mozgóátlag": "1"
                                },
                                {
                                    "UGYFEL_FK": "VIKTORIAU",
                                    "FOGLALAS_PK": "1151",
                                    "METTOL": "2016-10-14",
                                    "Vendégek_Száma": "3",
                                    "Mozgóátlag": "2"
                                },
                                {
                                    "UGYFEL_FK": "VIKTORIAU",
                                    "FOGLALAS_PK": "1199",
                                    "METTOL": "2016-10-26",
                                    "Vendégek_Száma": "4",
                                    "Mozgóátlag": "2"
                                },
                                {
                                    "UGYFEL_FK": "VIKTORK",
                                    "FOGLALAS_PK": "879",
                                    "METTOL": "2016-05-30",
                                    "Vendégek_Száma": "2",
                                    "Mozgóátlag": "2"
                                },
                                {
                                    "UGYFEL_FK": "VIKTORK",
                                    "FOGLALAS_PK": "919",
                                    "METTOL": "2016-06-06",
                                    "Vendégek_Száma": "4",
                                    "Mozgóátlag": "3"
                                },
                                {
                                    "UGYFEL_FK": "vivien3",
                                    "FOGLALAS_PK": "617",
                                    "METTOL": "2016-05-02",
                                    "Vendégek_Száma": "3",
                                    "Mozgóátlag": "3"
                                },
                                {
                                    "UGYFEL_FK": "vivien3",
                                    "FOGLALAS_PK": "774",
                                    "METTOL": "2016-08-13",
                                    "Vendégek_Száma": "2",
                                    "Mozgóátlag": "2"
                                },
                                {
                                    "UGYFEL_FK": "vivien3",
                                    "FOGLALAS_PK": "843",
                                    "METTOL": "2016-09-01",
                                    "Vendégek_Száma": "2",
                                    "Mozgóátlag": "2"
                                },
                                {
                                    "UGYFEL_FK": "vivien3",
                                    "FOGLALAS_PK": "1103",
                                    "METTOL": "2016-10-01",
                                    "Vendégek_Száma": "1",
                                    "Mozgóátlag": "2"
                                },
                                {
                                    "UGYFEL_FK": "vivien3",
                                    "FOGLALAS_PK": "1288",
                                    "METTOL": "2016-11-17",
                                    "Vendégek_Száma": "2",
                                    "Mozgóátlag": "2"
                                },
                                {
                                    "UGYFEL_FK": "vivien3",
                                    "FOGLALAS_PK": "1375",
                                    "METTOL": "2016-12-17",
                                    "Vendégek_Száma": "2",
                                    "Mozgóátlag": "1"
                                },
                                {
                                    "UGYFEL_FK": "vivien3",
                                    "FOGLALAS_PK": "1386",
                                    "METTOL": "2016-12-24",
                                    "Vendégek_Száma": "3",
                                    "Mozgóátlag": "2"
                                },
                                {
                                    "UGYFEL_FK": "zoltan",
                                    "FOGLALAS_PK": "822",
                                    "METTOL": "2016-08-24",
                                    "Vendégek_Száma": "2",
                                    "Mozgóátlag": "2"
                                },
                                {
                                    "UGYFEL_FK": "zoltan",
                                    "FOGLALAS_PK": "1030",
                                    "METTOL": "2016-09-05",
                                    "Vendégek_Száma": "3",
                                    "Mozgóátlag": "2"
                                },
                                {
                                    "UGYFEL_FK": "zoltan4",
                                    "FOGLALAS_PK": "639",
                                    "METTOL": "2016-05-12",
                                    "Vendégek_Száma": "3",
                                    "Mozgóátlag": "3"
                                },
                                {
                                    "UGYFEL_FK": "zoltan4",
                                    "FOGLALAS_PK": "641",
                                    "METTOL": "2016-05-13",
                                    "Vendégek_Száma": "3",
                                    "Mozgóátlag": "3"
                                },
                                {
                                    "UGYFEL_FK": "zoltan4",
                                    "FOGLALAS_PK": "893",
                                    "METTOL": "2016-06-03",
                                    "Vendégek_Száma": "1",
                                    "Mozgóátlag": "2"
                                },
                                {
                                    "UGYFEL_FK": "zoltan4",
                                    "FOGLALAS_PK": "779",
                                    "METTOL": "2016-08-15",
                                    "Vendégek_Száma": "1",
                                    "Mozgóátlag": "2"
                                },
                                {
                                    "UGYFEL_FK": "zoltan4",
                                    "FOGLALAS_PK": "784",
                                    "METTOL": "2016-08-16",
                                    "Vendégek_Száma": "2",
                                    "Mozgóátlag": "2"
                                },
                                {
                                    "UGYFEL_FK": "zoltan4",
                                    "FOGLALAS_PK": "1091",
                                    "METTOL": "2016-09-30",
                                    "Vendégek_Száma": "3",
                                    "Mozgóátlag": "2"
                                },
                                {
                                    "UGYFEL_FK": "zoltan4",
                                    "FOGLALAS_PK": "1176",
                                    "METTOL": "2016-10-21",
                                    "Vendégek_Száma": "5",
                                    "Mozgóátlag": "2"
                                },
                                {
                                    "UGYFEL_FK": "zoltan4",
                                    "FOGLALAS_PK": "1194",
                                    "METTOL": "2016-10-26",
                                    "Vendégek_Száma": "2",
                                    "Mozgóátlag": "2"
                                },
                                {
                                    "UGYFEL_FK": "zoltan4",
                                    "FOGLALAS_PK": "1230",
                                    "METTOL": "2016-10-30",
                                    "Vendégek_Száma": "1",
                                    "Mozgóátlag": "2"
                                },
                                {
                                    "UGYFEL_FK": "zoltan4",
                                    "FOGLALAS_PK": "1292",
                                    "METTOL": "2016-11-19",
                                    "Vendégek_Száma": "2",
                                    "Mozgóátlag": "2"
                                },
                                {
                                    "UGYFEL_FK": "zoltan4",
                                    "FOGLALAS_PK": "1403",
                                    "METTOL": "2016-12-29",
                                    "Vendégek_Száma": "1",
                                    "Mozgóátlag": "2"
                                },
                                {
                                    "UGYFEL_FK": "zoltan4",
                                    "FOGLALAS_PK": "1409",
                                    "METTOL": "2017-01-01",
                                    "Vendégek_Száma": "3",
                                    "Mozgóátlag": "1"
                                },
                                {
                                    "UGYFEL_FK": "ZOLTANP",
                                    "FOGLALAS_PK": "907",
                                    "METTOL": "2016-06-05",
                                    "Vendégek_Száma": "2",
                                    "Mozgóátlag": "2"
                                },
                                {
                                    "UGYFEL_FK": "ZOLTANP",
                                    "FOGLALAS_PK": "915",
                                    "METTOL": "2016-06-06",
                                    "Vendégek_Száma": "2",
                                    "Mozgóátlag": "2"
                                },
                                {
                                    "UGYFEL_FK": "ZOLTANP",
                                    "FOGLALAS_PK": "700",
                                    "METTOL": "2016-07-20",
                                    "Vendégek_Száma": "3",
                                    "Mozgóátlag": "2"
                                },
                                {
                                    "UGYFEL_FK": "ZOLTANP",
                                    "FOGLALAS_PK": "1168",
                                    "METTOL": "2016-10-19",
                                    "Vendégek_Száma": "2",
                                    "Mozgóátlag": "2"
                                },
                                {
                                    "UGYFEL_FK": "ZOLTANP",
                                    "FOGLALAS_PK": "1352",
                                    "METTOL": "2016-12-07",
                                    "Vendégek_Száma": "3",
                                    "Mozgóátlag": "2"
                                },
                                {
                                    "UGYFEL_FK": "ZOLTANP",
                                    "FOGLALAS_PK": "1397",
                                    "METTOL": "2016-12-25",
                                    "Vendégek_Száma": "2",
                                    "Mozgóátlag": "2"
                                },
                                {
                                    "UGYFEL_FK": "ZOLTANT",
                                    "FOGLALAS_PK": "615",
                                    "METTOL": "2016-05-01",
                                    "Vendégek_Száma": "3",
                                    "Mozgóátlag": "3"
                                },
                                {
                                    "UGYFEL_FK": "ZOLTANT",
                                    "FOGLALAS_PK": "668",
                                    "METTOL": "2016-07-14",
                                    "Vendégek_Száma": "3",
                                    "Mozgóátlag": "3"
                                },
                                {
                                    "UGYFEL_FK": "ZOLTANT",
                                    "FOGLALAS_PK": "1447",
                                    "METTOL": "2017-01-16",
                                    "Vendégek_Száma": "2",
                                    "Mozgóátlag": "2"
                                },
                                {
                                    "UGYFEL_FK": "zsofi1",
                                    "FOGLALAS_PK": "968",
                                    "METTOL": "2016-06-16",
                                    "Vendégek_Száma": "2",
                                    "Mozgóátlag": "2"
                                },
                                {
                                    "UGYFEL_FK": "zsofi1",
                                    "FOGLALAS_PK": "1547",
                                    "METTOL": "2017-02-18",
                                    "Vendégek_Száma": "3",
                                    "Mozgóátlag": "2"
                                },
                                {
                                    "UGYFEL_FK": "zsolt1",
                                    "FOGLALAS_PK": "580",
                                    "METTOL": "2016-04-14",
                                    "Vendégek_Száma": "2",
                                    "Mozgóátlag": "2"
                                },
                                {
                                    "UGYFEL_FK": "zsolt1",
                                    "FOGLALAS_PK": "917",
                                    "METTOL": "2016-06-06",
                                    "Vendégek_Száma": "2",
                                    "Mozgóátlag": "2"
                                },
                                {
                                    "UGYFEL_FK": "zsolt1",
                                    "FOGLALAS_PK": "930",
                                    "METTOL": "2016-06-07",
                                    "Vendégek_Száma": "4",
                                    "Mozgóátlag": "2"
                                },
                                {
                                    "UGYFEL_FK": "zsolt1",
                                    "FOGLALAS_PK": "743",
                                    "METTOL": "2016-07-31",
                                    "Vendégek_Száma": "2",
                                    "Mozgóátlag": "2"
                                },
                                {
                                    "UGYFEL_FK": "ZSOLTJ",
                                    "FOGLALAS_PK": "598",
                                    "METTOL": "2016-04-24",
                                    "Vendégek_Száma": "4",
                                    "Mozgóátlag": "4"
                                },
                                {
                                    "UGYFEL_FK": "ZSOLTJ",
                                    "FOGLALAS_PK": "630",
                                    "METTOL": "2016-05-09",
                                    "Vendégek_Száma": "2",
                                    "Mozgóátlag": "3"
                                },
                                {
                                    "UGYFEL_FK": "ZSOLTJ",
                                    "FOGLALAS_PK": "867",
                                    "METTOL": "2016-05-28",
                                    "Vendégek_Száma": "1",
                                    "Mozgóátlag": "2"
                                },
                                {
                                    "UGYFEL_FK": "ZSOLTJ",
                                    "FOGLALAS_PK": "970",
                                    "METTOL": "2016-06-17",
                                    "Vendégek_Száma": "2",
                                    "Mozgóátlag": "2"
                                },
                                {
                                    "UGYFEL_FK": "ZSOLTJ",
                                    "FOGLALAS_PK": "685",
                                    "METTOL": "2016-07-18",
                                    "Vendégek_Száma": "2",
                                    "Mozgóátlag": "2"
                                },
                                {
                                    "UGYFEL_FK": "ZSOLTJ",
                                    "FOGLALAS_PK": "1100",
                                    "METTOL": "2016-10-01",
                                    "Vendégek_Száma": "2",
                                    "Mozgóátlag": "1"
                                },
                                {
                                    "UGYFEL_FK": "zsuzsa",
                                    "FOGLALAS_PK": "712",
                                    "METTOL": "2016-07-24",
                                    "Vendégek_Száma": "3",
                                    "Mozgóátlag": "3"
                                },
                                {
                                    "UGYFEL_FK": "zsuzsa",
                                    "FOGLALAS_PK": "833",
                                    "METTOL": "2016-08-28",
                                    "Vendégek_Száma": "2",
                                    "Mozgóátlag": "2"
                                },
                                {
                                    "UGYFEL_FK": "zsuzsa",
                                    "FOGLALAS_PK": "1327",
                                    "METTOL": "2016-11-28",
                                    "Vendégek_Száma": "3",
                                    "Mozgóátlag": "2"
                                },
                                {
                                    "UGYFEL_FK": "zsuzsa3",
                                    "FOGLALAS_PK": "740",
                                    "METTOL": "2016-07-30",
                                    "Vendégek_Száma": "2",
                                    "Mozgóátlag": "2"
                                },
                                {
                                    "UGYFEL_FK": "zsuzsa3",
                                    "FOGLALAS_PK": "1040",
                                    "METTOL": "2016-09-09",
                                    "Vendégek_Száma": "2",
                                    "Mozgóátlag": "2"
                                },
                                {
                                    "UGYFEL_FK": "zsuzsa3",
                                    "FOGLALAS_PK": "1086",
                                    "METTOL": "2016-09-28",
                                    "Vendégek_Száma": "2",
                                    "Mozgóátlag": "2"
                                },
                                {
                                    "UGYFEL_FK": "zsuzsa3",
                                    "FOGLALAS_PK": "1206",
                                    "METTOL": "2016-10-27",
                                    "Vendégek_Száma": "4",
                                    "Mozgóátlag": "2"
                                },
                                {
                                    "UGYFEL_FK": "zsuzsanna",
                                    "FOGLALAS_PK": "650",
                                    "METTOL": "2016-05-17",
                                    "Vendégek_Száma": "2",
                                    "Mozgóátlag": "2"
                                },
                                {
                                    "UGYFEL_FK": "zsuzsanna",
                                    "FOGLALAS_PK": "1025",
                                    "METTOL": "2016-07-12",
                                    "Vendégek_Száma": "2",
                                    "Mozgóátlag": "2"
                                },
                                {
                                    "UGYFEL_FK": "zsuzsanna",
                                    "FOGLALAS_PK": "1428",
                                    "METTOL": "2017-01-09",
                                    "Vendégek_Száma": "1",
                                    "Mozgóátlag": "1"
                                },
                                {
                                    "UGYFEL_FK": "zsuzsanna",
                                    "FOGLALAS_PK": "1444",
                                    "METTOL": "2017-01-16",
                                    "Vendégek_Száma": "2",
                                    "Mozgóátlag": "1"
                                },
                                {
                                    "UGYFEL_FK": "ZSUZSAV",
                                    "FOGLALAS_PK": "579",
                                    "METTOL": "2016-04-14",
                                    "Vendégek_Száma": "2",
                                    "Mozgóátlag": "2"
                                },
                                {
                                    "UGYFEL_FK": "ZSUZSAV",
                                    "FOGLALAS_PK": "868",
                                    "METTOL": "2016-05-28",
                                    "Vendégek_Száma": "4",
                                    "Mozgóátlag": "3"
                                },
                                {
                                    "UGYFEL_FK": "ZSUZSAV",
                                    "FOGLALAS_PK": "960",
                                    "METTOL": "2016-06-15",
                                    "Vendégek_Száma": "3",
                                    "Mozgóátlag": "3"
                                },
                                {
                                    "UGYFEL_FK": "ZSUZSAV",
                                    "FOGLALAS_PK": "1063",
                                    "METTOL": "2016-09-18",
                                    "Vendégek_Száma": "2",
                                    "Mozgóátlag": "2"
                                },
                                {
                                    "UGYFEL_FK": "ZSUZSAV",
                                    "FOGLALAS_PK": "1202",
                                    "METTOL": "2016-10-26",
                                    "Vendégek_Száma": "1",
                                    "Mozgóátlag": "2"
                                },
                                {
                                    "UGYFEL_FK": "ZSUZSAV",
                                    "FOGLALAS_PK": "1300",
                                    "METTOL": "2016-11-21",
                                    "Vendégek_Száma": "3",
                                    "Mozgóátlag": "2"
                                }
                            ]
                        },
                        "text/html": [
                            "<table>",
                            "<tr><th>UGYFEL_FK</th><th>FOGLALAS_PK</th><th>METTOL</th><th>Vendégek_Száma</th><th>Mozgóátlag</th></tr>",
                            "<tr><td>adam1</td><td>869</td><td>2016-05-28</td><td>3</td><td>3</td></tr>",
                            "<tr><td>adam1</td><td>803</td><td>2016-08-20</td><td>1</td><td>2</td></tr>",
                            "<tr><td>adam1</td><td>1165</td><td>2016-10-19</td><td>2</td><td>2</td></tr>",
                            "<tr><td>adam3</td><td>1046</td><td>2016-09-12</td><td>2</td><td>2</td></tr>",
                            "<tr><td>adam3</td><td>1504</td><td>2017-02-06</td><td>1</td><td>1</td></tr>",
                            "<tr><td>adam4</td><td>829</td><td>2016-08-28</td><td>3</td><td>3</td></tr>",
                            "<tr><td>adam4</td><td>1205</td><td>2016-10-27</td><td>3</td><td>3</td></tr>",
                            "<tr><td>adam4</td><td>1281</td><td>2016-11-15</td><td>2</td><td>2</td></tr>",
                            "<tr><td>adam4</td><td>1347</td><td>2016-12-06</td><td>3</td><td>2</td></tr>",
                            "<tr><td>adam4</td><td>1435</td><td>2017-01-12</td><td>2</td><td>2</td></tr>",
                            "<tr><td>adam4</td><td>1561</td><td>2017-02-23</td><td>3</td><td>2</td></tr>",
                            "<tr><td>agnes</td><td>628</td><td>2016-05-09</td><td>3</td><td>3</td></tr>",
                            "<tr><td>agnes</td><td>857</td><td>2016-05-25</td><td>1</td><td>2</td></tr>",
                            "<tr><td>agnes</td><td>666</td><td>2016-07-13</td><td>3</td><td>2</td></tr>",
                            "<tr><td>agnes</td><td>738</td><td>2016-07-30</td><td>3</td><td>2</td></tr>",
                            "<tr><td>agnes</td><td>1261</td><td>2016-11-07</td><td>2</td><td>2</td></tr>",
                            "<tr><td>agnes3</td><td>755</td><td>2016-08-04</td><td>1</td><td>1</td></tr>",
                            "<tr><td>agnes3</td><td>1180</td><td>2016-10-22</td><td>3</td><td>2</td></tr>",
                            "<tr><td>agnes3</td><td>1544</td><td>2017-02-16</td><td>3</td><td>2</td></tr>",
                            "<tr><td>AGNESH</td><td>571</td><td>2016-04-10</td><td>2</td><td>2</td></tr>",
                            "<tr><td>AGNESH</td><td>606</td><td>2016-04-27</td><td>4</td><td>3</td></tr>",
                            "<tr><td>AGNESH</td><td>980</td><td>2016-06-23</td><td>1</td><td>2</td></tr>",
                            "<tr><td>AGNESH</td><td>1225</td><td>2016-10-30</td><td>1</td><td>2</td></tr>",
                            "<tr><td>AGNESH</td><td>1417</td><td>2017-01-03</td><td>2</td><td>2</td></tr>",
                            "<tr><td>AGNESH</td><td>1441</td><td>2017-01-16</td><td>3</td><td>2</td></tr>",
                            "<tr><td>AGNESK</td><td>736</td><td>2016-07-29</td><td>3</td><td>3</td></tr>",
                            "<tr><td>AGNESK</td><td>1162</td><td>2016-10-17</td><td>2</td><td>2</td></tr>",
                            "<tr><td>AGNESK</td><td>1371</td><td>2016-12-17</td><td>2</td><td>2</td></tr>",
                            "<tr><td>akos</td><td>655</td><td>2016-05-18</td><td>2</td><td>2</td></tr>",
                            "<tr><td>akos</td><td>673</td><td>2016-07-14</td><td>2</td><td>2</td></tr>",
                            "<tr><td>akos</td><td>676</td><td>2016-07-16</td><td>2</td><td>2</td></tr>",
                            "<tr><td>akos</td><td>705</td><td>2016-07-22</td><td>1</td><td>1</td></tr>",
                            "<tr><td>akos</td><td>1034</td><td>2016-09-06</td><td>1</td><td>1</td></tr>",
                            "<tr><td>akos</td><td>1122</td><td>2016-10-05</td><td>2</td><td>1</td></tr>",
                            "<tr><td>akos</td><td>1164</td><td>2016-10-18</td><td>2</td><td>1</td></tr>",
                            "<tr><td>akos</td><td>1299</td><td>2016-11-21</td><td>2</td><td>1</td></tr>",
                            "<tr><td>akos</td><td>1364</td><td>2016-12-15</td><td>2</td><td>1</td></tr>",
                            "<tr><td>akos</td><td>1406</td><td>2016-12-29</td><td>3</td><td>2</td></tr>",
                            "<tr><td>aladar</td><td>651</td><td>2016-05-17</td><td>1</td><td>1</td></tr>",
                            "<tr><td>aladar</td><td>1079</td><td>2016-09-24</td><td>1</td><td>1</td></tr>",
                            "<tr><td>aladar</td><td>1302</td><td>2016-11-22</td><td>2</td><td>1</td></tr>",
                            "<tr><td>alexandra</td><td>658</td><td>2016-05-21</td><td>3</td><td>3</td></tr>",
                            "<tr><td>alexandra</td><td>937</td><td>2016-06-08</td><td>3</td><td>3</td></tr>",
                            "<tr><td>alexandra</td><td>727</td><td>2016-07-27</td><td>2</td><td>2</td></tr>",
                            "<tr><td>alexandra</td><td>1175</td><td>2016-10-21</td><td>2</td><td>2</td></tr>",
                            "<tr><td>alexandra</td><td>1332</td><td>2016-11-29</td><td>2</td><td>2</td></tr>",
                            "<tr><td>alexandra</td><td>1436</td><td>2017-01-13</td><td>1</td><td>2</td></tr>",
                            "<tr><td>alexandra</td><td>1457</td><td>2017-01-19</td><td>2</td><td>1</td></tr>",
                            "<tr><td>andi</td><td>624</td><td>2016-05-08</td><td>4</td><td>4</td></tr>",
                            "<tr><td>andi</td><td>955</td><td>2016-06-13</td><td>1</td><td>2</td></tr>",
                            "<tr><td>andi</td><td>1049</td><td>2016-09-13</td><td>2</td><td>2</td></tr>",
                            "<tr><td>andi</td><td>1286</td><td>2016-11-16</td><td>3</td><td>2</td></tr>",
                            "<tr><td>andi</td><td>1437</td><td>2017-01-13</td><td>3</td><td>2</td></tr>",
                            "<tr><td>andras2</td><td>884</td><td>2016-05-30</td><td>1</td><td>1</td></tr>",
                            "<tr><td>andras2</td><td>693</td><td>2016-07-20</td><td>2</td><td>1</td></tr>",
                            "<tr><td>andras2</td><td>1092</td><td>2016-09-30</td><td>2</td><td>1</td></tr>",
                            "<tr><td>andras2</td><td>1126</td><td>2016-10-07</td><td>3</td><td>2</td></tr>",
                            "<tr><td>andras2</td><td>1511</td><td>2017-02-08</td><td>4</td><td>2</td></tr>",
                            "<tr><td>andras21</td><td>975</td><td>2016-06-21</td><td>2</td><td>2</td></tr>",
                            "<tr><td>andras21</td><td>1009</td><td>2016-07-04</td><td>3</td><td>2</td></tr>",
                            "<tr><td>andras21</td><td>697</td><td>2016-07-20</td><td>1</td><td>2</td></tr>",
                            "<tr><td>andras21</td><td>1101</td><td>2016-10-01</td><td>3</td><td>2</td></tr>",
                            "<tr><td>andras21</td><td>1121</td><td>2016-10-04</td><td>3</td><td>2</td></tr>",
                            "<tr><td>andras21</td><td>1310</td><td>2016-11-23</td><td>4</td><td>2</td></tr>",
                            "<tr><td>andras21</td><td>1478</td><td>2017-01-28</td><td>2</td><td>2</td></tr>",
                            "<tr><td>andras3</td><td>611</td><td>2016-05-01</td><td>2</td><td>2</td></tr>",
                            "<tr><td>andras3</td><td>880</td><td>2016-05-30</td><td>1</td><td>1</td></tr>",
                            "<tr><td>andras3</td><td>949</td><td>2016-06-10</td><td>1</td><td>1</td></tr>",
                            "<tr><td>andras3</td><td>674</td><td>2016-07-15</td><td>3</td><td>1</td></tr>",
                            "<tr><td>andras3</td><td>701</td><td>2016-07-21</td><td>2</td><td>1</td></tr>",
                            "<tr><td>andras3</td><td>837</td><td>2016-08-29</td><td>3</td><td>2</td></tr>",
                            "<tr><td>andras3</td><td>1328</td><td>2016-11-28</td><td>2</td><td>2</td></tr>",
                            "<tr><td>andras3</td><td>1489</td><td>2017-02-02</td><td>2</td><td>2</td></tr>",
                            "<tr><td>andras4</td><td>1059</td><td>2016-09-17</td><td>2</td><td>2</td></tr>",
                            "<tr><td>andras4</td><td>1317</td><td>2016-11-25</td><td>2</td><td>2</td></tr>",
                            "<tr><td>andras4</td><td>1427</td><td>2017-01-09</td><td>2</td><td>2</td></tr>",
                            "<tr><td>andras41</td><td>643</td><td>2016-05-14</td><td>2</td><td>2</td></tr>",
                            "<tr><td>andras41</td><td>662</td><td>2016-05-21</td><td>4</td><td>3</td></tr>",
                            "<tr><td>andras41</td><td>927</td><td>2016-06-07</td><td>3</td><td>3</td></tr>",
                            "<tr><td>andras41</td><td>983</td><td>2016-06-23</td><td>2</td><td>2</td></tr>",
                            "<tr><td>andras41</td><td>731</td><td>2016-07-28</td><td>3</td><td>2</td></tr>",
                            "<tr><td>andras41</td><td>796</td><td>2016-08-17</td><td>3</td><td>3</td></tr>",
                            "<tr><td>andras41</td><td>799</td><td>2016-08-19</td><td>1</td><td>2</td></tr>",
                            "<tr><td>andras41</td><td>1074</td><td>2016-09-22</td><td>1</td><td>2</td></tr>",
                            "<tr><td>andras41</td><td>1094</td><td>2016-09-30</td><td>2</td><td>2</td></tr>",
                            "<tr><td>andras41</td><td>1142</td><td>2016-10-09</td><td>2</td><td>1</td></tr>",
                            "<tr><td>andras41</td><td>1153</td><td>2016-10-15</td><td>3</td><td>1</td></tr>",
                            "<tr><td>andras41</td><td>1298</td><td>2016-11-20</td><td>3</td><td>2</td></tr>",
                            "<tr><td>andras41</td><td>1308</td><td>2016-11-23</td><td>1</td><td>2</td></tr>",
                            "<tr><td>ANDRASE</td><td>600</td><td>2016-04-24</td><td>1</td><td>1</td></tr>",
                            "<tr><td>ANDRASE</td><td>1014</td><td>2016-07-06</td><td>2</td><td>1</td></tr>",
                            "<tr><td>ANDRASE</td><td>786</td><td>2016-08-16</td><td>2</td><td>1</td></tr>",
                            "<tr><td>ANDRASE</td><td>1297</td><td>2016-11-19</td><td>4</td><td>2</td></tr>",
                            "<tr><td>ANDRASE</td><td>1330</td><td>2016-11-29</td><td>3</td><td>2</td></tr>",
                            "<tr><td>ANDRASN</td><td>1319</td><td>2016-11-25</td><td>2</td><td>2</td></tr>",
                            "<tr><td>andrea</td><td>722</td><td>2016-07-27</td><td>2</td><td>2</td></tr>",
                            "<tr><td>andrea</td><td>744</td><td>2016-08-01</td><td>2</td><td>2</td></tr>",
                            "<tr><td>andrea</td><td>809</td><td>2016-08-23</td><td>3</td><td>2</td></tr>",
                            "<tr><td>andrea</td><td>826</td><td>2016-08-26</td><td>2</td><td>2</td></tr>",
                            "<tr><td>andrea</td><td>1173</td><td>2016-10-21</td><td>4</td><td>2</td></tr>",
                            "<tr><td>andrea</td><td>1514</td><td>2017-02-09</td><td>2</td><td>2</td></tr>",
                            "<tr><td>andrea3</td><td>1295</td><td>2016-11-19</td><td>3</td><td>3</td></tr>",
                            "<tr><td>andrea4</td><td>860</td><td>2016-05-27</td><td>1</td><td>1</td></tr>",
                            "<tr><td>andrea4</td><td>1047</td><td>2016-09-13</td><td>2</td><td>1</td></tr>",
                            "<tr><td>andrea4</td><td>1232</td><td>2016-10-30</td><td>3</td><td>2</td></tr>",
                            "<tr><td>andrea4</td><td>1464</td><td>2017-01-22</td><td>2</td><td>2</td></tr>",
                            "<tr><td>ANDREAT</td><td>725</td><td>2016-07-27</td><td>2</td><td>2</td></tr>",
                            "<tr><td>ANDREAT</td><td>1053</td><td>2016-09-15</td><td>2</td><td>2</td></tr>",
                            "<tr><td>ANDREAT</td><td>1128</td><td>2016-10-08</td><td>3</td><td>2</td></tr>",
                            "<tr><td>anett3</td><td>567</td><td>2016-04-10</td><td>1</td><td>1</td></tr>",
                            "<tr><td>anett3</td><td>578</td><td>2016-04-13</td><td>3</td><td>2</td></tr>",
                            "<tr><td>anett3</td><td>581</td><td>2016-04-15</td><td>3</td><td>2</td></tr>",
                            "<tr><td>anett3</td><td>607</td><td>2016-04-28</td><td>3</td><td>2</td></tr>",
                            "<tr><td>anett3</td><td>780</td><td>2016-08-15</td><td>2</td><td>2</td></tr>",
                            "<tr><td>anett3</td><td>793</td><td>2016-08-17</td><td>3</td><td>2</td></tr>",
                            "<tr><td>anett3</td><td>1149</td><td>2016-10-12</td><td>3</td><td>2</td></tr>",
                            "<tr><td>anett3</td><td>1159</td><td>2016-10-16</td><td>1</td><td>2</td></tr>",
                            "<tr><td>aniko</td><td>986</td><td>2016-06-25</td><td>3</td><td>3</td></tr>",
                            "<tr><td>aniko</td><td>1519</td><td>2017-02-12</td><td>3</td><td>3</td></tr>",
                            "<tr><td>aniko</td><td>1560</td><td>2017-02-23</td><td>2</td><td>2</td></tr>",
                            "<tr><td>aniko4</td><td>1001</td><td>2016-07-02</td><td>1</td><td>1</td></tr>",
                            "<tr><td>aniko4</td><td>704</td><td>2016-07-22</td><td>3</td><td>2</td></tr>",
                            "<tr><td>aniko4</td><td>1031</td><td>2016-09-05</td><td>4</td><td>2</td></tr>",
                            "<tr><td>aniko4</td><td>1158</td><td>2016-10-16</td><td>3</td><td>2</td></tr>",
                            "<tr><td>ANIKOS</td><td>590</td><td>2016-04-19</td><td>2</td><td>2</td></tr>",
                            "<tr><td>ANIKOS</td><td>855</td><td>2016-05-24</td><td>3</td><td>2</td></tr>",
                            "<tr><td>ANIKOS</td><td>965</td><td>2016-06-16</td><td>1</td><td>2</td></tr>",
                            "<tr><td>ANIKOS</td><td>988</td><td>2016-06-27</td><td>2</td><td>2</td></tr>",
                            "<tr><td>ANIKOS</td><td>679</td><td>2016-07-17</td><td>3</td><td>2</td></tr>",
                            "<tr><td>ANIKOS</td><td>827</td><td>2016-08-26</td><td>2</td><td>2</td></tr>",
                            "<tr><td>ANIKOS</td><td>1132</td><td>2016-10-08</td><td>2</td><td>2</td></tr>",
                            "<tr><td>ANIKOS</td><td>1216</td><td>2016-10-29</td><td>3</td><td>2</td></tr>",
                            "<tr><td>ANIKOS</td><td>1271</td><td>2016-11-10</td><td>2</td><td>2</td></tr>",
                            "<tr><td>anita</td><td>1085</td><td>2016-09-28</td><td>4</td><td>4</td></tr>",
                            "<tr><td>anita</td><td>1113</td><td>2016-10-01</td><td>2</td><td>3</td></tr>",
                            "<tr><td>anita</td><td>1551</td><td>2017-02-19</td><td>2</td><td>2</td></tr>",
                            "<tr><td>anita</td><td>1553</td><td>2017-02-20</td><td>2</td><td>2</td></tr>",
                            "<tr><td>annamaria1</td><td>921</td><td>2016-06-06</td><td>3</td><td>3</td></tr>",
                            "<tr><td>annamaria1</td><td>1483</td><td>2017-01-30</td><td>4</td><td>3</td></tr>",
                            "<tr><td>ANNAMARIAR</td><td>936</td><td>2016-06-08</td><td>2</td><td>2</td></tr>",
                            "<tr><td>ANNAMARIAR</td><td>684</td><td>2016-07-18</td><td>1</td><td>1</td></tr>",
                            "<tr><td>ANNAMARIAR</td><td>1075</td><td>2016-09-23</td><td>2</td><td>1</td></tr>",
                            "<tr><td>ANNAMARIAR</td><td>1274</td><td>2016-11-11</td><td>3</td><td>2</td></tr>",
                            "<tr><td>ANNAMARIAR</td><td>1432</td><td>2017-01-10</td><td>2</td><td>2</td></tr>",
                            "<tr><td>ANNAMARIAR</td><td>1539</td><td>2017-02-16</td><td>2</td><td>2</td></tr>",
                            "<tr><td>aron2</td><td>576</td><td>2016-04-11</td><td>3</td><td>3</td></tr>",
                            "<tr><td>aron2</td><td>1007</td><td>2016-07-04</td><td>3</td><td>3</td></tr>",
                            "<tr><td>aron2</td><td>1182</td><td>2016-10-23</td><td>2</td><td>2</td></tr>",
                            "<tr><td>aron2</td><td>1249</td><td>2016-11-05</td><td>2</td><td>2</td></tr>",
                            "<tr><td>aron2</td><td>1453</td><td>2017-01-17</td><td>3</td><td>2</td></tr>",
                            "<tr><td>aron2</td><td>1573</td><td>2017-02-26</td><td>3</td><td>2</td></tr>",
                            "<tr><td>ARONK</td><td>559</td><td>2016-04-06</td><td>2</td><td>2</td></tr>",
                            "<tr><td>ARONK</td><td>645</td><td>2016-05-14</td><td>4</td><td>3</td></tr>",
                            "<tr><td>ARONK</td><td>902</td><td>2016-06-04</td><td>2</td><td>2</td></tr>",
                            "<tr><td>ARONK</td><td>932</td><td>2016-06-07</td><td>3</td><td>2</td></tr>",
                            "<tr><td>ARONK</td><td>1003</td><td>2016-07-03</td><td>2</td><td>2</td></tr>",
                            "<tr><td>ARONK</td><td>758</td><td>2016-08-05</td><td>4</td><td>3</td></tr>",
                            "<tr><td>ARONK</td><td>1037</td><td>2016-09-08</td><td>2</td><td>2</td></tr>",
                            "<tr><td>ARONK</td><td>1240</td><td>2016-11-03</td><td>2</td><td>2</td></tr>",
                            "<tr><td>ARONK</td><td>1248</td><td>2016-11-05</td><td>2</td><td>2</td></tr>",
                            "<tr><td>ARONK</td><td>1353</td><td>2016-12-07</td><td>3</td><td>2</td></tr>",
                            "<tr><td>ARONK</td><td>1412</td><td>2017-01-01</td><td>2</td><td>2</td></tr>",
                            "<tr><td>ARONK</td><td>1485</td><td>2017-01-30</td><td>2</td><td>2</td></tr>",
                            "<tr><td>ARONK</td><td>1558</td><td>2017-02-21</td><td>2</td><td>2</td></tr>",
                            "<tr><td>arpad2</td><td>908</td><td>2016-06-05</td><td>2</td><td>2</td></tr>",
                            "<tr><td>arpad2</td><td>811</td><td>2016-08-23</td><td>2</td><td>2</td></tr>",
                            "<tr><td>arpad2</td><td>1084</td><td>2016-09-28</td><td>2</td><td>2</td></tr>",
                            "<tr><td>arpad2</td><td>1150</td><td>2016-10-13</td><td>3</td><td>2</td></tr>",
                            "<tr><td>arpad2</td><td>1256</td><td>2016-11-06</td><td>2</td><td>2</td></tr>",
                            "<tr><td>arpad2</td><td>1387</td><td>2016-12-24</td><td>3</td><td>2</td></tr>",
                            "<tr><td>arpad2</td><td>1550</td><td>2017-02-18</td><td>4</td><td>2</td></tr>",
                            "<tr><td>ARPADH</td><td>912</td><td>2016-06-06</td><td>3</td><td>3</td></tr>",
                            "<tr><td>ARPADH</td><td>670</td><td>2016-07-14</td><td>2</td><td>2</td></tr>",
                            "<tr><td>ARPADH</td><td>1056</td><td>2016-09-16</td><td>1</td><td>2</td></tr>",
                            "<tr><td>ARPADH</td><td>1066</td><td>2016-09-18</td><td>1</td><td>1</td></tr>",
                            "<tr><td>ARPADH</td><td>1342</td><td>2016-12-04</td><td>1</td><td>1</td></tr>",
                            "<tr><td>ARPADH</td><td>1377</td><td>2016-12-18</td><td>3</td><td>1</td></tr>",
                            "<tr><td>ARPADH</td><td>1538</td><td>2017-02-16</td><td>2</td><td>1</td></tr>",
                            "<tr><td>ARPADM</td><td>873</td><td>2016-05-29</td><td>2</td><td>2</td></tr>",
                            "<tr><td>ARPADM</td><td>771</td><td>2016-08-12</td><td>2</td><td>2</td></tr>",
                            "<tr><td>ARPADM</td><td>1268</td><td>2016-11-09</td><td>2</td><td>2</td></tr>",
                            "<tr><td>ARPADM</td><td>1361</td><td>2016-12-14</td><td>3</td><td>2</td></tr>",
                            "<tr><td>ARPADM</td><td>1420</td><td>2017-01-05</td><td>1</td><td>2</td></tr>",
                            "<tr><td>ARPADM</td><td>1522</td><td>2017-02-12</td><td>3</td><td>2</td></tr>",
                            "<tr><td>attila</td><td>1090</td><td>2016-09-30</td><td>3</td><td>3</td></tr>",
                            "<tr><td>attila</td><td>1154</td><td>2016-10-15</td><td>1</td><td>2</td></tr>",
                            "<tr><td>attila</td><td>1383</td><td>2016-12-22</td><td>2</td><td>2</td></tr>",
                            "<tr><td>attila1</td><td>657</td><td>2016-05-20</td><td>1</td><td>1</td></tr>",
                            "<tr><td>attila1</td><td>1135</td><td>2016-10-09</td><td>2</td><td>1</td></tr>",
                            "<tr><td>attila1</td><td>1152</td><td>2016-10-15</td><td>3</td><td>2</td></tr>",
                            "<tr><td>attila1</td><td>1219</td><td>2016-10-30</td><td>2</td><td>2</td></tr>",
                            "<tr><td>attila1</td><td>1270</td><td>2016-11-10</td><td>2</td><td>2</td></tr>",
                            "<tr><td>attila1</td><td>1468</td><td>2017-01-23</td><td>4</td><td>2</td></tr>",
                            "<tr><td>attila4</td><td>797</td><td>2016-08-18</td><td>4</td><td>4</td></tr>",
                            "<tr><td>attila4</td><td>1408</td><td>2016-12-31</td><td>2</td><td>3</td></tr>",
                            "<tr><td>attila4</td><td>1535</td><td>2017-02-15</td><td>2</td><td>2</td></tr>",
                            "<tr><td>ATTILAO</td><td>660</td><td>2016-05-21</td><td>3</td><td>3</td></tr>",
                            "<tr><td>ATTILAO</td><td>903</td><td>2016-06-04</td><td>3</td><td>3</td></tr>",
                            "<tr><td>ATTILAO</td><td>1231</td><td>2016-10-30</td><td>2</td><td>2</td></tr>",
                            "<tr><td>ATTILAO</td><td>1559</td><td>2017-02-22</td><td>3</td><td>2</td></tr>",
                            "<tr><td>balazs1</td><td>622</td><td>2016-05-07</td><td>2</td><td>2</td></tr>",
                            "<tr><td>balazs1</td><td>703</td><td>2016-07-22</td><td>4</td><td>3</td></tr>",
                            "<tr><td>balazs1</td><td>1399</td><td>2016-12-26</td><td>3</td><td>3</td></tr>",
                            "<tr><td>balazs1</td><td>1410</td><td>2017-01-01</td><td>2</td><td>2</td></tr>",
                            "<tr><td>balazs1</td><td>1515</td><td>2017-02-10</td><td>3</td><td>2</td></tr>",
                            "<tr><td>balazs1</td><td>1518</td><td>2017-02-12</td><td>2</td><td>2</td></tr>",
                            "<tr><td>balazs2</td><td>582</td><td>2016-04-16</td><td>2</td><td>2</td></tr>",
                            "<tr><td>balazs2</td><td>851</td><td>2016-05-22</td><td>3</td><td>2</td></tr>",
                            "<tr><td>balazs2</td><td>863</td><td>2016-05-28</td><td>3</td><td>2</td></tr>",
                            "<tr><td>balazs2</td><td>1019</td><td>2016-07-08</td><td>3</td><td>2</td></tr>",
                            "<tr><td>balazs2</td><td>1023</td><td>2016-07-10</td><td>3</td><td>2</td></tr>",
                            "<tr><td>balazs2</td><td>691</td><td>2016-07-20</td><td>2</td><td>2</td></tr>",
                            "<tr><td>balazs2</td><td>805</td><td>2016-08-21</td><td>3</td><td>2</td></tr>",
                            "<tr><td>balazs2</td><td>1045</td><td>2016-09-12</td><td>3</td><td>2</td></tr>",
                            "<tr><td>balazs2</td><td>1239</td><td>2016-11-03</td><td>3</td><td>2</td></tr>",
                            "<tr><td>balazs2</td><td>1578</td><td>2017-02-27</td><td>1</td><td>2</td></tr>",
                            "<tr><td>balazs3</td><td>678</td><td>2016-07-17</td><td>2</td><td>2</td></tr>",
                            "<tr><td>balazs3</td><td>728</td><td>2016-07-27</td><td>4</td><td>3</td></tr>",
                            "<tr><td>balazs3</td><td>816</td><td>2016-08-24</td><td>3</td><td>3</td></tr>",
                            "<tr><td>balazs3</td><td>1054</td><td>2016-09-15</td><td>3</td><td>3</td></tr>",
                            "<tr><td>balazs3</td><td>1346</td><td>2016-12-05</td><td>3</td><td>3</td></tr>",
                            "<tr><td>balazs3</td><td>1459</td><td>2017-01-20</td><td>2</td><td>3</td></tr>",
                            "<tr><td>balint</td><td>595</td><td>2016-04-22</td><td>2</td><td>2</td></tr>",
                            "<tr><td>balint</td><td>1137</td><td>2016-10-09</td><td>2</td><td>2</td></tr>",
                            "<tr><td>balint</td><td>1315</td><td>2016-11-24</td><td>3</td><td>2</td></tr>",
                            "<tr><td>balint1</td><td>933</td><td>2016-06-07</td><td>3</td><td>3</td></tr>",
                            "<tr><td>balint1</td><td>924</td><td>2016-06-07</td><td>3</td><td>3</td></tr>",
                            "<tr><td>balint1</td><td>948</td><td>2016-06-10</td><td>1</td><td>2</td></tr>",
                            "<tr><td>balint1</td><td>717</td><td>2016-07-26</td><td>2</td><td>2</td></tr>",
                            "<tr><td>balint1</td><td>752</td><td>2016-08-03</td><td>2</td><td>2</td></tr>",
                            "<tr><td>balint1</td><td>1057</td><td>2016-09-16</td><td>1</td><td>1</td></tr>",
                            "<tr><td>balint1</td><td>1257</td><td>2016-11-07</td><td>2</td><td>1</td></tr>",
                            "<tr><td>balint1</td><td>1376</td><td>2016-12-17</td><td>3</td><td>2</td></tr>",
                            "<tr><td>balint1</td><td>1404</td><td>2016-12-29</td><td>3</td><td>2</td></tr>",
                            "<tr><td>balint1</td><td>1416</td><td>2017-01-03</td><td>2</td><td>2</td></tr>",
                            "<tr><td>balint2</td><td>702</td><td>2016-07-21</td><td>1</td><td>1</td></tr>",
                            "<tr><td>balint2</td><td>1341</td><td>2016-12-04</td><td>3</td><td>2</td></tr>",
                            "<tr><td>balu</td><td>760</td><td>2016-08-06</td><td>2</td><td>2</td></tr>",
                            "<tr><td>balu</td><td>1382</td><td>2016-12-22</td><td>2</td><td>2</td></tr>",
                            "<tr><td>beata4</td><td>591</td><td>2016-04-20</td><td>2</td><td>2</td></tr>",
                            "<tr><td>beata4</td><td>896</td><td>2016-06-03</td><td>2</td><td>2</td></tr>",
                            "<tr><td>beata4</td><td>1005</td><td>2016-07-03</td><td>1</td><td>1</td></tr>",
                            "<tr><td>beata4</td><td>823</td><td>2016-08-25</td><td>3</td><td>2</td></tr>",
                            "<tr><td>beata4</td><td>1112</td><td>2016-10-01</td><td>1</td><td>1</td></tr>",
                            "<tr><td>beata4</td><td>1117</td><td>2016-10-03</td><td>3</td><td>2</td></tr>",
                            "<tr><td>BEATRIXK</td><td>941</td><td>2016-06-10</td><td>2</td><td>2</td></tr>",
                            "<tr><td>BEATRIXK</td><td>944</td><td>2016-06-10</td><td>2</td><td>2</td></tr>",
                            "<tr><td>BEATRIXK</td><td>972</td><td>2016-06-19</td><td>3</td><td>2</td></tr>",
                            "<tr><td>BEATRIXK</td><td>768</td><td>2016-08-12</td><td>4</td><td>2</td></tr>",
                            "<tr><td>BEATRIXK</td><td>1185</td><td>2016-10-23</td><td>2</td><td>2</td></tr>",
                            "<tr><td>BEATRIXK</td><td>1279</td><td>2016-11-14</td><td>2</td><td>2</td></tr>",
                            "<tr><td>BEATRIXK</td><td>1359</td><td>2016-12-12</td><td>3</td><td>2</td></tr>",
                            "<tr><td>BEATRIXK</td><td>1370</td><td>2016-12-17</td><td>4</td><td>3</td></tr>",
                            "<tr><td>BEATRIXK</td><td>1512</td><td>2017-02-08</td><td>3</td><td>2</td></tr>",
                            "<tr><td>BEATRIXS</td><td>586</td><td>2016-04-18</td><td>1</td><td>1</td></tr>",
                            "<tr><td>BEATRIXS</td><td>952</td><td>2016-06-11</td><td>3</td><td>2</td></tr>",
                            "<tr><td>BEATRIXS</td><td>1098</td><td>2016-10-01</td><td>3</td><td>2</td></tr>",
                            "<tr><td>BEATRIXS</td><td>1099</td><td>2016-10-01</td><td>3</td><td>2</td></tr>",
                            "<tr><td>BEATRIXS</td><td>1381</td><td>2016-12-21</td><td>2</td><td>2</td></tr>",
                            "<tr><td>BEATRIXS</td><td>1490</td><td>2017-02-03</td><td>2</td><td>2</td></tr>",
                            "<tr><td>BELAF</td><td>719</td><td>2016-07-27</td><td>3</td><td>3</td></tr>",
                            "<tr><td>BELAF</td><td>737</td><td>2016-07-29</td><td>2</td><td>2</td></tr>",
                            "<tr><td>BELAF</td><td>838</td><td>2016-08-29</td><td>2</td><td>2</td></tr>",
                            "<tr><td>BELAF</td><td>1238</td><td>2016-11-03</td><td>4</td><td>2</td></tr>",
                            "<tr><td>BELAF</td><td>1337</td><td>2016-12-02</td><td>3</td><td>2</td></tr>",
                            "<tr><td>BELAF</td><td>1350</td><td>2016-12-06</td><td>1</td><td>2</td></tr>",
                            "<tr><td>bence</td><td>626</td><td>2016-05-08</td><td>2</td><td>2</td></tr>",
                            "<tr><td>bence</td><td>872</td><td>2016-05-29</td><td>1</td><td>1</td></tr>",
                            "<tr><td>bence</td><td>713</td><td>2016-07-24</td><td>2</td><td>1</td></tr>",
                            "<tr><td>bence</td><td>714</td><td>2016-07-25</td><td>3</td><td>2</td></tr>",
                            "<tr><td>bence</td><td>847</td><td>2016-09-03</td><td>3</td><td>2</td></tr>",
                            "<tr><td>bence</td><td>1220</td><td>2016-10-30</td><td>4</td><td>2</td></tr>",
                            "<tr><td>bence</td><td>1368</td><td>2016-12-17</td><td>2</td><td>2</td></tr>",
                            "<tr><td>bence</td><td>1400</td><td>2016-12-26</td><td>2</td><td>2</td></tr>",
                            "<tr><td>bence</td><td>1501</td><td>2017-02-05</td><td>3</td><td>2</td></tr>",
                            "<tr><td>BENCEB</td><td>646</td><td>2016-05-14</td><td>3</td><td>3</td></tr>",
                            "<tr><td>BENCEB</td><td>900</td><td>2016-06-03</td><td>2</td><td>2</td></tr>",
                            "<tr><td>BENCEB</td><td>745</td><td>2016-08-01</td><td>2</td><td>2</td></tr>",
                            "<tr><td>BENCEB</td><td>1179</td><td>2016-10-22</td><td>3</td><td>2</td></tr>",
                            "<tr><td>BENCEB</td><td>1326</td><td>2016-11-28</td><td>2</td><td>2</td></tr>",
                            "<tr><td>BENCEB</td><td>1521</td><td>2017-02-12</td><td>3</td><td>2</td></tr>",
                            "<tr><td>bernadett1</td><td>953</td><td>2016-06-12</td><td>3</td><td>3</td></tr>",
                            "<tr><td>bernadett1</td><td>1130</td><td>2016-10-08</td><td>4</td><td>3</td></tr>",
                            "<tr><td>bernadett1</td><td>1155</td><td>2016-10-15</td><td>3</td><td>3</td></tr>",
                            "<tr><td>bernadett1</td><td>1200</td><td>2016-10-26</td><td>3</td><td>3</td></tr>",
                            "<tr><td>bernadett1</td><td>1210</td><td>2016-10-28</td><td>3</td><td>3</td></tr>",
                            "<tr><td>bernadett1</td><td>1533</td><td>2017-02-14</td><td>3</td><td>3</td></tr>",
                            "<tr><td>bernadett1</td><td>1568</td><td>2017-02-24</td><td>1</td><td>2</td></tr>",
                            "<tr><td>bernadett2</td><td>612</td><td>2016-05-01</td><td>2</td><td>2</td></tr>",
                            "<tr><td>bernadett2</td><td>969</td><td>2016-06-17</td><td>3</td><td>2</td></tr>",
                            "<tr><td>bernadett2</td><td>812</td><td>2016-08-23</td><td>2</td><td>2</td></tr>",
                            "<tr><td>bernadett2</td><td>824</td><td>2016-08-25</td><td>3</td><td>2</td></tr>",
                            "<tr><td>bernadett2</td><td>1035</td><td>2016-09-07</td><td>3</td><td>2</td></tr>",
                            "<tr><td>bernadett2</td><td>1229</td><td>2016-10-30</td><td>3</td><td>2</td></tr>",
                            "<tr><td>bernadett2</td><td>1367</td><td>2016-12-17</td><td>1</td><td>2</td></tr>",
                            "<tr><td>bernadett2</td><td>1472</td><td>2017-01-24</td><td>3</td><td>2</td></tr>",
                            "<tr><td>BERNADETTO</td><td>570</td><td>2016-04-10</td><td>2</td><td>2</td></tr>",
                            "<tr><td>BERNADETTO</td><td>584</td><td>2016-04-17</td><td>2</td><td>2</td></tr>",
                            "<tr><td>BERNADETTO</td><td>925</td><td>2016-06-07</td><td>3</td><td>2</td></tr>",
                            "<tr><td>BERNADETTO</td><td>942</td><td>2016-06-10</td><td>4</td><td>2</td></tr>",
                            "<tr><td>BERNADETTO</td><td>1120</td><td>2016-10-04</td><td>2</td><td>2</td></tr>",
                            "<tr><td>BERNADETTO</td><td>1411</td><td>2017-01-01</td><td>3</td><td>2</td></tr>",
                            "<tr><td>BERNADETTO</td><td>1477</td><td>2017-01-28</td><td>2</td><td>2</td></tr>",
                            "<tr><td>bertalan</td><td>654</td><td>2016-05-18</td><td>2</td><td>2</td></tr>",
                            "<tr><td>bertalan</td><td>974</td><td>2016-06-20</td><td>1</td><td>1</td></tr>",
                            "<tr><td>bertalan</td><td>1241</td><td>2016-11-03</td><td>2</td><td>1</td></tr>",
                            "<tr><td>bertalan</td><td>1322</td><td>2016-11-26</td><td>3</td><td>2</td></tr>",
                            "<tr><td>bertalan</td><td>1536</td><td>2017-02-16</td><td>2</td><td>2</td></tr>",
                            "<tr><td>bertalan</td><td>1555</td><td>2017-02-20</td><td>4</td><td>2</td></tr>",
                            "<tr><td>brigitta</td><td>876</td><td>2016-05-30</td><td>3</td><td>3</td></tr>",
                            "<tr><td>brigitta</td><td>832</td><td>2016-08-28</td><td>3</td><td>3</td></tr>",
                            "<tr><td>brigitta</td><td>1174</td><td>2016-10-21</td><td>3</td><td>3</td></tr>",
                            "<tr><td>brigitta</td><td>1373</td><td>2016-12-17</td><td>2</td><td>2</td></tr>",
                            "<tr><td>brigitta</td><td>1469</td><td>2017-01-23</td><td>1</td><td>2</td></tr>",
                            "<tr><td>brigitta3</td><td>886</td><td>2016-06-01</td><td>2</td><td>2</td></tr>",
                            "<tr><td>brigitta3</td><td>957</td><td>2016-06-13</td><td>3</td><td>2</td></tr>",
                            "<tr><td>brigitta3</td><td>1147</td><td>2016-10-10</td><td>2</td><td>2</td></tr>",
                            "<tr><td>brigitta3</td><td>1243</td><td>2016-11-03</td><td>3</td><td>2</td></tr>",
                            "<tr><td>brigitta3</td><td>1513</td><td>2017-02-09</td><td>2</td><td>2</td></tr>",
                            "<tr><td>csongor3</td><td>613</td><td>2016-05-01</td><td>2</td><td>2</td></tr>",
                            "<tr><td>csongor3</td><td>623</td><td>2016-05-08</td><td>3</td><td>2</td></tr>",
                            "<tr><td>csongor3</td><td>906</td><td>2016-06-04</td><td>2</td><td>2</td></tr>",
                            "<tr><td>csongor3</td><td>943</td><td>2016-06-10</td><td>3</td><td>2</td></tr>",
                            "<tr><td>csongor3</td><td>951</td><td>2016-06-11</td><td>2</td><td>2</td></tr>",
                            "<tr><td>csongor3</td><td>1021</td><td>2016-07-09</td><td>4</td><td>2</td></tr>",
                            "<tr><td>csongor3</td><td>1277</td><td>2016-11-12</td><td>3</td><td>2</td></tr>",
                            "<tr><td>csongor3</td><td>1531</td><td>2017-02-13</td><td>3</td><td>3</td></tr>",
                            "<tr><td>dani</td><td>909</td><td>2016-06-06</td><td>3</td><td>3</td></tr>",
                            "<tr><td>dani</td><td>1024</td><td>2016-07-11</td><td>3</td><td>3</td></tr>",
                            "<tr><td>dani</td><td>761</td><td>2016-08-06</td><td>2</td><td>2</td></tr>",
                            "<tr><td>dani</td><td>1068</td><td>2016-09-19</td><td>4</td><td>3</td></tr>",
                            "<tr><td>dani</td><td>1102</td><td>2016-10-01</td><td>1</td><td>2</td></tr>",
                            "<tr><td>dani</td><td>1303</td><td>2016-11-22</td><td>2</td><td>2</td></tr>",
                            "<tr><td>dani</td><td>1451</td><td>2017-01-17</td><td>2</td><td>2</td></tr>",
                            "<tr><td>dani</td><td>1466</td><td>2017-01-22</td><td>1</td><td>2</td></tr>",
                            "<tr><td>dani</td><td>1571</td><td>2017-02-25</td><td>3</td><td>1</td></tr>",
                            "<tr><td>daniel</td><td>575</td><td>2016-04-10</td><td>4</td><td>4</td></tr>",
                            "<tr><td>daniel</td><td>594</td><td>2016-04-22</td><td>2</td><td>3</td></tr>",
                            "<tr><td>daniel</td><td>629</td><td>2016-05-09</td><td>3</td><td>3</td></tr>",
                            "<tr><td>daniel</td><td>1036</td><td>2016-09-08</td><td>4</td><td>3</td></tr>",
                            "<tr><td>daniel</td><td>1278</td><td>2016-11-13</td><td>3</td><td>3</td></tr>",
                            "<tr><td>daniel</td><td>1395</td><td>2016-12-25</td><td>3</td><td>3</td></tr>",
                            "<tr><td>daniel</td><td>1430</td><td>2017-01-09</td><td>1</td><td>2</td></tr>",
                            "<tr><td>daniel</td><td>1520</td><td>2017-02-12</td><td>3</td><td>2</td></tr>",
                            "<tr><td>daniel</td><td>1554</td><td>2017-02-20</td><td>3</td><td>2</td></tr>",
                            "<tr><td>daniel1</td><td>573</td><td>2016-04-10</td><td>2</td><td>2</td></tr>",
                            "<tr><td>daniel1</td><td>635</td><td>2016-05-10</td><td>4</td><td>3</td></tr>",
                            "<tr><td>daniel1</td><td>859</td><td>2016-05-26</td><td>3</td><td>3</td></tr>",
                            "<tr><td>daniel1</td><td>1269</td><td>2016-11-09</td><td>2</td><td>2</td></tr>",
                            "<tr><td>daniel1</td><td>1309</td><td>2016-11-23</td><td>2</td><td>2</td></tr>",
                            "<tr><td>daniel1</td><td>1419</td><td>2017-01-05</td><td>3</td><td>2</td></tr>",
                            "<tr><td>daniel1</td><td>1580</td><td>2017-03-01</td><td>4</td><td>2</td></tr>",
                            "<tr><td>david</td><td>653</td><td>2016-05-18</td><td>2</td><td>2</td></tr>",
                            "<tr><td>david</td><td>938</td><td>2016-06-09</td><td>2</td><td>2</td></tr>",
                            "<tr><td>david</td><td>994</td><td>2016-06-30</td><td>2</td><td>2</td></tr>",
                            "<tr><td>david</td><td>681</td><td>2016-07-18</td><td>2</td><td>2</td></tr>",
                            "<tr><td>david</td><td>757</td><td>2016-08-05</td><td>1</td><td>1</td></tr>",
                            "<tr><td>david</td><td>801</td><td>2016-08-20</td><td>3</td><td>2</td></tr>",
                            "<tr><td>david</td><td>807</td><td>2016-08-22</td><td>3</td><td>2</td></tr>",
                            "<tr><td>david</td><td>1227</td><td>2016-10-30</td><td>2</td><td>2</td></tr>",
                            "<tr><td>david</td><td>1454</td><td>2017-01-18</td><td>2</td><td>2</td></tr>",
                            "<tr><td>david1</td><td>1072</td><td>2016-09-20</td><td>2</td><td>2</td></tr>",
                            "<tr><td>david1</td><td>1104</td><td>2016-10-01</td><td>2</td><td>2</td></tr>",
                            "<tr><td>david1</td><td>1296</td><td>2016-11-19</td><td>2</td><td>2</td></tr>",
                            "<tr><td>david1</td><td>1407</td><td>2016-12-30</td><td>2</td><td>2</td></tr>",
                            "<tr><td>david1</td><td>1546</td><td>2017-02-17</td><td>3</td><td>2</td></tr>",
                            "<tr><td>david1</td><td>1572</td><td>2017-02-25</td><td>4</td><td>2</td></tr>",
                            "<tr><td>david4</td><td>1540</td><td>2017-02-16</td><td>3</td><td>3</td></tr>",
                            "<tr><td>debora</td><td>977</td><td>2016-06-22</td><td>5</td><td>5</td></tr>",
                            "<tr><td>debora</td><td>1214</td><td>2016-10-29</td><td>2</td><td>3</td></tr>",
                            "<tr><td>debora</td><td>1470</td><td>2017-01-23</td><td>3</td><td>3</td></tr>",
                            "<tr><td>debora</td><td>1494</td><td>2017-02-04</td><td>3</td><td>3</td></tr>",
                            "<tr><td>denes</td><td>862</td><td>2016-05-27</td><td>3</td><td>3</td></tr>",
                            "<tr><td>denes</td><td>690</td><td>2016-07-19</td><td>2</td><td>2</td></tr>",
                            "<tr><td>denes</td><td>746</td><td>2016-08-01</td><td>3</td><td>2</td></tr>",
                            "<tr><td>denes</td><td>783</td><td>2016-08-16</td><td>2</td><td>2</td></tr>",
                            "<tr><td>denes</td><td>804</td><td>2016-08-20</td><td>3</td><td>2</td></tr>",
                            "<tr><td>denes</td><td>1254</td><td>2016-11-06</td><td>2</td><td>2</td></tr>",
                            "<tr><td>dora3</td><td>785</td><td>2016-08-16</td><td>4</td><td>4</td></tr>",
                            "<tr><td>dora3</td><td>825</td><td>2016-08-25</td><td>3</td><td>3</td></tr>",
                            "<tr><td>dora3</td><td>1140</td><td>2016-10-09</td><td>3</td><td>3</td></tr>",
                            "<tr><td>dora3</td><td>1215</td><td>2016-10-29</td><td>3</td><td>3</td></tr>",
                            "<tr><td>dora3</td><td>1304</td><td>2016-11-22</td><td>3</td><td>3</td></tr>",
                            "<tr><td>edit</td><td>672</td><td>2016-07-14</td><td>3</td><td>3</td></tr>",
                            "<tr><td>edit</td><td>750</td><td>2016-08-03</td><td>4</td><td>3</td></tr>",
                            "<tr><td>edit</td><td>773</td><td>2016-08-12</td><td>2</td><td>3</td></tr>",
                            "<tr><td>edit</td><td>1061</td><td>2016-09-17</td><td>2</td><td>2</td></tr>",
                            "<tr><td>edit</td><td>1065</td><td>2016-09-18</td><td>3</td><td>2</td></tr>",
                            "<tr><td>edit</td><td>1440</td><td>2017-01-15</td><td>4</td><td>3</td></tr>",
                            "<tr><td>edit</td><td>1509</td><td>2017-02-08</td><td>3</td><td>2</td></tr>",
                            "<tr><td>emese</td><td>706</td><td>2016-07-22</td><td>2</td><td>2</td></tr>",
                            "<tr><td>emese</td><td>765</td><td>2016-08-09</td><td>2</td><td>2</td></tr>",
                            "<tr><td>emese</td><td>1083</td><td>2016-09-27</td><td>3</td><td>2</td></tr>",
                            "<tr><td>emese</td><td>1250</td><td>2016-11-05</td><td>1</td><td>2</td></tr>",
                            "<tr><td>emese</td><td>1313</td><td>2016-11-23</td><td>4</td><td>2</td></tr>",
                            "<tr><td>emese</td><td>1354</td><td>2016-12-07</td><td>3</td><td>2</td></tr>",
                            "<tr><td>emese</td><td>1484</td><td>2017-01-30</td><td>2</td><td>2</td></tr>",
                            "<tr><td>eszter</td><td>772</td><td>2016-08-12</td><td>3</td><td>3</td></tr>",
                            "<tr><td>eszter</td><td>1119</td><td>2016-10-04</td><td>3</td><td>3</td></tr>",
                            "<tr><td>eszter</td><td>1193</td><td>2016-10-26</td><td>3</td><td>3</td></tr>",
                            "<tr><td>eszter</td><td>1385</td><td>2016-12-23</td><td>2</td><td>2</td></tr>",
                            "<tr><td>eszter2</td><td>993</td><td>2016-06-30</td><td>3</td><td>3</td></tr>",
                            "<tr><td>eszter2</td><td>1017</td><td>2016-07-08</td><td>1</td><td>2</td></tr>",
                            "<tr><td>eszter2</td><td>1097</td><td>2016-10-01</td><td>3</td><td>2</td></tr>",
                            "<tr><td>eszter2</td><td>1109</td><td>2016-10-01</td><td>1</td><td>2</td></tr>",
                            "<tr><td>eszter2</td><td>1171</td><td>2016-10-20</td><td>1</td><td>1</td></tr>",
                            "<tr><td>eszter2</td><td>1187</td><td>2016-10-23</td><td>1</td><td>1</td></tr>",
                            "<tr><td>eszter2</td><td>1246</td><td>2016-11-05</td><td>4</td><td>2</td></tr>",
                            "<tr><td>eszter2</td><td>1336</td><td>2016-12-02</td><td>1</td><td>1</td></tr>",
                            "<tr><td>eszter2</td><td>1345</td><td>2016-12-05</td><td>2</td><td>1</td></tr>",
                            "<tr><td>eszter2</td><td>1480</td><td>2016-12-29</td><td>1</td><td>1</td></tr>",
                            "<tr><td>eszter4</td><td>1421</td><td>2017-01-05</td><td>2</td><td>2</td></tr>",
                            "<tr><td>eszter4</td><td>1475</td><td>2017-01-26</td><td>2</td><td>2</td></tr>",
                            "<tr><td>eszter4</td><td>1574</td><td>2017-02-26</td><td>3</td><td>2</td></tr>",
                            "<tr><td>ESZTERE</td><td>874</td><td>2016-05-30</td><td>2</td><td>2</td></tr>",
                            "<tr><td>ESZTERE</td><td>688</td><td>2016-07-19</td><td>2</td><td>2</td></tr>",
                            "<tr><td>ESZTERE</td><td>1235</td><td>2016-11-01</td><td>2</td><td>2</td></tr>",
                            "<tr><td>ESZTERE</td><td>1516</td><td>2017-02-10</td><td>2</td><td>2</td></tr>",
                            "<tr><td>eva</td><td>1125</td><td>2016-10-06</td><td>3</td><td>3</td></tr>",
                            "<tr><td>eva</td><td>1438</td><td>2017-01-14</td><td>2</td><td>2</td></tr>",
                            "<tr><td>eva2</td><td>845</td><td>2016-09-02</td><td>1</td><td>1</td></tr>",
                            "<tr><td>eva2</td><td>1255</td><td>2016-11-06</td><td>2</td><td>1</td></tr>",
                            "<tr><td>eva2</td><td>1349</td><td>2016-12-06</td><td>2</td><td>1</td></tr>",
                            "<tr><td>eva2</td><td>1423</td><td>2017-01-06</td><td>4</td><td>2</td></tr>",
                            "<tr><td>EVAV</td><td>614</td><td>2016-05-01</td><td>3</td><td>3</td></tr>",
                            "<tr><td>EVAV</td><td>842</td><td>2016-08-31</td><td>2</td><td>2</td></tr>",
                            "<tr><td>EVAV</td><td>1157</td><td>2016-10-15</td><td>3</td><td>2</td></tr>",
                            "<tr><td>EVAV</td><td>1160</td><td>2016-10-16</td><td>2</td><td>2</td></tr>",
                            "<tr><td>EVAV</td><td>1495</td><td>2017-02-04</td><td>5</td><td>3</td></tr>",
                            "<tr><td>ferenc1</td><td>625</td><td>2016-05-08</td><td>2</td><td>2</td></tr>",
                            "<tr><td>ferenc1</td><td>966</td><td>2016-06-16</td><td>2</td><td>2</td></tr>",
                            "<tr><td>ferenc1</td><td>1131</td><td>2016-10-08</td><td>2</td><td>2</td></tr>",
                            "<tr><td>ferenc1</td><td>1262</td><td>2016-11-07</td><td>3</td><td>2</td></tr>",
                            "<tr><td>fruzsina4</td><td>889</td><td>2016-06-02</td><td>2</td><td>2</td></tr>",
                            "<tr><td>fruzsina4</td><td>996</td><td>2016-07-01</td><td>3</td><td>2</td></tr>",
                            "<tr><td>fruzsina4</td><td>667</td><td>2016-07-13</td><td>3</td><td>2</td></tr>",
                            "<tr><td>fruzsina4</td><td>828</td><td>2016-08-27</td><td>4</td><td>3</td></tr>",
                            "<tr><td>fruzsina4</td><td>1088</td><td>2016-09-29</td><td>3</td><td>3</td></tr>",
                            "<tr><td>fruzsina4</td><td>1305</td><td>2016-11-22</td><td>2</td><td>3</td></tr>",
                            "<tr><td>fruzsina4</td><td>1366</td><td>2016-12-16</td><td>1</td><td>2</td></tr>",
                            "<tr><td>fruzsina4</td><td>1467</td><td>2017-01-22</td><td>4</td><td>2</td></tr>",
                            "<tr><td>gabor1</td><td>973</td><td>2016-06-20</td><td>4</td><td>4</td></tr>",
                            "<tr><td>gabor1</td><td>1026</td><td>2016-07-12</td><td>1</td><td>2</td></tr>",
                            "<tr><td>gabor1</td><td>730</td><td>2016-07-28</td><td>2</td><td>2</td></tr>",
                            "<tr><td>gabor1</td><td>844</td><td>2016-09-02</td><td>3</td><td>2</td></tr>",
                            "<tr><td>gabor1</td><td>1169</td><td>2016-10-20</td><td>1</td><td>2</td></tr>",
                            "<tr><td>gabor1</td><td>1291</td><td>2016-11-19</td><td>2</td><td>1</td></tr>",
                            "<tr><td>gabor4</td><td>603</td><td>2016-04-26</td><td>3</td><td>3</td></tr>",
                            "<tr><td>gabor4</td><td>878</td><td>2016-05-30</td><td>1</td><td>2</td></tr>",
                            "<tr><td>gabor4</td><td>841</td><td>2016-08-31</td><td>4</td><td>2</td></tr>",
                            "<tr><td>gabor4</td><td>1260</td><td>2016-11-07</td><td>4</td><td>3</td></tr>",
                            "<tr><td>gabriella1</td><td>593</td><td>2016-04-21</td><td>3</td><td>3</td></tr>",
                            "<tr><td>gabriella1</td><td>1022</td><td>2016-07-10</td><td>3</td><td>3</td></tr>",
                            "<tr><td>gabriella1</td><td>710</td><td>2016-07-24</td><td>2</td><td>2</td></tr>",
                            "<tr><td>gabriella1</td><td>1496</td><td>2017-02-04</td><td>3</td><td>2</td></tr>",
                            "<tr><td>gabriella1</td><td>1524</td><td>2017-02-12</td><td>2</td><td>2</td></tr>",
                            "<tr><td>gabriella1</td><td>1556</td><td>2017-02-21</td><td>3</td><td>2</td></tr>",
                            "<tr><td>gabriella10</td><td>1114</td><td>2016-10-01</td><td>3</td><td>3</td></tr>",
                            "<tr><td>georgij</td><td>962</td><td>2016-06-16</td><td>3</td><td>3</td></tr>",
                            "<tr><td>georgij</td><td>788</td><td>2016-08-16</td><td>4</td><td>3</td></tr>",
                            "<tr><td>georgij</td><td>831</td><td>2016-08-28</td><td>2</td><td>3</td></tr>",
                            "<tr><td>georgij</td><td>1064</td><td>2016-09-18</td><td>3</td><td>3</td></tr>",
                            "<tr><td>gusztav</td><td>621</td><td>2016-05-06</td><td>2</td><td>2</td></tr>",
                            "<tr><td>gusztav</td><td>756</td><td>2016-08-05</td><td>3</td><td>2</td></tr>",
                            "<tr><td>gusztav</td><td>1106</td><td>2016-10-01</td><td>3</td><td>2</td></tr>",
                            "<tr><td>gusztav</td><td>1492</td><td>2017-02-03</td><td>2</td><td>2</td></tr>",
                            "<tr><td>gusztav</td><td>1563</td><td>2017-02-23</td><td>4</td><td>2</td></tr>",
                            "<tr><td>GYONGYIK</td><td>890</td><td>2016-06-02</td><td>3</td><td>3</td></tr>",
                            "<tr><td>GYONGYIK</td><td>945</td><td>2016-06-10</td><td>1</td><td>2</td></tr>",
                            "<tr><td>GYONGYIK</td><td>1000</td><td>2016-07-01</td><td>2</td><td>2</td></tr>",
                            "<tr><td>GYONGYIK</td><td>795</td><td>2016-08-17</td><td>3</td><td>2</td></tr>",
                            "<tr><td>GYONGYIK</td><td>1265</td><td>2016-11-08</td><td>2</td><td>2</td></tr>",
                            "<tr><td>GYONGYIK</td><td>1335</td><td>2016-12-01</td><td>2</td><td>2</td></tr>",
                            "<tr><td>GYONGYIK</td><td>1463</td><td>2017-01-22</td><td>3</td><td>2</td></tr>",
                            "<tr><td>GYORGYO</td><td>861</td><td>2016-05-27</td><td>3</td><td>3</td></tr>",
                            "<tr><td>GYORGYO</td><td>887</td><td>2016-06-01</td><td>2</td><td>2</td></tr>",
                            "<tr><td>GYORGYO</td><td>946</td><td>2016-06-10</td><td>2</td><td>2</td></tr>",
                            "<tr><td>GYORGYO</td><td>683</td><td>2016-07-18</td><td>2</td><td>2</td></tr>",
                            "<tr><td>GYORGYO</td><td>734</td><td>2016-07-28</td><td>3</td><td>2</td></tr>",
                            "<tr><td>GYORGYO</td><td>1213</td><td>2016-10-28</td><td>1</td><td>2</td></tr>",
                            "<tr><td>GYORGYO</td><td>1527</td><td>2017-02-13</td><td>2</td><td>2</td></tr>",
                            "<tr><td>GYORGYO</td><td>1566</td><td>2017-02-24</td><td>3</td><td>2</td></tr>",
                            "<tr><td>henrik3</td><td>818</td><td>2016-08-24</td><td>1</td><td>1</td></tr>",
                            "<tr><td>henrik3</td><td>1405</td><td>2016-12-29</td><td>3</td><td>2</td></tr>",
                            "<tr><td>henrik3</td><td>1476</td><td>2017-01-27</td><td>3</td><td>2</td></tr>",
                            "<tr><td>IBOLYAA</td><td>835</td><td>2016-08-29</td><td>5</td><td>5</td></tr>",
                            "<tr><td>IBOLYAA</td><td>1184</td><td>2016-10-23</td><td>2</td><td>3</td></tr>",
                            "<tr><td>IBOLYAA</td><td>1452</td><td>2017-01-17</td><td>3</td><td>3</td></tr>",
                            "<tr><td>ilona3</td><td>742</td><td>2016-07-31</td><td>2</td><td>2</td></tr>",
                            "<tr><td>ilona3</td><td>754</td><td>2016-08-04</td><td>3</td><td>2</td></tr>",
                            "<tr><td>ilona3</td><td>1245</td><td>2016-11-04</td><td>4</td><td>3</td></tr>",
                            "<tr><td>ilona3</td><td>1393</td><td>2016-12-25</td><td>3</td><td>3</td></tr>",
                            "<tr><td>imre</td><td>1060</td><td>2016-09-17</td><td>3</td><td>3</td></tr>",
                            "<tr><td>imre</td><td>1209</td><td>2016-10-28</td><td>4</td><td>3</td></tr>",
                            "<tr><td>imre1</td><td>982</td><td>2016-06-23</td><td>4</td><td>4</td></tr>",
                            "<tr><td>imre1</td><td>989</td><td>2016-06-27</td><td>2</td><td>3</td></tr>",
                            "<tr><td>imre1</td><td>806</td><td>2016-08-21</td><td>2</td><td>2</td></tr>",
                            "<tr><td>imre1</td><td>810</td><td>2016-08-23</td><td>3</td><td>2</td></tr>",
                            "<tr><td>imre1</td><td>836</td><td>2016-08-29</td><td>2</td><td>2</td></tr>",
                            "<tr><td>imre1</td><td>1487</td><td>2017-02-01</td><td>2</td><td>2</td></tr>",
                            "<tr><td>imre1</td><td>1499</td><td>2017-02-05</td><td>4</td><td>2</td></tr>",
                            "<tr><td>istvan</td><td>1127</td><td>2016-10-07</td><td>2</td><td>2</td></tr>",
                            "<tr><td>istvan</td><td>1301</td><td>2016-11-22</td><td>3</td><td>2</td></tr>",
                            "<tr><td>istvan</td><td>1413</td><td>2017-01-02</td><td>2</td><td>2</td></tr>",
                            "<tr><td>istvan1</td><td>583</td><td>2016-04-16</td><td>3</td><td>3</td></tr>",
                            "<tr><td>istvan1</td><td>599</td><td>2016-04-24</td><td>3</td><td>3</td></tr>",
                            "<tr><td>istvan1</td><td>689</td><td>2016-07-19</td><td>1</td><td>2</td></tr>",
                            "<tr><td>istvan1</td><td>1507</td><td>2017-02-07</td><td>3</td><td>2</td></tr>",
                            "<tr><td>ISTVANV</td><td>998</td><td>2016-07-01</td><td>4</td><td>4</td></tr>",
                            "<tr><td>ISTVANV</td><td>1087</td><td>2016-09-29</td><td>3</td><td>3</td></tr>",
                            "<tr><td>janos3</td><td>904</td><td>2016-06-04</td><td>1</td><td>1</td></tr>",
                            "<tr><td>janos3</td><td>820</td><td>2016-08-24</td><td>3</td><td>2</td></tr>",
                            "<tr><td>janos3</td><td>1118</td><td>2016-10-03</td><td>3</td><td>2</td></tr>",
                            "<tr><td>janos3</td><td>1177</td><td>2016-10-22</td><td>1</td><td>2</td></tr>",
                            "<tr><td>janos3</td><td>1526</td><td>2017-02-12</td><td>3</td><td>2</td></tr>",
                            "<tr><td>JANOSG</td><td>631</td><td>2016-05-09</td><td>1</td><td>1</td></tr>",
                            "<tr><td>JANOSG</td><td>789</td><td>2016-08-16</td><td>3</td><td>2</td></tr>",
                            "<tr><td>JANOSG</td><td>840</td><td>2016-08-30</td><td>3</td><td>2</td></tr>",
                            "<tr><td>JANOSG</td><td>1259</td><td>2016-11-07</td><td>3</td><td>2</td></tr>",
                            "<tr><td>JANOSG</td><td>1402</td><td>2016-12-28</td><td>2</td><td>2</td></tr>",
                            "<tr><td>JANOSG</td><td>1431</td><td>2017-01-10</td><td>2</td><td>2</td></tr>",
                            "<tr><td>JANOSG</td><td>1486</td><td>2017-01-31</td><td>2</td><td>2</td></tr>",
                            "<tr><td>JANOSP</td><td>1011</td><td>2016-07-04</td><td>3</td><td>3</td></tr>",
                            "<tr><td>JANOSP</td><td>1314</td><td>2016-11-23</td><td>2</td><td>2</td></tr>",
                            "<tr><td>JANOSP</td><td>1318</td><td>2016-11-25</td><td>2</td><td>2</td></tr>",
                            "<tr><td>JANOSP</td><td>1378</td><td>2016-12-18</td><td>2</td><td>2</td></tr>",
                            "<tr><td>jozsef</td><td>1050</td><td>2016-09-13</td><td>2</td><td>2</td></tr>",
                            "<tr><td>jozsef</td><td>1133</td><td>2016-10-08</td><td>2</td><td>2</td></tr>",
                            "<tr><td>jozsef</td><td>1348</td><td>2016-12-06</td><td>2</td><td>2</td></tr>",
                            "<tr><td>jozsef2</td><td>1013</td><td>2016-07-06</td><td>2</td><td>2</td></tr>",
                            "<tr><td>jozsef2</td><td>677</td><td>2016-07-16</td><td>3</td><td>2</td></tr>",
                            "<tr><td>jozsef2</td><td>1039</td><td>2016-09-09</td><td>2</td><td>2</td></tr>",
                            "<tr><td>jozsef2</td><td>1307</td><td>2016-11-23</td><td>3</td><td>2</td></tr>",
                            "<tr><td>jozsef2</td><td>1321</td><td>2016-11-25</td><td>3</td><td>2</td></tr>",
                            "<tr><td>JOZSEFG</td><td>616</td><td>2016-05-02</td><td>2</td><td>2</td></tr>",
                            "<tr><td>JOZSEFG</td><td>852</td><td>2016-05-23</td><td>1</td><td>1</td></tr>",
                            "<tr><td>JOZSEFG</td><td>905</td><td>2016-06-04</td><td>4</td><td>2</td></tr>",
                            "<tr><td>JOZSEFG</td><td>813</td><td>2016-08-24</td><td>3</td><td>2</td></tr>",
                            "<tr><td>JOZSEFG</td><td>1426</td><td>2017-01-09</td><td>2</td><td>2</td></tr>",
                            "<tr><td>JOZSEFG</td><td>1461</td><td>2017-01-22</td><td>1</td><td>2</td></tr>",
                            "<tr><td>JOZSEFG</td><td>1569</td><td>2017-02-24</td><td>3</td><td>2</td></tr>",
                            "<tr><td>JUDITH</td><td>920</td><td>2016-06-06</td><td>2</td><td>2</td></tr>",
                            "<tr><td>JUDITH</td><td>729</td><td>2016-07-28</td><td>2</td><td>2</td></tr>",
                            "<tr><td>JUDITH</td><td>1379</td><td>2016-12-19</td><td>1</td><td>1</td></tr>",
                            "<tr><td>julia</td><td>592</td><td>2016-04-21</td><td>2</td><td>2</td></tr>",
                            "<tr><td>julia</td><td>638</td><td>2016-05-12</td><td>1</td><td>1</td></tr>",
                            "<tr><td>julia</td><td>926</td><td>2016-06-07</td><td>5</td><td>2</td></tr>",
                            "<tr><td>julia</td><td>699</td><td>2016-07-20</td><td>2</td><td>2</td></tr>",
                            "<tr><td>julia</td><td>1577</td><td>2017-02-27</td><td>3</td><td>2</td></tr>",
                            "<tr><td>julia4</td><td>1258</td><td>2016-11-07</td><td>1</td><td>1</td></tr>",
                            "<tr><td>julia4</td><td>1493</td><td>2017-02-04</td><td>4</td><td>2</td></tr>",
                            "<tr><td>julianna4</td><td>692</td><td>2016-07-20</td><td>2</td><td>2</td></tr>",
                            "<tr><td>julianna4</td><td>1218</td><td>2016-10-29</td><td>3</td><td>2</td></tr>",
                            "<tr><td>julianna4</td><td>1244</td><td>2016-11-03</td><td>2</td><td>2</td></tr>",
                            "<tr><td>julianna4</td><td>1323</td><td>2016-11-27</td><td>3</td><td>2</td></tr>",
                            "<tr><td>kata</td><td>568</td><td>2016-04-10</td><td>2</td><td>2</td></tr>",
                            "<tr><td>kata</td><td>601</td><td>2016-04-25</td><td>1</td><td>1</td></tr>",
                            "<tr><td>kata</td><td>885</td><td>2016-05-31</td><td>3</td><td>2</td></tr>",
                            "<tr><td>kata</td><td>931</td><td>2016-06-07</td><td>2</td><td>2</td></tr>",
                            "<tr><td>kata</td><td>999</td><td>2016-07-01</td><td>2</td><td>2</td></tr>",
                            "<tr><td>kata</td><td>1006</td><td>2016-07-03</td><td>1</td><td>1</td></tr>",
                            "<tr><td>kata</td><td>1016</td><td>2016-07-07</td><td>3</td><td>2</td></tr>",
                            "<tr><td>kata</td><td>814</td><td>2016-08-24</td><td>3</td><td>2</td></tr>",
                            "<tr><td>kata</td><td>1070</td><td>2016-09-19</td><td>3</td><td>2</td></tr>",
                            "<tr><td>kata</td><td>1439</td><td>2017-01-15</td><td>3</td><td>2</td></tr>",
                            "<tr><td>katalin</td><td>572</td><td>2016-04-10</td><td>2</td><td>2</td></tr>",
                            "<tr><td>katalin</td><td>661</td><td>2016-05-21</td><td>1</td><td>1</td></tr>",
                            "<tr><td>katalin</td><td>1015</td><td>2016-07-06</td><td>1</td><td>1</td></tr>",
                            "<tr><td>katalin</td><td>733</td><td>2016-07-28</td><td>1</td><td>1</td></tr>",
                            "<tr><td>katalin</td><td>1198</td><td>2016-10-26</td><td>2</td><td>1</td></tr>",
                            "<tr><td>katalin</td><td>1360</td><td>2016-12-13</td><td>2</td><td>1</td></tr>",
                            "<tr><td>katalin</td><td>1372</td><td>2016-12-17</td><td>1</td><td>1</td></tr>",
                            "<tr><td>katalin</td><td>1388</td><td>2016-12-24</td><td>2</td><td>1</td></tr>",
                            "<tr><td>katalin</td><td>1570</td><td>2017-02-24</td><td>3</td><td>2</td></tr>",
                            "<tr><td>katalin4</td><td>997</td><td>2016-07-01</td><td>1</td><td>1</td></tr>",
                            "<tr><td>katalin4</td><td>1002</td><td>2016-07-03</td><td>4</td><td>2</td></tr>",
                            "<tr><td>katalin4</td><td>1325</td><td>2016-11-27</td><td>3</td><td>2</td></tr>",
                            "<tr><td>katalin4</td><td>1340</td><td>2016-12-04</td><td>3</td><td>2</td></tr>",
                            "<tr><td>katalin4</td><td>1455</td><td>2017-01-18</td><td>2</td><td>2</td></tr>",
                            "<tr><td>katalin4</td><td>1473</td><td>2017-01-24</td><td>2</td><td>2</td></tr>",
                            "<tr><td>kati</td><td>911</td><td>2016-06-06</td><td>2</td><td>2</td></tr>",
                            "<tr><td>kati</td><td>914</td><td>2016-06-06</td><td>3</td><td>2</td></tr>",
                            "<tr><td>kati</td><td>665</td><td>2016-07-13</td><td>2</td><td>2</td></tr>",
                            "<tr><td>kati</td><td>723</td><td>2016-07-27</td><td>2</td><td>2</td></tr>",
                            "<tr><td>kati</td><td>751</td><td>2016-08-03</td><td>2</td><td>2</td></tr>",
                            "<tr><td>kati</td><td>1192</td><td>2016-10-26</td><td>2</td><td>2</td></tr>",
                            "<tr><td>kati</td><td>1221</td><td>2016-10-30</td><td>3</td><td>2</td></tr>",
                            "<tr><td>katka</td><td>574</td><td>2016-04-10</td><td>2</td><td>2</td></tr>",
                            "<tr><td>katka</td><td>633</td><td>2016-05-09</td><td>3</td><td>2</td></tr>",
                            "<tr><td>katka</td><td>954</td><td>2016-06-13</td><td>1</td><td>2</td></tr>",
                            "<tr><td>katka</td><td>956</td><td>2016-06-13</td><td>4</td><td>2</td></tr>",
                            "<tr><td>katka</td><td>819</td><td>2016-08-24</td><td>2</td><td>2</td></tr>",
                            "<tr><td>katka</td><td>1029</td><td>2016-09-05</td><td>4</td><td>2</td></tr>",
                            "<tr><td>katka</td><td>1247</td><td>2016-11-05</td><td>3</td><td>2</td></tr>",
                            "<tr><td>katka</td><td>1414</td><td>2017-01-02</td><td>3</td><td>3</td></tr>",
                            "<tr><td>katka</td><td>1458</td><td>2017-01-19</td><td>3</td><td>3</td></tr>",
                            "<tr><td>klaudia2</td><td>922</td><td>2016-06-06</td><td>4</td><td>4</td></tr>",
                            "<tr><td>klaudia2</td><td>1108</td><td>2016-10-01</td><td>2</td><td>3</td></tr>",
                            "<tr><td>klaudia2</td><td>1115</td><td>2016-10-02</td><td>2</td><td>2</td></tr>",
                            "<tr><td>kornel4</td><td>627</td><td>2016-05-08</td><td>3</td><td>3</td></tr>",
                            "<tr><td>kornel4</td><td>888</td><td>2016-06-02</td><td>3</td><td>3</td></tr>",
                            "<tr><td>kornel4</td><td>1077</td><td>2016-09-23</td><td>3</td><td>3</td></tr>",
                            "<tr><td>kristof4</td><td>565</td><td>2016-04-08</td><td>2</td><td>2</td></tr>",
                            "<tr><td>kristof4</td><td>1096</td><td>2016-09-30</td><td>2</td><td>2</td></tr>",
                            "<tr><td>kriszti</td><td>656</td><td>2016-05-19</td><td>2</td><td>2</td></tr>",
                            "<tr><td>kriszti</td><td>821</td><td>2016-08-24</td><td>3</td><td>2</td></tr>",
                            "<tr><td>kriszti</td><td>1095</td><td>2016-09-30</td><td>3</td><td>2</td></tr>",
                            "<tr><td>kriszti</td><td>1105</td><td>2016-10-01</td><td>3</td><td>2</td></tr>",
                            "<tr><td>kriszti</td><td>1498</td><td>2017-02-04</td><td>3</td><td>2</td></tr>",
                            "<tr><td>kriszti</td><td>1584</td><td>2017-03-03</td><td>3</td><td>3</td></tr>",
                            "<tr><td>krisztian4</td><td>894</td><td>2016-06-03</td><td>2</td><td>2</td></tr>",
                            "<tr><td>krisztian4</td><td>929</td><td>2016-06-07</td><td>2</td><td>2</td></tr>",
                            "<tr><td>krisztian4</td><td>732</td><td>2016-07-28</td><td>2</td><td>2</td></tr>",
                            "<tr><td>krisztian4</td><td>747</td><td>2016-08-01</td><td>3</td><td>2</td></tr>",
                            "<tr><td>krisztian4</td><td>787</td><td>2016-08-16</td><td>1</td><td>2</td></tr>",
                            "<tr><td>krisztian4</td><td>834</td><td>2016-08-29</td><td>1</td><td>1</td></tr>",
                            "<tr><td>krisztian4</td><td>1161</td><td>2016-10-17</td><td>3</td><td>2</td></tr>",
                            "<tr><td>krisztian4</td><td>1237</td><td>2016-11-02</td><td>2</td><td>2</td></tr>",
                            "<tr><td>krisztian4</td><td>1358</td><td>2016-12-11</td><td>2</td><td>1</td></tr>",
                            "<tr><td>krisztian4</td><td>1422</td><td>2017-01-06</td><td>1</td><td>1</td></tr>",
                            "<tr><td>krisztian4</td><td>1445</td><td>2017-01-16</td><td>3</td><td>2</td></tr>",
                            "<tr><td>krisztian4</td><td>1564</td><td>2017-02-23</td><td>2</td><td>2</td></tr>",
                            "<tr><td>KRISZTIANM</td><td>566</td><td>2016-04-09</td><td>2</td><td>2</td></tr>",
                            "<tr><td>KRISZTIANM</td><td>901</td><td>2016-06-04</td><td>2</td><td>2</td></tr>",
                            "<tr><td>KRISZTIANM</td><td>1020</td><td>2016-07-09</td><td>3</td><td>2</td></tr>",
                            "<tr><td>KRISZTIANM</td><td>749</td><td>2016-08-02</td><td>4</td><td>2</td></tr>",
                            "<tr><td>KRISZTIANM</td><td>1392</td><td>2016-12-25</td><td>2</td><td>2</td></tr>",
                            "<tr><td>KRISZTIANM</td><td>1443</td><td>2017-01-16</td><td>1</td><td>2</td></tr>",
                            "<tr><td>krisztina</td><td>659</td><td>2016-05-21</td><td>2</td><td>2</td></tr>",
                            "<tr><td>krisztina</td><td>1012</td><td>2016-07-05</td><td>3</td><td>2</td></tr>",
                            "<tr><td>krisztina</td><td>1048</td><td>2016-09-13</td><td>1</td><td>2</td></tr>",
                            "<tr><td>krisztina</td><td>1067</td><td>2016-09-19</td><td>2</td><td>2</td></tr>",
                            "<tr><td>krisztina</td><td>1266</td><td>2016-11-08</td><td>2</td><td>2</td></tr>",
                            "<tr><td>krisztina</td><td>1306</td><td>2016-11-22</td><td>1</td><td>1</td></tr>",
                            "<tr><td>krisztina</td><td>1502</td><td>2017-02-05</td><td>2</td><td>1</td></tr>",
                            "<tr><td>krisztina</td><td>1542</td><td>2017-02-16</td><td>4</td><td>2</td></tr>",
                            "<tr><td>krisztina1</td><td>608</td><td>2016-04-28</td><td>2</td><td>2</td></tr>",
                            "<tr><td>krisztina1</td><td>648</td><td>2016-05-16</td><td>1</td><td>1</td></tr>",
                            "<tr><td>krisztina1</td><td>964</td><td>2016-06-16</td><td>2</td><td>1</td></tr>",
                            "<tr><td>krisztina1</td><td>1055</td><td>2016-09-15</td><td>3</td><td>2</td></tr>",
                            "<tr><td>krisztina1</td><td>1217</td><td>2016-10-29</td><td>4</td><td>2</td></tr>",
                            "<tr><td>krisztina1</td><td>1460</td><td>2017-01-21</td><td>2</td><td>2</td></tr>",
                            "<tr><td>KRISZTINAG</td><td>597</td><td>2016-04-23</td><td>2</td><td>2</td></tr>",
                            "<tr><td>KRISZTINAG</td><td>854</td><td>2016-05-24</td><td>1</td><td>1</td></tr>",
                            "<tr><td>KRISZTINAG</td><td>935</td><td>2016-06-08</td><td>1</td><td>1</td></tr>",
                            "<tr><td>KRISZTINAG</td><td>763</td><td>2016-08-08</td><td>3</td><td>1</td></tr>",
                            "<tr><td>KRISZTINAG</td><td>1474</td><td>2017-01-25</td><td>2</td><td>1</td></tr>",
                            "<tr><td>lajos</td><td>682</td><td>2016-07-18</td><td>2</td><td>2</td></tr>",
                            "<tr><td>lajos</td><td>1394</td><td>2016-12-25</td><td>4</td><td>3</td></tr>",
                            "<tr><td>lajos</td><td>1523</td><td>2017-02-12</td><td>1</td><td>2</td></tr>",
                            "<tr><td>lala</td><td>961</td><td>2016-06-16</td><td>2</td><td>2</td></tr>",
                            "<tr><td>lala</td><td>696</td><td>2016-07-20</td><td>3</td><td>2</td></tr>",
                            "<tr><td>lala</td><td>716</td><td>2016-07-26</td><td>3</td><td>2</td></tr>",
                            "<tr><td>lala</td><td>1223</td><td>2016-10-30</td><td>3</td><td>2</td></tr>",
                            "<tr><td>lala</td><td>1425</td><td>2017-01-08</td><td>3</td><td>2</td></tr>",
                            "<tr><td>lala</td><td>1449</td><td>2017-01-17</td><td>2</td><td>2</td></tr>",
                            "<tr><td>laszlo1</td><td>1078</td><td>2016-09-23</td><td>3</td><td>3</td></tr>",
                            "<tr><td>laszlo2</td><td>561</td><td>2016-04-06</td><td>2</td><td>2</td></tr>",
                            "<tr><td>laszlo2</td><td>604</td><td>2016-04-27</td><td>2</td><td>2</td></tr>",
                            "<tr><td>laszlo2</td><td>778</td><td>2016-08-14</td><td>3</td><td>2</td></tr>",
                            "<tr><td>laszlo2</td><td>1032</td><td>2016-09-05</td><td>3</td><td>2</td></tr>",
                            "<tr><td>laszlo2</td><td>1320</td><td>2016-11-25</td><td>3</td><td>2</td></tr>",
                            "<tr><td>LASZLOA</td><td>899</td><td>2016-06-03</td><td>2</td><td>2</td></tr>",
                            "<tr><td>LASZLOA</td><td>923</td><td>2016-06-07</td><td>1</td><td>1</td></tr>",
                            "<tr><td>LASZLOA</td><td>947</td><td>2016-06-10</td><td>3</td><td>2</td></tr>",
                            "<tr><td>LASZLOA</td><td>1510</td><td>2017-02-08</td><td>2</td><td>2</td></tr>",
                            "<tr><td>LASZLON</td><td>892</td><td>2016-06-03</td><td>1</td><td>1</td></tr>",
                            "<tr><td>LASZLON</td><td>934</td><td>2016-06-08</td><td>2</td><td>1</td></tr>",
                            "<tr><td>LASZLON</td><td>1111</td><td>2016-10-01</td><td>3</td><td>2</td></tr>",
                            "<tr><td>LASZLON</td><td>1136</td><td>2016-10-09</td><td>1</td><td>1</td></tr>",
                            "<tr><td>LASZLON</td><td>1329</td><td>2016-11-29</td><td>1</td><td>1</td></tr>",
                            "<tr><td>LASZLON</td><td>1548</td><td>2017-02-18</td><td>3</td><td>2</td></tr>",
                            "<tr><td>maria1</td><td>642</td><td>2016-05-13</td><td>2</td><td>2</td></tr>",
                            "<tr><td>maria1</td><td>652</td><td>2016-05-18</td><td>1</td><td>1</td></tr>",
                            "<tr><td>maria1</td><td>864</td><td>2016-05-28</td><td>2</td><td>1</td></tr>",
                            "<tr><td>maria1</td><td>981</td><td>2016-06-23</td><td>1</td><td>1</td></tr>",
                            "<tr><td>maria1</td><td>767</td><td>2016-08-11</td><td>3</td><td>1</td></tr>",
                            "<tr><td>maria1</td><td>846</td><td>2016-09-02</td><td>1</td><td>1</td></tr>",
                            "<tr><td>maria1</td><td>1264</td><td>2016-11-08</td><td>3</td><td>2</td></tr>",
                            "<tr><td>maria1</td><td>1567</td><td>2017-02-24</td><td>2</td><td>2</td></tr>",
                            "<tr><td>mark</td><td>588</td><td>2016-04-19</td><td>4</td><td>4</td></tr>",
                            "<tr><td>mark</td><td>958</td><td>2016-06-13</td><td>3</td><td>3</td></tr>",
                            "<tr><td>mark</td><td>764</td><td>2016-08-09</td><td>3</td><td>3</td></tr>",
                            "<tr><td>mark</td><td>1172</td><td>2016-10-20</td><td>1</td><td>2</td></tr>",
                            "<tr><td>mark</td><td>1293</td><td>2016-11-19</td><td>2</td><td>2</td></tr>",
                            "<tr><td>MARKH</td><td>1052</td><td>2016-09-14</td><td>3</td><td>3</td></tr>",
                            "<tr><td>MARKH</td><td>1076</td><td>2016-09-23</td><td>2</td><td>2</td></tr>",
                            "<tr><td>MARKH</td><td>1082</td><td>2016-09-26</td><td>4</td><td>3</td></tr>",
                            "<tr><td>MARKH</td><td>1462</td><td>2017-01-22</td><td>4</td><td>3</td></tr>",
                            "<tr><td>marton</td><td>605</td><td>2016-04-27</td><td>3</td><td>3</td></tr>",
                            "<tr><td>marton</td><td>620</td><td>2016-05-05</td><td>1</td><td>2</td></tr>",
                            "<tr><td>marton</td><td>916</td><td>2016-06-06</td><td>3</td><td>2</td></tr>",
                            "<tr><td>marton</td><td>979</td><td>2016-06-22</td><td>2</td><td>2</td></tr>",
                            "<tr><td>marton</td><td>769</td><td>2016-08-12</td><td>2</td><td>2</td></tr>",
                            "<tr><td>marton</td><td>1042</td><td>2016-09-10</td><td>2</td><td>2</td></tr>",
                            "<tr><td>marton</td><td>1582</td><td>2017-03-02</td><td>2</td><td>2</td></tr>",
                            "<tr><td>MATEK</td><td>794</td><td>2016-08-17</td><td>4</td><td>4</td></tr>",
                            "<tr><td>MATEK</td><td>1107</td><td>2016-10-01</td><td>2</td><td>3</td></tr>",
                            "<tr><td>MATEK</td><td>1446</td><td>2017-01-16</td><td>2</td><td>2</td></tr>",
                            "<tr><td>matyas2</td><td>664</td><td>2016-07-13</td><td>2</td><td>2</td></tr>",
                            "<tr><td>matyas2</td><td>1356</td><td>2016-12-09</td><td>3</td><td>2</td></tr>",
                            "<tr><td>MATYASS</td><td>636</td><td>2016-05-10</td><td>2</td><td>2</td></tr>",
                            "<tr><td>MATYASS</td><td>891</td><td>2016-06-02</td><td>1</td><td>1</td></tr>",
                            "<tr><td>MATYASS</td><td>707</td><td>2016-07-23</td><td>3</td><td>2</td></tr>",
                            "<tr><td>MATYASS</td><td>1143</td><td>2016-10-09</td><td>3</td><td>2</td></tr>",
                            "<tr><td>MATYASS</td><td>1190</td><td>2016-10-24</td><td>1</td><td>2</td></tr>",
                            "<tr><td>MATYASS</td><td>1226</td><td>2016-10-30</td><td>3</td><td>2</td></tr>",
                            "<tr><td>MATYASS</td><td>1380</td><td>2016-12-20</td><td>2</td><td>2</td></tr>",
                            "<tr><td>MATYASS</td><td>1429</td><td>2017-01-09</td><td>2</td><td>2</td></tr>",
                            "<tr><td>MIHALYJ</td><td>875</td><td>2016-05-30</td><td>2</td><td>2</td></tr>",
                            "<tr><td>MIHALYJ</td><td>990</td><td>2016-06-27</td><td>1</td><td>1</td></tr>",
                            "<tr><td>MIHALYJ</td><td>839</td><td>2016-08-29</td><td>1</td><td>1</td></tr>",
                            "<tr><td>MIHALYJ</td><td>1234</td><td>2016-11-01</td><td>3</td><td>1</td></tr>",
                            "<tr><td>MIHALYJ</td><td>1505</td><td>2017-02-06</td><td>4</td><td>2</td></tr>",
                            "<tr><td>miklos2</td><td>589</td><td>2016-04-19</td><td>3</td><td>3</td></tr>",
                            "<tr><td>miklos2</td><td>1134</td><td>2016-10-08</td><td>1</td><td>2</td></tr>",
                            "<tr><td>miklos2</td><td>1283</td><td>2016-11-16</td><td>3</td><td>2</td></tr>",
                            "<tr><td>MIKLOSB</td><td>987</td><td>2016-06-26</td><td>2</td><td>2</td></tr>",
                            "<tr><td>MIKLOSB</td><td>687</td><td>2016-07-18</td><td>2</td><td>2</td></tr>",
                            "<tr><td>MIKLOSB</td><td>1344</td><td>2016-12-05</td><td>2</td><td>2</td></tr>",
                            "<tr><td>MONIKAM</td><td>609</td><td>2016-04-29</td><td>2</td><td>2</td></tr>",
                            "<tr><td>MONIKAM</td><td>708</td><td>2016-07-23</td><td>1</td><td>1</td></tr>",
                            "<tr><td>MONIKAM</td><td>1267</td><td>2016-11-09</td><td>2</td><td>1</td></tr>",
                            "<tr><td>MONIKAM</td><td>1450</td><td>2017-01-17</td><td>1</td><td>1</td></tr>",
                            "<tr><td>MONIKAM</td><td>1506</td><td>2017-02-06</td><td>2</td><td>1</td></tr>",
                            "<tr><td>MONIKAM</td><td>1562</td><td>2017-02-23</td><td>2</td><td>1</td></tr>",
                            "<tr><td>NANDORF</td><td>558</td><td>2016-04-06</td><td>3</td><td>3</td></tr>",
                            "<tr><td>NANDORF</td><td>1242</td><td>2016-11-03</td><td>3</td><td>3</td></tr>",
                            "<tr><td>NANDORF</td><td>1503</td><td>2017-02-05</td><td>3</td><td>3</td></tr>",
                            "<tr><td>nikolett3</td><td>853</td><td>2016-05-24</td><td>2</td><td>2</td></tr>",
                            "<tr><td>nikolett3</td><td>897</td><td>2016-06-03</td><td>1</td><td>1</td></tr>",
                            "<tr><td>nikolett3</td><td>976</td><td>2016-06-22</td><td>1</td><td>1</td></tr>",
                            "<tr><td>nikolett3</td><td>1178</td><td>2016-10-22</td><td>3</td><td>1</td></tr>",
                            "<tr><td>nikoletta4</td><td>564</td><td>2016-04-08</td><td>2</td><td>2</td></tr>",
                            "<tr><td>nikoletta4</td><td>634</td><td>2016-05-09</td><td>2</td><td>2</td></tr>",
                            "<tr><td>nikoletta4</td><td>877</td><td>2016-05-30</td><td>3</td><td>2</td></tr>",
                            "<tr><td>nikoletta4</td><td>992</td><td>2016-06-29</td><td>2</td><td>2</td></tr>",
                            "<tr><td>nikoletta4</td><td>775</td><td>2016-08-13</td><td>3</td><td>2</td></tr>",
                            "<tr><td>nikoletta4</td><td>1355</td><td>2016-12-08</td><td>5</td><td>3</td></tr>",
                            "<tr><td>nikoletta4</td><td>1488</td><td>2017-02-01</td><td>2</td><td>3</td></tr>",
                            "<tr><td>NIKOLETTAT</td><td>663</td><td>2016-05-22</td><td>4</td><td>4</td></tr>",
                            "<tr><td>NIKOLETTAT</td><td>928</td><td>2016-06-07</td><td>2</td><td>3</td></tr>",
                            "<tr><td>NIKOLETTAT</td><td>720</td><td>2016-07-27</td><td>4</td><td>3</td></tr>",
                            "<tr><td>NIKOLETTAT</td><td>1073</td><td>2016-09-21</td><td>2</td><td>3</td></tr>",
                            "<tr><td>norbert</td><td>1018</td><td>2016-07-08</td><td>1</td><td>1</td></tr>",
                            "<tr><td>norbert</td><td>1285</td><td>2016-11-16</td><td>3</td><td>2</td></tr>",
                            "<tr><td>norbert</td><td>1365</td><td>2016-12-15</td><td>2</td><td>2</td></tr>",
                            "<tr><td>norbert</td><td>1528</td><td>2017-02-13</td><td>3</td><td>2</td></tr>",
                            "<tr><td>norbert</td><td>1576</td><td>2017-02-26</td><td>1</td><td>2</td></tr>",
                            "<tr><td>norbert2</td><td>587</td><td>2016-04-19</td><td>1</td><td>1</td></tr>",
                            "<tr><td>norbert2</td><td>632</td><td>2016-05-09</td><td>2</td><td>1</td></tr>",
                            "<tr><td>norbert2</td><td>1028</td><td>2016-07-13</td><td>3</td><td>2</td></tr>",
                            "<tr><td>norbert2</td><td>724</td><td>2016-07-27</td><td>2</td><td>2</td></tr>",
                            "<tr><td>norbert2</td><td>782</td><td>2016-08-16</td><td>1</td><td>1</td></tr>",
                            "<tr><td>norbert2</td><td>1233</td><td>2016-10-31</td><td>2</td><td>2</td></tr>",
                            "<tr><td>norbert2</td><td>1482</td><td>2017-01-29</td><td>3</td><td>2</td></tr>",
                            "<tr><td>norbert4</td><td>569</td><td>2016-04-10</td><td>2</td><td>2</td></tr>",
                            "<tr><td>norbert4</td><td>871</td><td>2016-05-29</td><td>3</td><td>2</td></tr>",
                            "<tr><td>norbert4</td><td>963</td><td>2016-06-16</td><td>4</td><td>3</td></tr>",
                            "<tr><td>norbert4</td><td>967</td><td>2016-06-16</td><td>3</td><td>3</td></tr>",
                            "<tr><td>norbert4</td><td>1123</td><td>2016-10-05</td><td>3</td><td>3</td></tr>",
                            "<tr><td>norbert4</td><td>1211</td><td>2016-10-28</td><td>3</td><td>3</td></tr>",
                            "<tr><td>norbert4</td><td>1333</td><td>2016-11-30</td><td>3</td><td>3</td></tr>",
                            "<tr><td>norbert4</td><td>1541</td><td>2017-02-16</td><td>1</td><td>2</td></tr>",
                            "<tr><td>norbert4</td><td>1583</td><td>2017-03-03</td><td>2</td><td>2</td></tr>",
                            "<tr><td>norbert5</td><td>984</td><td>2016-06-24</td><td>2</td><td>2</td></tr>",
                            "<tr><td>norbert5</td><td>766</td><td>2016-08-10</td><td>2</td><td>2</td></tr>",
                            "<tr><td>norbert5</td><td>1252</td><td>2016-11-05</td><td>1</td><td>1</td></tr>",
                            "<tr><td>pal</td><td>776</td><td>2016-08-14</td><td>3</td><td>3</td></tr>",
                            "<tr><td>pal</td><td>1058</td><td>2016-09-16</td><td>2</td><td>2</td></tr>",
                            "<tr><td>pal</td><td>1369</td><td>2016-12-17</td><td>3</td><td>2</td></tr>",
                            "<tr><td>pal</td><td>1530</td><td>2017-02-13</td><td>3</td><td>2</td></tr>",
                            "<tr><td>pal</td><td>1552</td><td>2017-02-20</td><td>3</td><td>2</td></tr>",
                            "<tr><td>peter1</td><td>671</td><td>2016-07-14</td><td>3</td><td>3</td></tr>",
                            "<tr><td>peter1</td><td>1201</td><td>2016-10-26</td><td>3</td><td>3</td></tr>",
                            "<tr><td>peter1</td><td>1565</td><td>2017-02-23</td><td>3</td><td>3</td></tr>",
                            "<tr><td>peter1</td><td>1579</td><td>2017-02-28</td><td>3</td><td>3</td></tr>",
                            "<tr><td>peter2</td><td>1004</td><td>2016-07-03</td><td>2</td><td>2</td></tr>",
                            "<tr><td>peter2</td><td>1146</td><td>2016-10-10</td><td>2</td><td>2</td></tr>",
                            "<tr><td>peter2</td><td>1236</td><td>2016-11-01</td><td>2</td><td>2</td></tr>",
                            "<tr><td>peter2</td><td>1282</td><td>2016-11-15</td><td>3</td><td>2</td></tr>",
                            "<tr><td>peter3</td><td>995</td><td>2016-06-30</td><td>3</td><td>3</td></tr>",
                            "<tr><td>peter3</td><td>726</td><td>2016-07-27</td><td>4</td><td>3</td></tr>",
                            "<tr><td>peter3</td><td>1228</td><td>2016-10-30</td><td>2</td><td>3</td></tr>",
                            "<tr><td>peter3</td><td>1396</td><td>2016-12-25</td><td>1</td><td>2</td></tr>",
                            "<tr><td>peter3</td><td>1434</td><td>2017-01-12</td><td>1</td><td>2</td></tr>",
                            "<tr><td>peter3</td><td>1557</td><td>2017-02-21</td><td>2</td><td>2</td></tr>",
                            "<tr><td>peter4</td><td>577</td><td>2016-04-12</td><td>3</td><td>3</td></tr>",
                            "<tr><td>peter4</td><td>759</td><td>2016-08-06</td><td>2</td><td>2</td></tr>",
                            "<tr><td>peter4</td><td>815</td><td>2016-08-24</td><td>3</td><td>2</td></tr>",
                            "<tr><td>peter4</td><td>1043</td><td>2016-09-11</td><td>4</td><td>3</td></tr>",
                            "<tr><td>peter4</td><td>1080</td><td>2016-09-25</td><td>3</td><td>3</td></tr>",
                            "<tr><td>peter4</td><td>1093</td><td>2016-09-30</td><td>3</td><td>3</td></tr>",
                            "<tr><td>peter4</td><td>1139</td><td>2016-10-09</td><td>3</td><td>3</td></tr>",
                            "<tr><td>peter4</td><td>1188</td><td>2016-10-24</td><td>2</td><td>3</td></tr>",
                            "<tr><td>peter4</td><td>1222</td><td>2016-10-30</td><td>3</td><td>2</td></tr>",
                            "<tr><td>peter4</td><td>1273</td><td>2016-11-10</td><td>3</td><td>2</td></tr>",
                            "<tr><td>peter4</td><td>1316</td><td>2016-11-25</td><td>3</td><td>2</td></tr>",
                            "<tr><td>peter4</td><td>1500</td><td>2017-02-05</td><td>3</td><td>2</td></tr>",
                            "<tr><td>PETERB</td><td>562</td><td>2016-04-06</td><td>1</td><td>1</td></tr>",
                            "<tr><td>PETERB</td><td>694</td><td>2016-07-20</td><td>2</td><td>1</td></tr>",
                            "<tr><td>PETERB</td><td>781</td><td>2016-08-16</td><td>1</td><td>1</td></tr>",
                            "<tr><td>PETERB</td><td>1167</td><td>2016-10-19</td><td>4</td><td>2</td></tr>",
                            "<tr><td>PETERB</td><td>1287</td><td>2016-11-17</td><td>2</td><td>2</td></tr>",
                            "<tr><td>polla</td><td>585</td><td>2016-04-17</td><td>3</td><td>3</td></tr>",
                            "<tr><td>polla</td><td>865</td><td>2016-05-28</td><td>2</td><td>2</td></tr>",
                            "<tr><td>polla</td><td>777</td><td>2016-08-14</td><td>2</td><td>2</td></tr>",
                            "<tr><td>polla</td><td>792</td><td>2016-08-16</td><td>4</td><td>2</td></tr>",
                            "<tr><td>polla</td><td>1481</td><td>2017-01-29</td><td>2</td><td>2</td></tr>",
                            "<tr><td>polla</td><td>1517</td><td>2017-02-11</td><td>2</td><td>2</td></tr>",
                            "<tr><td>rajmond4</td><td>850</td><td>2016-09-05</td><td>3</td><td>3</td></tr>",
                            "<tr><td>rajmond4</td><td>1116</td><td>2016-10-03</td><td>3</td><td>3</td></tr>",
                            "<tr><td>rajmond4</td><td>1263</td><td>2016-11-08</td><td>4</td><td>3</td></tr>",
                            "<tr><td>rajmond4</td><td>1284</td><td>2016-11-16</td><td>2</td><td>3</td></tr>",
                            "<tr><td>reka4</td><td>721</td><td>2016-07-27</td><td>2</td><td>2</td></tr>",
                            "<tr><td>reka4</td><td>748</td><td>2016-08-02</td><td>4</td><td>3</td></tr>",
                            "<tr><td>reka4</td><td>1033</td><td>2016-09-05</td><td>3</td><td>3</td></tr>",
                            "<tr><td>reka4</td><td>1089</td><td>2016-09-30</td><td>2</td><td>2</td></tr>",
                            "<tr><td>reka4</td><td>1575</td><td>2017-02-26</td><td>2</td><td>2</td></tr>",
                            "<tr><td>RENATAK</td><td>1204</td><td>2016-10-27</td><td>4</td><td>4</td></tr>",
                            "<tr><td>RENATAK</td><td>1224</td><td>2016-10-30</td><td>1</td><td>2</td></tr>",
                            "<tr><td>RENATAK</td><td>1312</td><td>2016-11-23</td><td>1</td><td>2</td></tr>",
                            "<tr><td>RENATAK</td><td>1471</td><td>2017-01-23</td><td>3</td><td>2</td></tr>",
                            "<tr><td>RENATAK</td><td>1543</td><td>2017-02-16</td><td>1</td><td>2</td></tr>",
                            "<tr><td>RENATAK</td><td>1581</td><td>2017-03-01</td><td>1</td><td>1</td></tr>",
                            "<tr><td>RENATAS</td><td>619</td><td>2016-05-04</td><td>2</td><td>2</td></tr>",
                            "<tr><td>RENATAS</td><td>637</td><td>2016-05-11</td><td>2</td><td>2</td></tr>",
                            "<tr><td>RENATAS</td><td>985</td><td>2016-06-24</td><td>5</td><td>3</td></tr>",
                            "<tr><td>RENATAS</td><td>1529</td><td>2017-02-13</td><td>1</td><td>2</td></tr>",
                            "<tr><td>RENATAS</td><td>1532</td><td>2017-02-14</td><td>2</td><td>2</td></tr>",
                            "<tr><td>robert2</td><td>647</td><td>2016-05-15</td><td>2</td><td>2</td></tr>",
                            "<tr><td>robert2</td><td>802</td><td>2016-08-20</td><td>2</td><td>2</td></tr>",
                            "<tr><td>robert2</td><td>1183</td><td>2016-10-23</td><td>3</td><td>2</td></tr>",
                            "<tr><td>robert2</td><td>1374</td><td>2016-12-17</td><td>1</td><td>2</td></tr>",
                            "<tr><td>ROBERTI</td><td>1027</td><td>2016-07-12</td><td>4</td><td>4</td></tr>",
                            "<tr><td>ROBERTI</td><td>791</td><td>2016-08-16</td><td>2</td><td>3</td></tr>",
                            "<tr><td>ROBERTI</td><td>808</td><td>2016-08-23</td><td>2</td><td>2</td></tr>",
                            "<tr><td>ROBERTI</td><td>1129</td><td>2016-10-08</td><td>3</td><td>2</td></tr>",
                            "<tr><td>ROBERTI</td><td>1141</td><td>2016-10-09</td><td>2</td><td>2</td></tr>",
                            "<tr><td>ROBERTI</td><td>1186</td><td>2016-10-23</td><td>1</td><td>2</td></tr>",
                            "<tr><td>ROBERTI</td><td>1197</td><td>2016-10-26</td><td>2</td><td>2</td></tr>",
                            "<tr><td>ROBERTI</td><td>1545</td><td>2017-02-17</td><td>2</td><td>2</td></tr>",
                            "<tr><td>ROBERTP</td><td>739</td><td>2016-07-30</td><td>2</td><td>2</td></tr>",
                            "<tr><td>ROBERTP</td><td>1038</td><td>2016-09-08</td><td>4</td><td>3</td></tr>",
                            "<tr><td>roland</td><td>939</td><td>2016-06-09</td><td>3</td><td>3</td></tr>",
                            "<tr><td>roland</td><td>978</td><td>2016-06-22</td><td>3</td><td>3</td></tr>",
                            "<tr><td>roland</td><td>848</td><td>2016-09-04</td><td>2</td><td>2</td></tr>",
                            "<tr><td>roland</td><td>1294</td><td>2016-11-19</td><td>2</td><td>2</td></tr>",
                            "<tr><td>roland1</td><td>1253</td><td>2016-11-05</td><td>3</td><td>3</td></tr>",
                            "<tr><td>roland1</td><td>1384</td><td>2016-12-22</td><td>1</td><td>2</td></tr>",
                            "<tr><td>roland1</td><td>1418</td><td>2017-01-04</td><td>3</td><td>2</td></tr>",
                            "<tr><td>roland1</td><td>1448</td><td>2017-01-16</td><td>2</td><td>2</td></tr>",
                            "<tr><td>roza2</td><td>1041</td><td>2016-09-10</td><td>2</td><td>2</td></tr>",
                            "<tr><td>roza2</td><td>1433</td><td>2017-01-11</td><td>3</td><td>2</td></tr>",
                            "<tr><td>roza2</td><td>1549</td><td>2017-02-18</td><td>3</td><td>2</td></tr>",
                            "<tr><td>sandor</td><td>1010</td><td>2016-07-04</td><td>2</td><td>2</td></tr>",
                            "<tr><td>sandor</td><td>686</td><td>2016-07-18</td><td>2</td><td>2</td></tr>",
                            "<tr><td>sandor</td><td>800</td><td>2016-08-20</td><td>2</td><td>2</td></tr>",
                            "<tr><td>sandor</td><td>1069</td><td>2016-09-19</td><td>4</td><td>2</td></tr>",
                            "<tr><td>sandor3</td><td>640</td><td>2016-05-12</td><td>2</td><td>2</td></tr>",
                            "<tr><td>sandor3</td><td>858</td><td>2016-05-25</td><td>1</td><td>1</td></tr>",
                            "<tr><td>sandor3</td><td>1138</td><td>2016-10-09</td><td>2</td><td>1</td></tr>",
                            "<tr><td>sandor3</td><td>1181</td><td>2016-10-23</td><td>3</td><td>2</td></tr>",
                            "<tr><td>sandor3</td><td>1272</td><td>2016-11-10</td><td>2</td><td>2</td></tr>",
                            "<tr><td>sandor4</td><td>1156</td><td>2016-10-15</td><td>1</td><td>1</td></tr>",
                            "<tr><td>sandor4</td><td>1331</td><td>2016-11-29</td><td>2</td><td>1</td></tr>",
                            "<tr><td>sandor4</td><td>1339</td><td>2016-12-03</td><td>1</td><td>1</td></tr>",
                            "<tr><td>sandor4</td><td>1465</td><td>2017-01-22</td><td>2</td><td>1</td></tr>",
                            "<tr><td>sara</td><td>866</td><td>2016-05-28</td><td>2</td><td>2</td></tr>",
                            "<tr><td>sara</td><td>882</td><td>2016-05-30</td><td>2</td><td>2</td></tr>",
                            "<tr><td>sara</td><td>910</td><td>2016-06-06</td><td>2</td><td>2</td></tr>",
                            "<tr><td>sara</td><td>675</td><td>2016-07-15</td><td>3</td><td>2</td></tr>",
                            "<tr><td>sara</td><td>711</td><td>2016-07-24</td><td>3</td><td>2</td></tr>",
                            "<tr><td>sara</td><td>1124</td><td>2016-10-06</td><td>3</td><td>2</td></tr>",
                            "<tr><td>sara</td><td>1148</td><td>2016-10-11</td><td>3</td><td>2</td></tr>",
                            "<tr><td>sara</td><td>1212</td><td>2016-10-28</td><td>2</td><td>2</td></tr>",
                            "<tr><td>sara</td><td>1289</td><td>2016-11-18</td><td>3</td><td>2</td></tr>",
                            "<tr><td>sara</td><td>1311</td><td>2016-11-23</td><td>4</td><td>3</td></tr>",
                            "<tr><td>sara</td><td>1351</td><td>2016-12-06</td><td>1</td><td>2</td></tr>",
                            "<tr><td>sara</td><td>1390</td><td>2016-12-25</td><td>2</td><td>2</td></tr>",
                            "<tr><td>SEBASTIANF</td><td>560</td><td>2016-04-06</td><td>2</td><td>2</td></tr>",
                            "<tr><td>SEBASTIANF</td><td>680</td><td>2016-07-17</td><td>2</td><td>2</td></tr>",
                            "<tr><td>SEBASTIANF</td><td>741</td><td>2016-07-30</td><td>4</td><td>2</td></tr>",
                            "<tr><td>SEBASTIANF</td><td>1051</td><td>2016-09-14</td><td>3</td><td>2</td></tr>",
                            "<tr><td>SEBASTIANF</td><td>1062</td><td>2016-09-17</td><td>3</td><td>2</td></tr>",
                            "<tr><td>sebestyen</td><td>563</td><td>2016-04-07</td><td>4</td><td>4</td></tr>",
                            "<tr><td>sebestyen</td><td>602</td><td>2016-04-26</td><td>4</td><td>4</td></tr>",
                            "<tr><td>sebestyen</td><td>940</td><td>2016-06-09</td><td>4</td><td>4</td></tr>",
                            "<tr><td>sebestyen</td><td>1195</td><td>2016-10-26</td><td>5</td><td>4</td></tr>",
                            "<tr><td>szabolcs</td><td>1343</td><td>2016-12-05</td><td>2</td><td>2</td></tr>",
                            "<tr><td>SZABOLCSM</td><td>971</td><td>2016-06-18</td><td>3</td><td>3</td></tr>",
                            "<tr><td>SZABOLCSM</td><td>735</td><td>2016-07-28</td><td>2</td><td>2</td></tr>",
                            "<tr><td>SZABOLCSM</td><td>1163</td><td>2016-10-17</td><td>2</td><td>2</td></tr>",
                            "<tr><td>SZABOLCSM</td><td>1208</td><td>2016-10-28</td><td>3</td><td>2</td></tr>",
                            "<tr><td>SZABOLCSM</td><td>1276</td><td>2016-11-12</td><td>2</td><td>2</td></tr>",
                            "<tr><td>SZABOLCSM</td><td>1424</td><td>2017-01-07</td><td>2</td><td>2</td></tr>",
                            "<tr><td>SZABOLCSM</td><td>1497</td><td>2017-02-04</td><td>3</td><td>2</td></tr>",
                            "<tr><td>SZILARDS</td><td>596</td><td>2016-04-23</td><td>3</td><td>3</td></tr>",
                            "<tr><td>SZILARDS</td><td>718</td><td>2016-07-27</td><td>5</td><td>4</td></tr>",
                            "<tr><td>SZILARDS</td><td>830</td><td>2016-08-28</td><td>4</td><td>4</td></tr>",
                            "<tr><td>SZILARDS</td><td>1071</td><td>2016-09-20</td><td>3</td><td>3</td></tr>",
                            "<tr><td>SZILARDS</td><td>1110</td><td>2016-10-01</td><td>3</td><td>3</td></tr>",
                            "<tr><td>SZILARDS</td><td>1442</td><td>2017-01-16</td><td>3</td><td>3</td></tr>",
                            "<tr><td>SZILARDS</td><td>1508</td><td>2017-02-08</td><td>1</td><td>2</td></tr>",
                            "<tr><td>szilvia1</td><td>644</td><td>2016-05-14</td><td>2</td><td>2</td></tr>",
                            "<tr><td>szilvia1</td><td>870</td><td>2016-05-28</td><td>2</td><td>2</td></tr>",
                            "<tr><td>szilvia1</td><td>715</td><td>2016-07-25</td><td>2</td><td>2</td></tr>",
                            "<tr><td>szilvia1</td><td>1144</td><td>2016-10-09</td><td>3</td><td>2</td></tr>",
                            "<tr><td>szilvia1</td><td>1191</td><td>2016-10-25</td><td>3</td><td>2</td></tr>",
                            "<tr><td>szilvia1</td><td>1207</td><td>2016-10-27</td><td>2</td><td>2</td></tr>",
                            "<tr><td>szilvia1</td><td>1391</td><td>2016-12-25</td><td>5</td><td>3</td></tr>",
                            "<tr><td>szilvia1</td><td>1401</td><td>2016-12-27</td><td>2</td><td>3</td></tr>",
                            "<tr><td>szilvia1</td><td>1479</td><td>2017-01-28</td><td>2</td><td>2</td></tr>",
                            "<tr><td>tamara2</td><td>770</td><td>2016-08-12</td><td>3</td><td>3</td></tr>",
                            "<tr><td>tamara2</td><td>1280</td><td>2016-11-15</td><td>2</td><td>2</td></tr>",
                            "<tr><td>tamas</td><td>649</td><td>2016-05-17</td><td>2</td><td>2</td></tr>",
                            "<tr><td>tamas</td><td>959</td><td>2016-06-14</td><td>2</td><td>2</td></tr>",
                            "<tr><td>tamas</td><td>817</td><td>2016-08-24</td><td>3</td><td>2</td></tr>",
                            "<tr><td>tamas</td><td>1534</td><td>2017-02-14</td><td>3</td><td>2</td></tr>",
                            "<tr><td>TAMASF</td><td>618</td><td>2016-05-03</td><td>2</td><td>2</td></tr>",
                            "<tr><td>TAMASF</td><td>950</td><td>2016-06-10</td><td>3</td><td>2</td></tr>",
                            "<tr><td>TAMASF</td><td>991</td><td>2016-06-28</td><td>3</td><td>2</td></tr>",
                            "<tr><td>TAMASF</td><td>1008</td><td>2016-07-04</td><td>2</td><td>2</td></tr>",
                            "<tr><td>TAMASF</td><td>1044</td><td>2016-09-12</td><td>3</td><td>2</td></tr>",
                            "<tr><td>TAMASF</td><td>1338</td><td>2016-12-02</td><td>1</td><td>2</td></tr>",
                            "<tr><td>TAMASF</td><td>1357</td><td>2016-12-10</td><td>3</td><td>2</td></tr>",
                            "<tr><td>TAMASF</td><td>1525</td><td>2017-02-12</td><td>2</td><td>2</td></tr>",
                            "<tr><td>TAMASF</td><td>1537</td><td>2017-02-16</td><td>4</td><td>2</td></tr>",
                            "<tr><td>tibor</td><td>1145</td><td>2016-10-09</td><td>2</td><td>2</td></tr>",
                            "<tr><td>tibor</td><td>1251</td><td>2016-11-05</td><td>1</td><td>1</td></tr>",
                            "<tr><td>tibor2</td><td>1170</td><td>2016-10-20</td><td>2</td><td>2</td></tr>",
                            "<tr><td>tihamer</td><td>881</td><td>2016-05-30</td><td>1</td><td>1</td></tr>",
                            "<tr><td>tihamer</td><td>895</td><td>2016-06-03</td><td>5</td><td>3</td></tr>",
                            "<tr><td>tihamer</td><td>698</td><td>2016-07-20</td><td>3</td><td>3</td></tr>",
                            "<tr><td>tihamer</td><td>798</td><td>2016-08-18</td><td>3</td><td>3</td></tr>",
                            "<tr><td>tihamer</td><td>1166</td><td>2016-10-19</td><td>2</td><td>2</td></tr>",
                            "<tr><td>tihamer</td><td>1389</td><td>2016-12-25</td><td>2</td><td>3</td></tr>",
                            "<tr><td>timea</td><td>1398</td><td>2016-12-26</td><td>2</td><td>2</td></tr>",
                            "<tr><td>timea2</td><td>913</td><td>2016-06-06</td><td>2</td><td>2</td></tr>",
                            "<tr><td>timea2</td><td>762</td><td>2016-08-07</td><td>3</td><td>2</td></tr>",
                            "<tr><td>timea2</td><td>1196</td><td>2016-10-26</td><td>3</td><td>2</td></tr>",
                            "<tr><td>timea2</td><td>1324</td><td>2016-11-27</td><td>4</td><td>3</td></tr>",
                            "<tr><td>timea2</td><td>1362</td><td>2016-12-14</td><td>4</td><td>3</td></tr>",
                            "<tr><td>tunde</td><td>898</td><td>2016-06-03</td><td>3</td><td>3</td></tr>",
                            "<tr><td>tunde</td><td>918</td><td>2016-06-06</td><td>3</td><td>3</td></tr>",
                            "<tr><td>tunde</td><td>669</td><td>2016-07-14</td><td>1</td><td>2</td></tr>",
                            "<tr><td>tunde</td><td>849</td><td>2016-09-05</td><td>2</td><td>2</td></tr>",
                            "<tr><td>tunde</td><td>1189</td><td>2016-10-24</td><td>3</td><td>2</td></tr>",
                            "<tr><td>tunde</td><td>1290</td><td>2016-11-19</td><td>3</td><td>2</td></tr>",
                            "<tr><td>tunde</td><td>1363</td><td>2016-12-15</td><td>3</td><td>2</td></tr>",
                            "<tr><td>tunde</td><td>1415</td><td>2017-01-03</td><td>5</td><td>3</td></tr>",
                            "<tr><td>valentin</td><td>856</td><td>2016-05-24</td><td>4</td><td>4</td></tr>",
                            "<tr><td>valentin</td><td>709</td><td>2016-07-24</td><td>1</td><td>2</td></tr>",
                            "<tr><td>valentin</td><td>1203</td><td>2016-10-26</td><td>3</td><td>2</td></tr>",
                            "<tr><td>valentin</td><td>1275</td><td>2016-11-11</td><td>3</td><td>2</td></tr>",
                            "<tr><td>valentin</td><td>1334</td><td>2016-12-01</td><td>3</td><td>2</td></tr>",
                            "<tr><td>veronika4</td><td>883</td><td>2016-05-30</td><td>2</td><td>2</td></tr>",
                            "<tr><td>veronika4</td><td>695</td><td>2016-07-20</td><td>3</td><td>2</td></tr>",
                            "<tr><td>veronika4</td><td>790</td><td>2016-08-16</td><td>1</td><td>2</td></tr>",
                            "<tr><td>veronika4</td><td>1081</td><td>2016-09-26</td><td>2</td><td>2</td></tr>",
                            "<tr><td>veronika4</td><td>1456</td><td>2017-01-19</td><td>3</td><td>2</td></tr>",
                            "<tr><td>veronika4</td><td>1491</td><td>2017-02-03</td><td>2</td><td>2</td></tr>",
                            "<tr><td>VIKTORIAU</td><td>610</td><td>2016-04-30</td><td>1</td><td>1</td></tr>",
                            "<tr><td>VIKTORIAU</td><td>753</td><td>2016-08-03</td><td>2</td><td>1</td></tr>",
                            "<tr><td>VIKTORIAU</td><td>1151</td><td>2016-10-14</td><td>3</td><td>2</td></tr>",
                            "<tr><td>VIKTORIAU</td><td>1199</td><td>2016-10-26</td><td>4</td><td>2</td></tr>",
                            "<tr><td>VIKTORK</td><td>879</td><td>2016-05-30</td><td>2</td><td>2</td></tr>",
                            "<tr><td>VIKTORK</td><td>919</td><td>2016-06-06</td><td>4</td><td>3</td></tr>",
                            "<tr><td>vivien3</td><td>617</td><td>2016-05-02</td><td>3</td><td>3</td></tr>",
                            "<tr><td>vivien3</td><td>774</td><td>2016-08-13</td><td>2</td><td>2</td></tr>",
                            "<tr><td>vivien3</td><td>843</td><td>2016-09-01</td><td>2</td><td>2</td></tr>",
                            "<tr><td>vivien3</td><td>1103</td><td>2016-10-01</td><td>1</td><td>2</td></tr>",
                            "<tr><td>vivien3</td><td>1288</td><td>2016-11-17</td><td>2</td><td>2</td></tr>",
                            "<tr><td>vivien3</td><td>1375</td><td>2016-12-17</td><td>2</td><td>1</td></tr>",
                            "<tr><td>vivien3</td><td>1386</td><td>2016-12-24</td><td>3</td><td>2</td></tr>",
                            "<tr><td>zoltan</td><td>822</td><td>2016-08-24</td><td>2</td><td>2</td></tr>",
                            "<tr><td>zoltan</td><td>1030</td><td>2016-09-05</td><td>3</td><td>2</td></tr>",
                            "<tr><td>zoltan4</td><td>639</td><td>2016-05-12</td><td>3</td><td>3</td></tr>",
                            "<tr><td>zoltan4</td><td>641</td><td>2016-05-13</td><td>3</td><td>3</td></tr>",
                            "<tr><td>zoltan4</td><td>893</td><td>2016-06-03</td><td>1</td><td>2</td></tr>",
                            "<tr><td>zoltan4</td><td>779</td><td>2016-08-15</td><td>1</td><td>2</td></tr>",
                            "<tr><td>zoltan4</td><td>784</td><td>2016-08-16</td><td>2</td><td>2</td></tr>",
                            "<tr><td>zoltan4</td><td>1091</td><td>2016-09-30</td><td>3</td><td>2</td></tr>",
                            "<tr><td>zoltan4</td><td>1176</td><td>2016-10-21</td><td>5</td><td>2</td></tr>",
                            "<tr><td>zoltan4</td><td>1194</td><td>2016-10-26</td><td>2</td><td>2</td></tr>",
                            "<tr><td>zoltan4</td><td>1230</td><td>2016-10-30</td><td>1</td><td>2</td></tr>",
                            "<tr><td>zoltan4</td><td>1292</td><td>2016-11-19</td><td>2</td><td>2</td></tr>",
                            "<tr><td>zoltan4</td><td>1403</td><td>2016-12-29</td><td>1</td><td>2</td></tr>",
                            "<tr><td>zoltan4</td><td>1409</td><td>2017-01-01</td><td>3</td><td>1</td></tr>",
                            "<tr><td>ZOLTANP</td><td>907</td><td>2016-06-05</td><td>2</td><td>2</td></tr>",
                            "<tr><td>ZOLTANP</td><td>915</td><td>2016-06-06</td><td>2</td><td>2</td></tr>",
                            "<tr><td>ZOLTANP</td><td>700</td><td>2016-07-20</td><td>3</td><td>2</td></tr>",
                            "<tr><td>ZOLTANP</td><td>1168</td><td>2016-10-19</td><td>2</td><td>2</td></tr>",
                            "<tr><td>ZOLTANP</td><td>1352</td><td>2016-12-07</td><td>3</td><td>2</td></tr>",
                            "<tr><td>ZOLTANP</td><td>1397</td><td>2016-12-25</td><td>2</td><td>2</td></tr>",
                            "<tr><td>ZOLTANT</td><td>615</td><td>2016-05-01</td><td>3</td><td>3</td></tr>",
                            "<tr><td>ZOLTANT</td><td>668</td><td>2016-07-14</td><td>3</td><td>3</td></tr>",
                            "<tr><td>ZOLTANT</td><td>1447</td><td>2017-01-16</td><td>2</td><td>2</td></tr>",
                            "<tr><td>zsofi1</td><td>968</td><td>2016-06-16</td><td>2</td><td>2</td></tr>",
                            "<tr><td>zsofi1</td><td>1547</td><td>2017-02-18</td><td>3</td><td>2</td></tr>",
                            "<tr><td>zsolt1</td><td>580</td><td>2016-04-14</td><td>2</td><td>2</td></tr>",
                            "<tr><td>zsolt1</td><td>917</td><td>2016-06-06</td><td>2</td><td>2</td></tr>",
                            "<tr><td>zsolt1</td><td>930</td><td>2016-06-07</td><td>4</td><td>2</td></tr>",
                            "<tr><td>zsolt1</td><td>743</td><td>2016-07-31</td><td>2</td><td>2</td></tr>",
                            "<tr><td>ZSOLTJ</td><td>598</td><td>2016-04-24</td><td>4</td><td>4</td></tr>",
                            "<tr><td>ZSOLTJ</td><td>630</td><td>2016-05-09</td><td>2</td><td>3</td></tr>",
                            "<tr><td>ZSOLTJ</td><td>867</td><td>2016-05-28</td><td>1</td><td>2</td></tr>",
                            "<tr><td>ZSOLTJ</td><td>970</td><td>2016-06-17</td><td>2</td><td>2</td></tr>",
                            "<tr><td>ZSOLTJ</td><td>685</td><td>2016-07-18</td><td>2</td><td>2</td></tr>",
                            "<tr><td>ZSOLTJ</td><td>1100</td><td>2016-10-01</td><td>2</td><td>1</td></tr>",
                            "<tr><td>zsuzsa</td><td>712</td><td>2016-07-24</td><td>3</td><td>3</td></tr>",
                            "<tr><td>zsuzsa</td><td>833</td><td>2016-08-28</td><td>2</td><td>2</td></tr>",
                            "<tr><td>zsuzsa</td><td>1327</td><td>2016-11-28</td><td>3</td><td>2</td></tr>",
                            "<tr><td>zsuzsa3</td><td>740</td><td>2016-07-30</td><td>2</td><td>2</td></tr>",
                            "<tr><td>zsuzsa3</td><td>1040</td><td>2016-09-09</td><td>2</td><td>2</td></tr>",
                            "<tr><td>zsuzsa3</td><td>1086</td><td>2016-09-28</td><td>2</td><td>2</td></tr>",
                            "<tr><td>zsuzsa3</td><td>1206</td><td>2016-10-27</td><td>4</td><td>2</td></tr>",
                            "<tr><td>zsuzsanna</td><td>650</td><td>2016-05-17</td><td>2</td><td>2</td></tr>",
                            "<tr><td>zsuzsanna</td><td>1025</td><td>2016-07-12</td><td>2</td><td>2</td></tr>",
                            "<tr><td>zsuzsanna</td><td>1428</td><td>2017-01-09</td><td>1</td><td>1</td></tr>",
                            "<tr><td>zsuzsanna</td><td>1444</td><td>2017-01-16</td><td>2</td><td>1</td></tr>",
                            "<tr><td>ZSUZSAV</td><td>579</td><td>2016-04-14</td><td>2</td><td>2</td></tr>",
                            "<tr><td>ZSUZSAV</td><td>868</td><td>2016-05-28</td><td>4</td><td>3</td></tr>",
                            "<tr><td>ZSUZSAV</td><td>960</td><td>2016-06-15</td><td>3</td><td>3</td></tr>",
                            "<tr><td>ZSUZSAV</td><td>1063</td><td>2016-09-18</td><td>2</td><td>2</td></tr>",
                            "<tr><td>ZSUZSAV</td><td>1202</td><td>2016-10-26</td><td>1</td><td>2</td></tr>",
                            "<tr><td>ZSUZSAV</td><td>1300</td><td>2016-11-21</td><td>3</td><td>2</td></tr>",
                            "</table>"
                        ]
                    }
                }
            ],
            "execution_count": 22
        },
        {
            "cell_type": "markdown",
            "source": [
                "## 6\\. Feladat"
            ],
            "metadata": {
                "language": "sql",
                "azdata_cell_guid": "3f09bc9c-2228-497c-845c-4e05e3b480e7"
            },
            "attachments": {}
        },
        {
            "cell_type": "code",
            "source": [
                "SELECT v.NEV\r\n",
                "FROM VENDEG v\r\n",
                "WHERE v.USERNEV IN (\r\n",
                "    SELECT f.UGYFEL_FK\r\n",
                "    FROM FOGLALAS f\r\n",
                "    JOIN SZOBA S ON f.SZOBA_FK = s.SZOBA_ID\r\n",
                "    WHERE s.KLIMAS = '1'\r\n",
                "    INTERSECT\r\n",
                "    SELECT f.UGYFEL_FK\r\n",
                "    FROM FOGLALAS f\r\n",
                "    JOIN SZOBA s ON f.SZOBA_FK = s.SZOBA_ID\r\n",
                "    WHERE s.KLIMAS = '0'\r\n",
                ")"
            ],
            "metadata": {
                "language": "sql",
                "azdata_cell_guid": "bbd67244-8038-4364-86cf-17d56ff8d06c"
            },
            "outputs": [
                {
                    "output_type": "display_data",
                    "data": {
                        "text/html": "(0 rows affected)"
                    },
                    "metadata": {}
                },
                {
                    "output_type": "display_data",
                    "data": {
                        "text/html": "Total execution time: 00:00:00.045"
                    },
                    "metadata": {}
                },
                {
                    "output_type": "execute_result",
                    "metadata": {},
                    "execution_count": 25,
                    "data": {
                        "application/vnd.dataresource+json": {
                            "schema": {
                                "fields": [
                                    {
                                        "name": "NEV"
                                    }
                                ]
                            },
                            "data": []
                        },
                        "text/html": [
                            "<table>",
                            "<tr><th>NEV</th></tr>",
                            "</table>"
                        ]
                    }
                }
            ],
            "execution_count": 25
        }
    ]
}